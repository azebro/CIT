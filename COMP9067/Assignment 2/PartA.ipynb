{
 "cells": [
  {
   "cell_type": "code",
   "execution_count": 4,
   "metadata": {},
   "outputs": [],
   "source": [
    "%config IPCompleter.greedy=True\n",
    "import numpy as np\n",
    "import h5py\n",
    "import tensorflow as tf\n",
    "from tensorflow.keras import layers\n",
    "import matplotlib\n",
    "import matplotlib.pyplot as plt\n",
    "from tensorflow import keras"
   ]
  },
  {
   "cell_type": "code",
   "execution_count": 5,
   "metadata": {},
   "outputs": [
    {
     "data": {
      "text/plain": [
       "'2.1.0'"
      ]
     },
     "execution_count": 5,
     "metadata": {},
     "output_type": "execute_result"
    }
   ],
   "source": [
    "tf.__version__"
   ]
  },
  {
   "cell_type": "markdown",
   "metadata": {},
   "source": [
    "# Deep Learning - Assignement 2 - Part A\n",
    "\n",
    "#### R00183247 - Adam Zebrowski"
   ]
  },
  {
   "cell_type": "code",
   "execution_count": 6,
   "metadata": {},
   "outputs": [
    {
     "name": "stdout",
     "output_type": "stream",
     "text": [
      "(1020, 128, 128, 3) (1020,)\n",
      "(340, 128, 128, 3) (340,)\n"
     ]
    }
   ],
   "source": [
    "def loadDataH5():\n",
    "    with h5py.File('data/data1.h5','r') as hf: \n",
    "        trainX = np.array(hf.get('trainX')) \n",
    "        trainY = np.array(hf.get('trainY')) \n",
    "        valX = np.array(hf.get('valX')) \n",
    "        valY = np.array(hf.get('valY')) \n",
    "        print (trainX.shape,trainY.shape) \n",
    "        print (valX.shape,valY.shape)\n",
    "    return trainX, trainY, valX, valY\n",
    "trainX, trainY, testX, testY = loadDataH5()\n",
    "\n"
   ]
  },
  {
   "cell_type": "code",
   "execution_count": 7,
   "metadata": {},
   "outputs": [],
   "source": [
    "NUM_EPOCHS = 25\n",
    "WIDTH = trainX.shape[2]\n",
    "HEIGHT = trainX.shape[1]\n",
    "CLASSES = 17\n",
    "DEPTH = trainX.shape[3]\n",
    "BATCH_SIZE = 16\n"
   ]
  },
  {
   "cell_type": "code",
   "execution_count": 8,
   "metadata": {},
   "outputs": [],
   "source": [
    "def visualiseOutput(history):\n",
    "    \n",
    "    print(\"\\n\")\n",
    "    print(\"Min Val Loss: \", min(history.history['val_loss']))\n",
    "    print(\"Max Val Accuracy: \", max(history.history['val_accuracy']))\n",
    "    print(\"\\n\")\n",
    "    \n",
    "    \n",
    "    plt.figure(figsize=(20,10))\n",
    "    plt.plot(history.history['loss'])\n",
    "    plt.plot(history.history['val_loss'])\n",
    "    plt.plot(history.history['accuracy'])\n",
    "    plt.plot(history.history['val_accuracy'])\n",
    "   \n",
    "    plt.title('Training Loss and Accuracy')\n",
    "    plt.ylabel('Loss/Accuracy')\n",
    "    plt.xlabel('Epoch #')\n",
    "    plt.legend(['train loss', 'val loss', 'train acc', 'val acc'], loc='upper right')\n",
    "    plt.show()"
   ]
  },
  {
   "cell_type": "code",
   "execution_count": 12,
   "metadata": {},
   "outputs": [],
   "source": [
    "\n",
    "def executeModel(model):\n",
    "    opt = keras.optimizers.SGD(lr=0.01)\n",
    "    model.compile(loss=\"sparse_categorical_crossentropy\", optimizer=opt, metrics=[\"accuracy\"])\n",
    "    h = model.fit(trainX, trainY, batch_size=BATCH_SIZE, epochs=NUM_EPOCHS, validation_data=(testX, testY), verbose=1)\n",
    "    visualiseOutput(h)\n",
    "    return"
   ]
  },
  {
   "cell_type": "markdown",
   "metadata": {},
   "source": [
    "#### Part i\n",
    "Implement a baseline CNN, which contains just a single convolutional layer, single pooling layer, fully connected layer and softmax layer.\n",
    "Increase the number of layers in your CNN (the number of convolutional and pooling layers). \n",
    "You should implement at least three different CNN configurations (not including the baseline). In your report show the impact on the validation and training accuracy/loss values (inclusive of the baseline case). \n",
    "Compare and contrast the performance of your models in your report.\n"
   ]
  },
  {
   "cell_type": "code",
   "execution_count": 13,
   "metadata": {},
   "outputs": [],
   "source": [
    "\n",
    "def singleLayers():\n",
    "    inputShape = (HEIGHT, WIDTH, DEPTH)\n",
    "    model = keras.models.Sequential()\n",
    "    model.add(keras.layers.Conv2D(64, (3, 3), padding=\"same\", input_shape=inputShape, activation='relu'))\n",
    "\n",
    "    model.add(keras.layers.MaxPooling2D(pool_size=(2, 2)))\n",
    "\n",
    "    model.add(keras.layers.Flatten())\n",
    "    model.add(keras.layers.Dense(1000,activation='relu'))\n",
    "    model.add(keras.layers.Dense(CLASSES, activation='softmax'))\n",
    "    return model"
   ]
  },
  {
   "cell_type": "code",
   "execution_count": 14,
   "metadata": {},
   "outputs": [
    {
     "name": "stdout",
     "output_type": "stream",
     "text": [
      "Train on 1020 samples, validate on 340 samples\n",
      "Epoch 1/25\n",
      "1020/1020 [==============================] - 47s 46ms/sample - loss: 2.5709 - accuracy: 0.1706 - val_loss: 2.1395 - val_accuracy: 0.3294\n",
      "Epoch 2/25\n",
      "1020/1020 [==============================] - 46s 45ms/sample - loss: 2.0219 - accuracy: 0.3255 - val_loss: 1.8343 - val_accuracy: 0.4353\n",
      "Epoch 3/25\n",
      "1020/1020 [==============================] - 46s 45ms/sample - loss: 1.7190 - accuracy: 0.4176 - val_loss: 1.8378 - val_accuracy: 0.3324\n",
      "Epoch 4/25\n",
      "1020/1020 [==============================] - 46s 45ms/sample - loss: 1.4737 - accuracy: 0.5157 - val_loss: 1.8539 - val_accuracy: 0.3794\n",
      "Epoch 5/25\n",
      "1020/1020 [==============================] - 46s 45ms/sample - loss: 1.2345 - accuracy: 0.5961 - val_loss: 1.7058 - val_accuracy: 0.4176\n",
      "Epoch 6/25\n",
      "1020/1020 [==============================] - 47s 46ms/sample - loss: 1.0478 - accuracy: 0.6833 - val_loss: 1.5745 - val_accuracy: 0.4676\n",
      "Epoch 7/25\n",
      "1020/1020 [==============================] - 46s 45ms/sample - loss: 0.9256 - accuracy: 0.7059 - val_loss: 1.4472 - val_accuracy: 0.5500\n",
      "Epoch 8/25\n",
      "1020/1020 [==============================] - 46s 45ms/sample - loss: 0.7814 - accuracy: 0.7814 - val_loss: 1.4296 - val_accuracy: 0.4912\n",
      "Epoch 9/25\n",
      "1020/1020 [==============================] - 46s 45ms/sample - loss: 0.6796 - accuracy: 0.8049 - val_loss: 1.3645 - val_accuracy: 0.5706\n",
      "Epoch 10/25\n",
      "1020/1020 [==============================] - 46s 45ms/sample - loss: 0.5159 - accuracy: 0.8451 - val_loss: 1.4046 - val_accuracy: 0.5588\n",
      "Epoch 11/25\n",
      "1020/1020 [==============================] - 46s 45ms/sample - loss: 0.3898 - accuracy: 0.9029 - val_loss: 1.5061 - val_accuracy: 0.5529\n",
      "Epoch 12/25\n",
      "1020/1020 [==============================] - 46s 45ms/sample - loss: 0.2893 - accuracy: 0.9304 - val_loss: 1.5616 - val_accuracy: 0.5265\n",
      "Epoch 13/25\n",
      "1020/1020 [==============================] - 46s 45ms/sample - loss: 0.2716 - accuracy: 0.9392 - val_loss: 1.5247 - val_accuracy: 0.5471\n",
      "Epoch 14/25\n",
      "1020/1020 [==============================] - 46s 45ms/sample - loss: 0.1363 - accuracy: 0.9784 - val_loss: 1.5001 - val_accuracy: 0.5735\n",
      "Epoch 15/25\n",
      "1020/1020 [==============================] - 46s 45ms/sample - loss: 0.0990 - accuracy: 0.9843 - val_loss: 1.5399 - val_accuracy: 0.5559\n",
      "Epoch 16/25\n",
      "1020/1020 [==============================] - 46s 45ms/sample - loss: 0.0947 - accuracy: 0.9794 - val_loss: 1.5513 - val_accuracy: 0.5559\n",
      "Epoch 17/25\n",
      "1020/1020 [==============================] - 46s 45ms/sample - loss: 0.0553 - accuracy: 0.9931 - val_loss: 1.5978 - val_accuracy: 0.5529\n",
      "Epoch 18/25\n",
      "1020/1020 [==============================] - 46s 45ms/sample - loss: 0.0294 - accuracy: 1.0000 - val_loss: 1.6128 - val_accuracy: 0.5735\n",
      "Epoch 19/25\n",
      "1020/1020 [==============================] - 46s 45ms/sample - loss: 0.0232 - accuracy: 1.0000 - val_loss: 1.6917 - val_accuracy: 0.5765\n",
      "Epoch 20/25\n",
      "1020/1020 [==============================] - 47s 46ms/sample - loss: 0.0172 - accuracy: 1.0000 - val_loss: 1.7138 - val_accuracy: 0.5588\n",
      "Epoch 21/25\n",
      "1020/1020 [==============================] - 46s 45ms/sample - loss: 0.0142 - accuracy: 1.0000 - val_loss: 1.7171 - val_accuracy: 0.5794\n",
      "Epoch 22/25\n",
      "1020/1020 [==============================] - 46s 45ms/sample - loss: 0.0150 - accuracy: 1.0000 - val_loss: 1.7506 - val_accuracy: 0.5676\n",
      "Epoch 23/25\n",
      "1020/1020 [==============================] - 45s 44ms/sample - loss: 0.0112 - accuracy: 1.0000 - val_loss: 1.7771 - val_accuracy: 0.5735\n",
      "Epoch 24/25\n",
      "1020/1020 [==============================] - 46s 45ms/sample - loss: 0.0096 - accuracy: 1.0000 - val_loss: 1.7978 - val_accuracy: 0.5618\n",
      "Epoch 25/25\n",
      "1020/1020 [==============================] - 46s 45ms/sample - loss: 0.0087 - accuracy: 1.0000 - val_loss: 1.8108 - val_accuracy: 0.5441\n",
      "\n",
      "\n",
      "Min Val Loss:  1.3644831194597131\n",
      "Max Val Accuracy:  0.57941175\n",
      "\n",
      "\n"
     ]
    },
    {
     "data": {
      "image/png": "[encoded data removed]",
      "text/plain": [
       "<Figure size 1440x720 with 1 Axes>"
      ]
     },
     "metadata": {
      "needs_background": "light"
     },
     "output_type": "display_data"
    }
   ],
   "source": [
    "model = singleLayers()\n",
    "executeModel(model)"
   ]
  },
  {
   "cell_type": "code",
   "execution_count": null,
   "metadata": {},
   "outputs": [],
   "source": [
    "def deeper1():\n",
    "    inputShape = (HEIGHT, WIDTH, DEPTH)\n",
    "    model = keras.models.Sequential()\n",
    "    model.add(keras.layers.Conv2D(64, (3, 3), padding=\"same\", input_shape=inputShape, activation='relu'))\n",
    "\n",
    "    model.add(keras.layers.MaxPooling2D(pool_size=(2, 2)))\n",
    "\n",
    "    model.add(keras.layers.Conv2D(64, (3, 3), padding=\"same\", activation='relu'))\n",
    "\n",
    "    model.add(keras.layers.MaxPooling2D(pool_size=(2, 2)))\n",
    "\n",
    "    model.add(keras.layers.Flatten())\n",
    "    model.add(keras.layers.Dense(1000,activation='relu'))\n",
    "    model.add(keras.layers.Dense(CLASSES, activation='softmax'))\n",
    "    return model"
   ]
  },
  {
   "cell_type": "code",
   "execution_count": null,
   "metadata": {},
   "outputs": [],
   "source": [
    "model = deeper1()\n",
    "executeModel(model)"
   ]
  },
  {
   "cell_type": "code",
   "execution_count": null,
   "metadata": {},
   "outputs": [],
   "source": [
    "def deeper2():\n",
    "    inputShape = (HEIGHT, WIDTH, DEPTH)\n",
    "    \n",
    "    model = keras.models.Sequential()\n",
    "    model.add(keras.layers.Conv2D(64, (3, 3), padding=\"same\", input_shape=inputShape, activation='relu'))\n",
    "\n",
    "    model.add(keras.layers.MaxPooling2D(pool_size=(2, 2)))\n",
    "\n",
    "    model.add(keras.layers.Conv2D(128, (3, 3), padding=\"same\", input_shape=inputShape, activation='relu'))\n",
    "\n",
    "    model.add(keras.layers.MaxPooling2D(pool_size=(2, 2)))\n",
    "\n",
    "    model.add(keras.layers.Conv2D(256, (3, 3), padding=\"same\", activation='relu'))\n",
    "\n",
    "    model.add(keras.layers.MaxPooling2D(pool_size=(2, 2)))\n",
    "\n",
    "    model.add(keras.layers.Flatten())\n",
    "    model.add(keras.layers.Dense(1000,activation='relu'))\n",
    "    model.add(keras.layers.Dense(CLASSES, activation='softmax'))\n",
    "    return model"
   ]
  },
  {
   "cell_type": "code",
   "execution_count": null,
   "metadata": {},
   "outputs": [],
   "source": [
    "model = deeper2()\n",
    "executeModel(model)"
   ]
  },
  {
   "cell_type": "code",
   "execution_count": null,
   "metadata": {},
   "outputs": [],
   "source": [
    "def deeper3():\n",
    "    inputShape = ()\n",
    "    #mirrored_strategy = tf.distribute.MirroredStrategy()\n",
    "    #with mirrored_strategy.scope():\n",
    "    model = keras.models.Sequential()\n",
    "    inputShape = (HEIGHT, WIDTH, DEPTH)\n",
    "\n",
    "    model.add(keras.layers.Conv2D(128, (3, 3), padding=\"same\", input_shape=inputShape, activation='relu'))\n",
    "    model.add(keras.layers.MaxPooling2D(pool_size=(2, 2)))\n",
    "\n",
    "    model.add(keras.layers.Conv2D(256, (3, 3), padding=\"same\", activation='relu'))\n",
    "    model.add(keras.layers.MaxPooling2D(pool_size=(2, 2)))\n",
    "\n",
    "    model.add(keras.layers.Conv2D(512, (3, 3), padding=\"same\", activation='relu'))\n",
    "    model.add(keras.layers.MaxPooling2D(pool_size=(2, 2)))\n",
    "    \n",
    "    model.add(keras.layers.Conv2D(1024, (3, 3), padding=\"same\", activation='relu'))\n",
    "    model.add(keras.layers.MaxPooling2D(pool_size=(2, 2)))\n",
    "\n",
    "    model.add(keras.layers.Flatten())\n",
    "    model.add(keras.layers.Dense(512,activation='relu'))\n",
    "    model.add(keras.layers.Dense(CLASSES, activation='softmax'))\n",
    "    return model"
   ]
  },
  {
   "cell_type": "code",
   "execution_count": null,
   "metadata": {},
   "outputs": [],
   "source": [
    "model = deeper3()\n",
    "executeModel(model)"
   ]
  },
  {
   "cell_type": "code",
   "execution_count": null,
   "metadata": {},
   "outputs": [],
   "source": [
    "NUM_EPOCHS = 100\n",
    "BATCH_SIZE = 32\n"
   ]
  },
  {
   "cell_type": "code",
   "execution_count": null,
   "metadata": {},
   "outputs": [],
   "source": [
    "def executeAugmentedModel(model, generator):\n",
    "    trainGenerator = generator.flow(trainX, trainY, batch_size= BATCH_SIZE)\n",
    "    opt = keras.optimizers.SGD(lr=0.01)\n",
    "    model.compile(loss=\"sparse_categorical_crossentropy\", optimizer=opt, metrics=[\"accuracy\"])\n",
    "    h = model.fit(trainGenerator, \n",
    "                        validation_data=(testX, testY), \n",
    "                        steps_per_epoch=len(trainX) / BATCH_SIZE, \n",
    "                        epochs = NUM_EPOCHS, verbose=0)\n",
    "    visualiseOutput(h)\n",
    "    return"
   ]
  },
  {
   "cell_type": "code",
   "execution_count": null,
   "metadata": {},
   "outputs": [],
   "source": [
    "trainDataGenerator = tf.keras.preprocessing.image.ImageDataGenerator(\n",
    "    rotation_range=45\n",
    "    )\n",
    "model = deeper2()\n",
    "executeAugmentedModel(model, trainDataGenerator)"
   ]
  },
  {
   "cell_type": "code",
   "execution_count": null,
   "metadata": {},
   "outputs": [],
   "source": [
    "trainDataGenerator = tf.keras.preprocessing.image.ImageDataGenerator(\n",
    "    horizontal_flip=True,\n",
    "    vertical_flip=True\n",
    "    )\n",
    "model = deeper2()\n",
    "executeAugmentedModel(model, trainDataGenerator)"
   ]
  },
  {
   "cell_type": "code",
   "execution_count": null,
   "metadata": {},
   "outputs": [],
   "source": [
    "trainDataGenerator = tf.keras.preprocessing.image.ImageDataGenerator(\n",
    "    width_shift_range=0.2,\n",
    "    height_shift_range=0.2,\n",
    "    )\n",
    "model = deeper2()\n",
    "executeAugmentedModel(model, trainDataGenerator)"
   ]
  },
  {
   "cell_type": "code",
   "execution_count": null,
   "metadata": {},
   "outputs": [],
   "source": [
    "trainDataGenerator = tf.keras.preprocessing.image.ImageDataGenerator(\n",
    "    zoom_range=0.2\n",
    "    )\n",
    "model = deeper2()\n",
    "executeAugmentedModel(model, trainDataGenerator)"
   ]
  },
  {
   "cell_type": "code",
   "execution_count": null,
   "metadata": {},
   "outputs": [],
   "source": [
    "trainDataGenerator = tf.keras.preprocessing.image.ImageDataGenerator(\n",
    "    zoom_range=0.2,\n",
    "    rotation_range=90,\n",
    "    horizontal_flip=True,\n",
    "    vertical_flip=True\n",
    "    brightness_range=(0.1, 0.9)\n",
    "    )"
   ]
  },
  {
   "cell_type": "code",
   "execution_count": null,
   "metadata": {},
   "outputs": [],
   "source": [
    "model = deeper2()\n",
    "executeAugmentedModel(model, trainDataGenerator)"
   ]
  },
  {
   "cell_type": "code",
   "execution_count": null,
   "metadata": {},
   "outputs": [],
   "source": [
    "trainDataGenerator = tf.keras.preprocessing.image.ImageDataGenerator(\n",
    "    zoom_range=0.2,\n",
    "    rotation_range=45,\n",
    "    horizontal_flip=True,\n",
    "    vertical_flip=True\n",
    "    width_shift_range=0.3,\n",
    "    height_shift_range=0.3,\n",
    "    )"
   ]
  },
  {
   "cell_type": "code",
   "execution_count": null,
   "metadata": {},
   "outputs": [],
   "source": [
    "model = deeper2()\n",
    "executeAugmentedModel(model, trainDataGenerator)"
   ]
  },
  {
   "cell_type": "code",
   "execution_count": null,
   "metadata": {},
   "outputs": [],
   "source": [
    "model = deeper3()\n",
    "executeAugmentedModel(model, trainDataGenerator)"
   ]
  },
  {
   "cell_type": "code",
   "execution_count": null,
   "metadata": {},
   "outputs": [],
   "source": []
  }
 ],
 "metadata": {
  "kernelspec": {
   "display_name": "Python 3",
   "language": "python",
   "name": "python3"
  },
  "language_info": {
   "codemirror_mode": {
    "name": "ipython",
    "version": 3
   },
   "file_extension": ".py",
   "mimetype": "text/x-python",
   "name": "python",
   "nbconvert_exporter": "python",
   "pygments_lexer": "ipython3",
   "version": "3.7.4"
  },
  "widgets": {
   "application/vnd.jupyter.widget-state+json": {
    "state": {},
    "version_major": 2,
    "version_minor": 0
   }
  }
 },
 "nbformat": 4,
 "nbformat_minor": 2
}
