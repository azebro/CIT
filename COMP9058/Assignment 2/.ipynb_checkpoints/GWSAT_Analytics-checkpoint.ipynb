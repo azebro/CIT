{
 "cells": [
  {
   "cell_type": "code",
   "execution_count": 1,
   "metadata": {},
   "outputs": [],
   "source": [
    "%config IPCompleter.greedy=True\n",
    "import pandas as pd\n",
    "import numpy as np\n",
    "import matplotlib.pyplot as plt"
   ]
  },
  {
   "cell_type": "code",
   "execution_count": 2,
   "metadata": {},
   "outputs": [],
   "source": [
    "from GWSAT import GWSAT"
   ]
  },
  {
   "cell_type": "code",
   "execution_count": 17,
   "metadata": {},
   "outputs": [],
   "source": [
    "fileName = r\"uf20-01.cnf\"\n",
    "executions = 30\n",
    "restarts = 10\n",
    "iteractions = 1000\n",
    "wp = 0.4\n",
    "wps = [0.1, 0.2, 0.3, 0.4, 0.5, 0.6, 0.7, 0.8, 0.9]\n",
    "iterationList = [10, 100, 1000, 2000, 5000, 10000]\n",
    "restartsList = [1, 5, 10, 20, 30, 40]\n",
    "iterationsToSolve = {}\n",
    "iterations = {}"
   ]
  },
  {
   "cell_type": "code",
   "execution_count": 4,
   "metadata": {},
   "outputs": [
    {
     "name": "stdout",
     "output_type": "stream",
     "text": [
      "0.1\n",
      "0.2\n",
      "0.3\n",
      "0.4\n",
      "0.5\n",
      "0.6\n",
      "0.7\n",
      "0.8\n",
      "0.9\n"
     ]
    }
   ],
   "source": [
    "for wp in wps:\n",
    "    print(wp)\n",
    "    c1 = GWSAT(fileName, executions, restarts, iteractions, wp )\n",
    "    output = c1.start()[0]\n",
    "    o = output[output[:,0] == 1][:,2]\n",
    "    iterationsToSolve[wp] = o.mean()"
   ]
  },
  {
   "cell_type": "code",
   "execution_count": null,
   "metadata": {},
   "outputs": [],
   "source": []
  },
  {
   "cell_type": "code",
   "execution_count": 5,
   "metadata": {},
   "outputs": [
    {
     "data": {
      "text/plain": [
       "{0.1: 384.6666666666667,\n",
       " 0.2: 405.0,\n",
       " 0.3: 435.43333333333334,\n",
       " 0.4: 412.9,\n",
       " 0.5: 369.46666666666664,\n",
       " 0.6: 386.2,\n",
       " 0.7: 312.0,\n",
       " 0.8: 448.7,\n",
       " 0.9: 333.6333333333333}"
      ]
     },
     "execution_count": 5,
     "metadata": {},
     "output_type": "execute_result"
    }
   ],
   "source": [
    "iterationsToSolve"
   ]
  },
  {
   "cell_type": "code",
   "execution_count": 6,
   "metadata": {},
   "outputs": [
    {
     "data": {
      "text/html": [
       "<div>\n",
       "<style scoped>\n",
       "    .dataframe tbody tr th:only-of-type {\n",
       "        vertical-align: middle;\n",
       "    }\n",
       "\n",
       "    .dataframe tbody tr th {\n",
       "        vertical-align: top;\n",
       "    }\n",
       "\n",
       "    .dataframe thead th {\n",
       "        text-align: right;\n",
       "    }\n",
       "</style>\n",
       "<table border=\"1\" class=\"dataframe\">\n",
       "  <thead>\n",
       "    <tr style=\"text-align: right;\">\n",
       "      <th></th>\n",
       "      <th>iterations</th>\n",
       "    </tr>\n",
       "  </thead>\n",
       "  <tbody>\n",
       "    <tr>\n",
       "      <td>0.1</td>\n",
       "      <td>384.666667</td>\n",
       "    </tr>\n",
       "    <tr>\n",
       "      <td>0.2</td>\n",
       "      <td>405.000000</td>\n",
       "    </tr>\n",
       "    <tr>\n",
       "      <td>0.3</td>\n",
       "      <td>435.433333</td>\n",
       "    </tr>\n",
       "    <tr>\n",
       "      <td>0.4</td>\n",
       "      <td>412.900000</td>\n",
       "    </tr>\n",
       "    <tr>\n",
       "      <td>0.5</td>\n",
       "      <td>369.466667</td>\n",
       "    </tr>\n",
       "    <tr>\n",
       "      <td>0.6</td>\n",
       "      <td>386.200000</td>\n",
       "    </tr>\n",
       "    <tr>\n",
       "      <td>0.7</td>\n",
       "      <td>312.000000</td>\n",
       "    </tr>\n",
       "    <tr>\n",
       "      <td>0.8</td>\n",
       "      <td>448.700000</td>\n",
       "    </tr>\n",
       "    <tr>\n",
       "      <td>0.9</td>\n",
       "      <td>333.633333</td>\n",
       "    </tr>\n",
       "  </tbody>\n",
       "</table>\n",
       "</div>"
      ],
      "text/plain": [
       "     iterations\n",
       "0.1  384.666667\n",
       "0.2  405.000000\n",
       "0.3  435.433333\n",
       "0.4  412.900000\n",
       "0.5  369.466667\n",
       "0.6  386.200000\n",
       "0.7  312.000000\n",
       "0.8  448.700000\n",
       "0.9  333.633333"
      ]
     },
     "execution_count": 6,
     "metadata": {},
     "output_type": "execute_result"
    }
   ],
   "source": [
    "accuraciesFrame = pd.DataFrame(iterationsToSolve, index=['iterations']).T\n",
    "#accuraciesFrame.sort_values(by=[\"wp\"], axis=0 ,ascending=False, inplace=True)\n",
    "accuraciesFrame"
   ]
  },
  {
   "cell_type": "code",
   "execution_count": 7,
   "metadata": {},
   "outputs": [
    {
     "data": {
      "text/plain": [
       "Text(0, 0.5, 'Iterations to solve')"
      ]
     },
     "execution_count": 7,
     "metadata": {},
     "output_type": "execute_result"
    },
    {
     "data": {
      "image/png": "[encoded data removed]",
      "text/plain": [
       "<Figure size 720x432 with 1 Axes>"
      ]
     },
     "metadata": {
      "needs_background": "light"
     },
     "output_type": "display_data"
    }
   ],
   "source": [
    "plt.figure(figsize=(10,6))\n",
    "data = np.array(iterationsToSolve)\n",
    "plt.plot(accuraciesFrame)\n",
    "plt.xlabel('wp')\n",
    "plt.ylabel('Iterations to solve')"
   ]
  },
  {
   "cell_type": "code",
   "execution_count": 11,
   "metadata": {},
   "outputs": [
    {
     "name": "stdout",
     "output_type": "stream",
     "text": [
      "10\n",
      "100\n",
      "1000\n",
      "2000\n",
      "5000\n",
      "10000\n"
     ]
    }
   ],
   "source": [
    "iterations = {}\n",
    "\n",
    "for i in iterationList:\n",
    "    print(i)\n",
    "    c1 = GWSAT(fileName, executions, restarts, i, wp )\n",
    "    output = c1.start()[0]\n",
    "    outcomes = output[:,0]\n",
    "    trueOutcomes = outcomes.sum()\n",
    "    if trueOutcomes == 0:\n",
    "        successRate = 0\n",
    "    else:\n",
    "        successRate =  trueOutcomes / (len(outcomes))\n",
    "    iterations[i] = successRate"
   ]
  },
  {
   "cell_type": "code",
   "execution_count": 12,
   "metadata": {},
   "outputs": [
    {
     "data": {
      "text/plain": [
       "{10: 0.025925925925925925,\n",
       " 100: 0.11442786069651742,\n",
       " 1000: 0.5454545454545454,\n",
       " 2000: 0.8823529411764706,\n",
       " 5000: 1.0,\n",
       " 10000: 1.0}"
      ]
     },
     "execution_count": 12,
     "metadata": {},
     "output_type": "execute_result"
    }
   ],
   "source": [
    "iterations"
   ]
  },
  {
   "cell_type": "code",
   "execution_count": 16,
   "metadata": {
    "scrolled": false
   },
   "outputs": [
    {
     "data": {
      "text/plain": [
       "Text(0, 0.5, 'Success rate')"
      ]
     },
     "execution_count": 16,
     "metadata": {},
     "output_type": "execute_result"
    },
    {
     "data": {
      "image/png": "[encoded data removed]",
      "text/plain": [
       "<Figure size 720x432 with 1 Axes>"
      ]
     },
     "metadata": {
      "needs_background": "light"
     },
     "output_type": "display_data"
    }
   ],
   "source": [
    "plt.figure(figsize=(10,6))\n",
    "data = np.array(iterations)\n",
    "plt.plot(pd.DataFrame(iterations, index=['iterations']).T)\n",
    "plt.xlabel('Iterations')\n",
    "plt.ylabel('Success rate')"
   ]
  },
  {
   "cell_type": "code",
   "execution_count": 18,
   "metadata": {},
   "outputs": [
    {
     "name": "stdout",
     "output_type": "stream",
     "text": [
      "1\n",
      "5\n",
      "10\n",
      "20\n",
      "30\n",
      "40\n"
     ]
    }
   ],
   "source": [
    "iterations = {}\n",
    "\n",
    "for i in restartsList:\n",
    "    print(i)\n",
    "    c1 = GWSAT(fileName, executions, i, iteractions, wp )\n",
    "    output = c1.start()[0]\n",
    "    outcomes = output[:,0]\n",
    "    trueOutcomes = outcomes.sum()\n",
    "    if trueOutcomes == 0:\n",
    "        successRate = 0\n",
    "    else:\n",
    "        successRate =  trueOutcomes / (len(outcomes))\n",
    "    iterations[i] = successRate"
   ]
  },
  {
   "cell_type": "code",
   "execution_count": 19,
   "metadata": {},
   "outputs": [
    {
     "data": {
      "text/plain": [
       "Text(0, 0.5, 'Success rate')"
      ]
     },
     "execution_count": 19,
     "metadata": {},
     "output_type": "execute_result"
    },
    {
     "data": {
      "image/png": "[encoded data removed]",
      "text/plain": [
       "<Figure size 720x432 with 1 Axes>"
      ]
     },
     "metadata": {
      "needs_background": "light"
     },
     "output_type": "display_data"
    }
   ],
   "source": [
    "plt.figure(figsize=(10,6))\n",
    "data = np.array(iterations)\n",
    "plt.plot(pd.DataFrame(iterations, index=['iterations']).T)\n",
    "plt.xlabel('Restarts')\n",
    "plt.ylabel('Success rate')"
   ]
  },
  {
   "cell_type": "code",
   "execution_count": null,
   "metadata": {},
   "outputs": [],
   "source": []
  }
 ],
 "metadata": {
  "kernelspec": {
   "display_name": "Python 3",
   "language": "python",
   "name": "python3"
  },
  "language_info": {
   "codemirror_mode": {
    "name": "ipython",
    "version": 3
   },
   "file_extension": ".py",
   "mimetype": "text/x-python",
   "name": "python",
   "nbconvert_exporter": "python",
   "pygments_lexer": "ipython3",
   "version": "3.7.4"
  },
  "widgets": {
   "application/vnd.jupyter.widget-state+json": {
    "state": {},
    "version_major": 2,
    "version_minor": 0
   }
  }
 },
 "nbformat": 4,
 "nbformat_minor": 2
}
