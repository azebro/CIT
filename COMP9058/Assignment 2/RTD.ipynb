{
 "cells": [
  {
   "cell_type": "code",
   "execution_count": 1,
   "metadata": {},
   "outputs": [],
   "source": [
    "%config IPCompleter.greedy=True\n",
    "import pandas as pd\n",
    "import numpy as np\n",
    "import matplotlib.pyplot as plt\n",
    "\n",
    "from GWSAT import GWSAT\n",
    "from WalkSAT import WalkSAT"
   ]
  },
  {
   "cell_type": "code",
   "execution_count": 2,
   "metadata": {},
   "outputs": [],
   "source": [
    "fileName1 = r\"uf20-01.cnf\"\n",
    "fileName2 = r\"uf20-02.cnf\"\n",
    "files = ['uf20-01.cnf','uf20-02.cnf' ]\n",
    "executions = 30\n",
    "restarts = 10\n",
    "iterations = 1000\n",
    "wp = 0.4\n",
    "tl = 5\n",
    "iterationsToSolve = {}\n",
    "GWSATOutputs = []"
   ]
  },
  {
   "cell_type": "code",
   "execution_count": null,
   "metadata": {},
   "outputs": [],
   "source": [
    "fileName1 = r\"C:\\CIT MSc Repo\\CIT MSc in AI\\COMP9058\\Assignment 2\\uf20-01.cnf\"\n",
    "fileName2 = r\"C:\\CIT MSc Repo\\CIT MSc in AI\\COMP9058\\Assignment 2\\uf20-02.cnf\"\n",
    "files = ['uf20-01.cnf','uf20-02.cnf' ]\n",
    "executions = 1000\n",
    "restarts = 10\n",
    "iterations = 1000\n",
    "wp = 0.4\n",
    "tl = 5\n",
    "iterationsToSolve = {}\n",
    "GWSATOutputs = []\n",
    "\n",
    "outputGWSAT1 = np.array(GWSAT(fileName2, executions, restarts, iterations, wp ).start()[0])\n",
    "iterationsToSolve1 = outputGWSAT1[outputGWSAT1[:,0] == 1][:,2]\n",
    "outputGWSAT2 = np.array(GWSAT(fileName1, executions, restarts, iterations, wp ).start()[0])\n",
    "iterationsToSolve2 = outputGWSAT2[outputGWSAT2[:,0] == 1][:,2]\n",
    "outputWalkSAT1 = np.array(WalkSAT(fileName2, executions, restarts, iterations, wp, tl ).start()[0])\n",
    "iterationsToSolve3 = outputWalkSAT1[outputWalkSAT1[:,0] == 1][:,2]\n",
    "outputWalkSAT2 = np.array(WalkSAT(fileName1, executions, restarts, iterations, wp, tl ).start()[0])\n",
    "iterationsToSolve4 = outputWalkSAT2[outputWalkSAT2[:,0] == 1][:,2]"
   ]
  },
  {
   "cell_type": "code",
   "execution_count": null,
   "metadata": {},
   "outputs": [],
   "source": [
    "outputWalkSAT1 = np.array(WalkSAT(fileName2, executions, restarts, iterations, wp, tl ).start()[0])\n",
    "iterationsToSolve3 = outputWalkSAT1[outputWalkSAT1[:,0] == 1][:,2]\n",
    "outputWalkSAT2 = np.array(WalkSAT(fileName1, executions, restarts, iterations, wp, tl ).start()[0])\n",
    "iterationsToSolve4 = outputWalkSAT2[outputWalkSAT2[:,0] == 1][:,2]"
   ]
  },
  {
   "cell_type": "code",
   "execution_count": null,
   "metadata": {},
   "outputs": [],
   "source": [
    "stats1 = np.array(outputGWSAT1[outputGWSAT1[:,0] == 1][:,2])\n",
    "stats2 = np.array(outputGWSAT2[outputGWSAT2[:,0] == 1][:,2])\n",
    "stats3 = np.array(outputGWSAT2[outputGWSAT2[:,0] == 1][:,2])\n",
    "stats4 = np.array(outputGWSAT2[outputGWSAT2[:,0] == 1][:,2])"
   ]
  },
  {
   "cell_type": "code",
   "execution_count": null,
   "metadata": {},
   "outputs": [],
   "source": [
    "#outputGWSAT1\n",
    "print(outputGWSAT2[:,0])\n"
   ]
  },
  {
   "cell_type": "code",
   "execution_count": null,
   "metadata": {},
   "outputs": [],
   "source": [
    "fig, ax = plt.subplots()\n",
    "\n",
    "ax.set_title('RTD (Search Steps)')\n",
    "ax.set_xlabel('Iterations')\n",
    "ax.set_ylabel('P(Solve)')\n",
    "y = np.arange(1, len(stats1)+1) / len(stats1)\n",
    "ax.plot(sorted(stats1), y, linestyle='dotted', label='GWSAT uf20-01')\n",
    "y2 = np.arange(1, len(stats2)+1) / len(stats2)\n",
    "ax.plot(sorted(stats2), y2, linestyle='dotted', label='GWSAT uf20-02')\n",
    "ax.legend(loc='lower right', fontsize=8)\n",
    "plt.show()"
   ]
  },
  {
   "cell_type": "code",
   "execution_count": null,
   "metadata": {},
   "outputs": [],
   "source": [
    "fig, ((ax1, ax2), (ax3, ax4), (ax5, ax6)) = plt.subplots(3, 2, figsize=(12,8))\n",
    "    \n",
    "y = np.arange(1, len(iter_gwsat01)+1) / len(iter_gwsat01)\n",
    "\n",
    "ax1.plot(sorted(iter_gwsat01), y, linestyle='dotted', label='GWSAT uf20-01')\n",
    "ax1.plot(sorted(iter_gwsat02), y, linestyle='dotted', label='GWSAT uf20-02')\n",
    "ax1.plot(sorted(iter_walksat01), y, linestyle='dotted', label='WalkSAT uf20-01')\n",
    "ax1.plot(sorted(iter_walksat02), y, linestyle='dotted', label='WalkSAT uf20-02')\n",
    "ax1.grid(b=True, which='both', color='#666666', linestyle='-', alpha=0.1)\n",
    "ax1.set_title('RLD (Search Steps)')\n",
    "ax1.set_xlabel('Iterations')\n",
    "ax1.set_ylabel('P(Solve)')\n",
    "ax1.legend(loc='lower right', fontsize=8)"
   ]
  }
 ],
 "metadata": {
  "kernelspec": {
   "display_name": "Python 3",
   "language": "python",
   "name": "python3"
  },
  "language_info": {
   "codemirror_mode": {
    "name": "ipython",
    "version": 3
   },
   "file_extension": ".py",
   "mimetype": "text/x-python",
   "name": "python",
   "nbconvert_exporter": "python",
   "pygments_lexer": "ipython3",
   "version": "3.7.4"
  }
 },
 "nbformat": 4,
 "nbformat_minor": 2
}
