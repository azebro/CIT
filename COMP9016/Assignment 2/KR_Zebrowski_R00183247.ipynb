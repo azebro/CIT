{
 "cells": [
  {
   "cell_type": "markdown",
   "metadata": {},
   "source": [
    "# Adam Zebrowski - R00183247"
   ]
  },
  {
   "cell_type": "markdown",
   "metadata": {},
   "source": [
    "<br>\n",
    "<strong style=\"color: blue;\">Note:</strong>\n",
    "\n",
    "> This notebook is accompanied by 2 folders:\n",
    "> 1. Data - data files needed for execution are there\n",
    "> 2. Other - other files needed for this notebook are there\n",
    ">\n",
    "> This notebook assumes that AIMA folder is either 1 or 2 levels up, if this is not the case\n",
    "> the path would have to be adjusted below"
   ]
  },
  {
   "cell_type": "code",
   "execution_count": 1,
   "metadata": {},
   "outputs": [
    {
     "name": "stdout",
     "output_type": "stream",
     "text": [
      "['..\\\\..', '..', 'C:\\\\CIT MSc Repo\\\\CIT MSc in AI\\\\COMP9016\\\\Assignment 2', 'C:\\\\Users\\\\adamze\\\\AppData\\\\Local\\\\Continuum\\\\anaconda3\\\\python37.zip', 'C:\\\\Users\\\\adamze\\\\AppData\\\\Local\\\\Continuum\\\\anaconda3\\\\DLLs', 'C:\\\\Users\\\\adamze\\\\AppData\\\\Local\\\\Continuum\\\\anaconda3\\\\lib', 'C:\\\\Users\\\\adamze\\\\AppData\\\\Local\\\\Continuum\\\\anaconda3', '', 'C:\\\\Users\\\\adamze\\\\AppData\\\\Roaming\\\\Python\\\\Python37\\\\site-packages', 'C:\\\\Users\\\\adamze\\\\AppData\\\\Local\\\\Continuum\\\\anaconda3\\\\lib\\\\site-packages', 'C:\\\\Users\\\\adamze\\\\AppData\\\\Local\\\\Continuum\\\\anaconda3\\\\lib\\\\site-packages\\\\win32', 'C:\\\\Users\\\\adamze\\\\AppData\\\\Local\\\\Continuum\\\\anaconda3\\\\lib\\\\site-packages\\\\win32\\\\lib', 'C:\\\\Users\\\\adamze\\\\AppData\\\\Local\\\\Continuum\\\\anaconda3\\\\lib\\\\site-packages\\\\Pythonwin', 'C:\\\\Users\\\\adamze\\\\AppData\\\\Local\\\\Continuum\\\\anaconda3\\\\lib\\\\site-packages\\\\IPython\\\\extensions', 'C:\\\\Users\\\\adamze\\\\.ipython']\n"
     ]
    }
   ],
   "source": [
    "import sys\n",
    "#Assuming the folder structure as per the assignment specification\n",
    "sys.path.insert(0, '..')\n",
    "sys.path.insert(0, '..\\\\..')\n",
    "\n",
    "print(sys.path)\n",
    "import numpy as np\n",
    "import pandas as pd\n",
    "import seaborn as sns\n",
    "import matplotlib.pyplot as plt\n",
    "%matplotlib inline\n",
    "from probability import *\n",
    "\n",
    "import io"
   ]
  },
  {
   "cell_type": "markdown",
   "metadata": {},
   "source": [
    "# Knowledge Reasoning - Assignment 2"
   ]
  },
  {
   "cell_type": "markdown",
   "metadata": {},
   "source": [
    "## 1.1 PROBABILITY DISTRIBUTION TABLE - 5 MARKS"
   ]
  },
  {
   "cell_type": "markdown",
   "metadata": {},
   "source": [
    "You have been studying hard on your latest assignment and asked your fellow studentsfor\n",
    "some tips:\n",
    "\n",
    "•Tip 1 “Study hard and you will do well, fail to do so and you will not”\n",
    "\n",
    "•Tip 2 “Get plenty of rest and you will do well, fail to do so and you will not”\n",
    "\n",
    "•Tip 3 “Set an an alarm and you will get up in time, fail to do so and you will not”.\n",
    "\n",
    "\n",
    "<img src=\"./Other/Basics.png\"  style=\"width:600px\">\n"
   ]
  },
  {
   "cell_type": "markdown",
   "metadata": {},
   "source": [
    "I have imlemented the 1.1 using 2 different methods:\n",
    "    1. Manual calculation \n",
    "    2. Using AIMA code for Probability Distribution\n",
    "    \n",
    "I am treating each tip as an independed entity hence the implementation below."
   ]
  },
  {
   "cell_type": "markdown",
   "metadata": {},
   "source": [
    "### 1.1.1 Manual imlementation"
   ]
  },
  {
   "cell_type": "code",
   "execution_count": 2,
   "metadata": {},
   "outputs": [],
   "source": [
    "data_frame = pd.read_csv('./Data/PDT_data_in.csv', sep=\",\",\n",
    "                         usecols=['Tip','Never','Rarely','Sometimes','Often',\n",
    "                                  'Always'])\n"
   ]
  },
  {
   "cell_type": "code",
   "execution_count": 3,
   "metadata": {},
   "outputs": [],
   "source": [
    "#count the distributions and reshape the matrix\n",
    "# value occurance / total sum of occurances\n",
    "distribution = (data_frame.values[:,1:] / np.sum(data_frame.values[:,1:], axis=1).reshape(3,1)).transpose()\n",
    "#build a pdt dataframe\n",
    "pdt = pd.DataFrame(distribution, index=data_frame.columns[1:] , columns=data_frame.values[:,0])"
   ]
  },
  {
   "cell_type": "code",
   "execution_count": 4,
   "metadata": {},
   "outputs": [
    {
     "data": {
      "text/html": [
       "<style  type=\"text/css\" >\n",
       "</style><table id=\"T_a4ed1a18_244a_11ea_961d_c49deda056d5\" ><thead>    <tr>        <th class=\"blank level0\" ></th>        <th class=\"col_heading level0 col0\" >Tip 1</th>        <th class=\"col_heading level0 col1\" >Tip 2</th>        <th class=\"col_heading level0 col2\" >Tip 3</th>    </tr></thead><tbody>\n",
       "                <tr>\n",
       "                        <th id=\"T_a4ed1a18_244a_11ea_961d_c49deda056d5level0_row0\" class=\"row_heading level0 row0\" >Never</th>\n",
       "                        <td id=\"T_a4ed1a18_244a_11ea_961d_c49deda056d5row0_col0\" class=\"data row0 col0\" >0.0217391</td>\n",
       "                        <td id=\"T_a4ed1a18_244a_11ea_961d_c49deda056d5row0_col1\" class=\"data row0 col1\" >0.352941</td>\n",
       "                        <td id=\"T_a4ed1a18_244a_11ea_961d_c49deda056d5row0_col2\" class=\"data row0 col2\" >0.615385</td>\n",
       "            </tr>\n",
       "            <tr>\n",
       "                        <th id=\"T_a4ed1a18_244a_11ea_961d_c49deda056d5level0_row1\" class=\"row_heading level0 row1\" >Rarely</th>\n",
       "                        <td id=\"T_a4ed1a18_244a_11ea_961d_c49deda056d5row1_col0\" class=\"data row1 col0\" >0.0869565</td>\n",
       "                        <td id=\"T_a4ed1a18_244a_11ea_961d_c49deda056d5row1_col1\" class=\"data row1 col1\" >0.117647</td>\n",
       "                        <td id=\"T_a4ed1a18_244a_11ea_961d_c49deda056d5row1_col2\" class=\"data row1 col2\" >0.0512821</td>\n",
       "            </tr>\n",
       "            <tr>\n",
       "                        <th id=\"T_a4ed1a18_244a_11ea_961d_c49deda056d5level0_row2\" class=\"row_heading level0 row2\" >Sometimes</th>\n",
       "                        <td id=\"T_a4ed1a18_244a_11ea_961d_c49deda056d5row2_col0\" class=\"data row2 col0\" >0.130435</td>\n",
       "                        <td id=\"T_a4ed1a18_244a_11ea_961d_c49deda056d5row2_col1\" class=\"data row2 col1\" >0.352941</td>\n",
       "                        <td id=\"T_a4ed1a18_244a_11ea_961d_c49deda056d5row2_col2\" class=\"data row2 col2\" >0.128205</td>\n",
       "            </tr>\n",
       "            <tr>\n",
       "                        <th id=\"T_a4ed1a18_244a_11ea_961d_c49deda056d5level0_row3\" class=\"row_heading level0 row3\" >Often</th>\n",
       "                        <td id=\"T_a4ed1a18_244a_11ea_961d_c49deda056d5row3_col0\" class=\"data row3 col0\" >0.26087</td>\n",
       "                        <td id=\"T_a4ed1a18_244a_11ea_961d_c49deda056d5row3_col1\" class=\"data row3 col1\" >0.117647</td>\n",
       "                        <td id=\"T_a4ed1a18_244a_11ea_961d_c49deda056d5row3_col2\" class=\"data row3 col2\" >0.102564</td>\n",
       "            </tr>\n",
       "            <tr>\n",
       "                        <th id=\"T_a4ed1a18_244a_11ea_961d_c49deda056d5level0_row4\" class=\"row_heading level0 row4\" >Always</th>\n",
       "                        <td id=\"T_a4ed1a18_244a_11ea_961d_c49deda056d5row4_col0\" class=\"data row4 col0\" >0.5</td>\n",
       "                        <td id=\"T_a4ed1a18_244a_11ea_961d_c49deda056d5row4_col1\" class=\"data row4 col1\" >0.0588235</td>\n",
       "                        <td id=\"T_a4ed1a18_244a_11ea_961d_c49deda056d5row4_col2\" class=\"data row4 col2\" >0.102564</td>\n",
       "            </tr>\n",
       "    </tbody></table>"
      ],
      "text/plain": [
       "<pandas.io.formats.style.Styler at 0x18a82c5ef48>"
      ]
     },
     "execution_count": 4,
     "metadata": {},
     "output_type": "execute_result"
    }
   ],
   "source": [
    "#styles can be applied: Ref: https://pandas.pydata.org/pandas-docs/stable/user_guide/style.html\n",
    "pdt.style.background_gradient(cmap='viridis')\n"
   ]
  },
  {
   "cell_type": "code",
   "execution_count": 5,
   "metadata": {},
   "outputs": [
    {
     "data": {
      "text/plain": [
       "<matplotlib.axes._subplots.AxesSubplot at 0x18a830be648>"
      ]
     },
     "execution_count": 5,
     "metadata": {},
     "output_type": "execute_result"
    },
    {
     "data": {
      "image/png": "[encoded data removed]",
      "text/plain": [
       "<Figure size 432x288 with 1 Axes>"
      ]
     },
     "metadata": {
      "needs_background": "light"
     },
     "output_type": "display_data"
    }
   ],
   "source": [
    "#dataframes can be visualised as bar plots as well\n",
    "pdt.plot.bar()"
   ]
  },
  {
   "cell_type": "markdown",
   "metadata": {},
   "source": [
    "### 1.1.2 Using AIMA code base"
   ]
  },
  {
   "cell_type": "code",
   "execution_count": 6,
   "metadata": {},
   "outputs": [
    {
     "name": "stdout",
     "output_type": "stream",
     "text": [
      "{'Never': 0.021739130434782608, 'Rarely': 0.08695652173913043, 'Sometimes': 0.13043478260869565, 'Often': 0.2608695652173913, 'Always': 0.5}\n",
      "{'Never': 0.35294117647058826, 'Rarely': 0.11764705882352941, 'Sometimes': 0.35294117647058826, 'Often': 0.11764705882352941, 'Always': 0.058823529411764705}\n",
      "{'Never': 0.6153846153846154, 'Rarely': 0.05128205128205128, 'Sometimes': 0.1282051282051282, 'Often': 0.10256410256410256, 'Always': 0.10256410256410256}\n"
     ]
    }
   ],
   "source": [
    "data = data_frame.iloc[0]\n",
    "tip1 = ProbDist(data['Tip'], {'Never':  data['Never'], 'Rarely': data['Rarely'], 'Sometimes':  data['Sometimes'], \n",
    "                              'Often': data['Often'], 'Always': data['Always']})\n",
    "print(tip1.prob)\n",
    "data = data_frame.iloc[1]\n",
    "tip2 = ProbDist(data['Tip'], {'Never':  data['Never'], 'Rarely': data['Rarely'], 'Sometimes':  data['Sometimes'], \n",
    "                              'Often': data['Often'], 'Always': data['Always']})\n",
    "print(tip2.prob)\n",
    "data = data_frame.iloc[2]\n",
    "tip3 = ProbDist(data['Tip'], {'Never':  data['Never'], 'Rarely': data['Rarely'], 'Sometimes':  data['Sometimes'], \n",
    "                              'Often': data['Often'], 'Always': data['Always']})\n",
    "print(tip3.prob)\n"
   ]
  },
  {
   "cell_type": "code",
   "execution_count": 7,
   "metadata": {},
   "outputs": [
    {
     "data": {
      "text/html": [
       "<style  type=\"text/css\" >\n",
       "    #T_a51cb582_244a_11ea_81d2_c49deda056d5row0_col0 {\n",
       "            background-color:  #440154;\n",
       "            color:  #f1f1f1;\n",
       "        }    #T_a51cb582_244a_11ea_81d2_c49deda056d5row0_col1 {\n",
       "            background-color:  #fde725;\n",
       "            color:  #000000;\n",
       "        }    #T_a51cb582_244a_11ea_81d2_c49deda056d5row0_col2 {\n",
       "            background-color:  #fde725;\n",
       "            color:  #000000;\n",
       "        }    #T_a51cb582_244a_11ea_81d2_c49deda056d5row1_col0 {\n",
       "            background-color:  #472f7d;\n",
       "            color:  #f1f1f1;\n",
       "        }    #T_a51cb582_244a_11ea_81d2_c49deda056d5row1_col1 {\n",
       "            background-color:  #414487;\n",
       "            color:  #f1f1f1;\n",
       "        }    #T_a51cb582_244a_11ea_81d2_c49deda056d5row1_col2 {\n",
       "            background-color:  #440154;\n",
       "            color:  #f1f1f1;\n",
       "        }    #T_a51cb582_244a_11ea_81d2_c49deda056d5row2_col0 {\n",
       "            background-color:  #3e4c8a;\n",
       "            color:  #f1f1f1;\n",
       "        }    #T_a51cb582_244a_11ea_81d2_c49deda056d5row2_col1 {\n",
       "            background-color:  #fde725;\n",
       "            color:  #000000;\n",
       "        }    #T_a51cb582_244a_11ea_81d2_c49deda056d5row2_col2 {\n",
       "            background-color:  #472f7d;\n",
       "            color:  #f1f1f1;\n",
       "        }    #T_a51cb582_244a_11ea_81d2_c49deda056d5row3_col0 {\n",
       "            background-color:  #21918c;\n",
       "            color:  #000000;\n",
       "        }    #T_a51cb582_244a_11ea_81d2_c49deda056d5row3_col1 {\n",
       "            background-color:  #414487;\n",
       "            color:  #f1f1f1;\n",
       "        }    #T_a51cb582_244a_11ea_81d2_c49deda056d5row3_col2 {\n",
       "            background-color:  #482173;\n",
       "            color:  #f1f1f1;\n",
       "        }    #T_a51cb582_244a_11ea_81d2_c49deda056d5row4_col0 {\n",
       "            background-color:  #fde725;\n",
       "            color:  #000000;\n",
       "        }    #T_a51cb582_244a_11ea_81d2_c49deda056d5row4_col1 {\n",
       "            background-color:  #440154;\n",
       "            color:  #f1f1f1;\n",
       "        }    #T_a51cb582_244a_11ea_81d2_c49deda056d5row4_col2 {\n",
       "            background-color:  #482173;\n",
       "            color:  #f1f1f1;\n",
       "        }</style><table id=\"T_a51cb582_244a_11ea_81d2_c49deda056d5\" ><thead>    <tr>        <th class=\"blank level0\" ></th>        <th class=\"col_heading level0 col0\" >Tip 1</th>        <th class=\"col_heading level0 col1\" >Tip 2</th>        <th class=\"col_heading level0 col2\" >Tip 3</th>    </tr></thead><tbody>\n",
       "                <tr>\n",
       "                        <th id=\"T_a51cb582_244a_11ea_81d2_c49deda056d5level0_row0\" class=\"row_heading level0 row0\" >Never</th>\n",
       "                        <td id=\"T_a51cb582_244a_11ea_81d2_c49deda056d5row0_col0\" class=\"data row0 col0\" >0.0217391</td>\n",
       "                        <td id=\"T_a51cb582_244a_11ea_81d2_c49deda056d5row0_col1\" class=\"data row0 col1\" >0.352941</td>\n",
       "                        <td id=\"T_a51cb582_244a_11ea_81d2_c49deda056d5row0_col2\" class=\"data row0 col2\" >0.615385</td>\n",
       "            </tr>\n",
       "            <tr>\n",
       "                        <th id=\"T_a51cb582_244a_11ea_81d2_c49deda056d5level0_row1\" class=\"row_heading level0 row1\" >Rarely</th>\n",
       "                        <td id=\"T_a51cb582_244a_11ea_81d2_c49deda056d5row1_col0\" class=\"data row1 col0\" >0.0869565</td>\n",
       "                        <td id=\"T_a51cb582_244a_11ea_81d2_c49deda056d5row1_col1\" class=\"data row1 col1\" >0.117647</td>\n",
       "                        <td id=\"T_a51cb582_244a_11ea_81d2_c49deda056d5row1_col2\" class=\"data row1 col2\" >0.0512821</td>\n",
       "            </tr>\n",
       "            <tr>\n",
       "                        <th id=\"T_a51cb582_244a_11ea_81d2_c49deda056d5level0_row2\" class=\"row_heading level0 row2\" >Sometimes</th>\n",
       "                        <td id=\"T_a51cb582_244a_11ea_81d2_c49deda056d5row2_col0\" class=\"data row2 col0\" >0.130435</td>\n",
       "                        <td id=\"T_a51cb582_244a_11ea_81d2_c49deda056d5row2_col1\" class=\"data row2 col1\" >0.352941</td>\n",
       "                        <td id=\"T_a51cb582_244a_11ea_81d2_c49deda056d5row2_col2\" class=\"data row2 col2\" >0.128205</td>\n",
       "            </tr>\n",
       "            <tr>\n",
       "                        <th id=\"T_a51cb582_244a_11ea_81d2_c49deda056d5level0_row3\" class=\"row_heading level0 row3\" >Often</th>\n",
       "                        <td id=\"T_a51cb582_244a_11ea_81d2_c49deda056d5row3_col0\" class=\"data row3 col0\" >0.26087</td>\n",
       "                        <td id=\"T_a51cb582_244a_11ea_81d2_c49deda056d5row3_col1\" class=\"data row3 col1\" >0.117647</td>\n",
       "                        <td id=\"T_a51cb582_244a_11ea_81d2_c49deda056d5row3_col2\" class=\"data row3 col2\" >0.102564</td>\n",
       "            </tr>\n",
       "            <tr>\n",
       "                        <th id=\"T_a51cb582_244a_11ea_81d2_c49deda056d5level0_row4\" class=\"row_heading level0 row4\" >Always</th>\n",
       "                        <td id=\"T_a51cb582_244a_11ea_81d2_c49deda056d5row4_col0\" class=\"data row4 col0\" >0.5</td>\n",
       "                        <td id=\"T_a51cb582_244a_11ea_81d2_c49deda056d5row4_col1\" class=\"data row4 col1\" >0.0588235</td>\n",
       "                        <td id=\"T_a51cb582_244a_11ea_81d2_c49deda056d5row4_col2\" class=\"data row4 col2\" >0.102564</td>\n",
       "            </tr>\n",
       "    </tbody></table>"
      ],
      "text/plain": [
       "<pandas.io.formats.style.Styler at 0x18a8341ed88>"
      ]
     },
     "execution_count": 7,
     "metadata": {},
     "output_type": "execute_result"
    }
   ],
   "source": [
    "pdt2 = pd.DataFrame(data=tip1.prob.values(),columns=['Tip 1'], index=tip1.prob.keys() )\n",
    "pdt2['Tip 2'] = tip2.prob.values()\n",
    "pdt2['Tip 3'] = tip3.prob.values()\n",
    "pdt2.style.background_gradient(cmap='viridis')"
   ]
  },
  {
   "cell_type": "code",
   "execution_count": 8,
   "metadata": {},
   "outputs": [
    {
     "data": {
      "text/plain": [
       "<matplotlib.axes._subplots.AxesSubplot at 0x18a83443c88>"
      ]
     },
     "execution_count": 8,
     "metadata": {},
     "output_type": "execute_result"
    },
    {
     "data": {
      "image/png": "[encoded data removed]",
      "text/plain": [
       "<Figure size 432x288 with 1 Axes>"
      ]
     },
     "metadata": {
      "needs_background": "light"
     },
     "output_type": "display_data"
    }
   ],
   "source": [
    "pdt2.plot.bar()"
   ]
  },
  {
   "cell_type": "markdown",
   "metadata": {},
   "source": [
    "As can be seen, both produce the same result in terms of probability distribution"
   ]
  },
  {
   "cell_type": "markdown",
   "metadata": {},
   "source": [
    "## 1.2 BAYESIAN NETWORKS - 20 MARKS"
   ]
  },
  {
   "cell_type": "markdown",
   "metadata": {},
   "source": [
    "You have been given the following Random Variables:\n",
    " - Fossil Fuels\n",
    " - AI\n",
    " - GlobalWarming\n",
    " - Renewable Energy\n",
    " - Traffic\n",
    " - Employed\n",
    " \n",
    "Construct a model of theworld using these variables (Note: this is subjective but there should\n",
    "be a rationale behind your world view and your thought process articulated). Implement a\n",
    "Bayesian Network using the BayesNet class from the AIMA.\n",
    "\n",
    " - Provide a visual depiction of the network (1.2.1)\n",
    " - Detail the associated Conditional Probability Tables. (1.2.2.)\n",
    " - Demonstrate querying the network. (1.2.3)"
   ]
  },
  {
   "cell_type": "markdown",
   "metadata": {},
   "source": [
    "### 1.2.1 Provide a visual depiction of the network"
   ]
  },
  {
   "cell_type": "markdown",
   "metadata": {},
   "source": [
    "I have built the following model of the world, using the rationale below:\n",
    "\n",
    "1.\tEither fossil fuels or traffic can trigger global warming\n",
    "2.\tGlobal warming can trigger increased investment into AI or renewable energy sources\n",
    "3.\tBoth AI and Renewable sources can trigger specialist employment\n",
    "\n",
    "The question I am interested in is the employment growth. In case of our world I can put hypothesis as follows:\n",
    "\n",
    "1.\tSignificant increase in use of fossil fuels can lead to global warming\n",
    "2.\tSignificant increase in traffic (road, air, etc.) can lead to global warming\n",
    "\n",
    "If we look at the global warming, action will have to be taken. In my hypothesis, reaching the alarming levels of global warming (let’s assume +10deg Celsius of average world temperature) can trigger the following:\n",
    "\n",
    "1.\tIncrease research into renewables\n",
    "2.\tIncrease of research and development of AI capacity to bring the traffic and use of fossil fuels down\n",
    "\n",
    "The above activities may in turn drive significant employment raise due to the need of specialists in the renewable energy and artificial.\n",
    "\n",
    "\n",
    "\n",
    "\n",
    "<p><img src=\"./Other/World.png\">\n",
    "\n",
    "Remarks:\n",
    "\n",
    "\n",
    "\n",
    "Here is the code for these classes:"
   ]
  },
  {
   "cell_type": "markdown",
   "metadata": {},
   "source": [
    "### 1.2.2 Detail the associated Conditional Probability Tables\n",
    "\n",
    "1. Fossil Fuels:\n",
    "    P(F):\n",
    "        True - 0.7\n",
    "        False - 0.3\n",
    "2. Traffic:\n",
    "    P(T):\n",
    "        True - 0.3\n",
    "        False - 0.7\n",
    "3. Global Warming:\n",
    "    P(G): (Fossil Fuels, Traffic)\n",
    "        True, True - 0.9\n",
    "        True, False - 0.7\n",
    "        False, True - 0.5\n",
    "        False, False - 0.4\n",
    "4. AI:\n",
    "    P(A):(Global Warming - probablity of increase in AI investment given state of global warming)\n",
    "        True - 0.8\n",
    "        False - 0.5\n",
    "        \n",
    "5. Renewable Energy:\n",
    "    P(R) (Global Warming - probablity of increase in AI investment given state of global warming)\n",
    "        True - 0.8\n",
    "        False - 0.6\n",
    "6. Employment:\n",
    "    P(E) (AI, Renewable Energy)\n",
    "        True, True - 0.9\n",
    "        True, False - 0.6\n",
    "        False, True - 0.4\n",
    "        False, False - 0.3"
   ]
  },
  {
   "cell_type": "markdown",
   "metadata": {},
   "source": [
    "<br>\n",
    "<strong style=\"color: red;\">Important:</strong>\n",
    "\n",
    "> There seems to be a clash with references in AIMA. \n",
    "> The statement in 2.1 - \"from learning import *\" will break BaysNet class (below) from probability.py (AIMA)\n",
    "> If you need to execute this code after running 2.1 and 2.2 please restart the kernel and erase output"
   ]
  },
  {
   "cell_type": "code",
   "execution_count": 9,
   "metadata": {},
   "outputs": [],
   "source": [
    "net = BayesNet([\n",
    "           ('FosilFuels', '', 0.7),\n",
    "           ('Traffic', '', 0.3),\n",
    "           ('GlobalWarming', 'FosilFuels Traffic', {(T, T): 0.9, (F, T): 0.5, (T, F): 0.7, (F, F): 0.40}),\n",
    "           ('AI', ['GlobalWarming'], {T: 0.8, F: 0.5}),\n",
    "           ('RenewableEnergy', ['GlobalWarming'], {T: 0.8, F: 0.6}),\n",
    "           ('Employment', 'AI RenewableEnergy', {(T, T): 0.90, (F, T): 0.4, (T, F): 0.6, (F, F): 0.3})])"
   ]
  },
  {
   "cell_type": "code",
   "execution_count": 10,
   "metadata": {},
   "outputs": [
    {
     "data": {
      "text/plain": [
       "{(True, True): 0.9,\n",
       " (False, True): 0.4,\n",
       " (True, False): 0.6,\n",
       " (False, False): 0.3}"
      ]
     },
     "execution_count": 10,
     "metadata": {},
     "output_type": "execute_result"
    }
   ],
   "source": [
    "net.variable_node('Employment').cpt\n"
   ]
  },
  {
   "cell_type": "code",
   "execution_count": 11,
   "metadata": {},
   "outputs": [
    {
     "data": {
      "text/plain": [
       "{(True, True): 0.9,\n",
       " (False, True): 0.5,\n",
       " (True, False): 0.7,\n",
       " (False, False): 0.4}"
      ]
     },
     "execution_count": 11,
     "metadata": {},
     "output_type": "execute_result"
    }
   ],
   "source": [
    "net.variable_node('GlobalWarming').cpt"
   ]
  },
  {
   "cell_type": "code",
   "execution_count": 12,
   "metadata": {},
   "outputs": [
    {
     "data": {
      "text/plain": [
       "{(True,): 0.8, (False,): 0.6}"
      ]
     },
     "execution_count": 12,
     "metadata": {},
     "output_type": "execute_result"
    }
   ],
   "source": [
    "net.variable_node('RenewableEnergy').cpt"
   ]
  },
  {
   "cell_type": "markdown",
   "metadata": {},
   "source": [
    "### 1.2.3 Demonstrate querying the network"
   ]
  },
  {
   "cell_type": "markdown",
   "metadata": {},
   "source": [
    "Inference from a Bayesian Network can be done either using exact methodologies or approximative algorithms. Exact algorithms don't scale well for larger networks however."
   ]
  },
  {
   "cell_type": "code",
   "execution_count": 13,
   "metadata": {},
   "outputs": [
    {
     "name": "stdout",
     "output_type": "stream",
     "text": [
      "Probability of expansion in Renewable Energy given Global Warming and Increase in employment is 0.6\n"
     ]
    }
   ],
   "source": [
    "query = enumeration_ask('Employment', {'AI': True, 'RenewableEnergy': False}, net)\n",
    "print('Probability of expansion in Renewable Energy given Global Warming and Increase in employment is {}'\n",
    "      .format(query[True]))"
   ]
  },
  {
   "cell_type": "markdown",
   "metadata": {},
   "source": [
    "This is in line with the probabilities above - (True, False): 0.6."
   ]
  },
  {
   "cell_type": "code",
   "execution_count": 14,
   "metadata": {},
   "outputs": [
    {
     "name": "stdout",
     "output_type": "stream",
     "text": [
      "Probability of increase of employment given no significant increase in traffic, significant increase in fossil fuel consumption and no investment in AI is: 0.35821695406827536\n"
     ]
    }
   ],
   "source": [
    "query = likelihood_weighting('Employment', dict(Traffic=False, FossilFuels=True, AI=False), net, 10000)\n",
    "print('Probability of increase of employment given no significant increase in traffic, significant increase in fossil fuel consumption and no investment in AI is: {}'\n",
    "     .format(query[True]))\n"
   ]
  },
  {
   "cell_type": "markdown",
   "metadata": {},
   "source": [
    "No assumptions:"
   ]
  },
  {
   "cell_type": "code",
   "execution_count": 15,
   "metadata": {},
   "outputs": [
    {
     "data": {
      "text/plain": [
       "0.6567"
      ]
     },
     "execution_count": 15,
     "metadata": {},
     "output_type": "execute_result"
    }
   ],
   "source": [
    "query = likelihood_weighting('GlobalWarming', dict(), net, 10000)\n",
    "query[True]"
   ]
  },
  {
   "cell_type": "code",
   "execution_count": 16,
   "metadata": {},
   "outputs": [
    {
     "data": {
      "text/plain": [
       "0.6932"
      ]
     },
     "execution_count": 16,
     "metadata": {},
     "output_type": "execute_result"
    }
   ],
   "source": [
    "query = likelihood_weighting('Employment', dict(), net, 10000)\n",
    "query[True]"
   ]
  },
  {
   "cell_type": "code",
   "execution_count": null,
   "metadata": {},
   "outputs": [],
   "source": []
  },
  {
   "cell_type": "markdown",
   "metadata": {},
   "source": [
    "## 2.1  DATA - 15 MARKS\n",
    "\n",
    "Choose two appropriate multivariate datasets with a limited number of classes from:https://archive.ics.uci.edu/ml/index.phpTake a subset of data from and for each dataset:\n",
    "\n",
    " - Compute the “Prior” probabilities for each of the classes. (2.1.1)\n",
    " - Compute the probability of evidence. (2.1.2)\n",
    " - Compute the probability of likelihood of evidences (numerator). (2.1.3)\n",
    " \n",
    "<br>\n",
    "<strong style=\"color: red;\">Important:</strong>\n",
    "\n",
    "> There seems to be a clash with references in AIMA\n",
    "> the below statement (import) will break BaysNet class from probability.py (AIMA)\n",
    "> If you need to execute code from section 1.2, please restart kernel and clear outputs"
   ]
  },
  {
   "cell_type": "code",
   "execution_count": 17,
   "metadata": {},
   "outputs": [],
   "source": [
    "from learning import *"
   ]
  },
  {
   "cell_type": "markdown",
   "metadata": {},
   "source": [
    "## Dataset 1"
   ]
  },
  {
   "cell_type": "markdown",
   "metadata": {},
   "source": [
    "The dataset I chose is here: https://archive.ics.uci.edu/ml/datasets/Mushroom\n",
    "\n",
    "It contains classification of mushrooms and its aim is to deduct possibility of finding if a mushroom is poisonous or not based on its physical characteristics.\n"
   ]
  },
  {
   "cell_type": "code",
   "execution_count": 18,
   "metadata": {},
   "outputs": [
    {
     "data": {
      "text/html": [
       "<div>\n",
       "<style scoped>\n",
       "    .dataframe tbody tr th:only-of-type {\n",
       "        vertical-align: middle;\n",
       "    }\n",
       "\n",
       "    .dataframe tbody tr th {\n",
       "        vertical-align: top;\n",
       "    }\n",
       "\n",
       "    .dataframe thead th {\n",
       "        text-align: right;\n",
       "    }\n",
       "</style>\n",
       "<table border=\"1\" class=\"dataframe\">\n",
       "  <thead>\n",
       "    <tr style=\"text-align: right;\">\n",
       "      <th></th>\n",
       "      <th>poisonous</th>\n",
       "      <th>cap-shape</th>\n",
       "      <th>cap-surface</th>\n",
       "      <th>cap-color</th>\n",
       "      <th>bruises</th>\n",
       "      <th>odor</th>\n",
       "      <th>gill-attachment</th>\n",
       "      <th>gill-spacing</th>\n",
       "      <th>gill-size</th>\n",
       "      <th>gill-color</th>\n",
       "      <th>...</th>\n",
       "      <th>stalk-surface-below-ring</th>\n",
       "      <th>stalk-color-above-ring</th>\n",
       "      <th>stalk-color-below-ring</th>\n",
       "      <th>veil-type</th>\n",
       "      <th>veil-color</th>\n",
       "      <th>ring-number</th>\n",
       "      <th>ring-type</th>\n",
       "      <th>spore-print-color</th>\n",
       "      <th>population</th>\n",
       "      <th>habitat</th>\n",
       "    </tr>\n",
       "  </thead>\n",
       "  <tbody>\n",
       "    <tr>\n",
       "      <td>0</td>\n",
       "      <td>p</td>\n",
       "      <td>x</td>\n",
       "      <td>s</td>\n",
       "      <td>n</td>\n",
       "      <td>t</td>\n",
       "      <td>p</td>\n",
       "      <td>f</td>\n",
       "      <td>c</td>\n",
       "      <td>n</td>\n",
       "      <td>k</td>\n",
       "      <td>...</td>\n",
       "      <td>s</td>\n",
       "      <td>w</td>\n",
       "      <td>w</td>\n",
       "      <td>p</td>\n",
       "      <td>w</td>\n",
       "      <td>o</td>\n",
       "      <td>p</td>\n",
       "      <td>k</td>\n",
       "      <td>s</td>\n",
       "      <td>u</td>\n",
       "    </tr>\n",
       "    <tr>\n",
       "      <td>1</td>\n",
       "      <td>e</td>\n",
       "      <td>x</td>\n",
       "      <td>s</td>\n",
       "      <td>y</td>\n",
       "      <td>t</td>\n",
       "      <td>a</td>\n",
       "      <td>f</td>\n",
       "      <td>c</td>\n",
       "      <td>b</td>\n",
       "      <td>k</td>\n",
       "      <td>...</td>\n",
       "      <td>s</td>\n",
       "      <td>w</td>\n",
       "      <td>w</td>\n",
       "      <td>p</td>\n",
       "      <td>w</td>\n",
       "      <td>o</td>\n",
       "      <td>p</td>\n",
       "      <td>n</td>\n",
       "      <td>n</td>\n",
       "      <td>g</td>\n",
       "    </tr>\n",
       "    <tr>\n",
       "      <td>2</td>\n",
       "      <td>e</td>\n",
       "      <td>b</td>\n",
       "      <td>s</td>\n",
       "      <td>w</td>\n",
       "      <td>t</td>\n",
       "      <td>l</td>\n",
       "      <td>f</td>\n",
       "      <td>c</td>\n",
       "      <td>b</td>\n",
       "      <td>n</td>\n",
       "      <td>...</td>\n",
       "      <td>s</td>\n",
       "      <td>w</td>\n",
       "      <td>w</td>\n",
       "      <td>p</td>\n",
       "      <td>w</td>\n",
       "      <td>o</td>\n",
       "      <td>p</td>\n",
       "      <td>n</td>\n",
       "      <td>n</td>\n",
       "      <td>m</td>\n",
       "    </tr>\n",
       "    <tr>\n",
       "      <td>3</td>\n",
       "      <td>p</td>\n",
       "      <td>x</td>\n",
       "      <td>y</td>\n",
       "      <td>w</td>\n",
       "      <td>t</td>\n",
       "      <td>p</td>\n",
       "      <td>f</td>\n",
       "      <td>c</td>\n",
       "      <td>n</td>\n",
       "      <td>n</td>\n",
       "      <td>...</td>\n",
       "      <td>s</td>\n",
       "      <td>w</td>\n",
       "      <td>w</td>\n",
       "      <td>p</td>\n",
       "      <td>w</td>\n",
       "      <td>o</td>\n",
       "      <td>p</td>\n",
       "      <td>k</td>\n",
       "      <td>s</td>\n",
       "      <td>u</td>\n",
       "    </tr>\n",
       "    <tr>\n",
       "      <td>4</td>\n",
       "      <td>e</td>\n",
       "      <td>x</td>\n",
       "      <td>s</td>\n",
       "      <td>g</td>\n",
       "      <td>f</td>\n",
       "      <td>n</td>\n",
       "      <td>f</td>\n",
       "      <td>w</td>\n",
       "      <td>b</td>\n",
       "      <td>k</td>\n",
       "      <td>...</td>\n",
       "      <td>s</td>\n",
       "      <td>w</td>\n",
       "      <td>w</td>\n",
       "      <td>p</td>\n",
       "      <td>w</td>\n",
       "      <td>o</td>\n",
       "      <td>e</td>\n",
       "      <td>n</td>\n",
       "      <td>a</td>\n",
       "      <td>g</td>\n",
       "    </tr>\n",
       "    <tr>\n",
       "      <td>...</td>\n",
       "      <td>...</td>\n",
       "      <td>...</td>\n",
       "      <td>...</td>\n",
       "      <td>...</td>\n",
       "      <td>...</td>\n",
       "      <td>...</td>\n",
       "      <td>...</td>\n",
       "      <td>...</td>\n",
       "      <td>...</td>\n",
       "      <td>...</td>\n",
       "      <td>...</td>\n",
       "      <td>...</td>\n",
       "      <td>...</td>\n",
       "      <td>...</td>\n",
       "      <td>...</td>\n",
       "      <td>...</td>\n",
       "      <td>...</td>\n",
       "      <td>...</td>\n",
       "      <td>...</td>\n",
       "      <td>...</td>\n",
       "      <td>...</td>\n",
       "    </tr>\n",
       "    <tr>\n",
       "      <td>8119</td>\n",
       "      <td>e</td>\n",
       "      <td>k</td>\n",
       "      <td>s</td>\n",
       "      <td>n</td>\n",
       "      <td>f</td>\n",
       "      <td>n</td>\n",
       "      <td>a</td>\n",
       "      <td>c</td>\n",
       "      <td>b</td>\n",
       "      <td>y</td>\n",
       "      <td>...</td>\n",
       "      <td>s</td>\n",
       "      <td>o</td>\n",
       "      <td>o</td>\n",
       "      <td>p</td>\n",
       "      <td>o</td>\n",
       "      <td>o</td>\n",
       "      <td>p</td>\n",
       "      <td>b</td>\n",
       "      <td>c</td>\n",
       "      <td>l</td>\n",
       "    </tr>\n",
       "    <tr>\n",
       "      <td>8120</td>\n",
       "      <td>e</td>\n",
       "      <td>x</td>\n",
       "      <td>s</td>\n",
       "      <td>n</td>\n",
       "      <td>f</td>\n",
       "      <td>n</td>\n",
       "      <td>a</td>\n",
       "      <td>c</td>\n",
       "      <td>b</td>\n",
       "      <td>y</td>\n",
       "      <td>...</td>\n",
       "      <td>s</td>\n",
       "      <td>o</td>\n",
       "      <td>o</td>\n",
       "      <td>p</td>\n",
       "      <td>n</td>\n",
       "      <td>o</td>\n",
       "      <td>p</td>\n",
       "      <td>b</td>\n",
       "      <td>v</td>\n",
       "      <td>l</td>\n",
       "    </tr>\n",
       "    <tr>\n",
       "      <td>8121</td>\n",
       "      <td>e</td>\n",
       "      <td>f</td>\n",
       "      <td>s</td>\n",
       "      <td>n</td>\n",
       "      <td>f</td>\n",
       "      <td>n</td>\n",
       "      <td>a</td>\n",
       "      <td>c</td>\n",
       "      <td>b</td>\n",
       "      <td>n</td>\n",
       "      <td>...</td>\n",
       "      <td>s</td>\n",
       "      <td>o</td>\n",
       "      <td>o</td>\n",
       "      <td>p</td>\n",
       "      <td>o</td>\n",
       "      <td>o</td>\n",
       "      <td>p</td>\n",
       "      <td>b</td>\n",
       "      <td>c</td>\n",
       "      <td>l</td>\n",
       "    </tr>\n",
       "    <tr>\n",
       "      <td>8122</td>\n",
       "      <td>p</td>\n",
       "      <td>k</td>\n",
       "      <td>y</td>\n",
       "      <td>n</td>\n",
       "      <td>f</td>\n",
       "      <td>y</td>\n",
       "      <td>f</td>\n",
       "      <td>c</td>\n",
       "      <td>n</td>\n",
       "      <td>b</td>\n",
       "      <td>...</td>\n",
       "      <td>k</td>\n",
       "      <td>w</td>\n",
       "      <td>w</td>\n",
       "      <td>p</td>\n",
       "      <td>w</td>\n",
       "      <td>o</td>\n",
       "      <td>e</td>\n",
       "      <td>w</td>\n",
       "      <td>v</td>\n",
       "      <td>l</td>\n",
       "    </tr>\n",
       "    <tr>\n",
       "      <td>8123</td>\n",
       "      <td>e</td>\n",
       "      <td>x</td>\n",
       "      <td>s</td>\n",
       "      <td>n</td>\n",
       "      <td>f</td>\n",
       "      <td>n</td>\n",
       "      <td>a</td>\n",
       "      <td>c</td>\n",
       "      <td>b</td>\n",
       "      <td>y</td>\n",
       "      <td>...</td>\n",
       "      <td>s</td>\n",
       "      <td>o</td>\n",
       "      <td>o</td>\n",
       "      <td>p</td>\n",
       "      <td>o</td>\n",
       "      <td>o</td>\n",
       "      <td>p</td>\n",
       "      <td>o</td>\n",
       "      <td>c</td>\n",
       "      <td>l</td>\n",
       "    </tr>\n",
       "  </tbody>\n",
       "</table>\n",
       "<p>8124 rows × 23 columns</p>\n",
       "</div>"
      ],
      "text/plain": [
       "     poisonous cap-shape cap-surface cap-color bruises odor gill-attachment  \\\n",
       "0            p         x           s         n       t    p               f   \n",
       "1            e         x           s         y       t    a               f   \n",
       "2            e         b           s         w       t    l               f   \n",
       "3            p         x           y         w       t    p               f   \n",
       "4            e         x           s         g       f    n               f   \n",
       "...        ...       ...         ...       ...     ...  ...             ...   \n",
       "8119         e         k           s         n       f    n               a   \n",
       "8120         e         x           s         n       f    n               a   \n",
       "8121         e         f           s         n       f    n               a   \n",
       "8122         p         k           y         n       f    y               f   \n",
       "8123         e         x           s         n       f    n               a   \n",
       "\n",
       "     gill-spacing gill-size gill-color  ... stalk-surface-below-ring  \\\n",
       "0               c         n          k  ...                        s   \n",
       "1               c         b          k  ...                        s   \n",
       "2               c         b          n  ...                        s   \n",
       "3               c         n          n  ...                        s   \n",
       "4               w         b          k  ...                        s   \n",
       "...           ...       ...        ...  ...                      ...   \n",
       "8119            c         b          y  ...                        s   \n",
       "8120            c         b          y  ...                        s   \n",
       "8121            c         b          n  ...                        s   \n",
       "8122            c         n          b  ...                        k   \n",
       "8123            c         b          y  ...                        s   \n",
       "\n",
       "     stalk-color-above-ring stalk-color-below-ring veil-type veil-color  \\\n",
       "0                         w                      w         p          w   \n",
       "1                         w                      w         p          w   \n",
       "2                         w                      w         p          w   \n",
       "3                         w                      w         p          w   \n",
       "4                         w                      w         p          w   \n",
       "...                     ...                    ...       ...        ...   \n",
       "8119                      o                      o         p          o   \n",
       "8120                      o                      o         p          n   \n",
       "8121                      o                      o         p          o   \n",
       "8122                      w                      w         p          w   \n",
       "8123                      o                      o         p          o   \n",
       "\n",
       "     ring-number ring-type spore-print-color population habitat  \n",
       "0              o         p                 k          s       u  \n",
       "1              o         p                 n          n       g  \n",
       "2              o         p                 n          n       m  \n",
       "3              o         p                 k          s       u  \n",
       "4              o         e                 n          a       g  \n",
       "...          ...       ...               ...        ...     ...  \n",
       "8119           o         p                 b          c       l  \n",
       "8120           o         p                 b          v       l  \n",
       "8121           o         p                 b          c       l  \n",
       "8122           o         e                 w          v       l  \n",
       "8123           o         p                 o          c       l  \n",
       "\n",
       "[8124 rows x 23 columns]"
      ]
     },
     "execution_count": 18,
     "metadata": {},
     "output_type": "execute_result"
    }
   ],
   "source": [
    "cols = ['poisonous', 'cap-shape', 'cap-surface','cap-color','bruises','odor', 'gill-attachment','gill-spacing', \n",
    "        'gill-size','gill-color','stalk-shape','stalk-root', 'stalk-surface-above-ring','stalk-surface-below-ring',\n",
    "        'stalk-color-above-ring','stalk-color-below-ring','veil-type','veil-color','ring-number','ring-type',\n",
    "    'spore-print-color', 'population','habitat']\n",
    "file = './Data/agaricus-lepiota.csv'\n",
    "data = pd.read_csv(file, sep=',', header=None, names=cols)\n",
    "data"
   ]
  },
  {
   "cell_type": "code",
   "execution_count": 19,
   "metadata": {},
   "outputs": [
    {
     "data": {
      "text/html": [
       "<div>\n",
       "<style scoped>\n",
       "    .dataframe tbody tr th:only-of-type {\n",
       "        vertical-align: middle;\n",
       "    }\n",
       "\n",
       "    .dataframe tbody tr th {\n",
       "        vertical-align: top;\n",
       "    }\n",
       "\n",
       "    .dataframe thead th {\n",
       "        text-align: right;\n",
       "    }\n",
       "</style>\n",
       "<table border=\"1\" class=\"dataframe\">\n",
       "  <thead>\n",
       "    <tr style=\"text-align: right;\">\n",
       "      <th></th>\n",
       "      <th>poisonous</th>\n",
       "      <th>cap-shape</th>\n",
       "      <th>cap-surface</th>\n",
       "      <th>cap-color</th>\n",
       "      <th>bruises</th>\n",
       "      <th>odor</th>\n",
       "      <th>gill-attachment</th>\n",
       "      <th>gill-spacing</th>\n",
       "      <th>gill-size</th>\n",
       "      <th>gill-color</th>\n",
       "      <th>...</th>\n",
       "      <th>stalk-surface-below-ring</th>\n",
       "      <th>stalk-color-above-ring</th>\n",
       "      <th>stalk-color-below-ring</th>\n",
       "      <th>veil-type</th>\n",
       "      <th>veil-color</th>\n",
       "      <th>ring-number</th>\n",
       "      <th>ring-type</th>\n",
       "      <th>spore-print-color</th>\n",
       "      <th>population</th>\n",
       "      <th>habitat</th>\n",
       "    </tr>\n",
       "  </thead>\n",
       "  <tbody>\n",
       "    <tr>\n",
       "      <td>count</td>\n",
       "      <td>8124</td>\n",
       "      <td>8124</td>\n",
       "      <td>8124</td>\n",
       "      <td>8124</td>\n",
       "      <td>8124</td>\n",
       "      <td>8124</td>\n",
       "      <td>8124</td>\n",
       "      <td>8124</td>\n",
       "      <td>8124</td>\n",
       "      <td>8124</td>\n",
       "      <td>...</td>\n",
       "      <td>8124</td>\n",
       "      <td>8124</td>\n",
       "      <td>8124</td>\n",
       "      <td>8124</td>\n",
       "      <td>8124</td>\n",
       "      <td>8124</td>\n",
       "      <td>8124</td>\n",
       "      <td>8124</td>\n",
       "      <td>8124</td>\n",
       "      <td>8124</td>\n",
       "    </tr>\n",
       "    <tr>\n",
       "      <td>unique</td>\n",
       "      <td>2</td>\n",
       "      <td>6</td>\n",
       "      <td>4</td>\n",
       "      <td>10</td>\n",
       "      <td>2</td>\n",
       "      <td>9</td>\n",
       "      <td>2</td>\n",
       "      <td>2</td>\n",
       "      <td>2</td>\n",
       "      <td>12</td>\n",
       "      <td>...</td>\n",
       "      <td>4</td>\n",
       "      <td>9</td>\n",
       "      <td>9</td>\n",
       "      <td>1</td>\n",
       "      <td>4</td>\n",
       "      <td>3</td>\n",
       "      <td>5</td>\n",
       "      <td>9</td>\n",
       "      <td>6</td>\n",
       "      <td>7</td>\n",
       "    </tr>\n",
       "    <tr>\n",
       "      <td>top</td>\n",
       "      <td>e</td>\n",
       "      <td>x</td>\n",
       "      <td>y</td>\n",
       "      <td>n</td>\n",
       "      <td>f</td>\n",
       "      <td>n</td>\n",
       "      <td>f</td>\n",
       "      <td>c</td>\n",
       "      <td>b</td>\n",
       "      <td>b</td>\n",
       "      <td>...</td>\n",
       "      <td>s</td>\n",
       "      <td>w</td>\n",
       "      <td>w</td>\n",
       "      <td>p</td>\n",
       "      <td>w</td>\n",
       "      <td>o</td>\n",
       "      <td>p</td>\n",
       "      <td>w</td>\n",
       "      <td>v</td>\n",
       "      <td>d</td>\n",
       "    </tr>\n",
       "    <tr>\n",
       "      <td>freq</td>\n",
       "      <td>4208</td>\n",
       "      <td>3656</td>\n",
       "      <td>3244</td>\n",
       "      <td>2284</td>\n",
       "      <td>4748</td>\n",
       "      <td>3528</td>\n",
       "      <td>7914</td>\n",
       "      <td>6812</td>\n",
       "      <td>5612</td>\n",
       "      <td>1728</td>\n",
       "      <td>...</td>\n",
       "      <td>4936</td>\n",
       "      <td>4464</td>\n",
       "      <td>4384</td>\n",
       "      <td>8124</td>\n",
       "      <td>7924</td>\n",
       "      <td>7488</td>\n",
       "      <td>3968</td>\n",
       "      <td>2388</td>\n",
       "      <td>4040</td>\n",
       "      <td>3148</td>\n",
       "    </tr>\n",
       "  </tbody>\n",
       "</table>\n",
       "<p>4 rows × 23 columns</p>\n",
       "</div>"
      ],
      "text/plain": [
       "       poisonous cap-shape cap-surface cap-color bruises  odor  \\\n",
       "count       8124      8124        8124      8124    8124  8124   \n",
       "unique         2         6           4        10       2     9   \n",
       "top            e         x           y         n       f     n   \n",
       "freq        4208      3656        3244      2284    4748  3528   \n",
       "\n",
       "       gill-attachment gill-spacing gill-size gill-color  ...  \\\n",
       "count             8124         8124      8124       8124  ...   \n",
       "unique               2            2         2         12  ...   \n",
       "top                  f            c         b          b  ...   \n",
       "freq              7914         6812      5612       1728  ...   \n",
       "\n",
       "       stalk-surface-below-ring stalk-color-above-ring stalk-color-below-ring  \\\n",
       "count                      8124                   8124                   8124   \n",
       "unique                        4                      9                      9   \n",
       "top                           s                      w                      w   \n",
       "freq                       4936                   4464                   4384   \n",
       "\n",
       "       veil-type veil-color ring-number ring-type spore-print-color  \\\n",
       "count       8124       8124        8124      8124              8124   \n",
       "unique         1          4           3         5                 9   \n",
       "top            p          w           o         p                 w   \n",
       "freq        8124       7924        7488      3968              2388   \n",
       "\n",
       "       population habitat  \n",
       "count        8124    8124  \n",
       "unique          6       7  \n",
       "top             v       d  \n",
       "freq         4040    3148  \n",
       "\n",
       "[4 rows x 23 columns]"
      ]
     },
     "execution_count": 19,
     "metadata": {},
     "output_type": "execute_result"
    }
   ],
   "source": [
    "data.describe()"
   ]
  },
  {
   "cell_type": "code",
   "execution_count": 20,
   "metadata": {},
   "outputs": [
    {
     "name": "stdout",
     "output_type": "stream",
     "text": [
      "Empty values present: False\n"
     ]
    }
   ],
   "source": [
    "#check if any empty values present\n",
    "print(\"Empty values present: {}\".format(data.isnull().values.any()))"
   ]
  },
  {
   "cell_type": "code",
   "execution_count": 21,
   "metadata": {},
   "outputs": [
    {
     "name": "stdout",
     "output_type": "stream",
     "text": [
      "(4208, 23) (3916, 23)\n"
     ]
    }
   ],
   "source": [
    "edible = data[data['poisonous'].str.contains('e')]\n",
    "poisonous = data[data['poisonous'].str.contains('p')]\n",
    "print(edible.shape, poisonous.shape)"
   ]
  },
  {
   "cell_type": "markdown",
   "metadata": {},
   "source": [
    "From the above, it looks fair dataset (8000+) records, almost evenly split between poisonous and edible mushrooms.\n",
    "The dataset contains 22 variables, which may not be useful for the purpose of this assignment. I will subset the following for the purpose of my analysis:\n",
    "1. Leave the classifier - this is them main prediction, is the muchroom edible\n",
    "2. 'bruises' - indicator is the muchshoom bruises on toutch - 0, 1\n",
    "3. 'odour' - odours are classified as almond=a,anise=l,creosote=c,fishy=y,foul=f, musty=m,none=n,pungent=p,spicy=s. I will combine them to achieve the following: 1 - almond OR anise OR none, 0 - rest \n",
    "4. 'habitat' - habitats are classifies as : grasses=g,leaves=l,meadows=m,paths=p, urban=u,waste=w,woods=d. I will combine them as follows: 1 - leaves, 0 - rest\n",
    "\n",
    "The above classification selection is based on the suggested approach to classification as described by the dataset author"
   ]
  },
  {
   "cell_type": "code",
   "execution_count": 22,
   "metadata": {},
   "outputs": [],
   "source": [
    "md = data.copy()\n",
    "md.drop([ 'cap-shape', 'cap-surface','cap-color','gill-attachment','gill-spacing', 'gill-size','gill-color','stalk-shape','stalk-root',\n",
    "    'stalk-surface-above-ring','stalk-surface-below-ring','stalk-color-above-ring','stalk-color-below-ring','veil-type','veil-color','ring-number','ring-type',\n",
    "    'spore-print-color', 'population'], axis=1, inplace=True)"
   ]
  },
  {
   "cell_type": "code",
   "execution_count": 23,
   "metadata": {},
   "outputs": [],
   "source": [
    "md['bruises'].mask(md['bruises'] == 't', 1, inplace=True)\n",
    "md['bruises'].mask(md['bruises'] == 'f', 0, inplace=True)\n",
    "md['bruises'] = pd.to_numeric(md['bruises'])\n",
    "\n",
    "md['odor'].mask((md['odor'] == 'a') | (md['odor'] == 'l') | (md['odor'] == 'n'), '1', inplace=True)\n",
    "md['odor'].mask(md['odor'] != '1', '0', inplace=True)\n",
    "md['odor'] = pd.to_numeric(md['odor'])\n",
    "\n",
    "md['habitat'].mask((md['habitat'] == 'l') , '1', inplace=True)\n",
    "md['habitat'].mask(md['habitat'] != '1', '0', inplace=True)\n",
    "md['habitat'] = pd.to_numeric(md['habitat'])\n",
    "\n",
    "md['poisonous'].mask(md['poisonous'] == 'p', 1, inplace=True)\n",
    "md['poisonous'].mask(md['poisonous'] == 'e', 0, inplace=True)\n",
    "md['poisonous'] = pd.to_numeric(md['poisonous'])"
   ]
  },
  {
   "cell_type": "code",
   "execution_count": 24,
   "metadata": {},
   "outputs": [
    {
     "data": {
      "text/html": [
       "<div>\n",
       "<style scoped>\n",
       "    .dataframe tbody tr th:only-of-type {\n",
       "        vertical-align: middle;\n",
       "    }\n",
       "\n",
       "    .dataframe tbody tr th {\n",
       "        vertical-align: top;\n",
       "    }\n",
       "\n",
       "    .dataframe thead th {\n",
       "        text-align: right;\n",
       "    }\n",
       "</style>\n",
       "<table border=\"1\" class=\"dataframe\">\n",
       "  <thead>\n",
       "    <tr style=\"text-align: right;\">\n",
       "      <th></th>\n",
       "      <th>poisonous</th>\n",
       "      <th>bruises</th>\n",
       "      <th>odor</th>\n",
       "      <th>habitat</th>\n",
       "    </tr>\n",
       "  </thead>\n",
       "  <tbody>\n",
       "    <tr>\n",
       "      <td>0</td>\n",
       "      <td>1</td>\n",
       "      <td>1</td>\n",
       "      <td>0</td>\n",
       "      <td>0</td>\n",
       "    </tr>\n",
       "    <tr>\n",
       "      <td>1</td>\n",
       "      <td>0</td>\n",
       "      <td>1</td>\n",
       "      <td>1</td>\n",
       "      <td>0</td>\n",
       "    </tr>\n",
       "    <tr>\n",
       "      <td>2</td>\n",
       "      <td>0</td>\n",
       "      <td>1</td>\n",
       "      <td>1</td>\n",
       "      <td>0</td>\n",
       "    </tr>\n",
       "    <tr>\n",
       "      <td>3</td>\n",
       "      <td>1</td>\n",
       "      <td>1</td>\n",
       "      <td>0</td>\n",
       "      <td>0</td>\n",
       "    </tr>\n",
       "    <tr>\n",
       "      <td>4</td>\n",
       "      <td>0</td>\n",
       "      <td>0</td>\n",
       "      <td>1</td>\n",
       "      <td>0</td>\n",
       "    </tr>\n",
       "    <tr>\n",
       "      <td>...</td>\n",
       "      <td>...</td>\n",
       "      <td>...</td>\n",
       "      <td>...</td>\n",
       "      <td>...</td>\n",
       "    </tr>\n",
       "    <tr>\n",
       "      <td>8119</td>\n",
       "      <td>0</td>\n",
       "      <td>0</td>\n",
       "      <td>1</td>\n",
       "      <td>1</td>\n",
       "    </tr>\n",
       "    <tr>\n",
       "      <td>8120</td>\n",
       "      <td>0</td>\n",
       "      <td>0</td>\n",
       "      <td>1</td>\n",
       "      <td>1</td>\n",
       "    </tr>\n",
       "    <tr>\n",
       "      <td>8121</td>\n",
       "      <td>0</td>\n",
       "      <td>0</td>\n",
       "      <td>1</td>\n",
       "      <td>1</td>\n",
       "    </tr>\n",
       "    <tr>\n",
       "      <td>8122</td>\n",
       "      <td>1</td>\n",
       "      <td>0</td>\n",
       "      <td>0</td>\n",
       "      <td>1</td>\n",
       "    </tr>\n",
       "    <tr>\n",
       "      <td>8123</td>\n",
       "      <td>0</td>\n",
       "      <td>0</td>\n",
       "      <td>1</td>\n",
       "      <td>1</td>\n",
       "    </tr>\n",
       "  </tbody>\n",
       "</table>\n",
       "<p>8124 rows × 4 columns</p>\n",
       "</div>"
      ],
      "text/plain": [
       "      poisonous  bruises  odor  habitat\n",
       "0             1        1     0        0\n",
       "1             0        1     1        0\n",
       "2             0        1     1        0\n",
       "3             1        1     0        0\n",
       "4             0        0     1        0\n",
       "...         ...      ...   ...      ...\n",
       "8119          0        0     1        1\n",
       "8120          0        0     1        1\n",
       "8121          0        0     1        1\n",
       "8122          1        0     0        1\n",
       "8123          0        0     1        1\n",
       "\n",
       "[8124 rows x 4 columns]"
      ]
     },
     "execution_count": 24,
     "metadata": {},
     "output_type": "execute_result"
    }
   ],
   "source": [
    "md"
   ]
  },
  {
   "cell_type": "code",
   "execution_count": 25,
   "metadata": {},
   "outputs": [
    {
     "data": {
      "text/html": [
       "<div>\n",
       "<style scoped>\n",
       "    .dataframe tbody tr th:only-of-type {\n",
       "        vertical-align: middle;\n",
       "    }\n",
       "\n",
       "    .dataframe tbody tr th {\n",
       "        vertical-align: top;\n",
       "    }\n",
       "\n",
       "    .dataframe thead th {\n",
       "        text-align: right;\n",
       "    }\n",
       "</style>\n",
       "<table border=\"1\" class=\"dataframe\">\n",
       "  <thead>\n",
       "    <tr style=\"text-align: right;\">\n",
       "      <th></th>\n",
       "      <th>poisonous</th>\n",
       "      <th>bruises</th>\n",
       "      <th>odor</th>\n",
       "      <th>habitat</th>\n",
       "    </tr>\n",
       "  </thead>\n",
       "  <tbody>\n",
       "    <tr>\n",
       "      <td>count</td>\n",
       "      <td>8124.000000</td>\n",
       "      <td>8124.000000</td>\n",
       "      <td>8124.000000</td>\n",
       "      <td>8124.000000</td>\n",
       "    </tr>\n",
       "    <tr>\n",
       "      <td>mean</td>\n",
       "      <td>0.482029</td>\n",
       "      <td>0.415559</td>\n",
       "      <td>0.532742</td>\n",
       "      <td>0.102413</td>\n",
       "    </tr>\n",
       "    <tr>\n",
       "      <td>std</td>\n",
       "      <td>0.499708</td>\n",
       "      <td>0.492848</td>\n",
       "      <td>0.498957</td>\n",
       "      <td>0.303209</td>\n",
       "    </tr>\n",
       "    <tr>\n",
       "      <td>min</td>\n",
       "      <td>0.000000</td>\n",
       "      <td>0.000000</td>\n",
       "      <td>0.000000</td>\n",
       "      <td>0.000000</td>\n",
       "    </tr>\n",
       "    <tr>\n",
       "      <td>25%</td>\n",
       "      <td>0.000000</td>\n",
       "      <td>0.000000</td>\n",
       "      <td>0.000000</td>\n",
       "      <td>0.000000</td>\n",
       "    </tr>\n",
       "    <tr>\n",
       "      <td>50%</td>\n",
       "      <td>0.000000</td>\n",
       "      <td>0.000000</td>\n",
       "      <td>1.000000</td>\n",
       "      <td>0.000000</td>\n",
       "    </tr>\n",
       "    <tr>\n",
       "      <td>75%</td>\n",
       "      <td>1.000000</td>\n",
       "      <td>1.000000</td>\n",
       "      <td>1.000000</td>\n",
       "      <td>0.000000</td>\n",
       "    </tr>\n",
       "    <tr>\n",
       "      <td>max</td>\n",
       "      <td>1.000000</td>\n",
       "      <td>1.000000</td>\n",
       "      <td>1.000000</td>\n",
       "      <td>1.000000</td>\n",
       "    </tr>\n",
       "  </tbody>\n",
       "</table>\n",
       "</div>"
      ],
      "text/plain": [
       "         poisonous      bruises         odor      habitat\n",
       "count  8124.000000  8124.000000  8124.000000  8124.000000\n",
       "mean      0.482029     0.415559     0.532742     0.102413\n",
       "std       0.499708     0.492848     0.498957     0.303209\n",
       "min       0.000000     0.000000     0.000000     0.000000\n",
       "25%       0.000000     0.000000     0.000000     0.000000\n",
       "50%       0.000000     0.000000     1.000000     0.000000\n",
       "75%       1.000000     1.000000     1.000000     0.000000\n",
       "max       1.000000     1.000000     1.000000     1.000000"
      ]
     },
     "execution_count": 25,
     "metadata": {},
     "output_type": "execute_result"
    }
   ],
   "source": [
    "md.describe()"
   ]
  },
  {
   "cell_type": "code",
   "execution_count": 26,
   "metadata": {},
   "outputs": [
    {
     "data": {
      "image/png": "[encoded data removed]",
      "text/plain": [
       "<Figure size 1008x720 with 2 Axes>"
      ]
     },
     "metadata": {
      "needs_background": "light"
     },
     "output_type": "display_data"
    }
   ],
   "source": [
    "#Correlation\n",
    "plt.figure(figsize=(14,10))\n",
    "cor = md.corr()\n",
    "sns.heatmap(cor, annot=True, cmap=plt.cm.Reds)\n",
    "plt.show()"
   ]
  },
  {
   "cell_type": "markdown",
   "metadata": {},
   "source": [
    "### 2.1.1 Compute the “Prior” probabilities for each of the classes\n",
    "\n",
    "I have 2 classes that I will calculate the probabilities:\n",
    "\n",
    "1. Poisonous mushrooms (1)\n",
    "2. Edible mushrooms (0)\n",
    "\n",
    "Prior probabilities calculation in a dataset can be defined as follows:\n",
    "\n",
    "P(class) = countOfClassInstances / totalRows\n",
    "\n",
    "In my case that would correspond to:\n",
    "\n",
    "P(poison) = countOfPoison/totalRecords\n",
    "\n",
    "P(edible) = countOfEdible/totalRecords\n",
    "\n",
    "so, for example the P(poison) = 4508 / 8124 = ~48%\n",
    "\n",
    "The dataset seems to be balanced, as the probabilities are close to 50/50."
   ]
  },
  {
   "cell_type": "code",
   "execution_count": 27,
   "metadata": {},
   "outputs": [
    {
     "name": "stdout",
     "output_type": "stream",
     "text": [
      "Total records: 8124\n",
      "Poison instances: (3916, 4), Edible instances: (4208, 4)\n"
     ]
    }
   ],
   "source": [
    "edible = md[md['poisonous'] == 0]\n",
    "poisonous = md[md['poisonous'] == 1]\n",
    "\n",
    "print('Total records: {}'.format(md.shape[0]))\n",
    "print('Poison instances: {1}, Edible instances: {0}'.format(edible.shape, poisonous.shape))"
   ]
  },
  {
   "cell_type": "code",
   "execution_count": 28,
   "metadata": {},
   "outputs": [
    {
     "data": {
      "text/plain": [
       "0.517971442639094"
      ]
     },
     "execution_count": 28,
     "metadata": {},
     "output_type": "execute_result"
    }
   ],
   "source": [
    "probEdible = edible.shape[0] / md.shape[0]\n",
    "probEdible"
   ]
  },
  {
   "cell_type": "code",
   "execution_count": 29,
   "metadata": {},
   "outputs": [
    {
     "data": {
      "text/plain": [
       "0.48202855736090594"
      ]
     },
     "execution_count": 29,
     "metadata": {},
     "output_type": "execute_result"
    }
   ],
   "source": [
    "poisonous = poisonous.shape[0] / md.shape[0]\n",
    "poisonous"
   ]
  },
  {
   "cell_type": "markdown",
   "metadata": {},
   "source": [
    "### 2.1.2 Compute the probability of evidence"
   ]
  },
  {
   "cell_type": "markdown",
   "metadata": {},
   "source": [
    "Probability of evidence is the calculation of the frequency of occurrence of each feature variable unique instance.\n",
    "In my case I have 3 feature variables: bruise, odor and habitat. Each of them can have values of either 1 or 0.\n",
    "The calculation can be defined as following example:\n",
    "\n",
    "P(bruise = 1) = countOfBruise-> where bruise==1 / totalRecords\n"
   ]
  },
  {
   "cell_type": "code",
   "execution_count": 30,
   "metadata": {},
   "outputs": [],
   "source": [
    "bruisesTrueProbability = md[md['bruises'] == 1].shape[0] / md.shape[0]\n",
    "bruisesFalseProbability = md[md['bruises'] == 0].shape[0] / md.shape[0]\n",
    "\n",
    "odourTrueProbability = md[md['odor'] == 1].shape[0] / md.shape[0]\n",
    "odourFalseProbability = md[md['odor'] == 0].shape[0] / md.shape[0]\n",
    "\n",
    "habitatTrueProbability = md[md['habitat'] == 1].shape[0] / md.shape[0]\n",
    "habitatFalseProbability = md[md['habitat'] == 0].shape[0] / md.shape[0]"
   ]
  },
  {
   "cell_type": "code",
   "execution_count": 31,
   "metadata": {},
   "outputs": [
    {
     "name": "stdout",
     "output_type": "stream",
     "text": [
      "Probability of Bruises existing: 0.4155588380108321, not existing: 0.5844411619891678\n",
      "Probability of Odour being anise/almond/none: 0.5327424913835549, other: 0.4672575086164451\n",
      "Probability of Habitat being leaves: 0.10241260462826195, other: 0.897587395371738\n"
     ]
    }
   ],
   "source": [
    "print('Probability of Bruises existing: {}, not existing: {}'.format(bruisesTrueProbability, bruisesFalseProbability))\n",
    "print('Probability of Odour being anise/almond/none: {}, other: {}'.format(odourTrueProbability, odourFalseProbability))\n",
    "print('Probability of Habitat being leaves: {}, other: {}'.format(habitatTrueProbability, habitatFalseProbability))"
   ]
  },
  {
   "cell_type": "markdown",
   "metadata": {},
   "source": [
    "### 2.1.3 Compute the probability of likelihood of evidences (numerator)"
   ]
  },
  {
   "cell_type": "markdown",
   "metadata": {},
   "source": [
    "Probability of likelihood of evidence is the calculation of frequency of occurrence of each feature instance per class. In my case I have 2 class instances (1 – mushroom is poisonous, 0 – mushroom is edible) and 3 feature variables each of them with 2 possible unique values. Hence probability of likelihood of evidence should contain 12 entries (2 * 3 * 2).\n",
    "The below represents one example:\n",
    "\n",
    "for ilustration purposes I will mark class 1 as classP (poison)\n",
    "\n",
    "P(Bruise = True | Class = P) = countOfBruise1ClassP / ClassP\n"
   ]
  },
  {
   "cell_type": "code",
   "execution_count": 32,
   "metadata": {},
   "outputs": [
    {
     "name": "stdout",
     "output_type": "stream",
     "text": [
      "Bruise True given Poison True: 0.15934627170582227\n",
      "Bruise True given Poison False: 1.782319391634981\n",
      "Bruise False given Poison True: 0.8406537282941777\n",
      "Bruise True given Poison False: 1.1482889733840305\n"
     ]
    }
   ],
   "source": [
    "bruise1Class1 = md[(md['bruises'] == 1) & md['poisonous'] == 1].shape[0] / md[md['poisonous'] == 1].shape[0]\n",
    "bruise1Class0 = md[(md['bruises'] == 1) & md['poisonous'] == 0].shape[0] / md[md['poisonous'] == 0].shape[0]\n",
    "\n",
    "bruise0Class1 = md[(md['bruises'] == 0) & md['poisonous'] == 1].shape[0] / md[md['poisonous'] == 1].shape[0]\n",
    "bruise0Class0 = md[(md['bruises'] == 0) & md['poisonous'] == 0].shape[0] / md[md['poisonous'] == 0].shape[0]\n",
    "\n",
    "print('Bruise True given Poison True: {}'.format(bruise1Class1))\n",
    "print('Bruise True given Poison False: {}'.format(bruise1Class0))\n",
    "print('Bruise False given Poison True: {}'.format(bruise0Class1))\n",
    "print('Bruise True given Poison False: {}'.format(bruise0Class0))"
   ]
  },
  {
   "cell_type": "code",
   "execution_count": 33,
   "metadata": {},
   "outputs": [
    {
     "name": "stdout",
     "output_type": "stream",
     "text": [
      "Odour True given Poison True: 0.030643513789581207\n",
      "Odour True given Poison False: 1.9020912547528517\n",
      "Odour False given Poison True: 0.9693564862104188\n",
      "Odour True given Poison False: 1.0285171102661597\n"
     ]
    }
   ],
   "source": [
    "odor1Class1 = md[(md['odor'] == 1) & md['poisonous'] == 1].shape[0] / md[md['poisonous'] == 1].shape[0]\n",
    "odor1Class0 = md[(md['odor'] == 1) & md['poisonous'] == 0].shape[0] / md[md['poisonous'] == 0].shape[0]\n",
    "\n",
    "odor0Class1 = md[(md['odor'] == 0) & md['poisonous'] == 1].shape[0] / md[md['poisonous'] == 1].shape[0]\n",
    "odor0Class0 = md[(md['odor'] == 0) & md['poisonous'] == 0].shape[0] / md[md['poisonous'] == 0].shape[0]\n",
    "\n",
    "print('Odour True given Poison True: {}'.format(odor1Class1))\n",
    "print('Odour True given Poison False: {}'.format(odor1Class0))\n",
    "print('Odour False given Poison True: {}'.format(odor0Class1))\n",
    "print('Odour True given Poison False: {}'.format(odor0Class0))"
   ]
  },
  {
   "cell_type": "code",
   "execution_count": 34,
   "metadata": {},
   "outputs": [
    {
     "name": "stdout",
     "output_type": "stream",
     "text": [
      "Habitat True given Poison True: 0.1511746680286006\n",
      "Habitat True given Poison False: 1.7899239543726235\n",
      "Habitat False given Poison True: 0.8488253319713994\n",
      "Habitat True given Poison False: 1.1406844106463878\n"
     ]
    }
   ],
   "source": [
    "habitat1Class1 = md[(md['habitat'] == 1) & md['poisonous'] == 1].shape[0] / md[md['poisonous'] == 1].shape[0]\n",
    "habitat1Class0 = md[(md['habitat'] == 1) & md['poisonous'] == 0].shape[0] / md[md['poisonous'] == 0].shape[0]\n",
    "\n",
    "habitat0Class1 = md[(md['habitat'] == 0) & md['poisonous'] == 1].shape[0] / md[md['poisonous'] == 1].shape[0]\n",
    "habitat0Class0 = md[(md['habitat'] == 0) & md['poisonous'] == 0].shape[0] / md[md['poisonous'] == 0].shape[0]\n",
    "\n",
    "print('Habitat True given Poison True: {}'.format(habitat1Class1))\n",
    "print('Habitat True given Poison False: {}'.format(habitat1Class0))\n",
    "print('Habitat False given Poison True: {}'.format(habitat0Class1))\n",
    "print('Habitat True given Poison False: {}'.format(habitat0Class0))"
   ]
  },
  {
   "cell_type": "markdown",
   "metadata": {},
   "source": [
    "## Dataset 2"
   ]
  },
  {
   "cell_type": "markdown",
   "metadata": {},
   "source": [
    "The second dataset that I will analyse is the car buying evaluation dataset which is located here:\n",
    "https://archive.ics.uci.edu/ml/datasets/Car+Evaluation\n",
    "\n"
   ]
  },
  {
   "cell_type": "code",
   "execution_count": 35,
   "metadata": {},
   "outputs": [
    {
     "data": {
      "text/html": [
       "<div>\n",
       "<style scoped>\n",
       "    .dataframe tbody tr th:only-of-type {\n",
       "        vertical-align: middle;\n",
       "    }\n",
       "\n",
       "    .dataframe tbody tr th {\n",
       "        vertical-align: top;\n",
       "    }\n",
       "\n",
       "    .dataframe thead th {\n",
       "        text-align: right;\n",
       "    }\n",
       "</style>\n",
       "<table border=\"1\" class=\"dataframe\">\n",
       "  <thead>\n",
       "    <tr style=\"text-align: right;\">\n",
       "      <th></th>\n",
       "      <th>buying</th>\n",
       "      <th>maint</th>\n",
       "      <th>doors</th>\n",
       "      <th>persons</th>\n",
       "      <th>lug_boot</th>\n",
       "      <th>safety</th>\n",
       "      <th>classes</th>\n",
       "    </tr>\n",
       "  </thead>\n",
       "  <tbody>\n",
       "    <tr>\n",
       "      <td>0</td>\n",
       "      <td>vhigh</td>\n",
       "      <td>vhigh</td>\n",
       "      <td>2</td>\n",
       "      <td>2</td>\n",
       "      <td>small</td>\n",
       "      <td>low</td>\n",
       "      <td>unacc</td>\n",
       "    </tr>\n",
       "    <tr>\n",
       "      <td>1</td>\n",
       "      <td>vhigh</td>\n",
       "      <td>vhigh</td>\n",
       "      <td>2</td>\n",
       "      <td>2</td>\n",
       "      <td>small</td>\n",
       "      <td>med</td>\n",
       "      <td>unacc</td>\n",
       "    </tr>\n",
       "    <tr>\n",
       "      <td>2</td>\n",
       "      <td>vhigh</td>\n",
       "      <td>vhigh</td>\n",
       "      <td>2</td>\n",
       "      <td>2</td>\n",
       "      <td>small</td>\n",
       "      <td>high</td>\n",
       "      <td>unacc</td>\n",
       "    </tr>\n",
       "    <tr>\n",
       "      <td>3</td>\n",
       "      <td>vhigh</td>\n",
       "      <td>vhigh</td>\n",
       "      <td>2</td>\n",
       "      <td>2</td>\n",
       "      <td>med</td>\n",
       "      <td>low</td>\n",
       "      <td>unacc</td>\n",
       "    </tr>\n",
       "    <tr>\n",
       "      <td>4</td>\n",
       "      <td>vhigh</td>\n",
       "      <td>vhigh</td>\n",
       "      <td>2</td>\n",
       "      <td>2</td>\n",
       "      <td>med</td>\n",
       "      <td>med</td>\n",
       "      <td>unacc</td>\n",
       "    </tr>\n",
       "    <tr>\n",
       "      <td>...</td>\n",
       "      <td>...</td>\n",
       "      <td>...</td>\n",
       "      <td>...</td>\n",
       "      <td>...</td>\n",
       "      <td>...</td>\n",
       "      <td>...</td>\n",
       "      <td>...</td>\n",
       "    </tr>\n",
       "    <tr>\n",
       "      <td>1723</td>\n",
       "      <td>low</td>\n",
       "      <td>low</td>\n",
       "      <td>5more</td>\n",
       "      <td>more</td>\n",
       "      <td>med</td>\n",
       "      <td>med</td>\n",
       "      <td>good</td>\n",
       "    </tr>\n",
       "    <tr>\n",
       "      <td>1724</td>\n",
       "      <td>low</td>\n",
       "      <td>low</td>\n",
       "      <td>5more</td>\n",
       "      <td>more</td>\n",
       "      <td>med</td>\n",
       "      <td>high</td>\n",
       "      <td>vgood</td>\n",
       "    </tr>\n",
       "    <tr>\n",
       "      <td>1725</td>\n",
       "      <td>low</td>\n",
       "      <td>low</td>\n",
       "      <td>5more</td>\n",
       "      <td>more</td>\n",
       "      <td>big</td>\n",
       "      <td>low</td>\n",
       "      <td>unacc</td>\n",
       "    </tr>\n",
       "    <tr>\n",
       "      <td>1726</td>\n",
       "      <td>low</td>\n",
       "      <td>low</td>\n",
       "      <td>5more</td>\n",
       "      <td>more</td>\n",
       "      <td>big</td>\n",
       "      <td>med</td>\n",
       "      <td>good</td>\n",
       "    </tr>\n",
       "    <tr>\n",
       "      <td>1727</td>\n",
       "      <td>low</td>\n",
       "      <td>low</td>\n",
       "      <td>5more</td>\n",
       "      <td>more</td>\n",
       "      <td>big</td>\n",
       "      <td>high</td>\n",
       "      <td>vgood</td>\n",
       "    </tr>\n",
       "  </tbody>\n",
       "</table>\n",
       "<p>1728 rows × 7 columns</p>\n",
       "</div>"
      ],
      "text/plain": [
       "     buying  maint  doors persons lug_boot safety classes\n",
       "0     vhigh  vhigh      2       2    small    low   unacc\n",
       "1     vhigh  vhigh      2       2    small    med   unacc\n",
       "2     vhigh  vhigh      2       2    small   high   unacc\n",
       "3     vhigh  vhigh      2       2      med    low   unacc\n",
       "4     vhigh  vhigh      2       2      med    med   unacc\n",
       "...     ...    ...    ...     ...      ...    ...     ...\n",
       "1723    low    low  5more    more      med    med    good\n",
       "1724    low    low  5more    more      med   high   vgood\n",
       "1725    low    low  5more    more      big    low   unacc\n",
       "1726    low    low  5more    more      big    med    good\n",
       "1727    low    low  5more    more      big   high   vgood\n",
       "\n",
       "[1728 rows x 7 columns]"
      ]
     },
     "execution_count": 35,
     "metadata": {},
     "output_type": "execute_result"
    }
   ],
   "source": [
    "cols = ['buying', 'maint', 'doors','persons','lug_boot','safety', 'classes']\n",
    "file = './Data/car.data'\n",
    "data = pd.read_csv(file, sep=',', header=None, names=cols)\n",
    "data"
   ]
  },
  {
   "cell_type": "markdown",
   "metadata": {},
   "source": [
    "The below table represents the attributes how they are represented in the dataset and the processing I will apply. Those are in the following format:\n",
    "Variable -  dataset_values – translated_values\n",
    "\n",
    "   Buying -  v-high, high, med, low – 4, 3, 2, 1\n",
    "   \n",
    "   Maint -   v-high, high, med, low – 4, 3, 2, 1\n",
    "   \n",
    "   doors -    2, 3, 4, 5-more – 1, 2, 3, 4\n",
    "   \n",
    "   persons  - 2, 4, more – 1, 2, 3\n",
    "   \n",
    "   lug_boot -  small, med, big – 1, 2, 3\n",
    "   \n",
    "   safety -  low, med, high – 1, 2, 3\n",
    "   \n",
    "   class -   unacc, acc, good, vgood – 1, 2, 3, 4\n"
   ]
  },
  {
   "cell_type": "code",
   "execution_count": 36,
   "metadata": {},
   "outputs": [
    {
     "data": {
      "text/html": [
       "<div>\n",
       "<style scoped>\n",
       "    .dataframe tbody tr th:only-of-type {\n",
       "        vertical-align: middle;\n",
       "    }\n",
       "\n",
       "    .dataframe tbody tr th {\n",
       "        vertical-align: top;\n",
       "    }\n",
       "\n",
       "    .dataframe thead th {\n",
       "        text-align: right;\n",
       "    }\n",
       "</style>\n",
       "<table border=\"1\" class=\"dataframe\">\n",
       "  <thead>\n",
       "    <tr style=\"text-align: right;\">\n",
       "      <th></th>\n",
       "      <th>buying</th>\n",
       "      <th>maint</th>\n",
       "      <th>doors</th>\n",
       "      <th>persons</th>\n",
       "      <th>lug_boot</th>\n",
       "      <th>safety</th>\n",
       "      <th>classes</th>\n",
       "    </tr>\n",
       "  </thead>\n",
       "  <tbody>\n",
       "    <tr>\n",
       "      <td>count</td>\n",
       "      <td>1728</td>\n",
       "      <td>1728</td>\n",
       "      <td>1728</td>\n",
       "      <td>1728</td>\n",
       "      <td>1728</td>\n",
       "      <td>1728</td>\n",
       "      <td>1728</td>\n",
       "    </tr>\n",
       "    <tr>\n",
       "      <td>unique</td>\n",
       "      <td>4</td>\n",
       "      <td>4</td>\n",
       "      <td>4</td>\n",
       "      <td>3</td>\n",
       "      <td>3</td>\n",
       "      <td>3</td>\n",
       "      <td>4</td>\n",
       "    </tr>\n",
       "    <tr>\n",
       "      <td>top</td>\n",
       "      <td>low</td>\n",
       "      <td>low</td>\n",
       "      <td>4</td>\n",
       "      <td>4</td>\n",
       "      <td>big</td>\n",
       "      <td>low</td>\n",
       "      <td>unacc</td>\n",
       "    </tr>\n",
       "    <tr>\n",
       "      <td>freq</td>\n",
       "      <td>432</td>\n",
       "      <td>432</td>\n",
       "      <td>432</td>\n",
       "      <td>576</td>\n",
       "      <td>576</td>\n",
       "      <td>576</td>\n",
       "      <td>1210</td>\n",
       "    </tr>\n",
       "  </tbody>\n",
       "</table>\n",
       "</div>"
      ],
      "text/plain": [
       "       buying maint doors persons lug_boot safety classes\n",
       "count    1728  1728  1728    1728     1728   1728    1728\n",
       "unique      4     4     4       3        3      3       4\n",
       "top       low   low     4       4      big    low   unacc\n",
       "freq      432   432   432     576      576    576    1210"
      ]
     },
     "execution_count": 36,
     "metadata": {},
     "output_type": "execute_result"
    }
   ],
   "source": [
    "data.describe()\n"
   ]
  },
  {
   "cell_type": "code",
   "execution_count": 37,
   "metadata": {},
   "outputs": [
    {
     "name": "stdout",
     "output_type": "stream",
     "text": [
      "Empty values present: False\n"
     ]
    }
   ],
   "source": [
    "#check if any empty values present\n",
    "print(\"Empty values present: {}\".format(data.isnull().values.any()))"
   ]
  },
  {
   "cell_type": "code",
   "execution_count": 38,
   "metadata": {},
   "outputs": [
    {
     "name": "stdout",
     "output_type": "stream",
     "text": [
      "Count of instances per class\n"
     ]
    },
    {
     "data": {
      "image/png": "[encoded data removed]",
      "text/plain": [
       "<Figure size 432x288 with 1 Axes>"
      ]
     },
     "metadata": {
      "needs_background": "light"
     },
     "output_type": "display_data"
    }
   ],
   "source": [
    "sns.countplot(x='classes', data=data)\n",
    "print('Count of instances per class')\n",
    "plt.show()\n"
   ]
  },
  {
   "cell_type": "code",
   "execution_count": null,
   "metadata": {},
   "outputs": [],
   "source": []
  },
  {
   "cell_type": "code",
   "execution_count": 39,
   "metadata": {},
   "outputs": [],
   "source": [
    "#Translate the text values to coherent numerical values, as per the description above\n",
    "translations = {\n",
    "    'buying': \n",
    "        {'vhigh': 4,\n",
    "        'high': 3,\n",
    "        'med': 2,\n",
    "        'low': 1 },\n",
    "    'maint':\n",
    "        {'vhigh': 4,\n",
    "        'high': 3,\n",
    "        'med': 2,\n",
    "        'low': 1 },\n",
    "    'doors': \n",
    "        {'2': 1,\n",
    "        '3': 2,\n",
    "        '4': 3,\n",
    "        '5more': 4},\n",
    "    'persons': \n",
    "        {'2': 1,\n",
    "        '4': 2,\n",
    "        'more': 3},\n",
    "    'lug_boot': \n",
    "        {'small': 1,\n",
    "        'med': 2,\n",
    "        'big': 3},\n",
    "    'safety': \n",
    "        {'low': 1,\n",
    "        'med': 2,\n",
    "        'high': 3},\n",
    "    'classes': \n",
    "        {'unacc': 1,\n",
    "        'acc': 2,\n",
    "        'good': 3,\n",
    "        'vgood': 4}}"
   ]
  },
  {
   "cell_type": "code",
   "execution_count": 40,
   "metadata": {},
   "outputs": [],
   "source": [
    "cd = data.copy()\n",
    "for c, v in translations.items():\n",
    "    for old, new in v.items():\n",
    "        cd[c].mask(cd[c] == old, new, inplace=True)\n",
    "    cd[c] = pd.to_numeric(cd[c])"
   ]
  },
  {
   "cell_type": "code",
   "execution_count": 41,
   "metadata": {},
   "outputs": [
    {
     "data": {
      "text/html": [
       "<div>\n",
       "<style scoped>\n",
       "    .dataframe tbody tr th:only-of-type {\n",
       "        vertical-align: middle;\n",
       "    }\n",
       "\n",
       "    .dataframe tbody tr th {\n",
       "        vertical-align: top;\n",
       "    }\n",
       "\n",
       "    .dataframe thead th {\n",
       "        text-align: right;\n",
       "    }\n",
       "</style>\n",
       "<table border=\"1\" class=\"dataframe\">\n",
       "  <thead>\n",
       "    <tr style=\"text-align: right;\">\n",
       "      <th></th>\n",
       "      <th>buying</th>\n",
       "      <th>maint</th>\n",
       "      <th>doors</th>\n",
       "      <th>persons</th>\n",
       "      <th>lug_boot</th>\n",
       "      <th>safety</th>\n",
       "      <th>classes</th>\n",
       "    </tr>\n",
       "  </thead>\n",
       "  <tbody>\n",
       "    <tr>\n",
       "      <td>count</td>\n",
       "      <td>1728.000000</td>\n",
       "      <td>1728.000000</td>\n",
       "      <td>1728.000000</td>\n",
       "      <td>1728.000000</td>\n",
       "      <td>1728.000000</td>\n",
       "      <td>1728.000000</td>\n",
       "      <td>1728.000000</td>\n",
       "    </tr>\n",
       "    <tr>\n",
       "      <td>mean</td>\n",
       "      <td>2.500000</td>\n",
       "      <td>2.500000</td>\n",
       "      <td>2.500000</td>\n",
       "      <td>2.000000</td>\n",
       "      <td>2.000000</td>\n",
       "      <td>2.000000</td>\n",
       "      <td>1.414931</td>\n",
       "    </tr>\n",
       "    <tr>\n",
       "      <td>std</td>\n",
       "      <td>1.118358</td>\n",
       "      <td>1.118358</td>\n",
       "      <td>1.118358</td>\n",
       "      <td>0.816733</td>\n",
       "      <td>0.816733</td>\n",
       "      <td>0.816733</td>\n",
       "      <td>0.740700</td>\n",
       "    </tr>\n",
       "    <tr>\n",
       "      <td>min</td>\n",
       "      <td>1.000000</td>\n",
       "      <td>1.000000</td>\n",
       "      <td>1.000000</td>\n",
       "      <td>1.000000</td>\n",
       "      <td>1.000000</td>\n",
       "      <td>1.000000</td>\n",
       "      <td>1.000000</td>\n",
       "    </tr>\n",
       "    <tr>\n",
       "      <td>25%</td>\n",
       "      <td>1.750000</td>\n",
       "      <td>1.750000</td>\n",
       "      <td>1.750000</td>\n",
       "      <td>1.000000</td>\n",
       "      <td>1.000000</td>\n",
       "      <td>1.000000</td>\n",
       "      <td>1.000000</td>\n",
       "    </tr>\n",
       "    <tr>\n",
       "      <td>50%</td>\n",
       "      <td>2.500000</td>\n",
       "      <td>2.500000</td>\n",
       "      <td>2.500000</td>\n",
       "      <td>2.000000</td>\n",
       "      <td>2.000000</td>\n",
       "      <td>2.000000</td>\n",
       "      <td>1.000000</td>\n",
       "    </tr>\n",
       "    <tr>\n",
       "      <td>75%</td>\n",
       "      <td>3.250000</td>\n",
       "      <td>3.250000</td>\n",
       "      <td>3.250000</td>\n",
       "      <td>3.000000</td>\n",
       "      <td>3.000000</td>\n",
       "      <td>3.000000</td>\n",
       "      <td>2.000000</td>\n",
       "    </tr>\n",
       "    <tr>\n",
       "      <td>max</td>\n",
       "      <td>4.000000</td>\n",
       "      <td>4.000000</td>\n",
       "      <td>4.000000</td>\n",
       "      <td>3.000000</td>\n",
       "      <td>3.000000</td>\n",
       "      <td>3.000000</td>\n",
       "      <td>4.000000</td>\n",
       "    </tr>\n",
       "  </tbody>\n",
       "</table>\n",
       "</div>"
      ],
      "text/plain": [
       "            buying        maint        doors      persons     lug_boot  \\\n",
       "count  1728.000000  1728.000000  1728.000000  1728.000000  1728.000000   \n",
       "mean      2.500000     2.500000     2.500000     2.000000     2.000000   \n",
       "std       1.118358     1.118358     1.118358     0.816733     0.816733   \n",
       "min       1.000000     1.000000     1.000000     1.000000     1.000000   \n",
       "25%       1.750000     1.750000     1.750000     1.000000     1.000000   \n",
       "50%       2.500000     2.500000     2.500000     2.000000     2.000000   \n",
       "75%       3.250000     3.250000     3.250000     3.000000     3.000000   \n",
       "max       4.000000     4.000000     4.000000     3.000000     3.000000   \n",
       "\n",
       "            safety      classes  \n",
       "count  1728.000000  1728.000000  \n",
       "mean      2.000000     1.414931  \n",
       "std       0.816733     0.740700  \n",
       "min       1.000000     1.000000  \n",
       "25%       1.000000     1.000000  \n",
       "50%       2.000000     1.000000  \n",
       "75%       3.000000     2.000000  \n",
       "max       3.000000     4.000000  "
      ]
     },
     "execution_count": 41,
     "metadata": {},
     "output_type": "execute_result"
    }
   ],
   "source": [
    "cd.describe()"
   ]
  },
  {
   "cell_type": "code",
   "execution_count": 42,
   "metadata": {},
   "outputs": [
    {
     "data": {
      "image/png": "[encoded data removed]",
      "text/plain": [
       "<Figure size 864x720 with 2 Axes>"
      ]
     },
     "metadata": {
      "needs_background": "light"
     },
     "output_type": "display_data"
    }
   ],
   "source": [
    "#Correlation\n",
    "plt.figure(figsize=(12,10))\n",
    "cor = cd.corr()\n",
    "sns.heatmap(cor, annot=True, cmap=plt.cm.Reds)\n",
    "plt.show()"
   ]
  },
  {
   "cell_type": "markdown",
   "metadata": {},
   "source": [
    "### 2.1.1 Compute the “Prior” probabilities for each of the classes"
   ]
  },
  {
   "cell_type": "code",
   "execution_count": 43,
   "metadata": {},
   "outputs": [
    {
     "name": "stdout",
     "output_type": "stream",
     "text": [
      "Probability for class: 1 is: 0.7002314814814815\n",
      "Probability for class: 2 is: 0.2222222222222222\n",
      "Probability for class: 3 is: 0.03993055555555555\n",
      "Probability for class: 4 is: 0.03761574074074074\n"
     ]
    }
   ],
   "source": [
    "totalRecords = cd.shape[0]\n",
    "prior = {}\n",
    "for c in sorted(cd.classes.unique()):\n",
    "    count = cd[cd['classes'] == c].shape[0] / totalRecords\n",
    "    prior[c] = count\n",
    "    print('Probability for class: {} is: {}'.format(c, count))\n",
    "       "
   ]
  },
  {
   "cell_type": "code",
   "execution_count": 44,
   "metadata": {},
   "outputs": [
    {
     "data": {
      "text/plain": [
       "{1: 0.7002314814814815,\n",
       " 2: 0.2222222222222222,\n",
       " 3: 0.03993055555555555,\n",
       " 4: 0.03761574074074074}"
      ]
     },
     "execution_count": 44,
     "metadata": {},
     "output_type": "execute_result"
    }
   ],
   "source": [
    "prior"
   ]
  },
  {
   "cell_type": "markdown",
   "metadata": {},
   "source": [
    "### 2.1.2 Compute the probability of evidence"
   ]
  },
  {
   "cell_type": "code",
   "execution_count": 45,
   "metadata": {},
   "outputs": [
    {
     "data": {
      "text/plain": [
       "{'buying 4': 0.25,\n",
       " 'buying 3': 0.25,\n",
       " 'buying 2': 0.25,\n",
       " 'buying 1': 0.25,\n",
       " 'maint 4': 0.25,\n",
       " 'maint 3': 0.25,\n",
       " 'maint 2': 0.25,\n",
       " 'maint 1': 0.25,\n",
       " 'doors 1': 0.25,\n",
       " 'doors 2': 0.25,\n",
       " 'doors 3': 0.25,\n",
       " 'doors 4': 0.25,\n",
       " 'persons 1': 0.3333333333333333,\n",
       " 'persons 2': 0.3333333333333333,\n",
       " 'persons 3': 0.3333333333333333,\n",
       " 'lug_boot 1': 0.3333333333333333,\n",
       " 'lug_boot 2': 0.3333333333333333,\n",
       " 'lug_boot 3': 0.3333333333333333,\n",
       " 'safety 1': 0.3333333333333333,\n",
       " 'safety 2': 0.3333333333333333,\n",
       " 'safety 3': 0.3333333333333333}"
      ]
     },
     "execution_count": 45,
     "metadata": {},
     "output_type": "execute_result"
    }
   ],
   "source": [
    "probabilityOfEvidence = {}\n",
    "variableColumns = cols[:6]\n",
    "for col in variableColumns:\n",
    "    for val in cd[col].unique():\n",
    "        key = '{} {}'.format(col, val)\n",
    "        probabilityOfEvidence[key] = cd[cd[col] == val].shape[0] / totalRecords\n",
    "probabilityOfEvidence"
   ]
  },
  {
   "cell_type": "code",
   "execution_count": 46,
   "metadata": {},
   "outputs": [],
   "source": [
    "pOE = pd.DataFrame(probabilityOfEvidence, index=['Probability']).T"
   ]
  },
  {
   "cell_type": "code",
   "execution_count": 47,
   "metadata": {},
   "outputs": [
    {
     "data": {
      "text/html": [
       "<div>\n",
       "<style scoped>\n",
       "    .dataframe tbody tr th:only-of-type {\n",
       "        vertical-align: middle;\n",
       "    }\n",
       "\n",
       "    .dataframe tbody tr th {\n",
       "        vertical-align: top;\n",
       "    }\n",
       "\n",
       "    .dataframe thead th {\n",
       "        text-align: right;\n",
       "    }\n",
       "</style>\n",
       "<table border=\"1\" class=\"dataframe\">\n",
       "  <thead>\n",
       "    <tr style=\"text-align: right;\">\n",
       "      <th></th>\n",
       "      <th>Probability</th>\n",
       "    </tr>\n",
       "  </thead>\n",
       "  <tbody>\n",
       "    <tr>\n",
       "      <td>buying 4</td>\n",
       "      <td>0.250000</td>\n",
       "    </tr>\n",
       "    <tr>\n",
       "      <td>buying 3</td>\n",
       "      <td>0.250000</td>\n",
       "    </tr>\n",
       "    <tr>\n",
       "      <td>buying 2</td>\n",
       "      <td>0.250000</td>\n",
       "    </tr>\n",
       "    <tr>\n",
       "      <td>buying 1</td>\n",
       "      <td>0.250000</td>\n",
       "    </tr>\n",
       "    <tr>\n",
       "      <td>maint 4</td>\n",
       "      <td>0.250000</td>\n",
       "    </tr>\n",
       "    <tr>\n",
       "      <td>maint 3</td>\n",
       "      <td>0.250000</td>\n",
       "    </tr>\n",
       "    <tr>\n",
       "      <td>maint 2</td>\n",
       "      <td>0.250000</td>\n",
       "    </tr>\n",
       "    <tr>\n",
       "      <td>maint 1</td>\n",
       "      <td>0.250000</td>\n",
       "    </tr>\n",
       "    <tr>\n",
       "      <td>doors 1</td>\n",
       "      <td>0.250000</td>\n",
       "    </tr>\n",
       "    <tr>\n",
       "      <td>doors 2</td>\n",
       "      <td>0.250000</td>\n",
       "    </tr>\n",
       "    <tr>\n",
       "      <td>doors 3</td>\n",
       "      <td>0.250000</td>\n",
       "    </tr>\n",
       "    <tr>\n",
       "      <td>doors 4</td>\n",
       "      <td>0.250000</td>\n",
       "    </tr>\n",
       "    <tr>\n",
       "      <td>persons 1</td>\n",
       "      <td>0.333333</td>\n",
       "    </tr>\n",
       "    <tr>\n",
       "      <td>persons 2</td>\n",
       "      <td>0.333333</td>\n",
       "    </tr>\n",
       "    <tr>\n",
       "      <td>persons 3</td>\n",
       "      <td>0.333333</td>\n",
       "    </tr>\n",
       "    <tr>\n",
       "      <td>lug_boot 1</td>\n",
       "      <td>0.333333</td>\n",
       "    </tr>\n",
       "    <tr>\n",
       "      <td>lug_boot 2</td>\n",
       "      <td>0.333333</td>\n",
       "    </tr>\n",
       "    <tr>\n",
       "      <td>lug_boot 3</td>\n",
       "      <td>0.333333</td>\n",
       "    </tr>\n",
       "    <tr>\n",
       "      <td>safety 1</td>\n",
       "      <td>0.333333</td>\n",
       "    </tr>\n",
       "    <tr>\n",
       "      <td>safety 2</td>\n",
       "      <td>0.333333</td>\n",
       "    </tr>\n",
       "    <tr>\n",
       "      <td>safety 3</td>\n",
       "      <td>0.333333</td>\n",
       "    </tr>\n",
       "  </tbody>\n",
       "</table>\n",
       "</div>"
      ],
      "text/plain": [
       "            Probability\n",
       "buying 4       0.250000\n",
       "buying 3       0.250000\n",
       "buying 2       0.250000\n",
       "buying 1       0.250000\n",
       "maint 4        0.250000\n",
       "maint 3        0.250000\n",
       "maint 2        0.250000\n",
       "maint 1        0.250000\n",
       "doors 1        0.250000\n",
       "doors 2        0.250000\n",
       "doors 3        0.250000\n",
       "doors 4        0.250000\n",
       "persons 1      0.333333\n",
       "persons 2      0.333333\n",
       "persons 3      0.333333\n",
       "lug_boot 1     0.333333\n",
       "lug_boot 2     0.333333\n",
       "lug_boot 3     0.333333\n",
       "safety 1       0.333333\n",
       "safety 2       0.333333\n",
       "safety 3       0.333333"
      ]
     },
     "execution_count": 47,
     "metadata": {},
     "output_type": "execute_result"
    }
   ],
   "source": [
    "pOE"
   ]
  },
  {
   "cell_type": "markdown",
   "metadata": {},
   "source": [
    "The probability of evidence is actually interestingly distributed, as all the instances are evenly spread."
   ]
  },
  {
   "cell_type": "markdown",
   "metadata": {},
   "source": [
    "### 2.1.3 Compute the probability of likelihood of evidences (numerator)"
   ]
  },
  {
   "cell_type": "code",
   "execution_count": 48,
   "metadata": {},
   "outputs": [],
   "source": [
    "probabilityOfLikehood = {}\n",
    "for col in variableColumns:\n",
    "    for val in cd[col].unique():\n",
    "        \n",
    "        key = '{} {}'.format(col, val)\n",
    "        temp = {}\n",
    "        for c in range(1,5):\n",
    "            prob = cd[(cd[col] == val) & (cd['classes'] == c)].shape[0] / totalRecords\n",
    "            temp[c] = prob\n",
    "        probabilityOfLikehood[key] = temp"
   ]
  },
  {
   "cell_type": "code",
   "execution_count": 49,
   "metadata": {},
   "outputs": [],
   "source": [
    "frame = pd.DataFrame(probabilityOfLikehood).T"
   ]
  },
  {
   "cell_type": "markdown",
   "metadata": {},
   "source": [
    "The below table represents the probability of likehood matrix.\n",
    "\n",
    " - Horizontally - feature instances\n",
    " - Vertically - classes instances as per translation defined above"
   ]
  },
  {
   "cell_type": "code",
   "execution_count": 50,
   "metadata": {},
   "outputs": [
    {
     "data": {
      "text/html": [
       "<div>\n",
       "<style scoped>\n",
       "    .dataframe tbody tr th:only-of-type {\n",
       "        vertical-align: middle;\n",
       "    }\n",
       "\n",
       "    .dataframe tbody tr th {\n",
       "        vertical-align: top;\n",
       "    }\n",
       "\n",
       "    .dataframe thead th {\n",
       "        text-align: right;\n",
       "    }\n",
       "</style>\n",
       "<table border=\"1\" class=\"dataframe\">\n",
       "  <thead>\n",
       "    <tr style=\"text-align: right;\">\n",
       "      <th></th>\n",
       "      <th>1</th>\n",
       "      <th>2</th>\n",
       "      <th>3</th>\n",
       "      <th>4</th>\n",
       "    </tr>\n",
       "  </thead>\n",
       "  <tbody>\n",
       "    <tr>\n",
       "      <td>buying 4</td>\n",
       "      <td>0.208333</td>\n",
       "      <td>0.041667</td>\n",
       "      <td>0.000000</td>\n",
       "      <td>0.000000</td>\n",
       "    </tr>\n",
       "    <tr>\n",
       "      <td>buying 3</td>\n",
       "      <td>0.187500</td>\n",
       "      <td>0.062500</td>\n",
       "      <td>0.000000</td>\n",
       "      <td>0.000000</td>\n",
       "    </tr>\n",
       "    <tr>\n",
       "      <td>buying 2</td>\n",
       "      <td>0.155093</td>\n",
       "      <td>0.066551</td>\n",
       "      <td>0.013310</td>\n",
       "      <td>0.015046</td>\n",
       "    </tr>\n",
       "    <tr>\n",
       "      <td>buying 1</td>\n",
       "      <td>0.149306</td>\n",
       "      <td>0.051505</td>\n",
       "      <td>0.026620</td>\n",
       "      <td>0.022569</td>\n",
       "    </tr>\n",
       "    <tr>\n",
       "      <td>maint 4</td>\n",
       "      <td>0.208333</td>\n",
       "      <td>0.041667</td>\n",
       "      <td>0.000000</td>\n",
       "      <td>0.000000</td>\n",
       "    </tr>\n",
       "    <tr>\n",
       "      <td>maint 3</td>\n",
       "      <td>0.181713</td>\n",
       "      <td>0.060764</td>\n",
       "      <td>0.000000</td>\n",
       "      <td>0.007523</td>\n",
       "    </tr>\n",
       "    <tr>\n",
       "      <td>maint 2</td>\n",
       "      <td>0.155093</td>\n",
       "      <td>0.066551</td>\n",
       "      <td>0.013310</td>\n",
       "      <td>0.015046</td>\n",
       "    </tr>\n",
       "    <tr>\n",
       "      <td>maint 1</td>\n",
       "      <td>0.155093</td>\n",
       "      <td>0.053241</td>\n",
       "      <td>0.026620</td>\n",
       "      <td>0.015046</td>\n",
       "    </tr>\n",
       "    <tr>\n",
       "      <td>doors 1</td>\n",
       "      <td>0.188657</td>\n",
       "      <td>0.046875</td>\n",
       "      <td>0.008681</td>\n",
       "      <td>0.005787</td>\n",
       "    </tr>\n",
       "    <tr>\n",
       "      <td>doors 2</td>\n",
       "      <td>0.173611</td>\n",
       "      <td>0.057292</td>\n",
       "      <td>0.010417</td>\n",
       "      <td>0.008681</td>\n",
       "    </tr>\n",
       "    <tr>\n",
       "      <td>doors 3</td>\n",
       "      <td>0.168981</td>\n",
       "      <td>0.059028</td>\n",
       "      <td>0.010417</td>\n",
       "      <td>0.011574</td>\n",
       "    </tr>\n",
       "    <tr>\n",
       "      <td>doors 4</td>\n",
       "      <td>0.168981</td>\n",
       "      <td>0.059028</td>\n",
       "      <td>0.010417</td>\n",
       "      <td>0.011574</td>\n",
       "    </tr>\n",
       "    <tr>\n",
       "      <td>persons 1</td>\n",
       "      <td>0.333333</td>\n",
       "      <td>0.000000</td>\n",
       "      <td>0.000000</td>\n",
       "      <td>0.000000</td>\n",
       "    </tr>\n",
       "    <tr>\n",
       "      <td>persons 2</td>\n",
       "      <td>0.180556</td>\n",
       "      <td>0.114583</td>\n",
       "      <td>0.020833</td>\n",
       "      <td>0.017361</td>\n",
       "    </tr>\n",
       "    <tr>\n",
       "      <td>persons 3</td>\n",
       "      <td>0.186343</td>\n",
       "      <td>0.107639</td>\n",
       "      <td>0.019097</td>\n",
       "      <td>0.020255</td>\n",
       "    </tr>\n",
       "    <tr>\n",
       "      <td>lug_boot 1</td>\n",
       "      <td>0.260417</td>\n",
       "      <td>0.060764</td>\n",
       "      <td>0.012153</td>\n",
       "      <td>0.000000</td>\n",
       "    </tr>\n",
       "    <tr>\n",
       "      <td>lug_boot 2</td>\n",
       "      <td>0.226852</td>\n",
       "      <td>0.078125</td>\n",
       "      <td>0.013889</td>\n",
       "      <td>0.014468</td>\n",
       "    </tr>\n",
       "    <tr>\n",
       "      <td>lug_boot 3</td>\n",
       "      <td>0.212963</td>\n",
       "      <td>0.083333</td>\n",
       "      <td>0.013889</td>\n",
       "      <td>0.023148</td>\n",
       "    </tr>\n",
       "    <tr>\n",
       "      <td>safety 1</td>\n",
       "      <td>0.333333</td>\n",
       "      <td>0.000000</td>\n",
       "      <td>0.000000</td>\n",
       "      <td>0.000000</td>\n",
       "    </tr>\n",
       "    <tr>\n",
       "      <td>safety 2</td>\n",
       "      <td>0.206597</td>\n",
       "      <td>0.104167</td>\n",
       "      <td>0.022569</td>\n",
       "      <td>0.000000</td>\n",
       "    </tr>\n",
       "    <tr>\n",
       "      <td>safety 3</td>\n",
       "      <td>0.160301</td>\n",
       "      <td>0.118056</td>\n",
       "      <td>0.017361</td>\n",
       "      <td>0.037616</td>\n",
       "    </tr>\n",
       "  </tbody>\n",
       "</table>\n",
       "</div>"
      ],
      "text/plain": [
       "                   1         2         3         4\n",
       "buying 4    0.208333  0.041667  0.000000  0.000000\n",
       "buying 3    0.187500  0.062500  0.000000  0.000000\n",
       "buying 2    0.155093  0.066551  0.013310  0.015046\n",
       "buying 1    0.149306  0.051505  0.026620  0.022569\n",
       "maint 4     0.208333  0.041667  0.000000  0.000000\n",
       "maint 3     0.181713  0.060764  0.000000  0.007523\n",
       "maint 2     0.155093  0.066551  0.013310  0.015046\n",
       "maint 1     0.155093  0.053241  0.026620  0.015046\n",
       "doors 1     0.188657  0.046875  0.008681  0.005787\n",
       "doors 2     0.173611  0.057292  0.010417  0.008681\n",
       "doors 3     0.168981  0.059028  0.010417  0.011574\n",
       "doors 4     0.168981  0.059028  0.010417  0.011574\n",
       "persons 1   0.333333  0.000000  0.000000  0.000000\n",
       "persons 2   0.180556  0.114583  0.020833  0.017361\n",
       "persons 3   0.186343  0.107639  0.019097  0.020255\n",
       "lug_boot 1  0.260417  0.060764  0.012153  0.000000\n",
       "lug_boot 2  0.226852  0.078125  0.013889  0.014468\n",
       "lug_boot 3  0.212963  0.083333  0.013889  0.023148\n",
       "safety 1    0.333333  0.000000  0.000000  0.000000\n",
       "safety 2    0.206597  0.104167  0.022569  0.000000\n",
       "safety 3    0.160301  0.118056  0.017361  0.037616"
      ]
     },
     "execution_count": 50,
     "metadata": {},
     "output_type": "execute_result"
    }
   ],
   "source": [
    "frame"
   ]
  },
  {
   "cell_type": "markdown",
   "metadata": {},
   "source": [
    "## 2.2  NAIVE BAYES LEARNER- 20 MARKS"
   ]
  },
  {
   "cell_type": "code",
   "execution_count": 51,
   "metadata": {},
   "outputs": [],
   "source": [
    "from sklearn.naive_bayes import GaussianNB\n",
    "from sklearn.model_selection import train_test_split\n",
    "from sklearn.metrics import confusion_matrix\n",
    "from sklearn.metrics import classification_report"
   ]
  },
  {
   "cell_type": "code",
   "execution_count": 52,
   "metadata": {},
   "outputs": [],
   "source": [
    "#generic helper method to execute models and report accuracy\n",
    "def executeModel(model,trainingFeatures, trainingLabels, testFeatures, testLabels):\n",
    "    model.fit(trainingFeatures,trainingLabels)\n",
    "    accuracy = model.score(testFeatures,testLabels)\n",
    "    print('Model score = ',accuracy * 100,'%\\n')\n",
    "    predictedClass = model.predict(testFeatures)\n",
    "    confusionMatrix = confusion_matrix(testLabels, predictedClass)\n",
    "    print(\"Confusion Matrix: \\n\",confusionMatrix)\n",
    "    # f1, recall, support, precision \n",
    "    print(\"\\nPrecision, Recall, f1-score and Support\\n\",classification_report(testLabels, predictedClass))\n",
    "    return accuracy"
   ]
  },
  {
   "cell_type": "markdown",
   "metadata": {},
   "source": [
    "### Dataset 1"
   ]
  },
  {
   "cell_type": "code",
   "execution_count": 53,
   "metadata": {},
   "outputs": [
    {
     "name": "stdout",
     "output_type": "stream",
     "text": [
      "Test, print first row: [1, 0, 0, 1]\n",
      "Test, print features (should be 3) [0, 1, 2]\n"
     ]
    }
   ],
   "source": [
    "#Reindex columns to fit into AIMA dataset class\n",
    "md = md.reindex(columns=['bruises','odor','habitat','poisonous'])\n",
    "s = io.StringIO()\n",
    "md.to_csv(s, header=False, index=False)\n",
    "ds = DataSet(examples=s.getvalue())\n",
    "\n",
    "print('Test, print first row: {}'.format(ds.examples[0]))\n",
    "print('Test, print features (should be 3) {}'.format(ds.inputs))\n",
    "\n",
    "\n",
    "target_vals = ds.values[ds.target]\n",
    "target_dist = CountingProbDist(target_vals)\n",
    "attr_dists = {(gv, attr): CountingProbDist(ds.values[attr])\n",
    "              for gv in target_vals\n",
    "              for attr in ds.inputs}\n"
   ]
  },
  {
   "cell_type": "code",
   "execution_count": 54,
   "metadata": {},
   "outputs": [],
   "source": [
    "nBD = NaiveBayesDiscrete(ds)"
   ]
  },
  {
   "cell_type": "code",
   "execution_count": 55,
   "metadata": {},
   "outputs": [
    {
     "data": {
      "text/plain": [
       "0"
      ]
     },
     "execution_count": 55,
     "metadata": {},
     "output_type": "execute_result"
    }
   ],
   "source": [
    "nBD([1,1,1])"
   ]
  },
  {
   "cell_type": "markdown",
   "metadata": {},
   "source": [
    "As expected, poisonous mushroom is predicted"
   ]
  },
  {
   "cell_type": "code",
   "execution_count": 56,
   "metadata": {},
   "outputs": [
    {
     "name": "stdout",
     "output_type": "stream",
     "text": [
      "Discrete Classifier\n",
      "0\n"
     ]
    }
   ],
   "source": [
    "nBD = NaiveBayesLearner(ds, continuous=False)\n",
    "print(\"Discrete Classifier\")\n",
    "print(nBD([1, 1, 1]))\n"
   ]
  },
  {
   "cell_type": "code",
   "execution_count": 57,
   "metadata": {},
   "outputs": [
    {
     "name": "stdout",
     "output_type": "stream",
     "text": [
      "Error ratio for Discrete: 0.01477104874446089\n"
     ]
    }
   ],
   "source": [
    "nBD = NaiveBayesLearner(ds, continuous=False)\n",
    "print(\"Error ratio for Discrete:\", err_ratio(nBD, ds))"
   ]
  },
  {
   "cell_type": "markdown",
   "metadata": {},
   "source": [
    "The error for the Naive Bayes algorithm is very, very low; close to 0"
   ]
  },
  {
   "cell_type": "code",
   "execution_count": 58,
   "metadata": {},
   "outputs": [],
   "source": [
    "features = md.iloc[:,1:]\n",
    "labels = md.iloc[:,0]\n",
    "trainFeatures, testFeatures, trainLabels, testLabels = train_test_split( features, labels, test_size=0.2, random_state=0)"
   ]
  },
  {
   "cell_type": "code",
   "execution_count": 59,
   "metadata": {},
   "outputs": [
    {
     "name": "stdout",
     "output_type": "stream",
     "text": [
      "   odor  habitat  poisonous\n",
      "0     0        0          1\n",
      "1     1        0          0\n",
      "2     1        0          0\n",
      "3     0        0          1\n",
      "4     1        0          0\n"
     ]
    }
   ],
   "source": [
    "print(features.head())\n"
   ]
  },
  {
   "cell_type": "code",
   "execution_count": 60,
   "metadata": {},
   "outputs": [
    {
     "name": "stdout",
     "output_type": "stream",
     "text": [
      "0    1\n",
      "1    1\n",
      "2    1\n",
      "3    1\n",
      "4    0\n",
      "Name: bruises, dtype: int64\n"
     ]
    }
   ],
   "source": [
    "print(labels.head())"
   ]
  },
  {
   "cell_type": "code",
   "execution_count": 61,
   "metadata": {},
   "outputs": [
    {
     "name": "stdout",
     "output_type": "stream",
     "text": [
      "Model score =  79.07692307692308 %\n",
      "\n",
      "Confusion Matrix: \n",
      " [[710 234]\n",
      " [106 575]]\n",
      "\n",
      "Precision, Recall, f1-score and Support\n",
      "               precision    recall  f1-score   support\n",
      "\n",
      "           0       0.87      0.75      0.81       944\n",
      "           1       0.71      0.84      0.77       681\n",
      "\n",
      "    accuracy                           0.79      1625\n",
      "   macro avg       0.79      0.80      0.79      1625\n",
      "weighted avg       0.80      0.79      0.79      1625\n",
      "\n"
     ]
    }
   ],
   "source": [
    "accuracy = executeModel(GaussianNB(), trainFeatures, trainLabels, testFeatures, testLabels)"
   ]
  },
  {
   "cell_type": "code",
   "execution_count": 62,
   "metadata": {},
   "outputs": [
    {
     "name": "stdout",
     "output_type": "stream",
     "text": [
      "(6499, 3) (6499,)\n",
      "(6499, 4)\n"
     ]
    }
   ],
   "source": [
    "print(trainFeatures.shape, trainLabels.shape)\n",
    "tempTrainLabels = trainLabels.values.reshape((6499,1))\n",
    "trainingExamples = np.hstack((trainFeatures, tempTrainLabels))\n",
    "print(trainingExamples.shape)"
   ]
  },
  {
   "cell_type": "code",
   "execution_count": 63,
   "metadata": {},
   "outputs": [],
   "source": [
    "dataSet = DataSet(examples=trainingExamples, distance=manhattan_distance)"
   ]
  },
  {
   "cell_type": "code",
   "execution_count": 64,
   "metadata": {},
   "outputs": [],
   "source": [
    "nBD = NaiveBayesLearner(dataSet, continuous = False)\n",
    "\n"
   ]
  },
  {
   "cell_type": "code",
   "execution_count": 65,
   "metadata": {},
   "outputs": [],
   "source": [
    "output = []\n",
    "#testLabels.values.shape\n",
    "for i in range(testFeatures.values.shape[0]):\n",
    "    output.append([nBD(testFeatures.values[i]), testLabels.values[i], nBD(testFeatures.values[i]) == testLabels.values[i]])"
   ]
  },
  {
   "cell_type": "code",
   "execution_count": 66,
   "metadata": {},
   "outputs": [],
   "source": [
    "predictionDS = pd.DataFrame(output, columns = ['predicted', 'actual', 'match'])"
   ]
  },
  {
   "cell_type": "code",
   "execution_count": 67,
   "metadata": {},
   "outputs": [
    {
     "data": {
      "text/html": [
       "<div>\n",
       "<style scoped>\n",
       "    .dataframe tbody tr th:only-of-type {\n",
       "        vertical-align: middle;\n",
       "    }\n",
       "\n",
       "    .dataframe tbody tr th {\n",
       "        vertical-align: top;\n",
       "    }\n",
       "\n",
       "    .dataframe thead th {\n",
       "        text-align: right;\n",
       "    }\n",
       "</style>\n",
       "<table border=\"1\" class=\"dataframe\">\n",
       "  <thead>\n",
       "    <tr style=\"text-align: right;\">\n",
       "      <th></th>\n",
       "      <th>predicted</th>\n",
       "      <th>actual</th>\n",
       "      <th>match</th>\n",
       "    </tr>\n",
       "  </thead>\n",
       "  <tbody>\n",
       "    <tr>\n",
       "      <td>0</td>\n",
       "      <td>0</td>\n",
       "      <td>1</td>\n",
       "      <td>False</td>\n",
       "    </tr>\n",
       "    <tr>\n",
       "      <td>1</td>\n",
       "      <td>1</td>\n",
       "      <td>1</td>\n",
       "      <td>True</td>\n",
       "    </tr>\n",
       "    <tr>\n",
       "      <td>2</td>\n",
       "      <td>1</td>\n",
       "      <td>1</td>\n",
       "      <td>True</td>\n",
       "    </tr>\n",
       "    <tr>\n",
       "      <td>3</td>\n",
       "      <td>1</td>\n",
       "      <td>0</td>\n",
       "      <td>False</td>\n",
       "    </tr>\n",
       "    <tr>\n",
       "      <td>4</td>\n",
       "      <td>1</td>\n",
       "      <td>1</td>\n",
       "      <td>True</td>\n",
       "    </tr>\n",
       "    <tr>\n",
       "      <td>...</td>\n",
       "      <td>...</td>\n",
       "      <td>...</td>\n",
       "      <td>...</td>\n",
       "    </tr>\n",
       "    <tr>\n",
       "      <td>1620</td>\n",
       "      <td>1</td>\n",
       "      <td>1</td>\n",
       "      <td>True</td>\n",
       "    </tr>\n",
       "    <tr>\n",
       "      <td>1621</td>\n",
       "      <td>1</td>\n",
       "      <td>0</td>\n",
       "      <td>False</td>\n",
       "    </tr>\n",
       "    <tr>\n",
       "      <td>1622</td>\n",
       "      <td>0</td>\n",
       "      <td>0</td>\n",
       "      <td>True</td>\n",
       "    </tr>\n",
       "    <tr>\n",
       "      <td>1623</td>\n",
       "      <td>1</td>\n",
       "      <td>1</td>\n",
       "      <td>True</td>\n",
       "    </tr>\n",
       "    <tr>\n",
       "      <td>1624</td>\n",
       "      <td>1</td>\n",
       "      <td>1</td>\n",
       "      <td>True</td>\n",
       "    </tr>\n",
       "  </tbody>\n",
       "</table>\n",
       "<p>1625 rows × 3 columns</p>\n",
       "</div>"
      ],
      "text/plain": [
       "      predicted  actual  match\n",
       "0             0       1  False\n",
       "1             1       1   True\n",
       "2             1       1   True\n",
       "3             1       0  False\n",
       "4             1       1   True\n",
       "...         ...     ...    ...\n",
       "1620          1       1   True\n",
       "1621          1       0  False\n",
       "1622          0       0   True\n",
       "1623          1       1   True\n",
       "1624          1       1   True\n",
       "\n",
       "[1625 rows x 3 columns]"
      ]
     },
     "execution_count": 67,
     "metadata": {},
     "output_type": "execute_result"
    }
   ],
   "source": [
    "predictionDS"
   ]
  },
  {
   "cell_type": "code",
   "execution_count": 68,
   "metadata": {},
   "outputs": [
    {
     "name": "stdout",
     "output_type": "stream",
     "text": [
      "Accuracy: 0.7858461538461539\n"
     ]
    }
   ],
   "source": [
    "print('Accuracy: {}'.format(predictionDS[predictionDS['match'] == True].shape[0] / predictionDS.shape[0]))"
   ]
  },
  {
   "cell_type": "code",
   "execution_count": 69,
   "metadata": {},
   "outputs": [
    {
     "name": "stdout",
     "output_type": "stream",
     "text": [
      "Confusion Matrix: \n",
      " [[715 229]\n",
      " [119 562]]\n"
     ]
    }
   ],
   "source": [
    "confusionMatrix = confusion_matrix(predictionDS['actual'], predictionDS['predicted'])\n",
    "print(\"Confusion Matrix: \\n\",confusionMatrix)"
   ]
  },
  {
   "cell_type": "code",
   "execution_count": 70,
   "metadata": {},
   "outputs": [
    {
     "name": "stdout",
     "output_type": "stream",
     "text": [
      "\n",
      "Precision, Recall, f1-score and Support\n",
      "               precision    recall  f1-score   support\n",
      "\n",
      "           0       0.86      0.76      0.80       944\n",
      "           1       0.71      0.83      0.76       681\n",
      "\n",
      "    accuracy                           0.79      1625\n",
      "   macro avg       0.78      0.79      0.78      1625\n",
      "weighted avg       0.80      0.79      0.79      1625\n",
      "\n"
     ]
    }
   ],
   "source": [
    "print(\"\\nPrecision, Recall, f1-score and Support\\n\",classification_report(predictionDS['actual'], predictionDS['predicted']))"
   ]
  },
  {
   "cell_type": "markdown",
   "metadata": {},
   "source": [
    "The chosen dataset is suitable for ML purposes, but the model should be tweaked further. I have simplified the model based on the mushroom classification rules, but I believe that this has hampered the overall accuracy."
   ]
  },
  {
   "cell_type": "markdown",
   "metadata": {},
   "source": [
    "### Dataset 2"
   ]
  },
  {
   "cell_type": "code",
   "execution_count": 71,
   "metadata": {},
   "outputs": [
    {
     "name": "stdout",
     "output_type": "stream",
     "text": [
      "Test, print first row: [4 4 1 1 1 1 1]\n",
      "Test, print features (should be 6) [0, 1, 2, 3, 4, 5]\n"
     ]
    }
   ],
   "source": [
    "ds2 = DataSet(examples=cd.values)\n",
    "\n",
    "print('Test, print first row: {}'.format(ds2.examples[0]))\n",
    "print('Test, print features (should be 6) {}'.format(ds2.inputs))\n",
    "\n",
    "\n",
    "target_vals = ds2.values[ds.target]\n",
    "target_dist = CountingProbDist(target_vals)\n",
    "attr_dists = {(gv, attr): CountingProbDist(ds2.values[attr])\n",
    "              for gv in target_vals\n",
    "              for attr in ds2.inputs}"
   ]
  },
  {
   "cell_type": "code",
   "execution_count": 72,
   "metadata": {},
   "outputs": [],
   "source": [
    "nBD = NaiveBayesDiscrete(ds2)"
   ]
  },
  {
   "cell_type": "code",
   "execution_count": 73,
   "metadata": {},
   "outputs": [
    {
     "data": {
      "text/plain": [
       "1"
      ]
     },
     "execution_count": 73,
     "metadata": {},
     "output_type": "execute_result"
    }
   ],
   "source": [
    "nBD([1, 1, 1, 3, 1, 1])"
   ]
  },
  {
   "cell_type": "code",
   "execution_count": 74,
   "metadata": {},
   "outputs": [
    {
     "name": "stdout",
     "output_type": "stream",
     "text": [
      "Discrete Classifier\n",
      "1\n"
     ]
    }
   ],
   "source": [
    "nBD = NaiveBayesLearner(ds2, continuous=False)\n",
    "print(\"Discrete Classifier\")\n",
    "print(nBD([1, 1, 1, 3, 1, 1]))"
   ]
  },
  {
   "cell_type": "code",
   "execution_count": 75,
   "metadata": {},
   "outputs": [
    {
     "name": "stdout",
     "output_type": "stream",
     "text": [
      "Error ratio for Discrete: 0.12905092592592593\n"
     ]
    }
   ],
   "source": [
    "nBD = NaiveBayesLearner(ds2, continuous=False)\n",
    "print(\"Error ratio for Discrete:\", err_ratio(nBD, ds2))"
   ]
  },
  {
   "cell_type": "markdown",
   "metadata": {},
   "source": [
    "The error for the Naive Bayes algorithm not unfortunately is very, very low."
   ]
  },
  {
   "cell_type": "code",
   "execution_count": 76,
   "metadata": {},
   "outputs": [],
   "source": [
    "features = cd.iloc[:,:-1]\n",
    "labels = cd.iloc[:,-1]\n",
    "trainFeatures, testFeatures, trainLabels, testLabels = train_test_split( features, labels, test_size=0.2, random_state=0)"
   ]
  },
  {
   "cell_type": "code",
   "execution_count": 77,
   "metadata": {},
   "outputs": [
    {
     "name": "stdout",
     "output_type": "stream",
     "text": [
      "   buying  maint  doors  persons  lug_boot  safety\n",
      "0       4      4      1        1         1       1\n",
      "1       4      4      1        1         1       2\n",
      "2       4      4      1        1         1       3\n",
      "3       4      4      1        1         2       1\n",
      "4       4      4      1        1         2       2\n"
     ]
    }
   ],
   "source": [
    "print(features.head())"
   ]
  },
  {
   "cell_type": "code",
   "execution_count": 78,
   "metadata": {},
   "outputs": [
    {
     "name": "stdout",
     "output_type": "stream",
     "text": [
      "0    1\n",
      "1    1\n",
      "2    1\n",
      "3    1\n",
      "4    1\n",
      "Name: classes, dtype: int64\n"
     ]
    }
   ],
   "source": [
    "print(labels.head())"
   ]
  },
  {
   "cell_type": "code",
   "execution_count": 79,
   "metadata": {},
   "outputs": [
    {
     "name": "stdout",
     "output_type": "stream",
     "text": [
      "Model score =  69.07514450867052 %\n",
      "\n",
      "Confusion Matrix: \n",
      " [[213   9   0  18]\n",
      " [ 27  13   5  34]\n",
      " [  3   3   3   8]\n",
      " [  0   0   0  10]]\n",
      "\n",
      "Precision, Recall, f1-score and Support\n",
      "               precision    recall  f1-score   support\n",
      "\n",
      "           1       0.88      0.89      0.88       240\n",
      "           2       0.52      0.16      0.25        79\n",
      "           3       0.38      0.18      0.24        17\n",
      "           4       0.14      1.00      0.25        10\n",
      "\n",
      "    accuracy                           0.69       346\n",
      "   macro avg       0.48      0.56      0.41       346\n",
      "weighted avg       0.75      0.69      0.69       346\n",
      "\n"
     ]
    }
   ],
   "source": [
    "accuracy = executeModel(GaussianNB(), trainFeatures, trainLabels, testFeatures, testLabels)"
   ]
  },
  {
   "cell_type": "code",
   "execution_count": 80,
   "metadata": {},
   "outputs": [
    {
     "name": "stdout",
     "output_type": "stream",
     "text": [
      "(1382, 6) (1382,)\n",
      "(1382, 7)\n"
     ]
    }
   ],
   "source": [
    "print(trainFeatures.shape, trainLabels.shape)\n",
    "tempTrainLabels = trainLabels.values.reshape((trainFeatures.shape[0],1))\n",
    "trainingExamples = np.hstack((trainFeatures, tempTrainLabels))\n",
    "print(trainingExamples.shape)"
   ]
  },
  {
   "cell_type": "code",
   "execution_count": 81,
   "metadata": {},
   "outputs": [],
   "source": [
    "dataSet = DataSet(examples=trainingExamples, distance=manhattan_distance)"
   ]
  },
  {
   "cell_type": "code",
   "execution_count": 82,
   "metadata": {},
   "outputs": [],
   "source": [
    "nBD = NaiveBayesLearner(dataSet, continuous = False)"
   ]
  },
  {
   "cell_type": "code",
   "execution_count": 83,
   "metadata": {},
   "outputs": [],
   "source": [
    "output = []\n",
    "#testLabels.values.shape\n",
    "for i in range(testFeatures.values.shape[0]):\n",
    "    output.append([nBD(testFeatures.values[i]), testLabels.values[i], nBD(testFeatures.values[i]) == testLabels.values[i]])"
   ]
  },
  {
   "cell_type": "code",
   "execution_count": 84,
   "metadata": {},
   "outputs": [
    {
     "data": {
      "text/html": [
       "<div>\n",
       "<style scoped>\n",
       "    .dataframe tbody tr th:only-of-type {\n",
       "        vertical-align: middle;\n",
       "    }\n",
       "\n",
       "    .dataframe tbody tr th {\n",
       "        vertical-align: top;\n",
       "    }\n",
       "\n",
       "    .dataframe thead th {\n",
       "        text-align: right;\n",
       "    }\n",
       "</style>\n",
       "<table border=\"1\" class=\"dataframe\">\n",
       "  <thead>\n",
       "    <tr style=\"text-align: right;\">\n",
       "      <th></th>\n",
       "      <th>predicted</th>\n",
       "      <th>actual</th>\n",
       "      <th>match</th>\n",
       "    </tr>\n",
       "  </thead>\n",
       "  <tbody>\n",
       "    <tr>\n",
       "      <td>0</td>\n",
       "      <td>1</td>\n",
       "      <td>1</td>\n",
       "      <td>True</td>\n",
       "    </tr>\n",
       "    <tr>\n",
       "      <td>1</td>\n",
       "      <td>1</td>\n",
       "      <td>1</td>\n",
       "      <td>True</td>\n",
       "    </tr>\n",
       "    <tr>\n",
       "      <td>2</td>\n",
       "      <td>1</td>\n",
       "      <td>1</td>\n",
       "      <td>True</td>\n",
       "    </tr>\n",
       "    <tr>\n",
       "      <td>3</td>\n",
       "      <td>1</td>\n",
       "      <td>1</td>\n",
       "      <td>True</td>\n",
       "    </tr>\n",
       "    <tr>\n",
       "      <td>4</td>\n",
       "      <td>1</td>\n",
       "      <td>1</td>\n",
       "      <td>True</td>\n",
       "    </tr>\n",
       "    <tr>\n",
       "      <td>...</td>\n",
       "      <td>...</td>\n",
       "      <td>...</td>\n",
       "      <td>...</td>\n",
       "    </tr>\n",
       "    <tr>\n",
       "      <td>341</td>\n",
       "      <td>2</td>\n",
       "      <td>4</td>\n",
       "      <td>False</td>\n",
       "    </tr>\n",
       "    <tr>\n",
       "      <td>342</td>\n",
       "      <td>1</td>\n",
       "      <td>1</td>\n",
       "      <td>True</td>\n",
       "    </tr>\n",
       "    <tr>\n",
       "      <td>343</td>\n",
       "      <td>1</td>\n",
       "      <td>2</td>\n",
       "      <td>False</td>\n",
       "    </tr>\n",
       "    <tr>\n",
       "      <td>344</td>\n",
       "      <td>1</td>\n",
       "      <td>1</td>\n",
       "      <td>True</td>\n",
       "    </tr>\n",
       "    <tr>\n",
       "      <td>345</td>\n",
       "      <td>1</td>\n",
       "      <td>2</td>\n",
       "      <td>False</td>\n",
       "    </tr>\n",
       "  </tbody>\n",
       "</table>\n",
       "<p>346 rows × 3 columns</p>\n",
       "</div>"
      ],
      "text/plain": [
       "     predicted  actual  match\n",
       "0            1       1   True\n",
       "1            1       1   True\n",
       "2            1       1   True\n",
       "3            1       1   True\n",
       "4            1       1   True\n",
       "..         ...     ...    ...\n",
       "341          2       4  False\n",
       "342          1       1   True\n",
       "343          1       2  False\n",
       "344          1       1   True\n",
       "345          1       2  False\n",
       "\n",
       "[346 rows x 3 columns]"
      ]
     },
     "execution_count": 84,
     "metadata": {},
     "output_type": "execute_result"
    }
   ],
   "source": [
    "predictionDS = pd.DataFrame(output, columns = ['predicted', 'actual', 'match'])\n",
    "predictionDS"
   ]
  },
  {
   "cell_type": "code",
   "execution_count": 85,
   "metadata": {},
   "outputs": [
    {
     "name": "stdout",
     "output_type": "stream",
     "text": [
      "Accuracy: 0.8294797687861272\n"
     ]
    }
   ],
   "source": [
    "print('Accuracy: {}'.format(predictionDS[predictionDS['match'] == True].shape[0] / predictionDS.shape[0]))"
   ]
  },
  {
   "cell_type": "code",
   "execution_count": 86,
   "metadata": {},
   "outputs": [
    {
     "name": "stdout",
     "output_type": "stream",
     "text": [
      "Confusion Matrix: \n",
      " [[227  13   0   0]\n",
      " [ 25  52   2   0]\n",
      " [  0  13   3   1]\n",
      " [  0   5   0   5]]\n"
     ]
    }
   ],
   "source": [
    "confusionMatrix = confusion_matrix(predictionDS['actual'], predictionDS['predicted'])\n",
    "print(\"Confusion Matrix: \\n\",confusionMatrix)"
   ]
  },
  {
   "cell_type": "code",
   "execution_count": 87,
   "metadata": {},
   "outputs": [
    {
     "name": "stdout",
     "output_type": "stream",
     "text": [
      "\n",
      "Precision, Recall, f1-score and Support\n",
      "               precision    recall  f1-score   support\n",
      "\n",
      "           1       0.90      0.95      0.92       240\n",
      "           2       0.63      0.66      0.64        79\n",
      "           3       0.60      0.18      0.27        17\n",
      "           4       0.83      0.50      0.62        10\n",
      "\n",
      "    accuracy                           0.83       346\n",
      "   macro avg       0.74      0.57      0.62       346\n",
      "weighted avg       0.82      0.83      0.82       346\n",
      "\n"
     ]
    }
   ],
   "source": [
    "print(\"\\nPrecision, Recall, f1-score and Support\\n\",classification_report(predictionDS['actual'], predictionDS['predicted']))"
   ]
  },
  {
   "cell_type": "markdown",
   "metadata": {},
   "source": [
    "The second dataset is not really suitable for the analysis purpose and would have to be more balanced before it can be analysed. It seems that the outcomes are skewed in one direction as depicted above"
   ]
  },
  {
   "cell_type": "code",
   "execution_count": null,
   "metadata": {},
   "outputs": [],
   "source": []
  }
 ],
 "metadata": {
  "kernelspec": {
   "display_name": "Python 3",
   "language": "python",
   "name": "python3"
  },
  "language_info": {
   "codemirror_mode": {
    "name": "ipython",
    "version": 3
   },
   "file_extension": ".py",
   "mimetype": "text/x-python",
   "name": "python",
   "nbconvert_exporter": "python",
   "pygments_lexer": "ipython3",
   "version": "3.7.4"
  },
  "widgets": {
   "application/vnd.jupyter.widget-state+json": {
    "state": {},
    "version_major": 2,
    "version_minor": 0
   }
  }
 },
 "nbformat": 4,
 "nbformat_minor": 2
}
