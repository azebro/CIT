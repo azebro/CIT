{
 "cells": [
  {
   "cell_type": "code",
   "execution_count": 2,
   "metadata": {},
   "outputs": [
    {
     "name": "stdout",
     "output_type": "stream",
     "text": [
      "['..\\\\..', '../..', 'C:\\\\Users\\\\adamze\\\\CIT\\\\aima-python\\\\Assignments\\\\AZ', 'C:\\\\Users\\\\adamze\\\\AppData\\\\Local\\\\Continuum\\\\anaconda3\\\\python37.zip', 'C:\\\\Users\\\\adamze\\\\AppData\\\\Local\\\\Continuum\\\\anaconda3\\\\DLLs', 'C:\\\\Users\\\\adamze\\\\AppData\\\\Local\\\\Continuum\\\\anaconda3\\\\lib', 'C:\\\\Users\\\\adamze\\\\AppData\\\\Local\\\\Continuum\\\\anaconda3', '', 'C:\\\\Users\\\\adamze\\\\AppData\\\\Roaming\\\\Python\\\\Python37\\\\site-packages', 'C:\\\\Users\\\\adamze\\\\AppData\\\\Local\\\\Continuum\\\\anaconda3\\\\lib\\\\site-packages', 'C:\\\\Users\\\\adamze\\\\AppData\\\\Local\\\\Continuum\\\\anaconda3\\\\lib\\\\site-packages\\\\win32', 'C:\\\\Users\\\\adamze\\\\AppData\\\\Local\\\\Continuum\\\\anaconda3\\\\lib\\\\site-packages\\\\win32\\\\lib', 'C:\\\\Users\\\\adamze\\\\AppData\\\\Local\\\\Continuum\\\\anaconda3\\\\lib\\\\site-packages\\\\Pythonwin', 'C:\\\\Users\\\\adamze\\\\AppData\\\\Local\\\\Continuum\\\\anaconda3\\\\lib\\\\site-packages\\\\IPython\\\\extensions', 'C:\\\\Users\\\\adamze\\\\.ipython']\n"
     ]
    }
   ],
   "source": [
    "import sys\n",
    "#Assuming the folder structure as per the assignment specification\n",
    "sys.path.insert(0, '..\\..')\n",
    "print(sys.path)"
   ]
  },
  {
   "cell_type": "code",
   "execution_count": 3,
   "metadata": {},
   "outputs": [],
   "source": [
    "%config IPCompleter.greedy=True\n",
    "import numpy as np\n",
    "import pandas as pd\n",
    "import search\n",
    "from search import *\n",
    "from agents import *\n",
    "import random\n",
    "from mpmath import nint, sqrt"
   ]
  },
  {
   "cell_type": "markdown",
   "metadata": {},
   "source": [
    "# 1 Title: Red Riding Hood Walker\n",
    "## Context:\n",
    "The game is played in 2D world, which is single-agent and partially observable. The world is initially assigned as 5x5 square but can be build as random shape based on the needs. \n",
    "\n",
    "The world contains the following objects:\n",
    "\n",
    "*\tThe agent – red riding hood (rrh)\n",
    "*\tWolves – obstacles, take away energy\n",
    "*\tBerries – add energy\n",
    "*\tMushrooms – add energy\n",
    "*\tGrandma – the goal\n",
    "\n",
    "The goal of the game is for rrh to reach grandma house.\n",
    "\n",
    "Agent moves 1 tile at a time and has a finite number of moves available to it.\n",
    "\n",
    "The game finished when the agent finds the grandma, runs out of moves, or runs out of energy.\n"
   ]
  },
  {
   "cell_type": "code",
   "execution_count": 13,
   "metadata": {},
   "outputs": [],
   "source": [
    "#Things - objects that will be added to the world\n",
    "class Wolf(Thing):\n",
    "    pass\n",
    "\n",
    "class Berry(Thing):\n",
    "    pass\n",
    "\n",
    "class Mushroom(Thing):\n",
    "    pass\n",
    "\n",
    "class Grandma(Thing):\n",
    "    pass"
   ]
  },
  {
   "cell_type": "markdown",
   "metadata": {},
   "source": [
    "## 1.1 Simple reflex agent\n",
    "\n",
    "**PEAS description:**\n",
    "\n",
    "*\tPerformance measure: Reach grandma house\n",
    "*\tEnvironment: Forest, wolves, berries, mushrooms, grandma\n",
    "*\tActuators:  leg movement motors, pick motors, vision movement motors\n",
    "*\tSensors: vision sensor, location sensor\n",
    "\n",
    "Reflex agent is the simple agent the take random actions and tries to reach the grandma’s house. The reflex agent randomly decides to move in either four directions (R, L, Up, Down) and has simple condition-action rules - if it percepts the berries or mushrooms which charge it up, it picks them up; if it encounters the wolf, it gets scared and looses energy. Each move it makes costs energy. The game finishes either when the agent finds the grandma or looses all the energy and cannot move anymore. The reflex agent does not store any percept history. \n",
    "\n",
    "**Discussion:**\n",
    "\n",
    "The agent operates in not fully observable environment, it does not know the layout of obstacles (wolves) or berries/mushrooms. It is not aware where the goal is located. It is only able to percept what is in its current location. Such agent is very inefficient, although it manages to find grandma given enough energy and time. For environments bigger than initial 5x5 it becomes very improbable that the agent finds the grandma given that it keeps repeating visits to the tiles already explored. \n",
    "This represents the limitations of the reflex agents, lack of either history or knowing the goal makes this a “dumb” agent that just reacts to current percept.\n",
    "I can argue though that reflex agents can have use, especially given their simplicity. Such an agent could be employed as part of more complex system.\n"
   ]
  },
  {
   "cell_type": "code",
   "execution_count": 39,
   "metadata": {},
   "outputs": [],
   "source": [
    "#Environment\n",
    "class DarkForest(XYEnvironment):\n",
    "\n",
    "    def percept(self, agent):\n",
    "        '''return a list of things that are in our agent's location'''\n",
    "        things = self.list_things_at(agent.location)\n",
    "        loc = copy.deepcopy(agent.location) # find out the target location\n",
    "        \n",
    "        #Check if agent is about to bump into a wall\n",
    "        if agent.direction.direction == Direction.R:\n",
    "            loc[0] += 1\n",
    "        elif agent.direction.direction == Direction.L:\n",
    "            loc[0] -= 1\n",
    "        elif agent.direction.direction == Direction.D:\n",
    "            loc[1] += 1\n",
    "        elif agent.direction.direction == Direction.U:\n",
    "            loc[1] -= 1\n",
    "        if not self.is_inbounds(loc):\n",
    "            things.append(Bump())\n",
    "        return things\n",
    "    \n",
    "    def execute_action(self, agent, action):\n",
    "        '''changes the state of the environment based on what the agent does.'''\n",
    "        if action == 'turnright':\n",
    "            print('{} decided to {} at location: {} and is facing'.format(str(agent)[1:-1], action, agent.location, agent.direction.direction))\n",
    "            agent.turn(Direction.R)\n",
    "        elif action == 'turnleft':\n",
    "            print('{} decided to {} at location: {} and is facing {}'.format(str(agent)[1:-1], action, agent.location, agent.direction.direction))\n",
    "            agent.turn(Direction.L)\n",
    "        elif action == 'moveforward':\n",
    "            print('{} is thinking to move {}wards at location: {}'.format(str(agent)[1:-1], agent.direction.direction, agent.location))\n",
    "            move = agent.moveForward()\n",
    "            if move:\n",
    "                print('{} moved {}wards at location: {}'.format(str(agent)[1:-1], agent.direction.direction, agent.location))\n",
    "            \n",
    "        elif action == \"eatMushroom\":\n",
    "            items = self.list_things_at(agent.location, tclass=Mushroom)\n",
    "            if len(items) != 0:\n",
    "                if agent.eatMushroom(items[0]):\n",
    "                    print('{} ate  {} at location {}'.format(str(agent)[1:-1], str(items[0])[1:-1], agent.location))\n",
    "                    self.delete_thing(items[0])\n",
    "        elif action == \"eatBerry\":\n",
    "            items = self.list_things_at(agent.location, tclass=Berry)\n",
    "            if len(items) != 0:\n",
    "                if agent.eatBerry(items[0]): \n",
    "                    print('{} ate  {} at location {}'.format(str(agent)[1:-1], str(items[0])[1:-1], agent.location))\n",
    "                    self.delete_thing(items[0])\n",
    "        elif action == \"meetWolf\":\n",
    "            items = self.list_things_at(agent.location, tclass=Wolf)\n",
    "            if len(items) != 0:\n",
    "                if agent.meetWolf(items[0]):\n",
    "                    print('{} met {} at location {} and got scared, Grrrrrr'.format(str(agent)[1:-1], str(items[0])[1:-1], agent.location))\n",
    "                    #self.delete_thing(items[0])\n",
    "                else:\n",
    "                    agent.stepBack()\n",
    "                    print('{} met {} at location {} and stepped back'.format(str(agent)[1:-1], str(items[0])[1:-1], agent.location))\n",
    "        elif action == \"fightWolf\":\n",
    "            items = self.list_things_at(agent.location, tclass=Wolf)\n",
    "            if len(items) != 0:\n",
    "                if agent.meetWolf(items[0]):\n",
    "                    print('{} met {} at location {} and killed it, Grrrrrr'\n",
    "                          .format(str(agent)[1:-1], str(items[0])[1:-1], agent.location))\n",
    "                    self.delete_thing(items[0])\n",
    "        elif action == \"meetGrandma\":\n",
    "            items = self.list_things_at(agent.location, tclass=Grandma)\n",
    "            if len(items) != 0:\n",
    "                if agent.meetGrandma(items[0]):\n",
    "                    print('{} found a {} at location {} and is happy'\n",
    "                          .format(str(agent)[1:-1], str(items[0])[1:-1], agent.location))\n",
    "                    self.delete_thing(items[0])\n",
    "               \n",
    "                    \n",
    "    def is_done(self):\n",
    "        \n",
    "        dead_agents = not any(agent.is_alive() for agent in self.agents)\n",
    "        complete_agents = all(agent.isComplete() for agent in self.agents)\n",
    "        return dead_agents or complete_agents\n",
    "#End Class\n"
   ]
  },
  {
   "cell_type": "code",
   "execution_count": 40,
   "metadata": {},
   "outputs": [],
   "source": [
    "#Class Agent\n",
    "class ReflexWalker(Agent):\n",
    "    \n",
    "    \n",
    "    \n",
    "    def __init__(self, program=None):\n",
    "        self.location = [0,1]\n",
    "        self.direction = Direction(\"down\")\n",
    "        self.complete = False\n",
    "        self.energy = 25\n",
    "        self.wolves = []\n",
    "        #Used if wolf is encountered and not enough energy, agent has to step back\n",
    "        self.lastLocation = []\n",
    "        self.lastDirection = Direction(\"down\")\n",
    "        self.visitedList = []\n",
    "        self.desiredLocation = [4,4]\n",
    "        \n",
    "        super().__init__(program)\n",
    "    \n",
    "    \n",
    "    def moveForward(self, success=True):\n",
    "        '''moveforward possible only if success (i.e. valid destination location)'''\n",
    "        if not success:\n",
    "            return\n",
    "        if self.direction.direction == Direction.R:\n",
    "            self.location[0] += 1\n",
    "        elif self.direction.direction == Direction.L:\n",
    "            self.location[0] -= 1\n",
    "        elif self.direction.direction == Direction.D:\n",
    "            self.location[1] += 1\n",
    "        elif self.direction.direction == Direction.U:\n",
    "            self.location[1] -= 1\n",
    "       \n",
    "    \n",
    "    def turn(self, d):\n",
    "        self.direction = self.direction + d\n",
    "        \n",
    "        \n",
    "    def eatBerry(self, thing):\n",
    "        if isinstance(thing, Berry):\n",
    "            return True\n",
    "        return False\n",
    "    \n",
    "    def eatMushroom(self, thing):\n",
    "        if isinstance(thing, Mushroom):\n",
    "            #self.energy += 2\n",
    "            return True\n",
    "        return False\n",
    "    \n",
    "    def meetWolf(self, thing):\n",
    "        if isinstance(thing, Wolf):\n",
    "            return True\n",
    "        return False\n",
    "\n",
    "    def meetGrandma(self, thing):\n",
    "        self.happy = True\n",
    "        return True\n",
    "    \n",
    "    def isComplete(self):\n",
    "        return self.complete\n",
    "  \n",
    "    \n",
    "#End class Agent"
   ]
  },
  {
   "cell_type": "code",
   "execution_count": 41,
   "metadata": {},
   "outputs": [],
   "source": [
    "#Program\n",
    "def program(percepts):\n",
    "    \n",
    "    for p in percepts:\n",
    "        if isinstance(p, Berry):\n",
    "            return 'eatBerry'\n",
    "        elif isinstance(p, Mushroom):\n",
    "            return 'eatMushroom'\n",
    "        elif isinstance(p, Wolf):\n",
    "            return 'fightWolf'\n",
    "        elif isinstance(p, Grandma):\n",
    "            return 'meetGrandma'\n",
    "        if isinstance(p,Bump): # then check if you are at an edge and have to turn\n",
    "            turn = False\n",
    "            choice = random.choice((1,2));\n",
    "        else:\n",
    "            choice = random.choice((1,2,3,4)) # 1-right, 2-left, others-forward\n",
    "    if choice == 1:\n",
    "        return 'turnright'\n",
    "    elif choice == 2:\n",
    "        return 'turnleft'\n",
    "    else:\n",
    "        return 'moveforward'\n",
    "#end method"
   ]
  },
  {
   "cell_type": "code",
   "execution_count": 43,
   "metadata": {},
   "outputs": [
    {
     "name": "stdout",
     "output_type": "stream",
     "text": [
      "Rrh starts at (1,1) facing downwards\n",
      "ReflexWalker decided to turnleft at location: [0, 1] and is facing down\n",
      "ReflexWalker decided to turnleft at location: [0, 1] and is facing right\n",
      "ReflexWalker decided to turnright at location: [0, 1] and is facing\n",
      "ReflexWalker decided to turnright at location: [0, 1] and is facing\n",
      "ReflexWalker is thinking to move downwards at location: [0, 1]\n",
      "ReflexWalker ate  Berry at location [0, 2]\n",
      "ReflexWalker is thinking to move downwards at location: [0, 2]\n",
      "ReflexWalker decided to turnleft at location: [0, 3] and is facing down\n",
      "ReflexWalker decided to turnright at location: [0, 3] and is facing\n",
      "ReflexWalker is thinking to move downwards at location: [0, 3]\n",
      "ReflexWalker ate  Berry at location [0, 4]\n",
      "ReflexWalker decided to turnright at location: [0, 4] and is facing\n",
      "ReflexWalker decided to turnleft at location: [0, 4] and is facing left\n",
      "ReflexWalker decided to turnleft at location: [0, 4] and is facing down\n",
      "ReflexWalker decided to turnleft at location: [0, 4] and is facing right\n",
      "ReflexWalker decided to turnright at location: [0, 4] and is facing\n",
      "ReflexWalker decided to turnright at location: [0, 4] and is facing\n",
      "ReflexWalker decided to turnleft at location: [0, 4] and is facing down\n",
      "ReflexWalker is thinking to move rightwards at location: [0, 4]\n",
      "ReflexWalker decided to turnright at location: [1, 4] and is facing\n",
      "ReflexWalker decided to turnright at location: [1, 4] and is facing\n",
      "ReflexWalker decided to turnright at location: [1, 4] and is facing\n",
      "ReflexWalker is thinking to move upwards at location: [1, 4]\n",
      "ReflexWalker is thinking to move upwards at location: [1, 3]\n",
      "ReflexWalker is thinking to move upwards at location: [1, 2]\n",
      "ReflexWalker ate  Berry at location [1, 1]\n",
      "ReflexWalker decided to turnleft at location: [1, 1] and is facing up\n",
      "ReflexWalker is thinking to move leftwards at location: [1, 1]\n",
      "ReflexWalker decided to turnright at location: [0, 1] and is facing\n",
      "ReflexWalker is thinking to move upwards at location: [0, 1]\n",
      "ReflexWalker decided to turnright at location: [0, 0] and is facing\n",
      "ReflexWalker is thinking to move rightwards at location: [0, 0]\n",
      "ReflexWalker is thinking to move rightwards at location: [1, 0]\n",
      "ReflexWalker is thinking to move rightwards at location: [2, 0]\n",
      "ReflexWalker is thinking to move rightwards at location: [3, 0]\n",
      "ReflexWalker decided to turnright at location: [4, 0] and is facing\n",
      "ReflexWalker is thinking to move downwards at location: [4, 0]\n",
      "ReflexWalker met Wolf at location [4, 1] and killed it, Grrrrrr\n",
      "ReflexWalker is thinking to move downwards at location: [4, 1]\n",
      "ReflexWalker met Wolf at location [4, 2] and killed it, Grrrrrr\n",
      "ReflexWalker is thinking to move downwards at location: [4, 2]\n",
      "ReflexWalker met Wolf at location [4, 3] and killed it, Grrrrrr\n",
      "ReflexWalker decided to turnright at location: [4, 3] and is facing\n",
      "ReflexWalker decided to turnright at location: [4, 3] and is facing\n",
      "ReflexWalker decided to turnleft at location: [4, 3] and is facing up\n",
      "ReflexWalker is thinking to move leftwards at location: [4, 3]\n",
      "ReflexWalker met Wolf at location [3, 3] and killed it, Grrrrrr\n",
      "ReflexWalker is thinking to move leftwards at location: [3, 3]\n",
      "ReflexWalker is thinking to move leftwards at location: [2, 3]\n",
      "ReflexWalker is thinking to move leftwards at location: [1, 3]\n",
      "ReflexWalker decided to turnright at location: [0, 3] and is facing\n",
      "ReflexWalker is thinking to move upwards at location: [0, 3]\n",
      "ReflexWalker decided to turnright at location: [0, 2] and is facing\n",
      "ReflexWalker is thinking to move rightwards at location: [0, 2]\n",
      "ReflexWalker is thinking to move rightwards at location: [1, 2]\n",
      "ReflexWalker decided to turnleft at location: [2, 2] and is facing right\n",
      "ReflexWalker is thinking to move upwards at location: [2, 2]\n",
      "ReflexWalker ate  Mushroom at location [2, 1]\n",
      "ReflexWalker decided to turnright at location: [2, 1] and is facing\n",
      "ReflexWalker decided to turnright at location: [2, 1] and is facing\n",
      "ReflexWalker is thinking to move downwards at location: [2, 1]\n",
      "ReflexWalker is thinking to move downwards at location: [2, 2]\n",
      "ReflexWalker decided to turnright at location: [2, 3] and is facing\n",
      "ReflexWalker is thinking to move leftwards at location: [2, 3]\n",
      "ReflexWalker decided to turnleft at location: [1, 3] and is facing left\n",
      "ReflexWalker is thinking to move downwards at location: [1, 3]\n",
      "ReflexWalker decided to turnright at location: [1, 4] and is facing\n",
      "ReflexWalker decided to turnleft at location: [1, 4] and is facing left\n",
      "ReflexWalker decided to turnright at location: [1, 4] and is facing\n",
      "ReflexWalker decided to turnright at location: [1, 4] and is facing\n",
      "ReflexWalker decided to turnright at location: [1, 4] and is facing\n",
      "ReflexWalker is thinking to move rightwards at location: [1, 4]\n",
      "ReflexWalker is thinking to move rightwards at location: [2, 4]\n",
      "ReflexWalker decided to turnleft at location: [3, 4] and is facing right\n",
      "ReflexWalker decided to turnleft at location: [3, 4] and is facing up\n",
      "ReflexWalker is thinking to move leftwards at location: [3, 4]\n",
      "ReflexWalker is thinking to move leftwards at location: [2, 4]\n",
      "ReflexWalker decided to turnleft at location: [1, 4] and is facing left\n",
      "ReflexWalker decided to turnright at location: [1, 4] and is facing\n",
      "ReflexWalker is thinking to move leftwards at location: [1, 4]\n",
      "ReflexWalker decided to turnleft at location: [0, 4] and is facing left\n",
      "ReflexWalker decided to turnleft at location: [0, 4] and is facing down\n",
      "ReflexWalker is thinking to move rightwards at location: [0, 4]\n",
      "ReflexWalker is thinking to move rightwards at location: [1, 4]\n",
      "ReflexWalker decided to turnleft at location: [2, 4] and is facing right\n",
      "ReflexWalker decided to turnright at location: [2, 4] and is facing\n",
      "ReflexWalker is thinking to move rightwards at location: [2, 4]\n",
      "ReflexWalker decided to turnright at location: [3, 4] and is facing\n",
      "ReflexWalker decided to turnright at location: [3, 4] and is facing\n",
      "ReflexWalker is thinking to move leftwards at location: [3, 4]\n",
      "ReflexWalker is thinking to move leftwards at location: [2, 4]\n",
      "ReflexWalker decided to turnleft at location: [1, 4] and is facing left\n",
      "ReflexWalker decided to turnright at location: [1, 4] and is facing\n",
      "ReflexWalker decided to turnright at location: [1, 4] and is facing\n",
      "ReflexWalker decided to turnright at location: [1, 4] and is facing\n",
      "ReflexWalker is thinking to move rightwards at location: [1, 4]\n",
      "ReflexWalker is thinking to move rightwards at location: [2, 4]\n",
      "ReflexWalker decided to turnright at location: [3, 4] and is facing\n",
      "ReflexWalker decided to turnleft at location: [3, 4] and is facing down\n",
      "ReflexWalker is thinking to move rightwards at location: [3, 4]\n",
      "ReflexWalker decided to turnleft at location: [4, 4] and is facing right\n",
      "ReflexWalker is thinking to move upwards at location: [4, 4]\n",
      "ReflexWalker is thinking to move upwards at location: [4, 3]\n",
      "ReflexWalker decided to turnright at location: [4, 2] and is facing\n",
      "ReflexWalker decided to turnright at location: [4, 2] and is facing\n",
      "ReflexWalker is thinking to move downwards at location: [4, 2]\n",
      "ReflexWalker decided to turnleft at location: [4, 3] and is facing down\n",
      "ReflexWalker decided to turnleft at location: [4, 3] and is facing right\n",
      "ReflexWalker is thinking to move upwards at location: [4, 3]\n",
      "ReflexWalker is thinking to move upwards at location: [4, 2]\n",
      "ReflexWalker decided to turnright at location: [4, 1] and is facing\n",
      "ReflexWalker decided to turnleft at location: [4, 1] and is facing right\n",
      "ReflexWalker decided to turnleft at location: [4, 1] and is facing up\n",
      "ReflexWalker decided to turnright at location: [4, 1] and is facing\n",
      "ReflexWalker decided to turnleft at location: [4, 1] and is facing up\n",
      "ReflexWalker is thinking to move leftwards at location: [4, 1]\n",
      "ReflexWalker ate  Mushroom at location [3, 1]\n",
      "ReflexWalker decided to turnright at location: [3, 1] and is facing\n",
      "ReflexWalker decided to turnright at location: [3, 1] and is facing\n",
      "ReflexWalker is thinking to move rightwards at location: [3, 1]\n",
      "ReflexWalker decided to turnright at location: [4, 1] and is facing\n",
      "ReflexWalker decided to turnleft at location: [4, 1] and is facing down\n",
      "ReflexWalker decided to turnright at location: [4, 1] and is facing\n",
      "ReflexWalker decided to turnleft at location: [4, 1] and is facing down\n",
      "ReflexWalker decided to turnright at location: [4, 1] and is facing\n",
      "ReflexWalker is thinking to move downwards at location: [4, 1]\n",
      "ReflexWalker decided to turnright at location: [4, 2] and is facing\n",
      "ReflexWalker decided to turnleft at location: [4, 2] and is facing left\n",
      "ReflexWalker is thinking to move downwards at location: [4, 2]\n",
      "ReflexWalker is thinking to move downwards at location: [4, 3]\n",
      "ReflexWalker decided to turnright at location: [4, 4] and is facing\n",
      "ReflexWalker decided to turnleft at location: [4, 4] and is facing left\n",
      "ReflexWalker decided to turnleft at location: [4, 4] and is facing down\n",
      "ReflexWalker decided to turnright at location: [4, 4] and is facing\n",
      "ReflexWalker decided to turnleft at location: [4, 4] and is facing down\n",
      "ReflexWalker decided to turnleft at location: [4, 4] and is facing right\n",
      "ReflexWalker decided to turnleft at location: [4, 4] and is facing up\n",
      "ReflexWalker decided to turnleft at location: [4, 4] and is facing left\n",
      "ReflexWalker decided to turnright at location: [4, 4] and is facing\n",
      "ReflexWalker decided to turnleft at location: [4, 4] and is facing left\n",
      "ReflexWalker decided to turnright at location: [4, 4] and is facing\n",
      "ReflexWalker decided to turnright at location: [4, 4] and is facing\n",
      "ReflexWalker decided to turnright at location: [4, 4] and is facing\n",
      "ReflexWalker decided to turnright at location: [4, 4] and is facing\n",
      "ReflexWalker decided to turnright at location: [4, 4] and is facing\n",
      "ReflexWalker is thinking to move leftwards at location: [4, 4]\n",
      "ReflexWalker is thinking to move leftwards at location: [3, 4]\n",
      "ReflexWalker decided to turnleft at location: [2, 4] and is facing left\n",
      "ReflexWalker decided to turnright at location: [2, 4] and is facing\n",
      "ReflexWalker decided to turnright at location: [2, 4] and is facing\n"
     ]
    }
   ],
   "source": [
    "# Initial set of the 2D world is set to 5x5, but can be changed as required\n",
    "df = DarkForest(5,5)\n",
    "man = ReflexWalker(program)\n",
    "\n",
    "# Additional objects can be added to the world as needed\n",
    "df.add_thing(man, [0,1])\n",
    "df.add_thing(Berry(), [0,2])\n",
    "df.add_thing(Berry(), [0,4])\n",
    "df.add_thing(Friend(), [4,4])\n",
    "df.add_thing(Berry(), [1,1])\n",
    "df.add_thing(Mushroom(), [2,1])\n",
    "df.add_thing(Mushroom(), [3,1])\n",
    "df.add_thing(Wolf(), [4,1])\n",
    "df.add_thing(Wolf(), [4,2])\n",
    "df.add_thing(Wolf(), [4,3])\n",
    "df.add_thing(Wolf(), [3,3])\n",
    "\n",
    "#Initial run for the Rrh is 100 moves, that is to demonstrate that in most of the cases it cannot find the grandma, \n",
    "#even as the number of steps exceeds number of tiles  \n",
    "print(\"Rrh starts at (1,1) facing downwards\")\n",
    "df.run(150)"
   ]
  },
  {
   "cell_type": "markdown",
   "metadata": {},
   "source": [
    "## 1.2 Model based reflex agent\n",
    "**PEAS description:**\n",
    "- Performance measure: Reach grandma house, maintain energy level\n",
    "- Environment: Forest, wolves, berries, mushrooms, grandma\n",
    "- Actuators:  leg movement motors, pick motors, vision movement motors\n",
    "- Sensors: vision sensor, location sensor, energy sensor\n",
    "\n",
    "Model based agent extends the simple reflex agent and adds tracking of the agent’s energy state and the history of visited tiles. The model defines the initial state of energy and the initial location, it then maintains the state of the changes in energy (i.e.: 1 step costs 1 energy unit, or eating a berry increases the energy) to make decisions. Similar, the history of explored tiles is kept, and the agent makes decisions not to visit already explored tiles. The action and decisions are defined as follows:\n",
    "\n",
    " - Step – check if the tile was already visited, if so, chose other movement. If not visited, move and decrease energy, add the new tile to explored list.\n",
    " - Acquire percept from sensor – explore tile, if berry or mushroom increase energy. If wolf is precepted, make decision of either:\n",
    "   - Get scared and loose more energy (based on the model – amount of energy left)\n",
    "   - Step back – if energy level is below the threshold and chose another direction\n",
    "   \n",
    "**Discussion:**\n",
    "Model based agents are much more efficient that the simple reflex ones, but require more complexity to maintain and evaluate the state and actions based on the state. In my scenario, the model agent could operate on much larger environment that the simple reflex agent due to not repeating the same moves over and over. I have encountered issues with this agent though, as it was possible for it to get locked in the corner where all move options were invalid due to the model rules (i.e.: all moves were either walls, or already explored tiles), which resulted in agent going on a infinite loop of evaluating options. Given that the agent has not goal defined, it was moving in random fashion as well, making it not efficient.\n"
   ]
  },
  {
   "cell_type": "code",
   "execution_count": 51,
   "metadata": {},
   "outputs": [],
   "source": [
    "#Environment\n",
    "class DarkForest(XYEnvironment):\n",
    "\n",
    "    def percept(self, agent):\n",
    "        '''return a list of things that are in our agent's location'''\n",
    "        things = self.list_things_at(agent.location)\n",
    "        loc = copy.deepcopy(agent.location) # find out the target location\n",
    "        \n",
    "        #Check if agent is about to bump into a wall\n",
    "        if agent.direction.direction == Direction.R:\n",
    "            loc[0] += 1\n",
    "        elif agent.direction.direction == Direction.L:\n",
    "            loc[0] -= 1\n",
    "        elif agent.direction.direction == Direction.D:\n",
    "            loc[1] += 1\n",
    "        elif agent.direction.direction == Direction.U:\n",
    "            loc[1] -= 1\n",
    "        if not self.is_inbounds(loc):\n",
    "            things.append(Bump())\n",
    "        return things\n",
    "    \n",
    "    def execute_action(self, agent, action):\n",
    "        '''changes the state of the environment based on what the agent does.'''\n",
    "        if action == 'turnright':\n",
    "            print('{} decided to {} at location: {}'.format(str(agent)[1:-1], action, agent.location))\n",
    "            agent.turn(Direction.R)\n",
    "        elif action == 'turnleft':\n",
    "            print('{} decided to {} at location: {}'.format(str(agent)[1:-1], action, agent.location))\n",
    "            agent.turn(Direction.L)\n",
    "        elif action == 'moveforward':\n",
    "            print('{} decided to move {}wards at location: {}'.format(str(agent)[1:-1], agent.direction.direction, agent.location))\n",
    "            if agent.moveForward():\n",
    "                print('{} decided to move {}wards at location: {}'.format(str(agent)[1:-1], agent.direction.direction, agent.location))\n",
    "            else:\n",
    "                print('Move not advised')\n",
    "                \n",
    "\n",
    "        elif action == \"eatMushroom\":\n",
    "            items = self.list_things_at(agent.location, tclass=Mushroom)\n",
    "            print('Mushroom')\n",
    "            if len(items) != 0:\n",
    "                if agent.eatMushroom(items[0]):\n",
    "                    print('{} ate {} at location {}'.format(str(agent)[1:-1], str(items[0])[1:-1], agent.location))\n",
    "                    self.delete_thing(items[0])\n",
    "        elif action == \"eatBerry\":\n",
    "            items = self.list_things_at(agent.location, tclass=Berry)\n",
    "            if len(items) != 0:\n",
    "                if agent.eatBerry(items[0]): \n",
    "                    print('{} ate  {} at location {}'.format(str(agent)[1:-1], str(items[0])[1:-1], agent.location))\n",
    "                    self.delete_thing(items[0])\n",
    "        elif action == \"meetWolf\":\n",
    "            items = self.list_things_at(agent.location, tclass=Wolf)\n",
    "            if len(items) != 0:\n",
    "                if agent.meetWolf(items[0]):\n",
    "                    print('{} met {} at location {} and killed it, Grrrrrr'.format(str(agent)[1:-1], str(items[0])[1:-1], agent.location))\n",
    "                    self.delete_thing(items[0])\n",
    "                else:\n",
    "                    agent.stepBack()\n",
    "                    print('{} met {} at location {} and stepped back'.format(str(agent)[1:-1], str(items[0])[1:-1], agent.location))\n",
    "        elif action == \"fightWolf\":\n",
    "            items = self.list_things_at(agent.location, tclass=Wolf)\n",
    "            if len(items) != 0:\n",
    "                if agent.meetWolf(items[0]):\n",
    "                    print('{} met {} at location {} and killed it, Grrrrrr'\n",
    "                          .format(str(agent)[1:-1], str(items[0])[1:-1], agent.location))\n",
    "                    self.delete_thing(items[0])\n",
    "        elif action == \"meetGrandma\":\n",
    "            items = self.list_things_at(agent.location, tclass=Friend)\n",
    "            if len(items) != 0:\n",
    "                if agent.meetFriend(items[0]):\n",
    "                    print('{} found a {} at location {} and is happy '\n",
    "                          .format(str(agent)[1:-1], str(items[0])[1:-1], agent.location))\n",
    "                    self.delete_thing(items[0])\n",
    "               \n",
    "                    \n",
    "    def is_done(self):\n",
    "        \n",
    "        dead_agents = not any(agent.is_alive() for agent in self.agents)\n",
    "        complete_agents = all(agent.isComplete() for agent in self.agents)\n",
    "        return dead_agents or complete_agents\n",
    "\n",
    "#End Class"
   ]
  },
  {
   "cell_type": "code",
   "execution_count": 52,
   "metadata": {},
   "outputs": [],
   "source": [
    "#Class Agent\n",
    "class ModelReflexWalker(Agent):\n",
    "    location = [0,1]\n",
    "    direction = Direction(\"down\")\n",
    "    complete = False\n",
    "    energy = 25\n",
    "    wolves = []\n",
    "    #Used if wolf is encountered and not enough energy, agent has to step back\n",
    "    lastLocation = []\n",
    "    lastDirection = Direction(\"down\")\n",
    "    visitedList = []\n",
    "    \n",
    "    def moveForward(self, success=True):\n",
    "        '''moveforward possible only if success (i.e. valid destination location)'''\n",
    "        if not success:\n",
    "            return\n",
    "        self.lastLocation = copy.deepcopy(self.location)\n",
    "        \n",
    "        if self.direction.direction == Direction.R:\n",
    "            self.location[0] += 1\n",
    "        elif self.direction.direction == Direction.L:\n",
    "            self.location[0] -= 1\n",
    "        elif self.direction.direction == Direction.D:\n",
    "            self.location[1] += 1\n",
    "        elif self.direction.direction == Direction.U:\n",
    "            self.location[1] -= 1\n",
    "\n",
    "        if self.checkWolf():\n",
    "            self.location = copy.deepcopy(self.lastLocation)\n",
    "            self.turn(Direction.R)\n",
    "            self.energy += 10\n",
    "            print(\"Wolf was detected here before, do not step, turn\")\n",
    "            return False\n",
    "        if self.location in self.visitedList:\n",
    "            self.turn(Direction.R)\n",
    "            print(\"Place was already visited\")\n",
    "            return False\n",
    "        else:\n",
    "            self.visitedList.append(copy.deepcopy(self.location))\n",
    "\n",
    "        self.energy -= 1\n",
    "        self.check_energy()\n",
    "        return True\n",
    "    \n",
    "    def turn(self, d):\n",
    "        self.lastDirection = self.direction\n",
    "        self.direction = self.direction + d\n",
    "        self.energy -= 1\n",
    "        self.check_energy()\n",
    "\n",
    "    def checkWolf(self):\n",
    "        if len(self.wolves) > 0:\n",
    "            if self.location in self.wolves:\n",
    "                return True\n",
    "        return False\n",
    "    \n",
    "    def stepBack(self):\n",
    "        self.location = self.lastDirection\n",
    "        self.direction = self.lastDirection\n",
    "        self.energy -= 1\n",
    "        \n",
    "    def eatBerry(self, thing):\n",
    "        '''returns True upon success or False otherwise'''\n",
    "        if isinstance(thing, Berry):\n",
    "            self.energy += 1\n",
    "            return True\n",
    "        return False\n",
    "    \n",
    "    def eatMushroom(self, thing):\n",
    "        ''' returns True upon success or False otherwise'''\n",
    "        if isinstance(thing, Mushroom):\n",
    "            self.energy += 2\n",
    "            return True\n",
    "        return False\n",
    "    \n",
    "    def meetWolf(self, thing):\n",
    "        '''returns True upon success or False otherwise'''\n",
    "        if isinstance(thing, Wolf) and self.energy > 15:\n",
    "            self.energy -= 10\n",
    "            #self.check_energy()\n",
    "            self.wolves.append(self.location)\n",
    "            return True\n",
    "        return False\n",
    "\n",
    "    def meetFriend(self, thing):\n",
    "        ''' returns True upon success or False otherwise'''\n",
    "        self.sleeping = True\n",
    "        return True\n",
    "    \n",
    "    def isComplete(self):\n",
    "        return self.sleeping\n",
    "    \n",
    "    def check_energy(self):\n",
    "        if self.energy <= 0:\n",
    "            self.sleeping = True\n",
    "            print('Agent has run out of energy')\n",
    "    \n",
    "    \n",
    "#End class Agent"
   ]
  },
  {
   "cell_type": "code",
   "execution_count": 53,
   "metadata": {},
   "outputs": [
    {
     "name": "stdout",
     "output_type": "stream",
     "text": [
      "Rrh starts at (1,1) facing downwards\n",
      "ReflexWalker decided to turnright at location: [0, 1]\n",
      "ReflexWalker decided to turnleft at location: [0, 1]\n",
      "ReflexWalker decided to turnright at location: [0, 1]\n",
      "ReflexWalker decided to turnleft at location: [0, 1]\n",
      "ReflexWalker decided to move downwards at location: [0, 1]\n",
      "Move not advised\n",
      "ReflexWalker ate  Berry at location [0, 2]\n",
      "ReflexWalker decided to turnleft at location: [0, 2]\n",
      "ReflexWalker decided to move rightwards at location: [0, 2]\n",
      "Move not advised\n",
      "ReflexWalker decided to turnright at location: [1, 2]\n",
      "ReflexWalker decided to turnright at location: [1, 2]\n",
      "ReflexWalker decided to move leftwards at location: [1, 2]\n",
      "Move not advised\n",
      "ReflexWalker decided to turnleft at location: [0, 2]\n",
      "ReflexWalker decided to move downwards at location: [0, 2]\n",
      "Move not advised\n",
      "ReflexWalker decided to turnright at location: [0, 3]\n",
      "ReflexWalker decided to turnright at location: [0, 3]\n",
      "ReflexWalker decided to turnright at location: [0, 3]\n",
      "ReflexWalker decided to turnright at location: [0, 3]\n",
      "ReflexWalker decided to turnleft at location: [0, 3]\n",
      "ReflexWalker decided to turnright at location: [0, 3]\n",
      "ReflexWalker decided to move downwards at location: [0, 3]\n",
      "Move not advised\n",
      "ReflexWalker ate  Berry at location [0, 4]\n",
      "ReflexWalker decided to turnleft at location: [0, 4]\n",
      "ReflexWalker decided to turnright at location: [0, 4]\n",
      "ReflexWalker decided to turnright at location: [0, 4]\n",
      "ReflexWalker decided to turnright at location: [0, 4]\n",
      "ReflexWalker decided to move upwards at location: [0, 4]\n",
      "Move not advised\n",
      "ReflexWalker decided to turnleft at location: [0, 3]\n",
      "ReflexWalker decided to turnleft at location: [0, 3]\n",
      "ReflexWalker decided to move downwards at location: [0, 3]\n",
      "Move not advised\n",
      "ReflexWalker decided to turnleft at location: [0, 4]\n",
      "ReflexWalker decided to move rightwards at location: [0, 4]\n",
      "Move not advised\n",
      "ReflexWalker decided to turnright at location: [1, 4]\n",
      "ReflexWalker decided to turnright at location: [1, 4]\n",
      "ReflexWalker decided to move leftwards at location: [1, 4]\n",
      "Move not advised\n",
      "ReflexWalker decided to turnright at location: [0, 4]\n",
      "ReflexWalker decided to move upwards at location: [0, 4]\n",
      "Move not advised\n",
      "ReflexWalker decided to move upwards at location: [0, 3]\n",
      "Move not advised\n",
      "ReflexWalker decided to turnleft at location: [0, 2]\n",
      "ReflexWalker decided to turnleft at location: [0, 2]\n",
      "ReflexWalker decided to move downwards at location: [0, 2]\n",
      "Move not advised\n",
      "ReflexWalker decided to turnright at location: [0, 3]\n",
      "ReflexWalker decided to turnright at location: [0, 3]\n",
      "ReflexWalker decided to move upwards at location: [0, 3]\n",
      "Move not advised\n",
      "ReflexWalker decided to move upwards at location: [0, 2]\n",
      "Move not advised\n",
      "ReflexWalker decided to move upwards at location: [0, 1]\n",
      "Move not advised\n",
      "ReflexWalker decided to turnleft at location: [0, 0]\n",
      "ReflexWalker decided to turnright at location: [0, 0]\n",
      "ReflexWalker decided to turnright at location: [0, 0]\n",
      "ReflexWalker decided to turnleft at location: [0, 0]\n",
      "ReflexWalker decided to turnright at location: [0, 0]\n",
      "ReflexWalker decided to move rightwards at location: [0, 0]\n",
      "Move not advised\n",
      "ReflexWalker decided to move rightwards at location: [1, 0]\n",
      "Move not advised\n",
      "ReflexWalker decided to turnleft at location: [2, 0]\n",
      "ReflexWalker decided to turnright at location: [2, 0]\n",
      "ReflexWalker decided to turnleft at location: [2, 0]\n",
      "ReflexWalker decided to turnleft at location: [2, 0]\n",
      "ReflexWalker decided to move leftwards at location: [2, 0]\n",
      "Move not advised\n",
      "ReflexWalker decided to turnleft at location: [1, 0]\n",
      "ReflexWalker decided to move downwards at location: [1, 0]\n",
      "Move not advised\n",
      "ReflexWalker ate  Berry at location [1, 1]\n",
      "ReflexWalker decided to turnleft at location: [1, 1]\n",
      "ReflexWalker decided to turnright at location: [1, 1]\n",
      "ReflexWalker decided to move downwards at location: [1, 1]\n",
      "Move not advised\n",
      "ReflexWalker decided to move downwards at location: [1, 2]\n",
      "Move not advised\n",
      "ReflexWalker decided to move downwards at location: [1, 3]\n",
      "Move not advised\n",
      "ReflexWalker decided to turnright at location: [1, 4]\n",
      "ReflexWalker decided to move leftwards at location: [1, 4]\n",
      "Move not advised\n",
      "ReflexWalker decided to turnright at location: [0, 4]\n",
      "ReflexWalker decided to turnleft at location: [0, 4]\n",
      "ReflexWalker decided to turnleft at location: [0, 4]\n",
      "ReflexWalker decided to turnright at location: [0, 4]\n",
      "ReflexWalker decided to turnleft at location: [0, 4]\n",
      "ReflexWalker decided to turnright at location: [0, 4]\n",
      "ReflexWalker decided to turnleft at location: [0, 4]\n",
      "ReflexWalker decided to turnleft at location: [0, 4]\n",
      "ReflexWalker decided to move rightwards at location: [0, 4]\n",
      "Move not advised\n",
      "ReflexWalker decided to turnright at location: [1, 4]\n",
      "ReflexWalker decided to turnleft at location: [1, 4]\n",
      "ReflexWalker decided to turnright at location: [1, 4]\n",
      "ReflexWalker decided to turnright at location: [1, 4]\n",
      "ReflexWalker decided to turnleft at location: [1, 4]\n",
      "ReflexWalker decided to turnright at location: [1, 4]\n",
      "ReflexWalker decided to move leftwards at location: [1, 4]\n",
      "Move not advised\n",
      "ReflexWalker decided to turnleft at location: [0, 4]\n",
      "ReflexWalker decided to turnleft at location: [0, 4]\n",
      "ReflexWalker decided to turnleft at location: [0, 4]\n",
      "ReflexWalker decided to move upwards at location: [0, 4]\n",
      "Move not advised\n",
      "ReflexWalker decided to turnleft at location: [0, 3]\n",
      "ReflexWalker decided to turnright at location: [0, 3]\n",
      "ReflexWalker decided to move upwards at location: [0, 3]\n",
      "Move not advised\n",
      "ReflexWalker decided to move upwards at location: [0, 2]\n",
      "Move not advised\n",
      "ReflexWalker decided to turnright at location: [0, 1]\n",
      "ReflexWalker decided to turnleft at location: [0, 1]\n",
      "ReflexWalker decided to turnright at location: [0, 1]\n",
      "ReflexWalker decided to turnright at location: [0, 1]\n",
      "ReflexWalker decided to move downwards at location: [0, 1]\n",
      "Move not advised\n",
      "ReflexWalker decided to move downwards at location: [0, 2]\n",
      "Move not advised\n",
      "ReflexWalker decided to turnleft at location: [0, 3]\n",
      "ReflexWalker decided to turnright at location: [0, 3]\n",
      "ReflexWalker decided to turnleft at location: [0, 3]\n",
      "ReflexWalker decided to turnright at location: [0, 3]\n",
      "ReflexWalker decided to move downwards at location: [0, 3]\n",
      "Move not advised\n",
      "ReflexWalker decided to turnright at location: [0, 4]\n",
      "ReflexWalker decided to turnleft at location: [0, 4]\n",
      "ReflexWalker decided to turnleft at location: [0, 4]\n",
      "ReflexWalker decided to turnright at location: [0, 4]\n",
      "ReflexWalker decided to turnright at location: [0, 4]\n",
      "ReflexWalker decided to turnright at location: [0, 4]\n",
      "ReflexWalker decided to turnleft at location: [0, 4]\n",
      "ReflexWalker decided to turnright at location: [0, 4]\n",
      "ReflexWalker decided to turnleft at location: [0, 4]\n",
      "ReflexWalker decided to turnright at location: [0, 4]\n",
      "ReflexWalker decided to turnleft at location: [0, 4]\n",
      "ReflexWalker decided to turnleft at location: [0, 4]\n",
      "ReflexWalker decided to turnright at location: [0, 4]\n",
      "ReflexWalker decided to turnleft at location: [0, 4]\n",
      "ReflexWalker decided to turnright at location: [0, 4]\n",
      "ReflexWalker decided to turnright at location: [0, 4]\n",
      "ReflexWalker decided to turnleft at location: [0, 4]\n",
      "ReflexWalker decided to turnleft at location: [0, 4]\n",
      "ReflexWalker decided to turnleft at location: [0, 4]\n",
      "ReflexWalker decided to move rightwards at location: [0, 4]\n",
      "Move not advised\n",
      "ReflexWalker decided to move rightwards at location: [1, 4]\n",
      "Move not advised\n",
      "ReflexWalker decided to turnleft at location: [2, 4]\n",
      "ReflexWalker decided to turnleft at location: [2, 4]\n",
      "ReflexWalker decided to turnleft at location: [2, 4]\n",
      "ReflexWalker decided to turnleft at location: [2, 4]\n",
      "ReflexWalker decided to turnleft at location: [2, 4]\n",
      "ReflexWalker decided to move upwards at location: [2, 4]\n",
      "Move not advised\n",
      "ReflexWalker decided to turnleft at location: [2, 3]\n",
      "ReflexWalker decided to turnright at location: [2, 3]\n",
      "ReflexWalker decided to move upwards at location: [2, 3]\n",
      "Move not advised\n",
      "ReflexWalker decided to turnleft at location: [2, 2]\n",
      "ReflexWalker decided to move leftwards at location: [2, 2]\n",
      "Move not advised\n",
      "ReflexWalker decided to move leftwards at location: [1, 2]\n",
      "Move not advised\n",
      "ReflexWalker decided to turnright at location: [0, 2]\n",
      "ReflexWalker decided to turnright at location: [0, 2]\n",
      "ReflexWalker decided to turnleft at location: [0, 2]\n",
      "ReflexWalker decided to turnleft at location: [0, 2]\n",
      "ReflexWalker decided to turnright at location: [0, 2]\n",
      "ReflexWalker decided to move upwards at location: [0, 2]\n",
      "Move not advised\n",
      "ReflexWalker decided to move upwards at location: [0, 1]\n",
      "Move not advised\n",
      "ReflexWalker decided to turnright at location: [0, 0]\n",
      "ReflexWalker decided to move rightwards at location: [0, 0]\n",
      "Move not advised\n",
      "ReflexWalker decided to move rightwards at location: [1, 0]\n",
      "Move not advised\n",
      "ReflexWalker decided to move rightwards at location: [2, 0]\n",
      "Move not advised\n",
      "ReflexWalker decided to move rightwards at location: [3, 0]\n",
      "Move not advised\n",
      "ReflexWalker decided to turnright at location: [4, 0]\n",
      "ReflexWalker decided to move downwards at location: [4, 0]\n",
      "Move not advised\n",
      "ReflexWalker met Wolf at location [4, 1] and killed it, Grrrrrr\n"
     ]
    }
   ],
   "source": [
    "# Initial set of the 2D world is set to 5x5, but can be changed as required\n",
    "df = DarkForest(5,5)\n",
    "man = ReflexWalker(program)\n",
    "\n",
    "# Additional objects can be added to the world as needed\n",
    "df.add_thing(man, [0,1])\n",
    "df.add_thing(Berry(), [0,2])\n",
    "df.add_thing(Berry(), [0,4])\n",
    "df.add_thing(Friend(), [4,4])\n",
    "df.add_thing(Berry(), [1,1])\n",
    "df.add_thing(Mushroom(), [2,1])\n",
    "df.add_thing(Mushroom(), [3,1])\n",
    "df.add_thing(Wolf(), [4,1])\n",
    "df.add_thing(Wolf(), [4,2])\n",
    "df.add_thing(Wolf(), [4,3])\n",
    "df.add_thing(Wolf(), [3,3])\n",
    "\n",
    "#Initial run for the Rrh is 100 moves, that is to demonstrate that in most of the cases it cannot find the grandma, \n",
    "#even as the number of steps exceeds number of tiles  \n",
    "print(\"Rrh starts at (1,1) facing downwards\")\n",
    "df.run(150)"
   ]
  },
  {
   "cell_type": "markdown",
   "metadata": {},
   "source": [
    "## 1.3 Goal-based agent\n",
    "**PEAS description:**\n",
    "-\tPerformance measure: Reach grandma house in fastest way, maintain energy level\n",
    "-\tEnvironment: Forest, wolves, berries, mushrooms, grandma\n",
    "-\tActuators:  leg movement motors, pick motors, vision movement motors\n",
    "-\tSensors: vision sensor, location sensor, energy sensor\n",
    "\n",
    "The goal-based agent is the extension of model reflex agent above, with addition of a goal: reach grandma house in an optimal way. The agent keeps the state of the world as per model agent, but it does not move randomly. This agent knows the location of the grandma house (the goal), but due to partial observability of the environment, it does not know where the obstacles are. Rules for obstacles are same as the model based agent, but movement is based on the optimal direction to the grandma house (maximisation of the goal, or the utility if we would consider it a utility agent), by calculating the distance to the destination. The agent only moves in the optimal direction, or avoids the obstacles.\n",
    "\n",
    "**Discussion:**\n",
    "This is the most advanced agent from the three above. It manages to navigate its way in the largest environments, due to its goal setting – the agent will not wonder randomly through the board in search for the grandma house, it will move intentionally in the direction of the goal. The goal based agents are definitely more efficient than the reflex ones, but they require even more complexity added to the goal state evaluation.\n"
   ]
  },
  {
   "cell_type": "code",
   "execution_count": 55,
   "metadata": {},
   "outputs": [],
   "source": [
    "#Environment\n",
    "class DarkForest(GraphicEnvironment):\n",
    "\n",
    "    def percept(self, agent):\n",
    "        '''return a list of things that are in our agent's location'''\n",
    "        things = self.list_things_at(agent.location)\n",
    "        loc = copy.deepcopy(agent.location) # find out the target location\n",
    "        \n",
    "        #Check if agent is about to bump into a wall\n",
    "        if agent.direction.direction == Direction.R:\n",
    "            loc[0] += 1\n",
    "        elif agent.direction.direction == Direction.L:\n",
    "            loc[0] -= 1\n",
    "        elif agent.direction.direction == Direction.D:\n",
    "            loc[1] += 1\n",
    "        elif agent.direction.direction == Direction.U:\n",
    "            loc[1] -= 1\n",
    "        if not self.is_inbounds(loc):\n",
    "            things.append(Bump())\n",
    "        return things\n",
    "    \n",
    "    def execute_action(self, agent, action):\n",
    "        '''changes the state of the environment based on what the agent does.'''\n",
    "        if action == 'turnright':\n",
    "            print('{} decided to {} at location: {} and is facing'.format(str(agent)[1:-1], action, agent.location, agent.direction.direction))\n",
    "            agent.turn(Direction.R)\n",
    "        elif action == 'turnleft':\n",
    "            print('{} decided to {} at location: {} and is facing {}'.format(str(agent)[1:-1], action, agent.location, agent.direction.direction))\n",
    "            agent.turn(Direction.L)\n",
    "        elif action == 'moveforward':\n",
    "            print('{} is thinking to move {}wards at location: {}'.format(str(agent)[1:-1], agent.direction.direction, agent.location))\n",
    "            move, why = agent.moveForward()\n",
    "            if move:\n",
    "                print('{} moved {}wards at location: {}'.format(str(agent)[1:-1], agent.direction.direction, agent.location))\n",
    "            else:\n",
    "                print('{} abandoned idea to move {}wards at location: {} because {}'.format(str(agent)[1:-1], agent.direction.direction, agent.location, why))\n",
    "        elif action == \"eatMushroom\":\n",
    "            items = self.list_things_at(agent.location, tclass=Mushroom)\n",
    "            if len(items) != 0:\n",
    "                if agent.eatMushroom(items[0]):\n",
    "                    print('{} ate  {} at location {}'.format(str(agent)[1:-1], str(items[0])[1:-1], agent.location))\n",
    "                    self.delete_thing(items[0])\n",
    "        elif action == \"eatBerry\":\n",
    "            items = self.list_things_at(agent.location, tclass=Berry)\n",
    "            if len(items) != 0:\n",
    "                if agent.eatBerry(items[0]): \n",
    "                    print('{} ate  {} at location {}'.format(str(agent)[1:-1], str(items[0])[1:-1], agent.location))\n",
    "                    self.delete_thing(items[0])\n",
    "        elif action == \"meetWolf\":\n",
    "            items = self.list_things_at(agent.location, tclass=Wolf)\n",
    "            if len(items) != 0:\n",
    "                if agent.meetWolf(items[0]):\n",
    "                    print('{} met {} at location {} and got scared, Grrrrrr'.format(str(agent)[1:-1], str(items[0])[1:-1], agent.location))\n",
    "                    #self.delete_thing(items[0])\n",
    "                else:\n",
    "                    agent.stepBack()\n",
    "                    print('{} met {} at location {} and stepped back'.format(str(agent)[1:-1], str(items[0])[1:-1], agent.location))\n",
    "        elif action == \"fightWolf\":\n",
    "            items = self.list_things_at(agent.location, tclass=Wolf)\n",
    "            if len(items) != 0:\n",
    "                if agent.meetWolf(items[0]):\n",
    "                    print('{} met {} at location {} and killed it, Grrrrrr'\n",
    "                          .format(str(agent)[1:-1], str(items[0])[1:-1], agent.location))\n",
    "                    self.delete_thing(items[0])\n",
    "        elif action == \"meetGrandma\":\n",
    "            items = self.list_things_at(agent.location, tclass=Grandma)\n",
    "            if len(items) != 0:\n",
    "                if agent.meetGrandma(items[0]):\n",
    "                    print('{} found a {} at location {} and is happy'\n",
    "                          .format(str(agent)[1:-1], str(items[0])[1:-1], agent.location))\n",
    "                    self.delete_thing(items[0])\n",
    "               \n",
    "                    \n",
    "    def is_done(self):\n",
    "        \n",
    "        dead_agents = not any(agent.is_alive() for agent in self.agents)\n",
    "        complete_agents = all(agent.isComplete() for agent in self.agents)\n",
    "        return dead_agents or complete_agents\n",
    "#End Class\n"
   ]
  },
  {
   "cell_type": "code",
   "execution_count": 56,
   "metadata": {},
   "outputs": [],
   "source": [
    "#Class Agent\n",
    "class GoalWalker(Agent):\n",
    "   \n",
    "    \n",
    "\n",
    "    def __init__(self, program=None):\n",
    "        self.location = [0,1]\n",
    "        self.direction = Direction(\"down\")\n",
    "        self.complete = False\n",
    "        self.energy = 25\n",
    "        self.wolves = []\n",
    "        #Used if wolf is encountered and not enough energy, agent has to step back\n",
    "        self.lastLocation = []\n",
    "        self.lastDirection = Direction(\"down\")\n",
    "        self.visitedList = []\n",
    "        self.desiredLocation = [4,4]\n",
    "        self.currentDistance = self.calculateDistance(self.location[0], self.location[1], self.desiredLocation[0], self.desiredLocation[1])\n",
    "\n",
    "        super().__init__(program)\n",
    "    \n",
    "    \n",
    "    def moveForward(self, success=True):\n",
    "        '''moveforward possible only if success (i.e. valid destination location)'''\n",
    "        if not success:\n",
    "            return\n",
    "        self.lastLocation = copy.deepcopy(self.location)\n",
    "        \n",
    "        if self.direction.direction == Direction.R:\n",
    "            self.location[0] += 1\n",
    "        elif self.direction.direction == Direction.L:\n",
    "            self.location[0] -= 1\n",
    "        elif self.direction.direction == Direction.D:\n",
    "            self.location[1] += 1\n",
    "        elif self.direction.direction == Direction.U:\n",
    "            self.location[1] -= 1\n",
    "\n",
    "        if self.checkWolf():\n",
    "            self.location = copy.deepcopy(self.lastLocation)\n",
    "            self.turn(Direction.R)\n",
    "            self.energy += 10\n",
    "            \n",
    "            return False, \"Wolf was detected here before, do not step, turn\"\n",
    "        if self.location in self.visitedList:\n",
    "            self.turn(Direction.R)\n",
    "            \n",
    "            return False, \"Place was already visited\"\n",
    "            \n",
    "        elif self.evaluateGoal():\n",
    "             self.visitedList.append(copy.deepcopy(self.location))\n",
    "             return True, \"OK\"\n",
    "        else:\n",
    "            self.location = copy.deepcopy(self.lastLocation)\n",
    "            self.turn(Direction.R)\n",
    "            return False, \"Worse distance\"\n",
    "\n",
    "\n",
    "        \n",
    "        \n",
    "        self.energy -= 1\n",
    "        self.check_energy()\n",
    "        return True\n",
    "    \n",
    "    def turn(self, d):\n",
    "        self.lastDirection = copy.deepcopy(self.direction)\n",
    "        self.direction = self.direction + d\n",
    "        \n",
    "\n",
    "    def checkWolf(self):\n",
    "        if len(self.wolves) > 0:\n",
    "            if self.location in self.wolves:\n",
    "                return True\n",
    "        return False\n",
    "    \n",
    "    def stepBack(self):\n",
    "        self.location = copy.deepcopy(self.lastLocation)\n",
    "        self.currentDistance = self.calculateDistance(self.location[0], self.location[1], self.desiredLocation[0], self.desiredLocation[1])\n",
    "        self.direction = self.lastDirection + Direction.R\n",
    "        self.energy -= 1\n",
    "        \n",
    "    def eatBerry(self, thing):\n",
    "        '''returns True upon success or False otherwise'''\n",
    "        if isinstance(thing, Berry):\n",
    "            self.energy += 1\n",
    "            return True\n",
    "        return False\n",
    "    \n",
    "    def eatMushroom(self, thing):\n",
    "        ''' returns True upon success or False otherwise'''\n",
    "        if isinstance(thing, Mushroom):\n",
    "            self.energy += 2\n",
    "            return True\n",
    "        return False\n",
    "    \n",
    "    def meetWolf(self, thing):\n",
    "        '''returns True upon success or False otherwise'''\n",
    "        if isinstance(thing, Wolf) and self.energy > 15:\n",
    "            self.energy -= 10\n",
    "            #self.check_energy()\n",
    "            self.wolves.append(copy.deepcopy(self.location))\n",
    "            return True\n",
    "        return False\n",
    "\n",
    "    def meetGrandma(self, thing):\n",
    "        ''' returns True upon success or False otherwise'''\n",
    "        self.complete = True\n",
    "        return True\n",
    "    \n",
    "    def isComplete(self):\n",
    "        return self.complete\n",
    "\n",
    "    def calculateDistance(self, x1, y1, x2, y2) :\n",
    "        distance = nint( sqrt( (x1 - x2)**2 + (y1 - y2)**2) )\n",
    "        return float(distance)\n",
    "    \n",
    "    def check_energy(self):\n",
    "        if self.energy <= 0:\n",
    "            self.happy = True\n",
    "            print('Agent has run out of energy')\n",
    "\n",
    "    def evaluateGoal(self):\n",
    "        distance = self.calculateDistance(self.location[0], self.location[1], self.desiredLocation[0], self.desiredLocation[1])\n",
    "        if distance <= self.currentDistance:\n",
    "            self.currentDistance = distance\n",
    "            return True\n",
    "        return False\n",
    "\n",
    "\n",
    "    \n",
    "    \n",
    "#End class Agent\n"
   ]
  },
  {
   "cell_type": "code",
   "execution_count": 57,
   "metadata": {},
   "outputs": [],
   "source": [
    "\n",
    "#Program\n",
    "def program(percepts):\n",
    "    turn = True\n",
    "    for p in percepts:\n",
    "        if isinstance(p, Berry):\n",
    "            return 'eatBerry'\n",
    "        elif isinstance(p, Mushroom):\n",
    "            return 'eatMushroom'\n",
    "        elif isinstance(p, Wolf):\n",
    "            return 'meetWolf'\n",
    "        elif isinstance(p, Grandma):\n",
    "            return 'meetGrandma'\n",
    "        if isinstance(p,Bump): # then check if you are at an edge and have to turn\n",
    "            turn = False\n",
    "            choice = random.choice((1,2));\n",
    "        elif turn:\n",
    "            choice = random.choice((3,4)) # 1-right, 2-left, others-forward\n",
    "        else:\n",
    "             choice = random.choice((1, 2, 3, 4))\n",
    "    if choice == 1:\n",
    "        turn = True\n",
    "        return 'turnright'\n",
    "    elif choice == 2:\n",
    "        turn = True\n",
    "        return 'turnleft'\n",
    "    else:\n",
    "        turn = False\n",
    "        return 'moveforward'\n",
    "#end method"
   ]
  },
  {
   "cell_type": "code",
   "execution_count": 58,
   "metadata": {},
   "outputs": [
    {
     "name": "stdout",
     "output_type": "stream",
     "text": [
      "Walker starts at (1,1) facing downwards\n"
     ]
    },
    {
     "data": {
      "text/html": [
       "<style type=\"text/css\">table.blockgrid {border: none;} .blockgrid tr {border: none;} .blockgrid td {padding: 0px;} #blocks8782dad2-c25c-4cde-9236-b5b1ee22d88f td {border: 1px solid white;}</style><table id=\"blocks8782dad2-c25c-4cde-9236-b5b1ee22d88f\" class=\"blockgrid\"><tbody><tr><td title=\"Index: [0, 0]&#10;Color: (255, 0, 0)\" style=\"width: 20px; height: 20px;background-color: rgb(255, 0, 0);\"></td><td title=\"Index: [0, 1]&#10;Color: (200, 200, 200)\" style=\"width: 20px; height: 20px;background-color: rgb(200, 200, 200);\"></td><td title=\"Index: [0, 2]&#10;Color: (200, 200, 200)\" style=\"width: 20px; height: 20px;background-color: rgb(200, 200, 200);\"></td><td title=\"Index: [0, 3]&#10;Color: (200, 200, 200)\" style=\"width: 20px; height: 20px;background-color: rgb(200, 200, 200);\"></td><td title=\"Index: [0, 4]&#10;Color: (200, 200, 200)\" style=\"width: 20px; height: 20px;background-color: rgb(200, 200, 200);\"></td></tr><tr><td title=\"Index: [1, 0]&#10;Color: (23, 19, 110)\" style=\"width: 20px; height: 20px;background-color: rgb(23, 19, 110);\"></td><td title=\"Index: [1, 1]&#10;Color: (200, 200, 200)\" style=\"width: 20px; height: 20px;background-color: rgb(200, 200, 200);\"></td><td title=\"Index: [1, 2]&#10;Color: (110, 91, 91)\" style=\"width: 20px; height: 20px;background-color: rgb(110, 91, 91);\"></td><td title=\"Index: [1, 3]&#10;Color: (23, 19, 110)\" style=\"width: 20px; height: 20px;background-color: rgb(23, 19, 110);\"></td><td title=\"Index: [1, 4]&#10;Color: (200, 200, 200)\" style=\"width: 20px; height: 20px;background-color: rgb(200, 200, 200);\"></td></tr><tr><td title=\"Index: [2, 0]&#10;Color: (110, 91, 91)\" style=\"width: 20px; height: 20px;background-color: rgb(110, 91, 91);\"></td><td title=\"Index: [2, 1]&#10;Color: (200, 200, 200)\" style=\"width: 20px; height: 20px;background-color: rgb(200, 200, 200);\"></td><td title=\"Index: [2, 2]&#10;Color: (222, 213, 40)\" style=\"width: 20px; height: 20px;background-color: rgb(222, 213, 40);\"></td><td title=\"Index: [2, 3]&#10;Color: (200, 200, 200)\" style=\"width: 20px; height: 20px;background-color: rgb(200, 200, 200);\"></td><td title=\"Index: [2, 4]&#10;Color: (110, 91, 91)\" style=\"width: 20px; height: 20px;background-color: rgb(110, 91, 91);\"></td></tr><tr><td title=\"Index: [3, 0]&#10;Color: (200, 200, 200)\" style=\"width: 20px; height: 20px;background-color: rgb(200, 200, 200);\"></td><td title=\"Index: [3, 1]&#10;Color: (200, 200, 200)\" style=\"width: 20px; height: 20px;background-color: rgb(200, 200, 200);\"></td><td title=\"Index: [3, 2]&#10;Color: (110, 91, 91)\" style=\"width: 20px; height: 20px;background-color: rgb(110, 91, 91);\"></td><td title=\"Index: [3, 3]&#10;Color: (200, 200, 200)\" style=\"width: 20px; height: 20px;background-color: rgb(200, 200, 200);\"></td><td title=\"Index: [3, 4]&#10;Color: (200, 200, 200)\" style=\"width: 20px; height: 20px;background-color: rgb(200, 200, 200);\"></td></tr><tr><td title=\"Index: [4, 0]&#10;Color: (110, 91, 91)\" style=\"width: 20px; height: 20px;background-color: rgb(110, 91, 91);\"></td><td title=\"Index: [4, 1]&#10;Color: (200, 200, 200)\" style=\"width: 20px; height: 20px;background-color: rgb(200, 200, 200);\"></td><td title=\"Index: [4, 2]&#10;Color: (200, 200, 200)\" style=\"width: 20px; height: 20px;background-color: rgb(200, 200, 200);\"></td><td title=\"Index: [4, 3]&#10;Color: (222, 213, 40)\" style=\"width: 20px; height: 20px;background-color: rgb(222, 213, 40);\"></td><td title=\"Index: [4, 4]&#10;Color: (0, 0, 0)\" style=\"width: 20px; height: 20px;background-color: rgb(0, 0, 0);\"></td></tr></tbody></table>"
      ],
      "text/plain": [
       "<IPython.core.display.HTML object>"
      ]
     },
     "metadata": {},
     "output_type": "display_data"
    },
    {
     "name": "stdout",
     "output_type": "stream",
     "text": [
      "GoalWalker is thinking to move downwards at location: [0, 0]\n",
      "GoalWalker moved downwards at location: [0, 1]\n"
     ]
    },
    {
     "data": {
      "text/html": [],
      "text/plain": [
       "<IPython.core.display.HTML object>"
      ]
     },
     "metadata": {},
     "output_type": "display_data"
    },
    {
     "data": {
      "text/html": [
       "<style type=\"text/css\">table.blockgrid {border: none;} .blockgrid tr {border: none;} .blockgrid td {padding: 0px;} #blocks0162487b-f178-4078-8a00-075dddab945c td {border: 1px solid white;}</style><table id=\"blocks0162487b-f178-4078-8a00-075dddab945c\" class=\"blockgrid\"><tbody><tr><td title=\"Index: [0, 0]&#10;Color: (200, 200, 200)\" style=\"width: 20px; height: 20px;background-color: rgb(200, 200, 200);\"></td><td title=\"Index: [0, 1]&#10;Color: (200, 200, 200)\" style=\"width: 20px; height: 20px;background-color: rgb(200, 200, 200);\"></td><td title=\"Index: [0, 2]&#10;Color: (200, 200, 200)\" style=\"width: 20px; height: 20px;background-color: rgb(200, 200, 200);\"></td><td title=\"Index: [0, 3]&#10;Color: (200, 200, 200)\" style=\"width: 20px; height: 20px;background-color: rgb(200, 200, 200);\"></td><td title=\"Index: [0, 4]&#10;Color: (200, 200, 200)\" style=\"width: 20px; height: 20px;background-color: rgb(200, 200, 200);\"></td></tr><tr><td title=\"Index: [1, 0]&#10;Color: (255, 0, 0)\" style=\"width: 20px; height: 20px;background-color: rgb(255, 0, 0);\"></td><td title=\"Index: [1, 1]&#10;Color: (200, 200, 200)\" style=\"width: 20px; height: 20px;background-color: rgb(200, 200, 200);\"></td><td title=\"Index: [1, 2]&#10;Color: (110, 91, 91)\" style=\"width: 20px; height: 20px;background-color: rgb(110, 91, 91);\"></td><td title=\"Index: [1, 3]&#10;Color: (23, 19, 110)\" style=\"width: 20px; height: 20px;background-color: rgb(23, 19, 110);\"></td><td title=\"Index: [1, 4]&#10;Color: (200, 200, 200)\" style=\"width: 20px; height: 20px;background-color: rgb(200, 200, 200);\"></td></tr><tr><td title=\"Index: [2, 0]&#10;Color: (110, 91, 91)\" style=\"width: 20px; height: 20px;background-color: rgb(110, 91, 91);\"></td><td title=\"Index: [2, 1]&#10;Color: (200, 200, 200)\" style=\"width: 20px; height: 20px;background-color: rgb(200, 200, 200);\"></td><td title=\"Index: [2, 2]&#10;Color: (222, 213, 40)\" style=\"width: 20px; height: 20px;background-color: rgb(222, 213, 40);\"></td><td title=\"Index: [2, 3]&#10;Color: (200, 200, 200)\" style=\"width: 20px; height: 20px;background-color: rgb(200, 200, 200);\"></td><td title=\"Index: [2, 4]&#10;Color: (110, 91, 91)\" style=\"width: 20px; height: 20px;background-color: rgb(110, 91, 91);\"></td></tr><tr><td title=\"Index: [3, 0]&#10;Color: (200, 200, 200)\" style=\"width: 20px; height: 20px;background-color: rgb(200, 200, 200);\"></td><td title=\"Index: [3, 1]&#10;Color: (200, 200, 200)\" style=\"width: 20px; height: 20px;background-color: rgb(200, 200, 200);\"></td><td title=\"Index: [3, 2]&#10;Color: (110, 91, 91)\" style=\"width: 20px; height: 20px;background-color: rgb(110, 91, 91);\"></td><td title=\"Index: [3, 3]&#10;Color: (200, 200, 200)\" style=\"width: 20px; height: 20px;background-color: rgb(200, 200, 200);\"></td><td title=\"Index: [3, 4]&#10;Color: (200, 200, 200)\" style=\"width: 20px; height: 20px;background-color: rgb(200, 200, 200);\"></td></tr><tr><td title=\"Index: [4, 0]&#10;Color: (110, 91, 91)\" style=\"width: 20px; height: 20px;background-color: rgb(110, 91, 91);\"></td><td title=\"Index: [4, 1]&#10;Color: (200, 200, 200)\" style=\"width: 20px; height: 20px;background-color: rgb(200, 200, 200);\"></td><td title=\"Index: [4, 2]&#10;Color: (200, 200, 200)\" style=\"width: 20px; height: 20px;background-color: rgb(200, 200, 200);\"></td><td title=\"Index: [4, 3]&#10;Color: (222, 213, 40)\" style=\"width: 20px; height: 20px;background-color: rgb(222, 213, 40);\"></td><td title=\"Index: [4, 4]&#10;Color: (0, 0, 0)\" style=\"width: 20px; height: 20px;background-color: rgb(0, 0, 0);\"></td></tr></tbody></table>"
      ],
      "text/plain": [
       "<IPython.core.display.HTML object>"
      ]
     },
     "metadata": {},
     "output_type": "display_data"
    },
    {
     "name": "stdout",
     "output_type": "stream",
     "text": [
      "GoalWalker ate  Berry at location [0, 1]\n"
     ]
    },
    {
     "data": {
      "text/html": [],
      "text/plain": [
       "<IPython.core.display.HTML object>"
      ]
     },
     "metadata": {},
     "output_type": "display_data"
    },
    {
     "data": {
      "text/html": [
       "<style type=\"text/css\">table.blockgrid {border: none;} .blockgrid tr {border: none;} .blockgrid td {padding: 0px;} #blocks52453fd9-67cd-44e6-9a3d-37bef3948ecc td {border: 1px solid white;}</style><table id=\"blocks52453fd9-67cd-44e6-9a3d-37bef3948ecc\" class=\"blockgrid\"><tbody><tr><td title=\"Index: [0, 0]&#10;Color: (200, 200, 200)\" style=\"width: 20px; height: 20px;background-color: rgb(200, 200, 200);\"></td><td title=\"Index: [0, 1]&#10;Color: (200, 200, 200)\" style=\"width: 20px; height: 20px;background-color: rgb(200, 200, 200);\"></td><td title=\"Index: [0, 2]&#10;Color: (200, 200, 200)\" style=\"width: 20px; height: 20px;background-color: rgb(200, 200, 200);\"></td><td title=\"Index: [0, 3]&#10;Color: (200, 200, 200)\" style=\"width: 20px; height: 20px;background-color: rgb(200, 200, 200);\"></td><td title=\"Index: [0, 4]&#10;Color: (200, 200, 200)\" style=\"width: 20px; height: 20px;background-color: rgb(200, 200, 200);\"></td></tr><tr><td title=\"Index: [1, 0]&#10;Color: (255, 0, 0)\" style=\"width: 20px; height: 20px;background-color: rgb(255, 0, 0);\"></td><td title=\"Index: [1, 1]&#10;Color: (200, 200, 200)\" style=\"width: 20px; height: 20px;background-color: rgb(200, 200, 200);\"></td><td title=\"Index: [1, 2]&#10;Color: (110, 91, 91)\" style=\"width: 20px; height: 20px;background-color: rgb(110, 91, 91);\"></td><td title=\"Index: [1, 3]&#10;Color: (23, 19, 110)\" style=\"width: 20px; height: 20px;background-color: rgb(23, 19, 110);\"></td><td title=\"Index: [1, 4]&#10;Color: (200, 200, 200)\" style=\"width: 20px; height: 20px;background-color: rgb(200, 200, 200);\"></td></tr><tr><td title=\"Index: [2, 0]&#10;Color: (110, 91, 91)\" style=\"width: 20px; height: 20px;background-color: rgb(110, 91, 91);\"></td><td title=\"Index: [2, 1]&#10;Color: (200, 200, 200)\" style=\"width: 20px; height: 20px;background-color: rgb(200, 200, 200);\"></td><td title=\"Index: [2, 2]&#10;Color: (222, 213, 40)\" style=\"width: 20px; height: 20px;background-color: rgb(222, 213, 40);\"></td><td title=\"Index: [2, 3]&#10;Color: (200, 200, 200)\" style=\"width: 20px; height: 20px;background-color: rgb(200, 200, 200);\"></td><td title=\"Index: [2, 4]&#10;Color: (110, 91, 91)\" style=\"width: 20px; height: 20px;background-color: rgb(110, 91, 91);\"></td></tr><tr><td title=\"Index: [3, 0]&#10;Color: (200, 200, 200)\" style=\"width: 20px; height: 20px;background-color: rgb(200, 200, 200);\"></td><td title=\"Index: [3, 1]&#10;Color: (200, 200, 200)\" style=\"width: 20px; height: 20px;background-color: rgb(200, 200, 200);\"></td><td title=\"Index: [3, 2]&#10;Color: (110, 91, 91)\" style=\"width: 20px; height: 20px;background-color: rgb(110, 91, 91);\"></td><td title=\"Index: [3, 3]&#10;Color: (200, 200, 200)\" style=\"width: 20px; height: 20px;background-color: rgb(200, 200, 200);\"></td><td title=\"Index: [3, 4]&#10;Color: (200, 200, 200)\" style=\"width: 20px; height: 20px;background-color: rgb(200, 200, 200);\"></td></tr><tr><td title=\"Index: [4, 0]&#10;Color: (110, 91, 91)\" style=\"width: 20px; height: 20px;background-color: rgb(110, 91, 91);\"></td><td title=\"Index: [4, 1]&#10;Color: (200, 200, 200)\" style=\"width: 20px; height: 20px;background-color: rgb(200, 200, 200);\"></td><td title=\"Index: [4, 2]&#10;Color: (200, 200, 200)\" style=\"width: 20px; height: 20px;background-color: rgb(200, 200, 200);\"></td><td title=\"Index: [4, 3]&#10;Color: (222, 213, 40)\" style=\"width: 20px; height: 20px;background-color: rgb(222, 213, 40);\"></td><td title=\"Index: [4, 4]&#10;Color: (0, 0, 0)\" style=\"width: 20px; height: 20px;background-color: rgb(0, 0, 0);\"></td></tr></tbody></table>"
      ],
      "text/plain": [
       "<IPython.core.display.HTML object>"
      ]
     },
     "metadata": {},
     "output_type": "display_data"
    },
    {
     "name": "stdout",
     "output_type": "stream",
     "text": [
      "GoalWalker is thinking to move downwards at location: [0, 1]\n",
      "GoalWalker moved downwards at location: [0, 2]\n"
     ]
    },
    {
     "data": {
      "text/html": [],
      "text/plain": [
       "<IPython.core.display.HTML object>"
      ]
     },
     "metadata": {},
     "output_type": "display_data"
    },
    {
     "data": {
      "text/html": [
       "<style type=\"text/css\">table.blockgrid {border: none;} .blockgrid tr {border: none;} .blockgrid td {padding: 0px;} #blocks91c36d61-115b-4c6d-8c0c-e53e77cc0c61 td {border: 1px solid white;}</style><table id=\"blocks91c36d61-115b-4c6d-8c0c-e53e77cc0c61\" class=\"blockgrid\"><tbody><tr><td title=\"Index: [0, 0]&#10;Color: (200, 200, 200)\" style=\"width: 20px; height: 20px;background-color: rgb(200, 200, 200);\"></td><td title=\"Index: [0, 1]&#10;Color: (200, 200, 200)\" style=\"width: 20px; height: 20px;background-color: rgb(200, 200, 200);\"></td><td title=\"Index: [0, 2]&#10;Color: (200, 200, 200)\" style=\"width: 20px; height: 20px;background-color: rgb(200, 200, 200);\"></td><td title=\"Index: [0, 3]&#10;Color: (200, 200, 200)\" style=\"width: 20px; height: 20px;background-color: rgb(200, 200, 200);\"></td><td title=\"Index: [0, 4]&#10;Color: (200, 200, 200)\" style=\"width: 20px; height: 20px;background-color: rgb(200, 200, 200);\"></td></tr><tr><td title=\"Index: [1, 0]&#10;Color: (200, 200, 200)\" style=\"width: 20px; height: 20px;background-color: rgb(200, 200, 200);\"></td><td title=\"Index: [1, 1]&#10;Color: (200, 200, 200)\" style=\"width: 20px; height: 20px;background-color: rgb(200, 200, 200);\"></td><td title=\"Index: [1, 2]&#10;Color: (110, 91, 91)\" style=\"width: 20px; height: 20px;background-color: rgb(110, 91, 91);\"></td><td title=\"Index: [1, 3]&#10;Color: (23, 19, 110)\" style=\"width: 20px; height: 20px;background-color: rgb(23, 19, 110);\"></td><td title=\"Index: [1, 4]&#10;Color: (200, 200, 200)\" style=\"width: 20px; height: 20px;background-color: rgb(200, 200, 200);\"></td></tr><tr><td title=\"Index: [2, 0]&#10;Color: (255, 0, 0)\" style=\"width: 20px; height: 20px;background-color: rgb(255, 0, 0);\"></td><td title=\"Index: [2, 1]&#10;Color: (200, 200, 200)\" style=\"width: 20px; height: 20px;background-color: rgb(200, 200, 200);\"></td><td title=\"Index: [2, 2]&#10;Color: (222, 213, 40)\" style=\"width: 20px; height: 20px;background-color: rgb(222, 213, 40);\"></td><td title=\"Index: [2, 3]&#10;Color: (200, 200, 200)\" style=\"width: 20px; height: 20px;background-color: rgb(200, 200, 200);\"></td><td title=\"Index: [2, 4]&#10;Color: (110, 91, 91)\" style=\"width: 20px; height: 20px;background-color: rgb(110, 91, 91);\"></td></tr><tr><td title=\"Index: [3, 0]&#10;Color: (200, 200, 200)\" style=\"width: 20px; height: 20px;background-color: rgb(200, 200, 200);\"></td><td title=\"Index: [3, 1]&#10;Color: (200, 200, 200)\" style=\"width: 20px; height: 20px;background-color: rgb(200, 200, 200);\"></td><td title=\"Index: [3, 2]&#10;Color: (110, 91, 91)\" style=\"width: 20px; height: 20px;background-color: rgb(110, 91, 91);\"></td><td title=\"Index: [3, 3]&#10;Color: (200, 200, 200)\" style=\"width: 20px; height: 20px;background-color: rgb(200, 200, 200);\"></td><td title=\"Index: [3, 4]&#10;Color: (200, 200, 200)\" style=\"width: 20px; height: 20px;background-color: rgb(200, 200, 200);\"></td></tr><tr><td title=\"Index: [4, 0]&#10;Color: (110, 91, 91)\" style=\"width: 20px; height: 20px;background-color: rgb(110, 91, 91);\"></td><td title=\"Index: [4, 1]&#10;Color: (200, 200, 200)\" style=\"width: 20px; height: 20px;background-color: rgb(200, 200, 200);\"></td><td title=\"Index: [4, 2]&#10;Color: (200, 200, 200)\" style=\"width: 20px; height: 20px;background-color: rgb(200, 200, 200);\"></td><td title=\"Index: [4, 3]&#10;Color: (222, 213, 40)\" style=\"width: 20px; height: 20px;background-color: rgb(222, 213, 40);\"></td><td title=\"Index: [4, 4]&#10;Color: (0, 0, 0)\" style=\"width: 20px; height: 20px;background-color: rgb(0, 0, 0);\"></td></tr></tbody></table>"
      ],
      "text/plain": [
       "<IPython.core.display.HTML object>"
      ]
     },
     "metadata": {},
     "output_type": "display_data"
    },
    {
     "name": "stdout",
     "output_type": "stream",
     "text": [
      "GoalWalker met Wolf at location [0, 2] and got scared, Grrrrrr\n"
     ]
    },
    {
     "data": {
      "text/html": [],
      "text/plain": [
       "<IPython.core.display.HTML object>"
      ]
     },
     "metadata": {},
     "output_type": "display_data"
    },
    {
     "data": {
      "text/html": [
       "<style type=\"text/css\">table.blockgrid {border: none;} .blockgrid tr {border: none;} .blockgrid td {padding: 0px;} #blocks2c5bbc19-c919-49c9-b5f4-77500131f4e9 td {border: 1px solid white;}</style><table id=\"blocks2c5bbc19-c919-49c9-b5f4-77500131f4e9\" class=\"blockgrid\"><tbody><tr><td title=\"Index: [0, 0]&#10;Color: (200, 200, 200)\" style=\"width: 20px; height: 20px;background-color: rgb(200, 200, 200);\"></td><td title=\"Index: [0, 1]&#10;Color: (200, 200, 200)\" style=\"width: 20px; height: 20px;background-color: rgb(200, 200, 200);\"></td><td title=\"Index: [0, 2]&#10;Color: (200, 200, 200)\" style=\"width: 20px; height: 20px;background-color: rgb(200, 200, 200);\"></td><td title=\"Index: [0, 3]&#10;Color: (200, 200, 200)\" style=\"width: 20px; height: 20px;background-color: rgb(200, 200, 200);\"></td><td title=\"Index: [0, 4]&#10;Color: (200, 200, 200)\" style=\"width: 20px; height: 20px;background-color: rgb(200, 200, 200);\"></td></tr><tr><td title=\"Index: [1, 0]&#10;Color: (200, 200, 200)\" style=\"width: 20px; height: 20px;background-color: rgb(200, 200, 200);\"></td><td title=\"Index: [1, 1]&#10;Color: (200, 200, 200)\" style=\"width: 20px; height: 20px;background-color: rgb(200, 200, 200);\"></td><td title=\"Index: [1, 2]&#10;Color: (110, 91, 91)\" style=\"width: 20px; height: 20px;background-color: rgb(110, 91, 91);\"></td><td title=\"Index: [1, 3]&#10;Color: (23, 19, 110)\" style=\"width: 20px; height: 20px;background-color: rgb(23, 19, 110);\"></td><td title=\"Index: [1, 4]&#10;Color: (200, 200, 200)\" style=\"width: 20px; height: 20px;background-color: rgb(200, 200, 200);\"></td></tr><tr><td title=\"Index: [2, 0]&#10;Color: (255, 0, 0)\" style=\"width: 20px; height: 20px;background-color: rgb(255, 0, 0);\"></td><td title=\"Index: [2, 1]&#10;Color: (200, 200, 200)\" style=\"width: 20px; height: 20px;background-color: rgb(200, 200, 200);\"></td><td title=\"Index: [2, 2]&#10;Color: (222, 213, 40)\" style=\"width: 20px; height: 20px;background-color: rgb(222, 213, 40);\"></td><td title=\"Index: [2, 3]&#10;Color: (200, 200, 200)\" style=\"width: 20px; height: 20px;background-color: rgb(200, 200, 200);\"></td><td title=\"Index: [2, 4]&#10;Color: (110, 91, 91)\" style=\"width: 20px; height: 20px;background-color: rgb(110, 91, 91);\"></td></tr><tr><td title=\"Index: [3, 0]&#10;Color: (200, 200, 200)\" style=\"width: 20px; height: 20px;background-color: rgb(200, 200, 200);\"></td><td title=\"Index: [3, 1]&#10;Color: (200, 200, 200)\" style=\"width: 20px; height: 20px;background-color: rgb(200, 200, 200);\"></td><td title=\"Index: [3, 2]&#10;Color: (110, 91, 91)\" style=\"width: 20px; height: 20px;background-color: rgb(110, 91, 91);\"></td><td title=\"Index: [3, 3]&#10;Color: (200, 200, 200)\" style=\"width: 20px; height: 20px;background-color: rgb(200, 200, 200);\"></td><td title=\"Index: [3, 4]&#10;Color: (200, 200, 200)\" style=\"width: 20px; height: 20px;background-color: rgb(200, 200, 200);\"></td></tr><tr><td title=\"Index: [4, 0]&#10;Color: (110, 91, 91)\" style=\"width: 20px; height: 20px;background-color: rgb(110, 91, 91);\"></td><td title=\"Index: [4, 1]&#10;Color: (200, 200, 200)\" style=\"width: 20px; height: 20px;background-color: rgb(200, 200, 200);\"></td><td title=\"Index: [4, 2]&#10;Color: (200, 200, 200)\" style=\"width: 20px; height: 20px;background-color: rgb(200, 200, 200);\"></td><td title=\"Index: [4, 3]&#10;Color: (222, 213, 40)\" style=\"width: 20px; height: 20px;background-color: rgb(222, 213, 40);\"></td><td title=\"Index: [4, 4]&#10;Color: (0, 0, 0)\" style=\"width: 20px; height: 20px;background-color: rgb(0, 0, 0);\"></td></tr></tbody></table>"
      ],
      "text/plain": [
       "<IPython.core.display.HTML object>"
      ]
     },
     "metadata": {},
     "output_type": "display_data"
    },
    {
     "name": "stdout",
     "output_type": "stream",
     "text": [
      "GoalWalker met Wolf at location [0, 2] and got scared, Grrrrrr\n"
     ]
    },
    {
     "data": {
      "text/html": [],
      "text/plain": [
       "<IPython.core.display.HTML object>"
      ]
     },
     "metadata": {},
     "output_type": "display_data"
    },
    {
     "data": {
      "text/html": [
       "<style type=\"text/css\">table.blockgrid {border: none;} .blockgrid tr {border: none;} .blockgrid td {padding: 0px;} #blocks6ba00556-cd6c-474e-bc6d-3ca1a374bc6b td {border: 1px solid white;}</style><table id=\"blocks6ba00556-cd6c-474e-bc6d-3ca1a374bc6b\" class=\"blockgrid\"><tbody><tr><td title=\"Index: [0, 0]&#10;Color: (200, 200, 200)\" style=\"width: 20px; height: 20px;background-color: rgb(200, 200, 200);\"></td><td title=\"Index: [0, 1]&#10;Color: (200, 200, 200)\" style=\"width: 20px; height: 20px;background-color: rgb(200, 200, 200);\"></td><td title=\"Index: [0, 2]&#10;Color: (200, 200, 200)\" style=\"width: 20px; height: 20px;background-color: rgb(200, 200, 200);\"></td><td title=\"Index: [0, 3]&#10;Color: (200, 200, 200)\" style=\"width: 20px; height: 20px;background-color: rgb(200, 200, 200);\"></td><td title=\"Index: [0, 4]&#10;Color: (200, 200, 200)\" style=\"width: 20px; height: 20px;background-color: rgb(200, 200, 200);\"></td></tr><tr><td title=\"Index: [1, 0]&#10;Color: (200, 200, 200)\" style=\"width: 20px; height: 20px;background-color: rgb(200, 200, 200);\"></td><td title=\"Index: [1, 1]&#10;Color: (200, 200, 200)\" style=\"width: 20px; height: 20px;background-color: rgb(200, 200, 200);\"></td><td title=\"Index: [1, 2]&#10;Color: (110, 91, 91)\" style=\"width: 20px; height: 20px;background-color: rgb(110, 91, 91);\"></td><td title=\"Index: [1, 3]&#10;Color: (23, 19, 110)\" style=\"width: 20px; height: 20px;background-color: rgb(23, 19, 110);\"></td><td title=\"Index: [1, 4]&#10;Color: (200, 200, 200)\" style=\"width: 20px; height: 20px;background-color: rgb(200, 200, 200);\"></td></tr><tr><td title=\"Index: [2, 0]&#10;Color: (255, 0, 0)\" style=\"width: 20px; height: 20px;background-color: rgb(255, 0, 0);\"></td><td title=\"Index: [2, 1]&#10;Color: (200, 200, 200)\" style=\"width: 20px; height: 20px;background-color: rgb(200, 200, 200);\"></td><td title=\"Index: [2, 2]&#10;Color: (222, 213, 40)\" style=\"width: 20px; height: 20px;background-color: rgb(222, 213, 40);\"></td><td title=\"Index: [2, 3]&#10;Color: (200, 200, 200)\" style=\"width: 20px; height: 20px;background-color: rgb(200, 200, 200);\"></td><td title=\"Index: [2, 4]&#10;Color: (110, 91, 91)\" style=\"width: 20px; height: 20px;background-color: rgb(110, 91, 91);\"></td></tr><tr><td title=\"Index: [3, 0]&#10;Color: (200, 200, 200)\" style=\"width: 20px; height: 20px;background-color: rgb(200, 200, 200);\"></td><td title=\"Index: [3, 1]&#10;Color: (200, 200, 200)\" style=\"width: 20px; height: 20px;background-color: rgb(200, 200, 200);\"></td><td title=\"Index: [3, 2]&#10;Color: (110, 91, 91)\" style=\"width: 20px; height: 20px;background-color: rgb(110, 91, 91);\"></td><td title=\"Index: [3, 3]&#10;Color: (200, 200, 200)\" style=\"width: 20px; height: 20px;background-color: rgb(200, 200, 200);\"></td><td title=\"Index: [3, 4]&#10;Color: (200, 200, 200)\" style=\"width: 20px; height: 20px;background-color: rgb(200, 200, 200);\"></td></tr><tr><td title=\"Index: [4, 0]&#10;Color: (110, 91, 91)\" style=\"width: 20px; height: 20px;background-color: rgb(110, 91, 91);\"></td><td title=\"Index: [4, 1]&#10;Color: (200, 200, 200)\" style=\"width: 20px; height: 20px;background-color: rgb(200, 200, 200);\"></td><td title=\"Index: [4, 2]&#10;Color: (200, 200, 200)\" style=\"width: 20px; height: 20px;background-color: rgb(200, 200, 200);\"></td><td title=\"Index: [4, 3]&#10;Color: (222, 213, 40)\" style=\"width: 20px; height: 20px;background-color: rgb(222, 213, 40);\"></td><td title=\"Index: [4, 4]&#10;Color: (0, 0, 0)\" style=\"width: 20px; height: 20px;background-color: rgb(0, 0, 0);\"></td></tr></tbody></table>"
      ],
      "text/plain": [
       "<IPython.core.display.HTML object>"
      ]
     },
     "metadata": {},
     "output_type": "display_data"
    },
    {
     "name": "stdout",
     "output_type": "stream",
     "text": [
      "GoalWalker met Wolf at location [0, 1] and stepped back\n"
     ]
    },
    {
     "data": {
      "text/html": [],
      "text/plain": [
       "<IPython.core.display.HTML object>"
      ]
     },
     "metadata": {},
     "output_type": "display_data"
    },
    {
     "data": {
      "text/html": [
       "<style type=\"text/css\">table.blockgrid {border: none;} .blockgrid tr {border: none;} .blockgrid td {padding: 0px;} #blocks4b26dc54-fafb-4101-a080-a8b10845eb4c td {border: 1px solid white;}</style><table id=\"blocks4b26dc54-fafb-4101-a080-a8b10845eb4c\" class=\"blockgrid\"><tbody><tr><td title=\"Index: [0, 0]&#10;Color: (200, 200, 200)\" style=\"width: 20px; height: 20px;background-color: rgb(200, 200, 200);\"></td><td title=\"Index: [0, 1]&#10;Color: (200, 200, 200)\" style=\"width: 20px; height: 20px;background-color: rgb(200, 200, 200);\"></td><td title=\"Index: [0, 2]&#10;Color: (200, 200, 200)\" style=\"width: 20px; height: 20px;background-color: rgb(200, 200, 200);\"></td><td title=\"Index: [0, 3]&#10;Color: (200, 200, 200)\" style=\"width: 20px; height: 20px;background-color: rgb(200, 200, 200);\"></td><td title=\"Index: [0, 4]&#10;Color: (200, 200, 200)\" style=\"width: 20px; height: 20px;background-color: rgb(200, 200, 200);\"></td></tr><tr><td title=\"Index: [1, 0]&#10;Color: (255, 0, 0)\" style=\"width: 20px; height: 20px;background-color: rgb(255, 0, 0);\"></td><td title=\"Index: [1, 1]&#10;Color: (200, 200, 200)\" style=\"width: 20px; height: 20px;background-color: rgb(200, 200, 200);\"></td><td title=\"Index: [1, 2]&#10;Color: (110, 91, 91)\" style=\"width: 20px; height: 20px;background-color: rgb(110, 91, 91);\"></td><td title=\"Index: [1, 3]&#10;Color: (23, 19, 110)\" style=\"width: 20px; height: 20px;background-color: rgb(23, 19, 110);\"></td><td title=\"Index: [1, 4]&#10;Color: (200, 200, 200)\" style=\"width: 20px; height: 20px;background-color: rgb(200, 200, 200);\"></td></tr><tr><td title=\"Index: [2, 0]&#10;Color: (110, 91, 91)\" style=\"width: 20px; height: 20px;background-color: rgb(110, 91, 91);\"></td><td title=\"Index: [2, 1]&#10;Color: (200, 200, 200)\" style=\"width: 20px; height: 20px;background-color: rgb(200, 200, 200);\"></td><td title=\"Index: [2, 2]&#10;Color: (222, 213, 40)\" style=\"width: 20px; height: 20px;background-color: rgb(222, 213, 40);\"></td><td title=\"Index: [2, 3]&#10;Color: (200, 200, 200)\" style=\"width: 20px; height: 20px;background-color: rgb(200, 200, 200);\"></td><td title=\"Index: [2, 4]&#10;Color: (110, 91, 91)\" style=\"width: 20px; height: 20px;background-color: rgb(110, 91, 91);\"></td></tr><tr><td title=\"Index: [3, 0]&#10;Color: (200, 200, 200)\" style=\"width: 20px; height: 20px;background-color: rgb(200, 200, 200);\"></td><td title=\"Index: [3, 1]&#10;Color: (200, 200, 200)\" style=\"width: 20px; height: 20px;background-color: rgb(200, 200, 200);\"></td><td title=\"Index: [3, 2]&#10;Color: (110, 91, 91)\" style=\"width: 20px; height: 20px;background-color: rgb(110, 91, 91);\"></td><td title=\"Index: [3, 3]&#10;Color: (200, 200, 200)\" style=\"width: 20px; height: 20px;background-color: rgb(200, 200, 200);\"></td><td title=\"Index: [3, 4]&#10;Color: (200, 200, 200)\" style=\"width: 20px; height: 20px;background-color: rgb(200, 200, 200);\"></td></tr><tr><td title=\"Index: [4, 0]&#10;Color: (110, 91, 91)\" style=\"width: 20px; height: 20px;background-color: rgb(110, 91, 91);\"></td><td title=\"Index: [4, 1]&#10;Color: (200, 200, 200)\" style=\"width: 20px; height: 20px;background-color: rgb(200, 200, 200);\"></td><td title=\"Index: [4, 2]&#10;Color: (200, 200, 200)\" style=\"width: 20px; height: 20px;background-color: rgb(200, 200, 200);\"></td><td title=\"Index: [4, 3]&#10;Color: (222, 213, 40)\" style=\"width: 20px; height: 20px;background-color: rgb(222, 213, 40);\"></td><td title=\"Index: [4, 4]&#10;Color: (0, 0, 0)\" style=\"width: 20px; height: 20px;background-color: rgb(0, 0, 0);\"></td></tr></tbody></table>"
      ],
      "text/plain": [
       "<IPython.core.display.HTML object>"
      ]
     },
     "metadata": {},
     "output_type": "display_data"
    },
    {
     "name": "stdout",
     "output_type": "stream",
     "text": [
      "GoalWalker decided to turnleft at location: [0, 1] and is facing left\n"
     ]
    },
    {
     "data": {
      "text/html": [],
      "text/plain": [
       "<IPython.core.display.HTML object>"
      ]
     },
     "metadata": {},
     "output_type": "display_data"
    },
    {
     "data": {
      "text/html": [
       "<style type=\"text/css\">table.blockgrid {border: none;} .blockgrid tr {border: none;} .blockgrid td {padding: 0px;} #blocksc723cf20-ca77-4ec7-a320-4b3b60fb40cf td {border: 1px solid white;}</style><table id=\"blocksc723cf20-ca77-4ec7-a320-4b3b60fb40cf\" class=\"blockgrid\"><tbody><tr><td title=\"Index: [0, 0]&#10;Color: (200, 200, 200)\" style=\"width: 20px; height: 20px;background-color: rgb(200, 200, 200);\"></td><td title=\"Index: [0, 1]&#10;Color: (200, 200, 200)\" style=\"width: 20px; height: 20px;background-color: rgb(200, 200, 200);\"></td><td title=\"Index: [0, 2]&#10;Color: (200, 200, 200)\" style=\"width: 20px; height: 20px;background-color: rgb(200, 200, 200);\"></td><td title=\"Index: [0, 3]&#10;Color: (200, 200, 200)\" style=\"width: 20px; height: 20px;background-color: rgb(200, 200, 200);\"></td><td title=\"Index: [0, 4]&#10;Color: (200, 200, 200)\" style=\"width: 20px; height: 20px;background-color: rgb(200, 200, 200);\"></td></tr><tr><td title=\"Index: [1, 0]&#10;Color: (255, 0, 0)\" style=\"width: 20px; height: 20px;background-color: rgb(255, 0, 0);\"></td><td title=\"Index: [1, 1]&#10;Color: (200, 200, 200)\" style=\"width: 20px; height: 20px;background-color: rgb(200, 200, 200);\"></td><td title=\"Index: [1, 2]&#10;Color: (110, 91, 91)\" style=\"width: 20px; height: 20px;background-color: rgb(110, 91, 91);\"></td><td title=\"Index: [1, 3]&#10;Color: (23, 19, 110)\" style=\"width: 20px; height: 20px;background-color: rgb(23, 19, 110);\"></td><td title=\"Index: [1, 4]&#10;Color: (200, 200, 200)\" style=\"width: 20px; height: 20px;background-color: rgb(200, 200, 200);\"></td></tr><tr><td title=\"Index: [2, 0]&#10;Color: (110, 91, 91)\" style=\"width: 20px; height: 20px;background-color: rgb(110, 91, 91);\"></td><td title=\"Index: [2, 1]&#10;Color: (200, 200, 200)\" style=\"width: 20px; height: 20px;background-color: rgb(200, 200, 200);\"></td><td title=\"Index: [2, 2]&#10;Color: (222, 213, 40)\" style=\"width: 20px; height: 20px;background-color: rgb(222, 213, 40);\"></td><td title=\"Index: [2, 3]&#10;Color: (200, 200, 200)\" style=\"width: 20px; height: 20px;background-color: rgb(200, 200, 200);\"></td><td title=\"Index: [2, 4]&#10;Color: (110, 91, 91)\" style=\"width: 20px; height: 20px;background-color: rgb(110, 91, 91);\"></td></tr><tr><td title=\"Index: [3, 0]&#10;Color: (200, 200, 200)\" style=\"width: 20px; height: 20px;background-color: rgb(200, 200, 200);\"></td><td title=\"Index: [3, 1]&#10;Color: (200, 200, 200)\" style=\"width: 20px; height: 20px;background-color: rgb(200, 200, 200);\"></td><td title=\"Index: [3, 2]&#10;Color: (110, 91, 91)\" style=\"width: 20px; height: 20px;background-color: rgb(110, 91, 91);\"></td><td title=\"Index: [3, 3]&#10;Color: (200, 200, 200)\" style=\"width: 20px; height: 20px;background-color: rgb(200, 200, 200);\"></td><td title=\"Index: [3, 4]&#10;Color: (200, 200, 200)\" style=\"width: 20px; height: 20px;background-color: rgb(200, 200, 200);\"></td></tr><tr><td title=\"Index: [4, 0]&#10;Color: (110, 91, 91)\" style=\"width: 20px; height: 20px;background-color: rgb(110, 91, 91);\"></td><td title=\"Index: [4, 1]&#10;Color: (200, 200, 200)\" style=\"width: 20px; height: 20px;background-color: rgb(200, 200, 200);\"></td><td title=\"Index: [4, 2]&#10;Color: (200, 200, 200)\" style=\"width: 20px; height: 20px;background-color: rgb(200, 200, 200);\"></td><td title=\"Index: [4, 3]&#10;Color: (222, 213, 40)\" style=\"width: 20px; height: 20px;background-color: rgb(222, 213, 40);\"></td><td title=\"Index: [4, 4]&#10;Color: (0, 0, 0)\" style=\"width: 20px; height: 20px;background-color: rgb(0, 0, 0);\"></td></tr></tbody></table>"
      ],
      "text/plain": [
       "<IPython.core.display.HTML object>"
      ]
     },
     "metadata": {},
     "output_type": "display_data"
    },
    {
     "name": "stdout",
     "output_type": "stream",
     "text": [
      "GoalWalker is thinking to move downwards at location: [0, 1]\n",
      "GoalWalker abandoned idea to move leftwards at location: [0, 1] because Wolf was detected here before, do not step, turn\n"
     ]
    },
    {
     "data": {
      "text/html": [],
      "text/plain": [
       "<IPython.core.display.HTML object>"
      ]
     },
     "metadata": {},
     "output_type": "display_data"
    },
    {
     "data": {
      "text/html": [
       "<style type=\"text/css\">table.blockgrid {border: none;} .blockgrid tr {border: none;} .blockgrid td {padding: 0px;} #blocksfceb7614-f53f-4800-9bcb-a4e21a3d6c07 td {border: 1px solid white;}</style><table id=\"blocksfceb7614-f53f-4800-9bcb-a4e21a3d6c07\" class=\"blockgrid\"><tbody><tr><td title=\"Index: [0, 0]&#10;Color: (200, 200, 200)\" style=\"width: 20px; height: 20px;background-color: rgb(200, 200, 200);\"></td><td title=\"Index: [0, 1]&#10;Color: (200, 200, 200)\" style=\"width: 20px; height: 20px;background-color: rgb(200, 200, 200);\"></td><td title=\"Index: [0, 2]&#10;Color: (200, 200, 200)\" style=\"width: 20px; height: 20px;background-color: rgb(200, 200, 200);\"></td><td title=\"Index: [0, 3]&#10;Color: (200, 200, 200)\" style=\"width: 20px; height: 20px;background-color: rgb(200, 200, 200);\"></td><td title=\"Index: [0, 4]&#10;Color: (200, 200, 200)\" style=\"width: 20px; height: 20px;background-color: rgb(200, 200, 200);\"></td></tr><tr><td title=\"Index: [1, 0]&#10;Color: (255, 0, 0)\" style=\"width: 20px; height: 20px;background-color: rgb(255, 0, 0);\"></td><td title=\"Index: [1, 1]&#10;Color: (200, 200, 200)\" style=\"width: 20px; height: 20px;background-color: rgb(200, 200, 200);\"></td><td title=\"Index: [1, 2]&#10;Color: (110, 91, 91)\" style=\"width: 20px; height: 20px;background-color: rgb(110, 91, 91);\"></td><td title=\"Index: [1, 3]&#10;Color: (23, 19, 110)\" style=\"width: 20px; height: 20px;background-color: rgb(23, 19, 110);\"></td><td title=\"Index: [1, 4]&#10;Color: (200, 200, 200)\" style=\"width: 20px; height: 20px;background-color: rgb(200, 200, 200);\"></td></tr><tr><td title=\"Index: [2, 0]&#10;Color: (110, 91, 91)\" style=\"width: 20px; height: 20px;background-color: rgb(110, 91, 91);\"></td><td title=\"Index: [2, 1]&#10;Color: (200, 200, 200)\" style=\"width: 20px; height: 20px;background-color: rgb(200, 200, 200);\"></td><td title=\"Index: [2, 2]&#10;Color: (222, 213, 40)\" style=\"width: 20px; height: 20px;background-color: rgb(222, 213, 40);\"></td><td title=\"Index: [2, 3]&#10;Color: (200, 200, 200)\" style=\"width: 20px; height: 20px;background-color: rgb(200, 200, 200);\"></td><td title=\"Index: [2, 4]&#10;Color: (110, 91, 91)\" style=\"width: 20px; height: 20px;background-color: rgb(110, 91, 91);\"></td></tr><tr><td title=\"Index: [3, 0]&#10;Color: (200, 200, 200)\" style=\"width: 20px; height: 20px;background-color: rgb(200, 200, 200);\"></td><td title=\"Index: [3, 1]&#10;Color: (200, 200, 200)\" style=\"width: 20px; height: 20px;background-color: rgb(200, 200, 200);\"></td><td title=\"Index: [3, 2]&#10;Color: (110, 91, 91)\" style=\"width: 20px; height: 20px;background-color: rgb(110, 91, 91);\"></td><td title=\"Index: [3, 3]&#10;Color: (200, 200, 200)\" style=\"width: 20px; height: 20px;background-color: rgb(200, 200, 200);\"></td><td title=\"Index: [3, 4]&#10;Color: (200, 200, 200)\" style=\"width: 20px; height: 20px;background-color: rgb(200, 200, 200);\"></td></tr><tr><td title=\"Index: [4, 0]&#10;Color: (110, 91, 91)\" style=\"width: 20px; height: 20px;background-color: rgb(110, 91, 91);\"></td><td title=\"Index: [4, 1]&#10;Color: (200, 200, 200)\" style=\"width: 20px; height: 20px;background-color: rgb(200, 200, 200);\"></td><td title=\"Index: [4, 2]&#10;Color: (200, 200, 200)\" style=\"width: 20px; height: 20px;background-color: rgb(200, 200, 200);\"></td><td title=\"Index: [4, 3]&#10;Color: (222, 213, 40)\" style=\"width: 20px; height: 20px;background-color: rgb(222, 213, 40);\"></td><td title=\"Index: [4, 4]&#10;Color: (0, 0, 0)\" style=\"width: 20px; height: 20px;background-color: rgb(0, 0, 0);\"></td></tr></tbody></table>"
      ],
      "text/plain": [
       "<IPython.core.display.HTML object>"
      ]
     },
     "metadata": {},
     "output_type": "display_data"
    },
    {
     "name": "stdout",
     "output_type": "stream",
     "text": [
      "GoalWalker decided to turnleft at location: [0, 1] and is facing left\n"
     ]
    },
    {
     "data": {
      "text/html": [],
      "text/plain": [
       "<IPython.core.display.HTML object>"
      ]
     },
     "metadata": {},
     "output_type": "display_data"
    },
    {
     "data": {
      "text/html": [
       "<style type=\"text/css\">table.blockgrid {border: none;} .blockgrid tr {border: none;} .blockgrid td {padding: 0px;} #blocks1332543f-7536-4cbf-acda-9b6cf6b39c9a td {border: 1px solid white;}</style><table id=\"blocks1332543f-7536-4cbf-acda-9b6cf6b39c9a\" class=\"blockgrid\"><tbody><tr><td title=\"Index: [0, 0]&#10;Color: (200, 200, 200)\" style=\"width: 20px; height: 20px;background-color: rgb(200, 200, 200);\"></td><td title=\"Index: [0, 1]&#10;Color: (200, 200, 200)\" style=\"width: 20px; height: 20px;background-color: rgb(200, 200, 200);\"></td><td title=\"Index: [0, 2]&#10;Color: (200, 200, 200)\" style=\"width: 20px; height: 20px;background-color: rgb(200, 200, 200);\"></td><td title=\"Index: [0, 3]&#10;Color: (200, 200, 200)\" style=\"width: 20px; height: 20px;background-color: rgb(200, 200, 200);\"></td><td title=\"Index: [0, 4]&#10;Color: (200, 200, 200)\" style=\"width: 20px; height: 20px;background-color: rgb(200, 200, 200);\"></td></tr><tr><td title=\"Index: [1, 0]&#10;Color: (255, 0, 0)\" style=\"width: 20px; height: 20px;background-color: rgb(255, 0, 0);\"></td><td title=\"Index: [1, 1]&#10;Color: (200, 200, 200)\" style=\"width: 20px; height: 20px;background-color: rgb(200, 200, 200);\"></td><td title=\"Index: [1, 2]&#10;Color: (110, 91, 91)\" style=\"width: 20px; height: 20px;background-color: rgb(110, 91, 91);\"></td><td title=\"Index: [1, 3]&#10;Color: (23, 19, 110)\" style=\"width: 20px; height: 20px;background-color: rgb(23, 19, 110);\"></td><td title=\"Index: [1, 4]&#10;Color: (200, 200, 200)\" style=\"width: 20px; height: 20px;background-color: rgb(200, 200, 200);\"></td></tr><tr><td title=\"Index: [2, 0]&#10;Color: (110, 91, 91)\" style=\"width: 20px; height: 20px;background-color: rgb(110, 91, 91);\"></td><td title=\"Index: [2, 1]&#10;Color: (200, 200, 200)\" style=\"width: 20px; height: 20px;background-color: rgb(200, 200, 200);\"></td><td title=\"Index: [2, 2]&#10;Color: (222, 213, 40)\" style=\"width: 20px; height: 20px;background-color: rgb(222, 213, 40);\"></td><td title=\"Index: [2, 3]&#10;Color: (200, 200, 200)\" style=\"width: 20px; height: 20px;background-color: rgb(200, 200, 200);\"></td><td title=\"Index: [2, 4]&#10;Color: (110, 91, 91)\" style=\"width: 20px; height: 20px;background-color: rgb(110, 91, 91);\"></td></tr><tr><td title=\"Index: [3, 0]&#10;Color: (200, 200, 200)\" style=\"width: 20px; height: 20px;background-color: rgb(200, 200, 200);\"></td><td title=\"Index: [3, 1]&#10;Color: (200, 200, 200)\" style=\"width: 20px; height: 20px;background-color: rgb(200, 200, 200);\"></td><td title=\"Index: [3, 2]&#10;Color: (110, 91, 91)\" style=\"width: 20px; height: 20px;background-color: rgb(110, 91, 91);\"></td><td title=\"Index: [3, 3]&#10;Color: (200, 200, 200)\" style=\"width: 20px; height: 20px;background-color: rgb(200, 200, 200);\"></td><td title=\"Index: [3, 4]&#10;Color: (200, 200, 200)\" style=\"width: 20px; height: 20px;background-color: rgb(200, 200, 200);\"></td></tr><tr><td title=\"Index: [4, 0]&#10;Color: (110, 91, 91)\" style=\"width: 20px; height: 20px;background-color: rgb(110, 91, 91);\"></td><td title=\"Index: [4, 1]&#10;Color: (200, 200, 200)\" style=\"width: 20px; height: 20px;background-color: rgb(200, 200, 200);\"></td><td title=\"Index: [4, 2]&#10;Color: (200, 200, 200)\" style=\"width: 20px; height: 20px;background-color: rgb(200, 200, 200);\"></td><td title=\"Index: [4, 3]&#10;Color: (222, 213, 40)\" style=\"width: 20px; height: 20px;background-color: rgb(222, 213, 40);\"></td><td title=\"Index: [4, 4]&#10;Color: (0, 0, 0)\" style=\"width: 20px; height: 20px;background-color: rgb(0, 0, 0);\"></td></tr></tbody></table>"
      ],
      "text/plain": [
       "<IPython.core.display.HTML object>"
      ]
     },
     "metadata": {},
     "output_type": "display_data"
    },
    {
     "name": "stdout",
     "output_type": "stream",
     "text": [
      "GoalWalker is thinking to move downwards at location: [0, 1]\n",
      "GoalWalker abandoned idea to move leftwards at location: [0, 1] because Wolf was detected here before, do not step, turn\n"
     ]
    },
    {
     "data": {
      "text/html": [],
      "text/plain": [
       "<IPython.core.display.HTML object>"
      ]
     },
     "metadata": {},
     "output_type": "display_data"
    },
    {
     "data": {
      "text/html": [
       "<style type=\"text/css\">table.blockgrid {border: none;} .blockgrid tr {border: none;} .blockgrid td {padding: 0px;} #blocks507eac4a-e1ea-493a-bb36-ea1d6843265d td {border: 1px solid white;}</style><table id=\"blocks507eac4a-e1ea-493a-bb36-ea1d6843265d\" class=\"blockgrid\"><tbody><tr><td title=\"Index: [0, 0]&#10;Color: (200, 200, 200)\" style=\"width: 20px; height: 20px;background-color: rgb(200, 200, 200);\"></td><td title=\"Index: [0, 1]&#10;Color: (200, 200, 200)\" style=\"width: 20px; height: 20px;background-color: rgb(200, 200, 200);\"></td><td title=\"Index: [0, 2]&#10;Color: (200, 200, 200)\" style=\"width: 20px; height: 20px;background-color: rgb(200, 200, 200);\"></td><td title=\"Index: [0, 3]&#10;Color: (200, 200, 200)\" style=\"width: 20px; height: 20px;background-color: rgb(200, 200, 200);\"></td><td title=\"Index: [0, 4]&#10;Color: (200, 200, 200)\" style=\"width: 20px; height: 20px;background-color: rgb(200, 200, 200);\"></td></tr><tr><td title=\"Index: [1, 0]&#10;Color: (255, 0, 0)\" style=\"width: 20px; height: 20px;background-color: rgb(255, 0, 0);\"></td><td title=\"Index: [1, 1]&#10;Color: (200, 200, 200)\" style=\"width: 20px; height: 20px;background-color: rgb(200, 200, 200);\"></td><td title=\"Index: [1, 2]&#10;Color: (110, 91, 91)\" style=\"width: 20px; height: 20px;background-color: rgb(110, 91, 91);\"></td><td title=\"Index: [1, 3]&#10;Color: (23, 19, 110)\" style=\"width: 20px; height: 20px;background-color: rgb(23, 19, 110);\"></td><td title=\"Index: [1, 4]&#10;Color: (200, 200, 200)\" style=\"width: 20px; height: 20px;background-color: rgb(200, 200, 200);\"></td></tr><tr><td title=\"Index: [2, 0]&#10;Color: (110, 91, 91)\" style=\"width: 20px; height: 20px;background-color: rgb(110, 91, 91);\"></td><td title=\"Index: [2, 1]&#10;Color: (200, 200, 200)\" style=\"width: 20px; height: 20px;background-color: rgb(200, 200, 200);\"></td><td title=\"Index: [2, 2]&#10;Color: (222, 213, 40)\" style=\"width: 20px; height: 20px;background-color: rgb(222, 213, 40);\"></td><td title=\"Index: [2, 3]&#10;Color: (200, 200, 200)\" style=\"width: 20px; height: 20px;background-color: rgb(200, 200, 200);\"></td><td title=\"Index: [2, 4]&#10;Color: (110, 91, 91)\" style=\"width: 20px; height: 20px;background-color: rgb(110, 91, 91);\"></td></tr><tr><td title=\"Index: [3, 0]&#10;Color: (200, 200, 200)\" style=\"width: 20px; height: 20px;background-color: rgb(200, 200, 200);\"></td><td title=\"Index: [3, 1]&#10;Color: (200, 200, 200)\" style=\"width: 20px; height: 20px;background-color: rgb(200, 200, 200);\"></td><td title=\"Index: [3, 2]&#10;Color: (110, 91, 91)\" style=\"width: 20px; height: 20px;background-color: rgb(110, 91, 91);\"></td><td title=\"Index: [3, 3]&#10;Color: (200, 200, 200)\" style=\"width: 20px; height: 20px;background-color: rgb(200, 200, 200);\"></td><td title=\"Index: [3, 4]&#10;Color: (200, 200, 200)\" style=\"width: 20px; height: 20px;background-color: rgb(200, 200, 200);\"></td></tr><tr><td title=\"Index: [4, 0]&#10;Color: (110, 91, 91)\" style=\"width: 20px; height: 20px;background-color: rgb(110, 91, 91);\"></td><td title=\"Index: [4, 1]&#10;Color: (200, 200, 200)\" style=\"width: 20px; height: 20px;background-color: rgb(200, 200, 200);\"></td><td title=\"Index: [4, 2]&#10;Color: (200, 200, 200)\" style=\"width: 20px; height: 20px;background-color: rgb(200, 200, 200);\"></td><td title=\"Index: [4, 3]&#10;Color: (222, 213, 40)\" style=\"width: 20px; height: 20px;background-color: rgb(222, 213, 40);\"></td><td title=\"Index: [4, 4]&#10;Color: (0, 0, 0)\" style=\"width: 20px; height: 20px;background-color: rgb(0, 0, 0);\"></td></tr></tbody></table>"
      ],
      "text/plain": [
       "<IPython.core.display.HTML object>"
      ]
     },
     "metadata": {},
     "output_type": "display_data"
    },
    {
     "name": "stdout",
     "output_type": "stream",
     "text": [
      "GoalWalker decided to turnright at location: [0, 1] and is facing\n"
     ]
    },
    {
     "data": {
      "text/html": [],
      "text/plain": [
       "<IPython.core.display.HTML object>"
      ]
     },
     "metadata": {},
     "output_type": "display_data"
    },
    {
     "data": {
      "text/html": [
       "<style type=\"text/css\">table.blockgrid {border: none;} .blockgrid tr {border: none;} .blockgrid td {padding: 0px;} #blocks9f5011e5-372c-4860-aceb-f06bdead7927 td {border: 1px solid white;}</style><table id=\"blocks9f5011e5-372c-4860-aceb-f06bdead7927\" class=\"blockgrid\"><tbody><tr><td title=\"Index: [0, 0]&#10;Color: (200, 200, 200)\" style=\"width: 20px; height: 20px;background-color: rgb(200, 200, 200);\"></td><td title=\"Index: [0, 1]&#10;Color: (200, 200, 200)\" style=\"width: 20px; height: 20px;background-color: rgb(200, 200, 200);\"></td><td title=\"Index: [0, 2]&#10;Color: (200, 200, 200)\" style=\"width: 20px; height: 20px;background-color: rgb(200, 200, 200);\"></td><td title=\"Index: [0, 3]&#10;Color: (200, 200, 200)\" style=\"width: 20px; height: 20px;background-color: rgb(200, 200, 200);\"></td><td title=\"Index: [0, 4]&#10;Color: (200, 200, 200)\" style=\"width: 20px; height: 20px;background-color: rgb(200, 200, 200);\"></td></tr><tr><td title=\"Index: [1, 0]&#10;Color: (255, 0, 0)\" style=\"width: 20px; height: 20px;background-color: rgb(255, 0, 0);\"></td><td title=\"Index: [1, 1]&#10;Color: (200, 200, 200)\" style=\"width: 20px; height: 20px;background-color: rgb(200, 200, 200);\"></td><td title=\"Index: [1, 2]&#10;Color: (110, 91, 91)\" style=\"width: 20px; height: 20px;background-color: rgb(110, 91, 91);\"></td><td title=\"Index: [1, 3]&#10;Color: (23, 19, 110)\" style=\"width: 20px; height: 20px;background-color: rgb(23, 19, 110);\"></td><td title=\"Index: [1, 4]&#10;Color: (200, 200, 200)\" style=\"width: 20px; height: 20px;background-color: rgb(200, 200, 200);\"></td></tr><tr><td title=\"Index: [2, 0]&#10;Color: (110, 91, 91)\" style=\"width: 20px; height: 20px;background-color: rgb(110, 91, 91);\"></td><td title=\"Index: [2, 1]&#10;Color: (200, 200, 200)\" style=\"width: 20px; height: 20px;background-color: rgb(200, 200, 200);\"></td><td title=\"Index: [2, 2]&#10;Color: (222, 213, 40)\" style=\"width: 20px; height: 20px;background-color: rgb(222, 213, 40);\"></td><td title=\"Index: [2, 3]&#10;Color: (200, 200, 200)\" style=\"width: 20px; height: 20px;background-color: rgb(200, 200, 200);\"></td><td title=\"Index: [2, 4]&#10;Color: (110, 91, 91)\" style=\"width: 20px; height: 20px;background-color: rgb(110, 91, 91);\"></td></tr><tr><td title=\"Index: [3, 0]&#10;Color: (200, 200, 200)\" style=\"width: 20px; height: 20px;background-color: rgb(200, 200, 200);\"></td><td title=\"Index: [3, 1]&#10;Color: (200, 200, 200)\" style=\"width: 20px; height: 20px;background-color: rgb(200, 200, 200);\"></td><td title=\"Index: [3, 2]&#10;Color: (110, 91, 91)\" style=\"width: 20px; height: 20px;background-color: rgb(110, 91, 91);\"></td><td title=\"Index: [3, 3]&#10;Color: (200, 200, 200)\" style=\"width: 20px; height: 20px;background-color: rgb(200, 200, 200);\"></td><td title=\"Index: [3, 4]&#10;Color: (200, 200, 200)\" style=\"width: 20px; height: 20px;background-color: rgb(200, 200, 200);\"></td></tr><tr><td title=\"Index: [4, 0]&#10;Color: (110, 91, 91)\" style=\"width: 20px; height: 20px;background-color: rgb(110, 91, 91);\"></td><td title=\"Index: [4, 1]&#10;Color: (200, 200, 200)\" style=\"width: 20px; height: 20px;background-color: rgb(200, 200, 200);\"></td><td title=\"Index: [4, 2]&#10;Color: (200, 200, 200)\" style=\"width: 20px; height: 20px;background-color: rgb(200, 200, 200);\"></td><td title=\"Index: [4, 3]&#10;Color: (222, 213, 40)\" style=\"width: 20px; height: 20px;background-color: rgb(222, 213, 40);\"></td><td title=\"Index: [4, 4]&#10;Color: (0, 0, 0)\" style=\"width: 20px; height: 20px;background-color: rgb(0, 0, 0);\"></td></tr></tbody></table>"
      ],
      "text/plain": [
       "<IPython.core.display.HTML object>"
      ]
     },
     "metadata": {},
     "output_type": "display_data"
    },
    {
     "name": "stdout",
     "output_type": "stream",
     "text": [
      "GoalWalker is thinking to move upwards at location: [0, 1]\n",
      "GoalWalker abandoned idea to move rightwards at location: [0, 1] because Worse distance\n"
     ]
    },
    {
     "data": {
      "text/html": [],
      "text/plain": [
       "<IPython.core.display.HTML object>"
      ]
     },
     "metadata": {},
     "output_type": "display_data"
    },
    {
     "data": {
      "text/html": [
       "<style type=\"text/css\">table.blockgrid {border: none;} .blockgrid tr {border: none;} .blockgrid td {padding: 0px;} #blocks3f084022-d7ef-4901-8dc9-e2200c1bd497 td {border: 1px solid white;}</style><table id=\"blocks3f084022-d7ef-4901-8dc9-e2200c1bd497\" class=\"blockgrid\"><tbody><tr><td title=\"Index: [0, 0]&#10;Color: (200, 200, 200)\" style=\"width: 20px; height: 20px;background-color: rgb(200, 200, 200);\"></td><td title=\"Index: [0, 1]&#10;Color: (200, 200, 200)\" style=\"width: 20px; height: 20px;background-color: rgb(200, 200, 200);\"></td><td title=\"Index: [0, 2]&#10;Color: (200, 200, 200)\" style=\"width: 20px; height: 20px;background-color: rgb(200, 200, 200);\"></td><td title=\"Index: [0, 3]&#10;Color: (200, 200, 200)\" style=\"width: 20px; height: 20px;background-color: rgb(200, 200, 200);\"></td><td title=\"Index: [0, 4]&#10;Color: (200, 200, 200)\" style=\"width: 20px; height: 20px;background-color: rgb(200, 200, 200);\"></td></tr><tr><td title=\"Index: [1, 0]&#10;Color: (255, 0, 0)\" style=\"width: 20px; height: 20px;background-color: rgb(255, 0, 0);\"></td><td title=\"Index: [1, 1]&#10;Color: (200, 200, 200)\" style=\"width: 20px; height: 20px;background-color: rgb(200, 200, 200);\"></td><td title=\"Index: [1, 2]&#10;Color: (110, 91, 91)\" style=\"width: 20px; height: 20px;background-color: rgb(110, 91, 91);\"></td><td title=\"Index: [1, 3]&#10;Color: (23, 19, 110)\" style=\"width: 20px; height: 20px;background-color: rgb(23, 19, 110);\"></td><td title=\"Index: [1, 4]&#10;Color: (200, 200, 200)\" style=\"width: 20px; height: 20px;background-color: rgb(200, 200, 200);\"></td></tr><tr><td title=\"Index: [2, 0]&#10;Color: (110, 91, 91)\" style=\"width: 20px; height: 20px;background-color: rgb(110, 91, 91);\"></td><td title=\"Index: [2, 1]&#10;Color: (200, 200, 200)\" style=\"width: 20px; height: 20px;background-color: rgb(200, 200, 200);\"></td><td title=\"Index: [2, 2]&#10;Color: (222, 213, 40)\" style=\"width: 20px; height: 20px;background-color: rgb(222, 213, 40);\"></td><td title=\"Index: [2, 3]&#10;Color: (200, 200, 200)\" style=\"width: 20px; height: 20px;background-color: rgb(200, 200, 200);\"></td><td title=\"Index: [2, 4]&#10;Color: (110, 91, 91)\" style=\"width: 20px; height: 20px;background-color: rgb(110, 91, 91);\"></td></tr><tr><td title=\"Index: [3, 0]&#10;Color: (200, 200, 200)\" style=\"width: 20px; height: 20px;background-color: rgb(200, 200, 200);\"></td><td title=\"Index: [3, 1]&#10;Color: (200, 200, 200)\" style=\"width: 20px; height: 20px;background-color: rgb(200, 200, 200);\"></td><td title=\"Index: [3, 2]&#10;Color: (110, 91, 91)\" style=\"width: 20px; height: 20px;background-color: rgb(110, 91, 91);\"></td><td title=\"Index: [3, 3]&#10;Color: (200, 200, 200)\" style=\"width: 20px; height: 20px;background-color: rgb(200, 200, 200);\"></td><td title=\"Index: [3, 4]&#10;Color: (200, 200, 200)\" style=\"width: 20px; height: 20px;background-color: rgb(200, 200, 200);\"></td></tr><tr><td title=\"Index: [4, 0]&#10;Color: (110, 91, 91)\" style=\"width: 20px; height: 20px;background-color: rgb(110, 91, 91);\"></td><td title=\"Index: [4, 1]&#10;Color: (200, 200, 200)\" style=\"width: 20px; height: 20px;background-color: rgb(200, 200, 200);\"></td><td title=\"Index: [4, 2]&#10;Color: (200, 200, 200)\" style=\"width: 20px; height: 20px;background-color: rgb(200, 200, 200);\"></td><td title=\"Index: [4, 3]&#10;Color: (222, 213, 40)\" style=\"width: 20px; height: 20px;background-color: rgb(222, 213, 40);\"></td><td title=\"Index: [4, 4]&#10;Color: (0, 0, 0)\" style=\"width: 20px; height: 20px;background-color: rgb(0, 0, 0);\"></td></tr></tbody></table>"
      ],
      "text/plain": [
       "<IPython.core.display.HTML object>"
      ]
     },
     "metadata": {},
     "output_type": "display_data"
    },
    {
     "name": "stdout",
     "output_type": "stream",
     "text": [
      "GoalWalker is thinking to move rightwards at location: [0, 1]\n",
      "GoalWalker moved rightwards at location: [1, 1]\n"
     ]
    },
    {
     "data": {
      "text/html": [],
      "text/plain": [
       "<IPython.core.display.HTML object>"
      ]
     },
     "metadata": {},
     "output_type": "display_data"
    },
    {
     "data": {
      "text/html": [
       "<style type=\"text/css\">table.blockgrid {border: none;} .blockgrid tr {border: none;} .blockgrid td {padding: 0px;} #blocks63132c0d-73f2-4b9c-9faa-c3c279d1a273 td {border: 1px solid white;}</style><table id=\"blocks63132c0d-73f2-4b9c-9faa-c3c279d1a273\" class=\"blockgrid\"><tbody><tr><td title=\"Index: [0, 0]&#10;Color: (200, 200, 200)\" style=\"width: 20px; height: 20px;background-color: rgb(200, 200, 200);\"></td><td title=\"Index: [0, 1]&#10;Color: (200, 200, 200)\" style=\"width: 20px; height: 20px;background-color: rgb(200, 200, 200);\"></td><td title=\"Index: [0, 2]&#10;Color: (200, 200, 200)\" style=\"width: 20px; height: 20px;background-color: rgb(200, 200, 200);\"></td><td title=\"Index: [0, 3]&#10;Color: (200, 200, 200)\" style=\"width: 20px; height: 20px;background-color: rgb(200, 200, 200);\"></td><td title=\"Index: [0, 4]&#10;Color: (200, 200, 200)\" style=\"width: 20px; height: 20px;background-color: rgb(200, 200, 200);\"></td></tr><tr><td title=\"Index: [1, 0]&#10;Color: (200, 200, 200)\" style=\"width: 20px; height: 20px;background-color: rgb(200, 200, 200);\"></td><td title=\"Index: [1, 1]&#10;Color: (255, 0, 0)\" style=\"width: 20px; height: 20px;background-color: rgb(255, 0, 0);\"></td><td title=\"Index: [1, 2]&#10;Color: (110, 91, 91)\" style=\"width: 20px; height: 20px;background-color: rgb(110, 91, 91);\"></td><td title=\"Index: [1, 3]&#10;Color: (23, 19, 110)\" style=\"width: 20px; height: 20px;background-color: rgb(23, 19, 110);\"></td><td title=\"Index: [1, 4]&#10;Color: (200, 200, 200)\" style=\"width: 20px; height: 20px;background-color: rgb(200, 200, 200);\"></td></tr><tr><td title=\"Index: [2, 0]&#10;Color: (110, 91, 91)\" style=\"width: 20px; height: 20px;background-color: rgb(110, 91, 91);\"></td><td title=\"Index: [2, 1]&#10;Color: (200, 200, 200)\" style=\"width: 20px; height: 20px;background-color: rgb(200, 200, 200);\"></td><td title=\"Index: [2, 2]&#10;Color: (222, 213, 40)\" style=\"width: 20px; height: 20px;background-color: rgb(222, 213, 40);\"></td><td title=\"Index: [2, 3]&#10;Color: (200, 200, 200)\" style=\"width: 20px; height: 20px;background-color: rgb(200, 200, 200);\"></td><td title=\"Index: [2, 4]&#10;Color: (110, 91, 91)\" style=\"width: 20px; height: 20px;background-color: rgb(110, 91, 91);\"></td></tr><tr><td title=\"Index: [3, 0]&#10;Color: (200, 200, 200)\" style=\"width: 20px; height: 20px;background-color: rgb(200, 200, 200);\"></td><td title=\"Index: [3, 1]&#10;Color: (200, 200, 200)\" style=\"width: 20px; height: 20px;background-color: rgb(200, 200, 200);\"></td><td title=\"Index: [3, 2]&#10;Color: (110, 91, 91)\" style=\"width: 20px; height: 20px;background-color: rgb(110, 91, 91);\"></td><td title=\"Index: [3, 3]&#10;Color: (200, 200, 200)\" style=\"width: 20px; height: 20px;background-color: rgb(200, 200, 200);\"></td><td title=\"Index: [3, 4]&#10;Color: (200, 200, 200)\" style=\"width: 20px; height: 20px;background-color: rgb(200, 200, 200);\"></td></tr><tr><td title=\"Index: [4, 0]&#10;Color: (110, 91, 91)\" style=\"width: 20px; height: 20px;background-color: rgb(110, 91, 91);\"></td><td title=\"Index: [4, 1]&#10;Color: (200, 200, 200)\" style=\"width: 20px; height: 20px;background-color: rgb(200, 200, 200);\"></td><td title=\"Index: [4, 2]&#10;Color: (200, 200, 200)\" style=\"width: 20px; height: 20px;background-color: rgb(200, 200, 200);\"></td><td title=\"Index: [4, 3]&#10;Color: (222, 213, 40)\" style=\"width: 20px; height: 20px;background-color: rgb(222, 213, 40);\"></td><td title=\"Index: [4, 4]&#10;Color: (0, 0, 0)\" style=\"width: 20px; height: 20px;background-color: rgb(0, 0, 0);\"></td></tr></tbody></table>"
      ],
      "text/plain": [
       "<IPython.core.display.HTML object>"
      ]
     },
     "metadata": {},
     "output_type": "display_data"
    },
    {
     "name": "stdout",
     "output_type": "stream",
     "text": [
      "GoalWalker is thinking to move rightwards at location: [1, 1]\n",
      "GoalWalker moved rightwards at location: [2, 1]\n"
     ]
    },
    {
     "data": {
      "text/html": [],
      "text/plain": [
       "<IPython.core.display.HTML object>"
      ]
     },
     "metadata": {},
     "output_type": "display_data"
    },
    {
     "data": {
      "text/html": [
       "<style type=\"text/css\">table.blockgrid {border: none;} .blockgrid tr {border: none;} .blockgrid td {padding: 0px;} #blocks8a84b2c6-c1e2-42b0-8fde-7a37c0712643 td {border: 1px solid white;}</style><table id=\"blocks8a84b2c6-c1e2-42b0-8fde-7a37c0712643\" class=\"blockgrid\"><tbody><tr><td title=\"Index: [0, 0]&#10;Color: (200, 200, 200)\" style=\"width: 20px; height: 20px;background-color: rgb(200, 200, 200);\"></td><td title=\"Index: [0, 1]&#10;Color: (200, 200, 200)\" style=\"width: 20px; height: 20px;background-color: rgb(200, 200, 200);\"></td><td title=\"Index: [0, 2]&#10;Color: (200, 200, 200)\" style=\"width: 20px; height: 20px;background-color: rgb(200, 200, 200);\"></td><td title=\"Index: [0, 3]&#10;Color: (200, 200, 200)\" style=\"width: 20px; height: 20px;background-color: rgb(200, 200, 200);\"></td><td title=\"Index: [0, 4]&#10;Color: (200, 200, 200)\" style=\"width: 20px; height: 20px;background-color: rgb(200, 200, 200);\"></td></tr><tr><td title=\"Index: [1, 0]&#10;Color: (200, 200, 200)\" style=\"width: 20px; height: 20px;background-color: rgb(200, 200, 200);\"></td><td title=\"Index: [1, 1]&#10;Color: (200, 200, 200)\" style=\"width: 20px; height: 20px;background-color: rgb(200, 200, 200);\"></td><td title=\"Index: [1, 2]&#10;Color: (255, 0, 0)\" style=\"width: 20px; height: 20px;background-color: rgb(255, 0, 0);\"></td><td title=\"Index: [1, 3]&#10;Color: (23, 19, 110)\" style=\"width: 20px; height: 20px;background-color: rgb(23, 19, 110);\"></td><td title=\"Index: [1, 4]&#10;Color: (200, 200, 200)\" style=\"width: 20px; height: 20px;background-color: rgb(200, 200, 200);\"></td></tr><tr><td title=\"Index: [2, 0]&#10;Color: (110, 91, 91)\" style=\"width: 20px; height: 20px;background-color: rgb(110, 91, 91);\"></td><td title=\"Index: [2, 1]&#10;Color: (200, 200, 200)\" style=\"width: 20px; height: 20px;background-color: rgb(200, 200, 200);\"></td><td title=\"Index: [2, 2]&#10;Color: (222, 213, 40)\" style=\"width: 20px; height: 20px;background-color: rgb(222, 213, 40);\"></td><td title=\"Index: [2, 3]&#10;Color: (200, 200, 200)\" style=\"width: 20px; height: 20px;background-color: rgb(200, 200, 200);\"></td><td title=\"Index: [2, 4]&#10;Color: (110, 91, 91)\" style=\"width: 20px; height: 20px;background-color: rgb(110, 91, 91);\"></td></tr><tr><td title=\"Index: [3, 0]&#10;Color: (200, 200, 200)\" style=\"width: 20px; height: 20px;background-color: rgb(200, 200, 200);\"></td><td title=\"Index: [3, 1]&#10;Color: (200, 200, 200)\" style=\"width: 20px; height: 20px;background-color: rgb(200, 200, 200);\"></td><td title=\"Index: [3, 2]&#10;Color: (110, 91, 91)\" style=\"width: 20px; height: 20px;background-color: rgb(110, 91, 91);\"></td><td title=\"Index: [3, 3]&#10;Color: (200, 200, 200)\" style=\"width: 20px; height: 20px;background-color: rgb(200, 200, 200);\"></td><td title=\"Index: [3, 4]&#10;Color: (200, 200, 200)\" style=\"width: 20px; height: 20px;background-color: rgb(200, 200, 200);\"></td></tr><tr><td title=\"Index: [4, 0]&#10;Color: (110, 91, 91)\" style=\"width: 20px; height: 20px;background-color: rgb(110, 91, 91);\"></td><td title=\"Index: [4, 1]&#10;Color: (200, 200, 200)\" style=\"width: 20px; height: 20px;background-color: rgb(200, 200, 200);\"></td><td title=\"Index: [4, 2]&#10;Color: (200, 200, 200)\" style=\"width: 20px; height: 20px;background-color: rgb(200, 200, 200);\"></td><td title=\"Index: [4, 3]&#10;Color: (222, 213, 40)\" style=\"width: 20px; height: 20px;background-color: rgb(222, 213, 40);\"></td><td title=\"Index: [4, 4]&#10;Color: (0, 0, 0)\" style=\"width: 20px; height: 20px;background-color: rgb(0, 0, 0);\"></td></tr></tbody></table>"
      ],
      "text/plain": [
       "<IPython.core.display.HTML object>"
      ]
     },
     "metadata": {},
     "output_type": "display_data"
    },
    {
     "name": "stdout",
     "output_type": "stream",
     "text": [
      "GoalWalker met Wolf at location [2, 1] and got scared, Grrrrrr\n"
     ]
    },
    {
     "data": {
      "text/html": [],
      "text/plain": [
       "<IPython.core.display.HTML object>"
      ]
     },
     "metadata": {},
     "output_type": "display_data"
    },
    {
     "data": {
      "text/html": [
       "<style type=\"text/css\">table.blockgrid {border: none;} .blockgrid tr {border: none;} .blockgrid td {padding: 0px;} #blocks2dcf0f52-2717-4afe-8d3a-056fe41518a8 td {border: 1px solid white;}</style><table id=\"blocks2dcf0f52-2717-4afe-8d3a-056fe41518a8\" class=\"blockgrid\"><tbody><tr><td title=\"Index: [0, 0]&#10;Color: (200, 200, 200)\" style=\"width: 20px; height: 20px;background-color: rgb(200, 200, 200);\"></td><td title=\"Index: [0, 1]&#10;Color: (200, 200, 200)\" style=\"width: 20px; height: 20px;background-color: rgb(200, 200, 200);\"></td><td title=\"Index: [0, 2]&#10;Color: (200, 200, 200)\" style=\"width: 20px; height: 20px;background-color: rgb(200, 200, 200);\"></td><td title=\"Index: [0, 3]&#10;Color: (200, 200, 200)\" style=\"width: 20px; height: 20px;background-color: rgb(200, 200, 200);\"></td><td title=\"Index: [0, 4]&#10;Color: (200, 200, 200)\" style=\"width: 20px; height: 20px;background-color: rgb(200, 200, 200);\"></td></tr><tr><td title=\"Index: [1, 0]&#10;Color: (200, 200, 200)\" style=\"width: 20px; height: 20px;background-color: rgb(200, 200, 200);\"></td><td title=\"Index: [1, 1]&#10;Color: (200, 200, 200)\" style=\"width: 20px; height: 20px;background-color: rgb(200, 200, 200);\"></td><td title=\"Index: [1, 2]&#10;Color: (255, 0, 0)\" style=\"width: 20px; height: 20px;background-color: rgb(255, 0, 0);\"></td><td title=\"Index: [1, 3]&#10;Color: (23, 19, 110)\" style=\"width: 20px; height: 20px;background-color: rgb(23, 19, 110);\"></td><td title=\"Index: [1, 4]&#10;Color: (200, 200, 200)\" style=\"width: 20px; height: 20px;background-color: rgb(200, 200, 200);\"></td></tr><tr><td title=\"Index: [2, 0]&#10;Color: (110, 91, 91)\" style=\"width: 20px; height: 20px;background-color: rgb(110, 91, 91);\"></td><td title=\"Index: [2, 1]&#10;Color: (200, 200, 200)\" style=\"width: 20px; height: 20px;background-color: rgb(200, 200, 200);\"></td><td title=\"Index: [2, 2]&#10;Color: (222, 213, 40)\" style=\"width: 20px; height: 20px;background-color: rgb(222, 213, 40);\"></td><td title=\"Index: [2, 3]&#10;Color: (200, 200, 200)\" style=\"width: 20px; height: 20px;background-color: rgb(200, 200, 200);\"></td><td title=\"Index: [2, 4]&#10;Color: (110, 91, 91)\" style=\"width: 20px; height: 20px;background-color: rgb(110, 91, 91);\"></td></tr><tr><td title=\"Index: [3, 0]&#10;Color: (200, 200, 200)\" style=\"width: 20px; height: 20px;background-color: rgb(200, 200, 200);\"></td><td title=\"Index: [3, 1]&#10;Color: (200, 200, 200)\" style=\"width: 20px; height: 20px;background-color: rgb(200, 200, 200);\"></td><td title=\"Index: [3, 2]&#10;Color: (110, 91, 91)\" style=\"width: 20px; height: 20px;background-color: rgb(110, 91, 91);\"></td><td title=\"Index: [3, 3]&#10;Color: (200, 200, 200)\" style=\"width: 20px; height: 20px;background-color: rgb(200, 200, 200);\"></td><td title=\"Index: [3, 4]&#10;Color: (200, 200, 200)\" style=\"width: 20px; height: 20px;background-color: rgb(200, 200, 200);\"></td></tr><tr><td title=\"Index: [4, 0]&#10;Color: (110, 91, 91)\" style=\"width: 20px; height: 20px;background-color: rgb(110, 91, 91);\"></td><td title=\"Index: [4, 1]&#10;Color: (200, 200, 200)\" style=\"width: 20px; height: 20px;background-color: rgb(200, 200, 200);\"></td><td title=\"Index: [4, 2]&#10;Color: (200, 200, 200)\" style=\"width: 20px; height: 20px;background-color: rgb(200, 200, 200);\"></td><td title=\"Index: [4, 3]&#10;Color: (222, 213, 40)\" style=\"width: 20px; height: 20px;background-color: rgb(222, 213, 40);\"></td><td title=\"Index: [4, 4]&#10;Color: (0, 0, 0)\" style=\"width: 20px; height: 20px;background-color: rgb(0, 0, 0);\"></td></tr></tbody></table>"
      ],
      "text/plain": [
       "<IPython.core.display.HTML object>"
      ]
     },
     "metadata": {},
     "output_type": "display_data"
    },
    {
     "name": "stdout",
     "output_type": "stream",
     "text": [
      "GoalWalker met Wolf at location [1, 1] and stepped back\n"
     ]
    },
    {
     "data": {
      "text/html": [],
      "text/plain": [
       "<IPython.core.display.HTML object>"
      ]
     },
     "metadata": {},
     "output_type": "display_data"
    },
    {
     "data": {
      "text/html": [
       "<style type=\"text/css\">table.blockgrid {border: none;} .blockgrid tr {border: none;} .blockgrid td {padding: 0px;} #blocksc19e97c4-e454-4449-819d-73054946584e td {border: 1px solid white;}</style><table id=\"blocksc19e97c4-e454-4449-819d-73054946584e\" class=\"blockgrid\"><tbody><tr><td title=\"Index: [0, 0]&#10;Color: (200, 200, 200)\" style=\"width: 20px; height: 20px;background-color: rgb(200, 200, 200);\"></td><td title=\"Index: [0, 1]&#10;Color: (200, 200, 200)\" style=\"width: 20px; height: 20px;background-color: rgb(200, 200, 200);\"></td><td title=\"Index: [0, 2]&#10;Color: (200, 200, 200)\" style=\"width: 20px; height: 20px;background-color: rgb(200, 200, 200);\"></td><td title=\"Index: [0, 3]&#10;Color: (200, 200, 200)\" style=\"width: 20px; height: 20px;background-color: rgb(200, 200, 200);\"></td><td title=\"Index: [0, 4]&#10;Color: (200, 200, 200)\" style=\"width: 20px; height: 20px;background-color: rgb(200, 200, 200);\"></td></tr><tr><td title=\"Index: [1, 0]&#10;Color: (200, 200, 200)\" style=\"width: 20px; height: 20px;background-color: rgb(200, 200, 200);\"></td><td title=\"Index: [1, 1]&#10;Color: (255, 0, 0)\" style=\"width: 20px; height: 20px;background-color: rgb(255, 0, 0);\"></td><td title=\"Index: [1, 2]&#10;Color: (110, 91, 91)\" style=\"width: 20px; height: 20px;background-color: rgb(110, 91, 91);\"></td><td title=\"Index: [1, 3]&#10;Color: (23, 19, 110)\" style=\"width: 20px; height: 20px;background-color: rgb(23, 19, 110);\"></td><td title=\"Index: [1, 4]&#10;Color: (200, 200, 200)\" style=\"width: 20px; height: 20px;background-color: rgb(200, 200, 200);\"></td></tr><tr><td title=\"Index: [2, 0]&#10;Color: (110, 91, 91)\" style=\"width: 20px; height: 20px;background-color: rgb(110, 91, 91);\"></td><td title=\"Index: [2, 1]&#10;Color: (200, 200, 200)\" style=\"width: 20px; height: 20px;background-color: rgb(200, 200, 200);\"></td><td title=\"Index: [2, 2]&#10;Color: (222, 213, 40)\" style=\"width: 20px; height: 20px;background-color: rgb(222, 213, 40);\"></td><td title=\"Index: [2, 3]&#10;Color: (200, 200, 200)\" style=\"width: 20px; height: 20px;background-color: rgb(200, 200, 200);\"></td><td title=\"Index: [2, 4]&#10;Color: (110, 91, 91)\" style=\"width: 20px; height: 20px;background-color: rgb(110, 91, 91);\"></td></tr><tr><td title=\"Index: [3, 0]&#10;Color: (200, 200, 200)\" style=\"width: 20px; height: 20px;background-color: rgb(200, 200, 200);\"></td><td title=\"Index: [3, 1]&#10;Color: (200, 200, 200)\" style=\"width: 20px; height: 20px;background-color: rgb(200, 200, 200);\"></td><td title=\"Index: [3, 2]&#10;Color: (110, 91, 91)\" style=\"width: 20px; height: 20px;background-color: rgb(110, 91, 91);\"></td><td title=\"Index: [3, 3]&#10;Color: (200, 200, 200)\" style=\"width: 20px; height: 20px;background-color: rgb(200, 200, 200);\"></td><td title=\"Index: [3, 4]&#10;Color: (200, 200, 200)\" style=\"width: 20px; height: 20px;background-color: rgb(200, 200, 200);\"></td></tr><tr><td title=\"Index: [4, 0]&#10;Color: (110, 91, 91)\" style=\"width: 20px; height: 20px;background-color: rgb(110, 91, 91);\"></td><td title=\"Index: [4, 1]&#10;Color: (200, 200, 200)\" style=\"width: 20px; height: 20px;background-color: rgb(200, 200, 200);\"></td><td title=\"Index: [4, 2]&#10;Color: (200, 200, 200)\" style=\"width: 20px; height: 20px;background-color: rgb(200, 200, 200);\"></td><td title=\"Index: [4, 3]&#10;Color: (222, 213, 40)\" style=\"width: 20px; height: 20px;background-color: rgb(222, 213, 40);\"></td><td title=\"Index: [4, 4]&#10;Color: (0, 0, 0)\" style=\"width: 20px; height: 20px;background-color: rgb(0, 0, 0);\"></td></tr></tbody></table>"
      ],
      "text/plain": [
       "<IPython.core.display.HTML object>"
      ]
     },
     "metadata": {},
     "output_type": "display_data"
    },
    {
     "name": "stdout",
     "output_type": "stream",
     "text": [
      "GoalWalker is thinking to move rightwards at location: [1, 1]\n",
      "GoalWalker abandoned idea to move downwards at location: [1, 1] because Wolf was detected here before, do not step, turn\n"
     ]
    },
    {
     "data": {
      "text/html": [],
      "text/plain": [
       "<IPython.core.display.HTML object>"
      ]
     },
     "metadata": {},
     "output_type": "display_data"
    },
    {
     "data": {
      "text/html": [
       "<style type=\"text/css\">table.blockgrid {border: none;} .blockgrid tr {border: none;} .blockgrid td {padding: 0px;} #blocks9dda1111-913c-4d3f-aad6-4d12032c9174 td {border: 1px solid white;}</style><table id=\"blocks9dda1111-913c-4d3f-aad6-4d12032c9174\" class=\"blockgrid\"><tbody><tr><td title=\"Index: [0, 0]&#10;Color: (200, 200, 200)\" style=\"width: 20px; height: 20px;background-color: rgb(200, 200, 200);\"></td><td title=\"Index: [0, 1]&#10;Color: (200, 200, 200)\" style=\"width: 20px; height: 20px;background-color: rgb(200, 200, 200);\"></td><td title=\"Index: [0, 2]&#10;Color: (200, 200, 200)\" style=\"width: 20px; height: 20px;background-color: rgb(200, 200, 200);\"></td><td title=\"Index: [0, 3]&#10;Color: (200, 200, 200)\" style=\"width: 20px; height: 20px;background-color: rgb(200, 200, 200);\"></td><td title=\"Index: [0, 4]&#10;Color: (200, 200, 200)\" style=\"width: 20px; height: 20px;background-color: rgb(200, 200, 200);\"></td></tr><tr><td title=\"Index: [1, 0]&#10;Color: (200, 200, 200)\" style=\"width: 20px; height: 20px;background-color: rgb(200, 200, 200);\"></td><td title=\"Index: [1, 1]&#10;Color: (255, 0, 0)\" style=\"width: 20px; height: 20px;background-color: rgb(255, 0, 0);\"></td><td title=\"Index: [1, 2]&#10;Color: (110, 91, 91)\" style=\"width: 20px; height: 20px;background-color: rgb(110, 91, 91);\"></td><td title=\"Index: [1, 3]&#10;Color: (23, 19, 110)\" style=\"width: 20px; height: 20px;background-color: rgb(23, 19, 110);\"></td><td title=\"Index: [1, 4]&#10;Color: (200, 200, 200)\" style=\"width: 20px; height: 20px;background-color: rgb(200, 200, 200);\"></td></tr><tr><td title=\"Index: [2, 0]&#10;Color: (110, 91, 91)\" style=\"width: 20px; height: 20px;background-color: rgb(110, 91, 91);\"></td><td title=\"Index: [2, 1]&#10;Color: (200, 200, 200)\" style=\"width: 20px; height: 20px;background-color: rgb(200, 200, 200);\"></td><td title=\"Index: [2, 2]&#10;Color: (222, 213, 40)\" style=\"width: 20px; height: 20px;background-color: rgb(222, 213, 40);\"></td><td title=\"Index: [2, 3]&#10;Color: (200, 200, 200)\" style=\"width: 20px; height: 20px;background-color: rgb(200, 200, 200);\"></td><td title=\"Index: [2, 4]&#10;Color: (110, 91, 91)\" style=\"width: 20px; height: 20px;background-color: rgb(110, 91, 91);\"></td></tr><tr><td title=\"Index: [3, 0]&#10;Color: (200, 200, 200)\" style=\"width: 20px; height: 20px;background-color: rgb(200, 200, 200);\"></td><td title=\"Index: [3, 1]&#10;Color: (200, 200, 200)\" style=\"width: 20px; height: 20px;background-color: rgb(200, 200, 200);\"></td><td title=\"Index: [3, 2]&#10;Color: (110, 91, 91)\" style=\"width: 20px; height: 20px;background-color: rgb(110, 91, 91);\"></td><td title=\"Index: [3, 3]&#10;Color: (200, 200, 200)\" style=\"width: 20px; height: 20px;background-color: rgb(200, 200, 200);\"></td><td title=\"Index: [3, 4]&#10;Color: (200, 200, 200)\" style=\"width: 20px; height: 20px;background-color: rgb(200, 200, 200);\"></td></tr><tr><td title=\"Index: [4, 0]&#10;Color: (110, 91, 91)\" style=\"width: 20px; height: 20px;background-color: rgb(110, 91, 91);\"></td><td title=\"Index: [4, 1]&#10;Color: (200, 200, 200)\" style=\"width: 20px; height: 20px;background-color: rgb(200, 200, 200);\"></td><td title=\"Index: [4, 2]&#10;Color: (200, 200, 200)\" style=\"width: 20px; height: 20px;background-color: rgb(200, 200, 200);\"></td><td title=\"Index: [4, 3]&#10;Color: (222, 213, 40)\" style=\"width: 20px; height: 20px;background-color: rgb(222, 213, 40);\"></td><td title=\"Index: [4, 4]&#10;Color: (0, 0, 0)\" style=\"width: 20px; height: 20px;background-color: rgb(0, 0, 0);\"></td></tr></tbody></table>"
      ],
      "text/plain": [
       "<IPython.core.display.HTML object>"
      ]
     },
     "metadata": {},
     "output_type": "display_data"
    },
    {
     "name": "stdout",
     "output_type": "stream",
     "text": [
      "GoalWalker is thinking to move downwards at location: [1, 1]\n",
      "GoalWalker moved downwards at location: [1, 2]\n"
     ]
    },
    {
     "data": {
      "text/html": [],
      "text/plain": [
       "<IPython.core.display.HTML object>"
      ]
     },
     "metadata": {},
     "output_type": "display_data"
    },
    {
     "data": {
      "text/html": [
       "<style type=\"text/css\">table.blockgrid {border: none;} .blockgrid tr {border: none;} .blockgrid td {padding: 0px;} #blocksaf114955-57e3-4bde-b0b6-de9d81116947 td {border: 1px solid white;}</style><table id=\"blocksaf114955-57e3-4bde-b0b6-de9d81116947\" class=\"blockgrid\"><tbody><tr><td title=\"Index: [0, 0]&#10;Color: (200, 200, 200)\" style=\"width: 20px; height: 20px;background-color: rgb(200, 200, 200);\"></td><td title=\"Index: [0, 1]&#10;Color: (200, 200, 200)\" style=\"width: 20px; height: 20px;background-color: rgb(200, 200, 200);\"></td><td title=\"Index: [0, 2]&#10;Color: (200, 200, 200)\" style=\"width: 20px; height: 20px;background-color: rgb(200, 200, 200);\"></td><td title=\"Index: [0, 3]&#10;Color: (200, 200, 200)\" style=\"width: 20px; height: 20px;background-color: rgb(200, 200, 200);\"></td><td title=\"Index: [0, 4]&#10;Color: (200, 200, 200)\" style=\"width: 20px; height: 20px;background-color: rgb(200, 200, 200);\"></td></tr><tr><td title=\"Index: [1, 0]&#10;Color: (200, 200, 200)\" style=\"width: 20px; height: 20px;background-color: rgb(200, 200, 200);\"></td><td title=\"Index: [1, 1]&#10;Color: (200, 200, 200)\" style=\"width: 20px; height: 20px;background-color: rgb(200, 200, 200);\"></td><td title=\"Index: [1, 2]&#10;Color: (110, 91, 91)\" style=\"width: 20px; height: 20px;background-color: rgb(110, 91, 91);\"></td><td title=\"Index: [1, 3]&#10;Color: (23, 19, 110)\" style=\"width: 20px; height: 20px;background-color: rgb(23, 19, 110);\"></td><td title=\"Index: [1, 4]&#10;Color: (200, 200, 200)\" style=\"width: 20px; height: 20px;background-color: rgb(200, 200, 200);\"></td></tr><tr><td title=\"Index: [2, 0]&#10;Color: (110, 91, 91)\" style=\"width: 20px; height: 20px;background-color: rgb(110, 91, 91);\"></td><td title=\"Index: [2, 1]&#10;Color: (255, 0, 0)\" style=\"width: 20px; height: 20px;background-color: rgb(255, 0, 0);\"></td><td title=\"Index: [2, 2]&#10;Color: (222, 213, 40)\" style=\"width: 20px; height: 20px;background-color: rgb(222, 213, 40);\"></td><td title=\"Index: [2, 3]&#10;Color: (200, 200, 200)\" style=\"width: 20px; height: 20px;background-color: rgb(200, 200, 200);\"></td><td title=\"Index: [2, 4]&#10;Color: (110, 91, 91)\" style=\"width: 20px; height: 20px;background-color: rgb(110, 91, 91);\"></td></tr><tr><td title=\"Index: [3, 0]&#10;Color: (200, 200, 200)\" style=\"width: 20px; height: 20px;background-color: rgb(200, 200, 200);\"></td><td title=\"Index: [3, 1]&#10;Color: (200, 200, 200)\" style=\"width: 20px; height: 20px;background-color: rgb(200, 200, 200);\"></td><td title=\"Index: [3, 2]&#10;Color: (110, 91, 91)\" style=\"width: 20px; height: 20px;background-color: rgb(110, 91, 91);\"></td><td title=\"Index: [3, 3]&#10;Color: (200, 200, 200)\" style=\"width: 20px; height: 20px;background-color: rgb(200, 200, 200);\"></td><td title=\"Index: [3, 4]&#10;Color: (200, 200, 200)\" style=\"width: 20px; height: 20px;background-color: rgb(200, 200, 200);\"></td></tr><tr><td title=\"Index: [4, 0]&#10;Color: (110, 91, 91)\" style=\"width: 20px; height: 20px;background-color: rgb(110, 91, 91);\"></td><td title=\"Index: [4, 1]&#10;Color: (200, 200, 200)\" style=\"width: 20px; height: 20px;background-color: rgb(200, 200, 200);\"></td><td title=\"Index: [4, 2]&#10;Color: (200, 200, 200)\" style=\"width: 20px; height: 20px;background-color: rgb(200, 200, 200);\"></td><td title=\"Index: [4, 3]&#10;Color: (222, 213, 40)\" style=\"width: 20px; height: 20px;background-color: rgb(222, 213, 40);\"></td><td title=\"Index: [4, 4]&#10;Color: (0, 0, 0)\" style=\"width: 20px; height: 20px;background-color: rgb(0, 0, 0);\"></td></tr></tbody></table>"
      ],
      "text/plain": [
       "<IPython.core.display.HTML object>"
      ]
     },
     "metadata": {},
     "output_type": "display_data"
    },
    {
     "name": "stdout",
     "output_type": "stream",
     "text": [
      "GoalWalker is thinking to move downwards at location: [1, 2]\n",
      "GoalWalker moved downwards at location: [1, 3]\n"
     ]
    },
    {
     "data": {
      "text/html": [],
      "text/plain": [
       "<IPython.core.display.HTML object>"
      ]
     },
     "metadata": {},
     "output_type": "display_data"
    },
    {
     "data": {
      "text/html": [
       "<style type=\"text/css\">table.blockgrid {border: none;} .blockgrid tr {border: none;} .blockgrid td {padding: 0px;} #blocks73959254-c66f-473b-bb36-b4b2ca18895c td {border: 1px solid white;}</style><table id=\"blocks73959254-c66f-473b-bb36-b4b2ca18895c\" class=\"blockgrid\"><tbody><tr><td title=\"Index: [0, 0]&#10;Color: (200, 200, 200)\" style=\"width: 20px; height: 20px;background-color: rgb(200, 200, 200);\"></td><td title=\"Index: [0, 1]&#10;Color: (200, 200, 200)\" style=\"width: 20px; height: 20px;background-color: rgb(200, 200, 200);\"></td><td title=\"Index: [0, 2]&#10;Color: (200, 200, 200)\" style=\"width: 20px; height: 20px;background-color: rgb(200, 200, 200);\"></td><td title=\"Index: [0, 3]&#10;Color: (200, 200, 200)\" style=\"width: 20px; height: 20px;background-color: rgb(200, 200, 200);\"></td><td title=\"Index: [0, 4]&#10;Color: (200, 200, 200)\" style=\"width: 20px; height: 20px;background-color: rgb(200, 200, 200);\"></td></tr><tr><td title=\"Index: [1, 0]&#10;Color: (200, 200, 200)\" style=\"width: 20px; height: 20px;background-color: rgb(200, 200, 200);\"></td><td title=\"Index: [1, 1]&#10;Color: (200, 200, 200)\" style=\"width: 20px; height: 20px;background-color: rgb(200, 200, 200);\"></td><td title=\"Index: [1, 2]&#10;Color: (110, 91, 91)\" style=\"width: 20px; height: 20px;background-color: rgb(110, 91, 91);\"></td><td title=\"Index: [1, 3]&#10;Color: (23, 19, 110)\" style=\"width: 20px; height: 20px;background-color: rgb(23, 19, 110);\"></td><td title=\"Index: [1, 4]&#10;Color: (200, 200, 200)\" style=\"width: 20px; height: 20px;background-color: rgb(200, 200, 200);\"></td></tr><tr><td title=\"Index: [2, 0]&#10;Color: (110, 91, 91)\" style=\"width: 20px; height: 20px;background-color: rgb(110, 91, 91);\"></td><td title=\"Index: [2, 1]&#10;Color: (200, 200, 200)\" style=\"width: 20px; height: 20px;background-color: rgb(200, 200, 200);\"></td><td title=\"Index: [2, 2]&#10;Color: (222, 213, 40)\" style=\"width: 20px; height: 20px;background-color: rgb(222, 213, 40);\"></td><td title=\"Index: [2, 3]&#10;Color: (200, 200, 200)\" style=\"width: 20px; height: 20px;background-color: rgb(200, 200, 200);\"></td><td title=\"Index: [2, 4]&#10;Color: (110, 91, 91)\" style=\"width: 20px; height: 20px;background-color: rgb(110, 91, 91);\"></td></tr><tr><td title=\"Index: [3, 0]&#10;Color: (200, 200, 200)\" style=\"width: 20px; height: 20px;background-color: rgb(200, 200, 200);\"></td><td title=\"Index: [3, 1]&#10;Color: (255, 0, 0)\" style=\"width: 20px; height: 20px;background-color: rgb(255, 0, 0);\"></td><td title=\"Index: [3, 2]&#10;Color: (110, 91, 91)\" style=\"width: 20px; height: 20px;background-color: rgb(110, 91, 91);\"></td><td title=\"Index: [3, 3]&#10;Color: (200, 200, 200)\" style=\"width: 20px; height: 20px;background-color: rgb(200, 200, 200);\"></td><td title=\"Index: [3, 4]&#10;Color: (200, 200, 200)\" style=\"width: 20px; height: 20px;background-color: rgb(200, 200, 200);\"></td></tr><tr><td title=\"Index: [4, 0]&#10;Color: (110, 91, 91)\" style=\"width: 20px; height: 20px;background-color: rgb(110, 91, 91);\"></td><td title=\"Index: [4, 1]&#10;Color: (200, 200, 200)\" style=\"width: 20px; height: 20px;background-color: rgb(200, 200, 200);\"></td><td title=\"Index: [4, 2]&#10;Color: (200, 200, 200)\" style=\"width: 20px; height: 20px;background-color: rgb(200, 200, 200);\"></td><td title=\"Index: [4, 3]&#10;Color: (222, 213, 40)\" style=\"width: 20px; height: 20px;background-color: rgb(222, 213, 40);\"></td><td title=\"Index: [4, 4]&#10;Color: (0, 0, 0)\" style=\"width: 20px; height: 20px;background-color: rgb(0, 0, 0);\"></td></tr></tbody></table>"
      ],
      "text/plain": [
       "<IPython.core.display.HTML object>"
      ]
     },
     "metadata": {},
     "output_type": "display_data"
    },
    {
     "name": "stdout",
     "output_type": "stream",
     "text": [
      "GoalWalker is thinking to move downwards at location: [1, 3]\n",
      "GoalWalker moved downwards at location: [1, 4]\n"
     ]
    },
    {
     "data": {
      "text/html": [],
      "text/plain": [
       "<IPython.core.display.HTML object>"
      ]
     },
     "metadata": {},
     "output_type": "display_data"
    },
    {
     "data": {
      "text/html": [
       "<style type=\"text/css\">table.blockgrid {border: none;} .blockgrid tr {border: none;} .blockgrid td {padding: 0px;} #blocks31f504d0-aa89-479e-9cf4-cadcabd99763 td {border: 1px solid white;}</style><table id=\"blocks31f504d0-aa89-479e-9cf4-cadcabd99763\" class=\"blockgrid\"><tbody><tr><td title=\"Index: [0, 0]&#10;Color: (200, 200, 200)\" style=\"width: 20px; height: 20px;background-color: rgb(200, 200, 200);\"></td><td title=\"Index: [0, 1]&#10;Color: (200, 200, 200)\" style=\"width: 20px; height: 20px;background-color: rgb(200, 200, 200);\"></td><td title=\"Index: [0, 2]&#10;Color: (200, 200, 200)\" style=\"width: 20px; height: 20px;background-color: rgb(200, 200, 200);\"></td><td title=\"Index: [0, 3]&#10;Color: (200, 200, 200)\" style=\"width: 20px; height: 20px;background-color: rgb(200, 200, 200);\"></td><td title=\"Index: [0, 4]&#10;Color: (200, 200, 200)\" style=\"width: 20px; height: 20px;background-color: rgb(200, 200, 200);\"></td></tr><tr><td title=\"Index: [1, 0]&#10;Color: (200, 200, 200)\" style=\"width: 20px; height: 20px;background-color: rgb(200, 200, 200);\"></td><td title=\"Index: [1, 1]&#10;Color: (200, 200, 200)\" style=\"width: 20px; height: 20px;background-color: rgb(200, 200, 200);\"></td><td title=\"Index: [1, 2]&#10;Color: (110, 91, 91)\" style=\"width: 20px; height: 20px;background-color: rgb(110, 91, 91);\"></td><td title=\"Index: [1, 3]&#10;Color: (23, 19, 110)\" style=\"width: 20px; height: 20px;background-color: rgb(23, 19, 110);\"></td><td title=\"Index: [1, 4]&#10;Color: (200, 200, 200)\" style=\"width: 20px; height: 20px;background-color: rgb(200, 200, 200);\"></td></tr><tr><td title=\"Index: [2, 0]&#10;Color: (110, 91, 91)\" style=\"width: 20px; height: 20px;background-color: rgb(110, 91, 91);\"></td><td title=\"Index: [2, 1]&#10;Color: (200, 200, 200)\" style=\"width: 20px; height: 20px;background-color: rgb(200, 200, 200);\"></td><td title=\"Index: [2, 2]&#10;Color: (222, 213, 40)\" style=\"width: 20px; height: 20px;background-color: rgb(222, 213, 40);\"></td><td title=\"Index: [2, 3]&#10;Color: (200, 200, 200)\" style=\"width: 20px; height: 20px;background-color: rgb(200, 200, 200);\"></td><td title=\"Index: [2, 4]&#10;Color: (110, 91, 91)\" style=\"width: 20px; height: 20px;background-color: rgb(110, 91, 91);\"></td></tr><tr><td title=\"Index: [3, 0]&#10;Color: (200, 200, 200)\" style=\"width: 20px; height: 20px;background-color: rgb(200, 200, 200);\"></td><td title=\"Index: [3, 1]&#10;Color: (200, 200, 200)\" style=\"width: 20px; height: 20px;background-color: rgb(200, 200, 200);\"></td><td title=\"Index: [3, 2]&#10;Color: (110, 91, 91)\" style=\"width: 20px; height: 20px;background-color: rgb(110, 91, 91);\"></td><td title=\"Index: [3, 3]&#10;Color: (200, 200, 200)\" style=\"width: 20px; height: 20px;background-color: rgb(200, 200, 200);\"></td><td title=\"Index: [3, 4]&#10;Color: (200, 200, 200)\" style=\"width: 20px; height: 20px;background-color: rgb(200, 200, 200);\"></td></tr><tr><td title=\"Index: [4, 0]&#10;Color: (110, 91, 91)\" style=\"width: 20px; height: 20px;background-color: rgb(110, 91, 91);\"></td><td title=\"Index: [4, 1]&#10;Color: (255, 0, 0)\" style=\"width: 20px; height: 20px;background-color: rgb(255, 0, 0);\"></td><td title=\"Index: [4, 2]&#10;Color: (200, 200, 200)\" style=\"width: 20px; height: 20px;background-color: rgb(200, 200, 200);\"></td><td title=\"Index: [4, 3]&#10;Color: (222, 213, 40)\" style=\"width: 20px; height: 20px;background-color: rgb(222, 213, 40);\"></td><td title=\"Index: [4, 4]&#10;Color: (0, 0, 0)\" style=\"width: 20px; height: 20px;background-color: rgb(0, 0, 0);\"></td></tr></tbody></table>"
      ],
      "text/plain": [
       "<IPython.core.display.HTML object>"
      ]
     },
     "metadata": {},
     "output_type": "display_data"
    },
    {
     "name": "stdout",
     "output_type": "stream",
     "text": [
      "GoalWalker decided to turnleft at location: [1, 4] and is facing down\n"
     ]
    },
    {
     "data": {
      "text/html": [],
      "text/plain": [
       "<IPython.core.display.HTML object>"
      ]
     },
     "metadata": {},
     "output_type": "display_data"
    },
    {
     "data": {
      "text/html": [
       "<style type=\"text/css\">table.blockgrid {border: none;} .blockgrid tr {border: none;} .blockgrid td {padding: 0px;} #blocks77883d38-aa42-48f6-aa54-2f9efcf782b3 td {border: 1px solid white;}</style><table id=\"blocks77883d38-aa42-48f6-aa54-2f9efcf782b3\" class=\"blockgrid\"><tbody><tr><td title=\"Index: [0, 0]&#10;Color: (200, 200, 200)\" style=\"width: 20px; height: 20px;background-color: rgb(200, 200, 200);\"></td><td title=\"Index: [0, 1]&#10;Color: (200, 200, 200)\" style=\"width: 20px; height: 20px;background-color: rgb(200, 200, 200);\"></td><td title=\"Index: [0, 2]&#10;Color: (200, 200, 200)\" style=\"width: 20px; height: 20px;background-color: rgb(200, 200, 200);\"></td><td title=\"Index: [0, 3]&#10;Color: (200, 200, 200)\" style=\"width: 20px; height: 20px;background-color: rgb(200, 200, 200);\"></td><td title=\"Index: [0, 4]&#10;Color: (200, 200, 200)\" style=\"width: 20px; height: 20px;background-color: rgb(200, 200, 200);\"></td></tr><tr><td title=\"Index: [1, 0]&#10;Color: (200, 200, 200)\" style=\"width: 20px; height: 20px;background-color: rgb(200, 200, 200);\"></td><td title=\"Index: [1, 1]&#10;Color: (200, 200, 200)\" style=\"width: 20px; height: 20px;background-color: rgb(200, 200, 200);\"></td><td title=\"Index: [1, 2]&#10;Color: (110, 91, 91)\" style=\"width: 20px; height: 20px;background-color: rgb(110, 91, 91);\"></td><td title=\"Index: [1, 3]&#10;Color: (23, 19, 110)\" style=\"width: 20px; height: 20px;background-color: rgb(23, 19, 110);\"></td><td title=\"Index: [1, 4]&#10;Color: (200, 200, 200)\" style=\"width: 20px; height: 20px;background-color: rgb(200, 200, 200);\"></td></tr><tr><td title=\"Index: [2, 0]&#10;Color: (110, 91, 91)\" style=\"width: 20px; height: 20px;background-color: rgb(110, 91, 91);\"></td><td title=\"Index: [2, 1]&#10;Color: (200, 200, 200)\" style=\"width: 20px; height: 20px;background-color: rgb(200, 200, 200);\"></td><td title=\"Index: [2, 2]&#10;Color: (222, 213, 40)\" style=\"width: 20px; height: 20px;background-color: rgb(222, 213, 40);\"></td><td title=\"Index: [2, 3]&#10;Color: (200, 200, 200)\" style=\"width: 20px; height: 20px;background-color: rgb(200, 200, 200);\"></td><td title=\"Index: [2, 4]&#10;Color: (110, 91, 91)\" style=\"width: 20px; height: 20px;background-color: rgb(110, 91, 91);\"></td></tr><tr><td title=\"Index: [3, 0]&#10;Color: (200, 200, 200)\" style=\"width: 20px; height: 20px;background-color: rgb(200, 200, 200);\"></td><td title=\"Index: [3, 1]&#10;Color: (200, 200, 200)\" style=\"width: 20px; height: 20px;background-color: rgb(200, 200, 200);\"></td><td title=\"Index: [3, 2]&#10;Color: (110, 91, 91)\" style=\"width: 20px; height: 20px;background-color: rgb(110, 91, 91);\"></td><td title=\"Index: [3, 3]&#10;Color: (200, 200, 200)\" style=\"width: 20px; height: 20px;background-color: rgb(200, 200, 200);\"></td><td title=\"Index: [3, 4]&#10;Color: (200, 200, 200)\" style=\"width: 20px; height: 20px;background-color: rgb(200, 200, 200);\"></td></tr><tr><td title=\"Index: [4, 0]&#10;Color: (110, 91, 91)\" style=\"width: 20px; height: 20px;background-color: rgb(110, 91, 91);\"></td><td title=\"Index: [4, 1]&#10;Color: (255, 0, 0)\" style=\"width: 20px; height: 20px;background-color: rgb(255, 0, 0);\"></td><td title=\"Index: [4, 2]&#10;Color: (200, 200, 200)\" style=\"width: 20px; height: 20px;background-color: rgb(200, 200, 200);\"></td><td title=\"Index: [4, 3]&#10;Color: (222, 213, 40)\" style=\"width: 20px; height: 20px;background-color: rgb(222, 213, 40);\"></td><td title=\"Index: [4, 4]&#10;Color: (0, 0, 0)\" style=\"width: 20px; height: 20px;background-color: rgb(0, 0, 0);\"></td></tr></tbody></table>"
      ],
      "text/plain": [
       "<IPython.core.display.HTML object>"
      ]
     },
     "metadata": {},
     "output_type": "display_data"
    },
    {
     "name": "stdout",
     "output_type": "stream",
     "text": [
      "GoalWalker is thinking to move rightwards at location: [1, 4]\n",
      "GoalWalker moved rightwards at location: [2, 4]\n"
     ]
    },
    {
     "data": {
      "text/html": [],
      "text/plain": [
       "<IPython.core.display.HTML object>"
      ]
     },
     "metadata": {},
     "output_type": "display_data"
    },
    {
     "data": {
      "text/html": [
       "<style type=\"text/css\">table.blockgrid {border: none;} .blockgrid tr {border: none;} .blockgrid td {padding: 0px;} #blocks3bfb07e8-017b-45c2-b329-952bd1e72a73 td {border: 1px solid white;}</style><table id=\"blocks3bfb07e8-017b-45c2-b329-952bd1e72a73\" class=\"blockgrid\"><tbody><tr><td title=\"Index: [0, 0]&#10;Color: (200, 200, 200)\" style=\"width: 20px; height: 20px;background-color: rgb(200, 200, 200);\"></td><td title=\"Index: [0, 1]&#10;Color: (200, 200, 200)\" style=\"width: 20px; height: 20px;background-color: rgb(200, 200, 200);\"></td><td title=\"Index: [0, 2]&#10;Color: (200, 200, 200)\" style=\"width: 20px; height: 20px;background-color: rgb(200, 200, 200);\"></td><td title=\"Index: [0, 3]&#10;Color: (200, 200, 200)\" style=\"width: 20px; height: 20px;background-color: rgb(200, 200, 200);\"></td><td title=\"Index: [0, 4]&#10;Color: (200, 200, 200)\" style=\"width: 20px; height: 20px;background-color: rgb(200, 200, 200);\"></td></tr><tr><td title=\"Index: [1, 0]&#10;Color: (200, 200, 200)\" style=\"width: 20px; height: 20px;background-color: rgb(200, 200, 200);\"></td><td title=\"Index: [1, 1]&#10;Color: (200, 200, 200)\" style=\"width: 20px; height: 20px;background-color: rgb(200, 200, 200);\"></td><td title=\"Index: [1, 2]&#10;Color: (110, 91, 91)\" style=\"width: 20px; height: 20px;background-color: rgb(110, 91, 91);\"></td><td title=\"Index: [1, 3]&#10;Color: (23, 19, 110)\" style=\"width: 20px; height: 20px;background-color: rgb(23, 19, 110);\"></td><td title=\"Index: [1, 4]&#10;Color: (200, 200, 200)\" style=\"width: 20px; height: 20px;background-color: rgb(200, 200, 200);\"></td></tr><tr><td title=\"Index: [2, 0]&#10;Color: (110, 91, 91)\" style=\"width: 20px; height: 20px;background-color: rgb(110, 91, 91);\"></td><td title=\"Index: [2, 1]&#10;Color: (200, 200, 200)\" style=\"width: 20px; height: 20px;background-color: rgb(200, 200, 200);\"></td><td title=\"Index: [2, 2]&#10;Color: (222, 213, 40)\" style=\"width: 20px; height: 20px;background-color: rgb(222, 213, 40);\"></td><td title=\"Index: [2, 3]&#10;Color: (200, 200, 200)\" style=\"width: 20px; height: 20px;background-color: rgb(200, 200, 200);\"></td><td title=\"Index: [2, 4]&#10;Color: (110, 91, 91)\" style=\"width: 20px; height: 20px;background-color: rgb(110, 91, 91);\"></td></tr><tr><td title=\"Index: [3, 0]&#10;Color: (200, 200, 200)\" style=\"width: 20px; height: 20px;background-color: rgb(200, 200, 200);\"></td><td title=\"Index: [3, 1]&#10;Color: (200, 200, 200)\" style=\"width: 20px; height: 20px;background-color: rgb(200, 200, 200);\"></td><td title=\"Index: [3, 2]&#10;Color: (110, 91, 91)\" style=\"width: 20px; height: 20px;background-color: rgb(110, 91, 91);\"></td><td title=\"Index: [3, 3]&#10;Color: (200, 200, 200)\" style=\"width: 20px; height: 20px;background-color: rgb(200, 200, 200);\"></td><td title=\"Index: [3, 4]&#10;Color: (200, 200, 200)\" style=\"width: 20px; height: 20px;background-color: rgb(200, 200, 200);\"></td></tr><tr><td title=\"Index: [4, 0]&#10;Color: (110, 91, 91)\" style=\"width: 20px; height: 20px;background-color: rgb(110, 91, 91);\"></td><td title=\"Index: [4, 1]&#10;Color: (200, 200, 200)\" style=\"width: 20px; height: 20px;background-color: rgb(200, 200, 200);\"></td><td title=\"Index: [4, 2]&#10;Color: (255, 0, 0)\" style=\"width: 20px; height: 20px;background-color: rgb(255, 0, 0);\"></td><td title=\"Index: [4, 3]&#10;Color: (222, 213, 40)\" style=\"width: 20px; height: 20px;background-color: rgb(222, 213, 40);\"></td><td title=\"Index: [4, 4]&#10;Color: (0, 0, 0)\" style=\"width: 20px; height: 20px;background-color: rgb(0, 0, 0);\"></td></tr></tbody></table>"
      ],
      "text/plain": [
       "<IPython.core.display.HTML object>"
      ]
     },
     "metadata": {},
     "output_type": "display_data"
    },
    {
     "name": "stdout",
     "output_type": "stream",
     "text": [
      "GoalWalker is thinking to move rightwards at location: [2, 4]\n",
      "GoalWalker moved rightwards at location: [3, 4]\n"
     ]
    },
    {
     "data": {
      "text/html": [],
      "text/plain": [
       "<IPython.core.display.HTML object>"
      ]
     },
     "metadata": {},
     "output_type": "display_data"
    },
    {
     "data": {
      "text/html": [
       "<style type=\"text/css\">table.blockgrid {border: none;} .blockgrid tr {border: none;} .blockgrid td {padding: 0px;} #blocks6f73a576-145b-4398-8902-99dcbd78f3e5 td {border: 1px solid white;}</style><table id=\"blocks6f73a576-145b-4398-8902-99dcbd78f3e5\" class=\"blockgrid\"><tbody><tr><td title=\"Index: [0, 0]&#10;Color: (200, 200, 200)\" style=\"width: 20px; height: 20px;background-color: rgb(200, 200, 200);\"></td><td title=\"Index: [0, 1]&#10;Color: (200, 200, 200)\" style=\"width: 20px; height: 20px;background-color: rgb(200, 200, 200);\"></td><td title=\"Index: [0, 2]&#10;Color: (200, 200, 200)\" style=\"width: 20px; height: 20px;background-color: rgb(200, 200, 200);\"></td><td title=\"Index: [0, 3]&#10;Color: (200, 200, 200)\" style=\"width: 20px; height: 20px;background-color: rgb(200, 200, 200);\"></td><td title=\"Index: [0, 4]&#10;Color: (200, 200, 200)\" style=\"width: 20px; height: 20px;background-color: rgb(200, 200, 200);\"></td></tr><tr><td title=\"Index: [1, 0]&#10;Color: (200, 200, 200)\" style=\"width: 20px; height: 20px;background-color: rgb(200, 200, 200);\"></td><td title=\"Index: [1, 1]&#10;Color: (200, 200, 200)\" style=\"width: 20px; height: 20px;background-color: rgb(200, 200, 200);\"></td><td title=\"Index: [1, 2]&#10;Color: (110, 91, 91)\" style=\"width: 20px; height: 20px;background-color: rgb(110, 91, 91);\"></td><td title=\"Index: [1, 3]&#10;Color: (23, 19, 110)\" style=\"width: 20px; height: 20px;background-color: rgb(23, 19, 110);\"></td><td title=\"Index: [1, 4]&#10;Color: (200, 200, 200)\" style=\"width: 20px; height: 20px;background-color: rgb(200, 200, 200);\"></td></tr><tr><td title=\"Index: [2, 0]&#10;Color: (110, 91, 91)\" style=\"width: 20px; height: 20px;background-color: rgb(110, 91, 91);\"></td><td title=\"Index: [2, 1]&#10;Color: (200, 200, 200)\" style=\"width: 20px; height: 20px;background-color: rgb(200, 200, 200);\"></td><td title=\"Index: [2, 2]&#10;Color: (222, 213, 40)\" style=\"width: 20px; height: 20px;background-color: rgb(222, 213, 40);\"></td><td title=\"Index: [2, 3]&#10;Color: (200, 200, 200)\" style=\"width: 20px; height: 20px;background-color: rgb(200, 200, 200);\"></td><td title=\"Index: [2, 4]&#10;Color: (110, 91, 91)\" style=\"width: 20px; height: 20px;background-color: rgb(110, 91, 91);\"></td></tr><tr><td title=\"Index: [3, 0]&#10;Color: (200, 200, 200)\" style=\"width: 20px; height: 20px;background-color: rgb(200, 200, 200);\"></td><td title=\"Index: [3, 1]&#10;Color: (200, 200, 200)\" style=\"width: 20px; height: 20px;background-color: rgb(200, 200, 200);\"></td><td title=\"Index: [3, 2]&#10;Color: (110, 91, 91)\" style=\"width: 20px; height: 20px;background-color: rgb(110, 91, 91);\"></td><td title=\"Index: [3, 3]&#10;Color: (200, 200, 200)\" style=\"width: 20px; height: 20px;background-color: rgb(200, 200, 200);\"></td><td title=\"Index: [3, 4]&#10;Color: (200, 200, 200)\" style=\"width: 20px; height: 20px;background-color: rgb(200, 200, 200);\"></td></tr><tr><td title=\"Index: [4, 0]&#10;Color: (110, 91, 91)\" style=\"width: 20px; height: 20px;background-color: rgb(110, 91, 91);\"></td><td title=\"Index: [4, 1]&#10;Color: (200, 200, 200)\" style=\"width: 20px; height: 20px;background-color: rgb(200, 200, 200);\"></td><td title=\"Index: [4, 2]&#10;Color: (200, 200, 200)\" style=\"width: 20px; height: 20px;background-color: rgb(200, 200, 200);\"></td><td title=\"Index: [4, 3]&#10;Color: (255, 0, 0)\" style=\"width: 20px; height: 20px;background-color: rgb(255, 0, 0);\"></td><td title=\"Index: [4, 4]&#10;Color: (0, 0, 0)\" style=\"width: 20px; height: 20px;background-color: rgb(0, 0, 0);\"></td></tr></tbody></table>"
      ],
      "text/plain": [
       "<IPython.core.display.HTML object>"
      ]
     },
     "metadata": {},
     "output_type": "display_data"
    },
    {
     "name": "stdout",
     "output_type": "stream",
     "text": [
      "GoalWalker ate  Mushroom at location [3, 4]\n"
     ]
    },
    {
     "data": {
      "text/html": [],
      "text/plain": [
       "<IPython.core.display.HTML object>"
      ]
     },
     "metadata": {},
     "output_type": "display_data"
    },
    {
     "data": {
      "text/html": [
       "<style type=\"text/css\">table.blockgrid {border: none;} .blockgrid tr {border: none;} .blockgrid td {padding: 0px;} #blocks4f9d31c6-3524-486e-9d8c-73e2346c09ce td {border: 1px solid white;}</style><table id=\"blocks4f9d31c6-3524-486e-9d8c-73e2346c09ce\" class=\"blockgrid\"><tbody><tr><td title=\"Index: [0, 0]&#10;Color: (200, 200, 200)\" style=\"width: 20px; height: 20px;background-color: rgb(200, 200, 200);\"></td><td title=\"Index: [0, 1]&#10;Color: (200, 200, 200)\" style=\"width: 20px; height: 20px;background-color: rgb(200, 200, 200);\"></td><td title=\"Index: [0, 2]&#10;Color: (200, 200, 200)\" style=\"width: 20px; height: 20px;background-color: rgb(200, 200, 200);\"></td><td title=\"Index: [0, 3]&#10;Color: (200, 200, 200)\" style=\"width: 20px; height: 20px;background-color: rgb(200, 200, 200);\"></td><td title=\"Index: [0, 4]&#10;Color: (200, 200, 200)\" style=\"width: 20px; height: 20px;background-color: rgb(200, 200, 200);\"></td></tr><tr><td title=\"Index: [1, 0]&#10;Color: (200, 200, 200)\" style=\"width: 20px; height: 20px;background-color: rgb(200, 200, 200);\"></td><td title=\"Index: [1, 1]&#10;Color: (200, 200, 200)\" style=\"width: 20px; height: 20px;background-color: rgb(200, 200, 200);\"></td><td title=\"Index: [1, 2]&#10;Color: (110, 91, 91)\" style=\"width: 20px; height: 20px;background-color: rgb(110, 91, 91);\"></td><td title=\"Index: [1, 3]&#10;Color: (23, 19, 110)\" style=\"width: 20px; height: 20px;background-color: rgb(23, 19, 110);\"></td><td title=\"Index: [1, 4]&#10;Color: (200, 200, 200)\" style=\"width: 20px; height: 20px;background-color: rgb(200, 200, 200);\"></td></tr><tr><td title=\"Index: [2, 0]&#10;Color: (110, 91, 91)\" style=\"width: 20px; height: 20px;background-color: rgb(110, 91, 91);\"></td><td title=\"Index: [2, 1]&#10;Color: (200, 200, 200)\" style=\"width: 20px; height: 20px;background-color: rgb(200, 200, 200);\"></td><td title=\"Index: [2, 2]&#10;Color: (222, 213, 40)\" style=\"width: 20px; height: 20px;background-color: rgb(222, 213, 40);\"></td><td title=\"Index: [2, 3]&#10;Color: (200, 200, 200)\" style=\"width: 20px; height: 20px;background-color: rgb(200, 200, 200);\"></td><td title=\"Index: [2, 4]&#10;Color: (110, 91, 91)\" style=\"width: 20px; height: 20px;background-color: rgb(110, 91, 91);\"></td></tr><tr><td title=\"Index: [3, 0]&#10;Color: (200, 200, 200)\" style=\"width: 20px; height: 20px;background-color: rgb(200, 200, 200);\"></td><td title=\"Index: [3, 1]&#10;Color: (200, 200, 200)\" style=\"width: 20px; height: 20px;background-color: rgb(200, 200, 200);\"></td><td title=\"Index: [3, 2]&#10;Color: (110, 91, 91)\" style=\"width: 20px; height: 20px;background-color: rgb(110, 91, 91);\"></td><td title=\"Index: [3, 3]&#10;Color: (200, 200, 200)\" style=\"width: 20px; height: 20px;background-color: rgb(200, 200, 200);\"></td><td title=\"Index: [3, 4]&#10;Color: (200, 200, 200)\" style=\"width: 20px; height: 20px;background-color: rgb(200, 200, 200);\"></td></tr><tr><td title=\"Index: [4, 0]&#10;Color: (110, 91, 91)\" style=\"width: 20px; height: 20px;background-color: rgb(110, 91, 91);\"></td><td title=\"Index: [4, 1]&#10;Color: (200, 200, 200)\" style=\"width: 20px; height: 20px;background-color: rgb(200, 200, 200);\"></td><td title=\"Index: [4, 2]&#10;Color: (200, 200, 200)\" style=\"width: 20px; height: 20px;background-color: rgb(200, 200, 200);\"></td><td title=\"Index: [4, 3]&#10;Color: (255, 0, 0)\" style=\"width: 20px; height: 20px;background-color: rgb(255, 0, 0);\"></td><td title=\"Index: [4, 4]&#10;Color: (0, 0, 0)\" style=\"width: 20px; height: 20px;background-color: rgb(0, 0, 0);\"></td></tr></tbody></table>"
      ],
      "text/plain": [
       "<IPython.core.display.HTML object>"
      ]
     },
     "metadata": {},
     "output_type": "display_data"
    },
    {
     "name": "stdout",
     "output_type": "stream",
     "text": [
      "GoalWalker is thinking to move rightwards at location: [3, 4]\n",
      "GoalWalker moved rightwards at location: [4, 4]\n"
     ]
    },
    {
     "data": {
      "text/html": [],
      "text/plain": [
       "<IPython.core.display.HTML object>"
      ]
     },
     "metadata": {},
     "output_type": "display_data"
    },
    {
     "data": {
      "text/html": [
       "<style type=\"text/css\">table.blockgrid {border: none;} .blockgrid tr {border: none;} .blockgrid td {padding: 0px;} #blocksbc4e635a-4c98-4e6f-9aec-30483dceb3ee td {border: 1px solid white;}</style><table id=\"blocksbc4e635a-4c98-4e6f-9aec-30483dceb3ee\" class=\"blockgrid\"><tbody><tr><td title=\"Index: [0, 0]&#10;Color: (200, 200, 200)\" style=\"width: 20px; height: 20px;background-color: rgb(200, 200, 200);\"></td><td title=\"Index: [0, 1]&#10;Color: (200, 200, 200)\" style=\"width: 20px; height: 20px;background-color: rgb(200, 200, 200);\"></td><td title=\"Index: [0, 2]&#10;Color: (200, 200, 200)\" style=\"width: 20px; height: 20px;background-color: rgb(200, 200, 200);\"></td><td title=\"Index: [0, 3]&#10;Color: (200, 200, 200)\" style=\"width: 20px; height: 20px;background-color: rgb(200, 200, 200);\"></td><td title=\"Index: [0, 4]&#10;Color: (200, 200, 200)\" style=\"width: 20px; height: 20px;background-color: rgb(200, 200, 200);\"></td></tr><tr><td title=\"Index: [1, 0]&#10;Color: (200, 200, 200)\" style=\"width: 20px; height: 20px;background-color: rgb(200, 200, 200);\"></td><td title=\"Index: [1, 1]&#10;Color: (200, 200, 200)\" style=\"width: 20px; height: 20px;background-color: rgb(200, 200, 200);\"></td><td title=\"Index: [1, 2]&#10;Color: (110, 91, 91)\" style=\"width: 20px; height: 20px;background-color: rgb(110, 91, 91);\"></td><td title=\"Index: [1, 3]&#10;Color: (23, 19, 110)\" style=\"width: 20px; height: 20px;background-color: rgb(23, 19, 110);\"></td><td title=\"Index: [1, 4]&#10;Color: (200, 200, 200)\" style=\"width: 20px; height: 20px;background-color: rgb(200, 200, 200);\"></td></tr><tr><td title=\"Index: [2, 0]&#10;Color: (110, 91, 91)\" style=\"width: 20px; height: 20px;background-color: rgb(110, 91, 91);\"></td><td title=\"Index: [2, 1]&#10;Color: (200, 200, 200)\" style=\"width: 20px; height: 20px;background-color: rgb(200, 200, 200);\"></td><td title=\"Index: [2, 2]&#10;Color: (222, 213, 40)\" style=\"width: 20px; height: 20px;background-color: rgb(222, 213, 40);\"></td><td title=\"Index: [2, 3]&#10;Color: (200, 200, 200)\" style=\"width: 20px; height: 20px;background-color: rgb(200, 200, 200);\"></td><td title=\"Index: [2, 4]&#10;Color: (110, 91, 91)\" style=\"width: 20px; height: 20px;background-color: rgb(110, 91, 91);\"></td></tr><tr><td title=\"Index: [3, 0]&#10;Color: (200, 200, 200)\" style=\"width: 20px; height: 20px;background-color: rgb(200, 200, 200);\"></td><td title=\"Index: [3, 1]&#10;Color: (200, 200, 200)\" style=\"width: 20px; height: 20px;background-color: rgb(200, 200, 200);\"></td><td title=\"Index: [3, 2]&#10;Color: (110, 91, 91)\" style=\"width: 20px; height: 20px;background-color: rgb(110, 91, 91);\"></td><td title=\"Index: [3, 3]&#10;Color: (200, 200, 200)\" style=\"width: 20px; height: 20px;background-color: rgb(200, 200, 200);\"></td><td title=\"Index: [3, 4]&#10;Color: (200, 200, 200)\" style=\"width: 20px; height: 20px;background-color: rgb(200, 200, 200);\"></td></tr><tr><td title=\"Index: [4, 0]&#10;Color: (110, 91, 91)\" style=\"width: 20px; height: 20px;background-color: rgb(110, 91, 91);\"></td><td title=\"Index: [4, 1]&#10;Color: (200, 200, 200)\" style=\"width: 20px; height: 20px;background-color: rgb(200, 200, 200);\"></td><td title=\"Index: [4, 2]&#10;Color: (200, 200, 200)\" style=\"width: 20px; height: 20px;background-color: rgb(200, 200, 200);\"></td><td title=\"Index: [4, 3]&#10;Color: (200, 200, 200)\" style=\"width: 20px; height: 20px;background-color: rgb(200, 200, 200);\"></td><td title=\"Index: [4, 4]&#10;Color: (0, 0, 0)\" style=\"width: 20px; height: 20px;background-color: rgb(0, 0, 0);\"></td></tr></tbody></table>"
      ],
      "text/plain": [
       "<IPython.core.display.HTML object>"
      ]
     },
     "metadata": {},
     "output_type": "display_data"
    },
    {
     "name": "stdout",
     "output_type": "stream",
     "text": [
      "GoalWalker found a Grandma at location [4, 4] and is happy\n"
     ]
    },
    {
     "data": {
      "text/html": [],
      "text/plain": [
       "<IPython.core.display.HTML object>"
      ]
     },
     "metadata": {},
     "output_type": "display_data"
    },
    {
     "data": {
      "text/html": [
       "<style type=\"text/css\">table.blockgrid {border: none;} .blockgrid tr {border: none;} .blockgrid td {padding: 0px;} #blocksaf3f673e-7176-4789-b6f6-7ac47c74dca2 td {border: 1px solid white;}</style><table id=\"blocksaf3f673e-7176-4789-b6f6-7ac47c74dca2\" class=\"blockgrid\"><tbody><tr><td title=\"Index: [0, 0]&#10;Color: (200, 200, 200)\" style=\"width: 20px; height: 20px;background-color: rgb(200, 200, 200);\"></td><td title=\"Index: [0, 1]&#10;Color: (200, 200, 200)\" style=\"width: 20px; height: 20px;background-color: rgb(200, 200, 200);\"></td><td title=\"Index: [0, 2]&#10;Color: (200, 200, 200)\" style=\"width: 20px; height: 20px;background-color: rgb(200, 200, 200);\"></td><td title=\"Index: [0, 3]&#10;Color: (200, 200, 200)\" style=\"width: 20px; height: 20px;background-color: rgb(200, 200, 200);\"></td><td title=\"Index: [0, 4]&#10;Color: (200, 200, 200)\" style=\"width: 20px; height: 20px;background-color: rgb(200, 200, 200);\"></td></tr><tr><td title=\"Index: [1, 0]&#10;Color: (200, 200, 200)\" style=\"width: 20px; height: 20px;background-color: rgb(200, 200, 200);\"></td><td title=\"Index: [1, 1]&#10;Color: (200, 200, 200)\" style=\"width: 20px; height: 20px;background-color: rgb(200, 200, 200);\"></td><td title=\"Index: [1, 2]&#10;Color: (110, 91, 91)\" style=\"width: 20px; height: 20px;background-color: rgb(110, 91, 91);\"></td><td title=\"Index: [1, 3]&#10;Color: (23, 19, 110)\" style=\"width: 20px; height: 20px;background-color: rgb(23, 19, 110);\"></td><td title=\"Index: [1, 4]&#10;Color: (200, 200, 200)\" style=\"width: 20px; height: 20px;background-color: rgb(200, 200, 200);\"></td></tr><tr><td title=\"Index: [2, 0]&#10;Color: (110, 91, 91)\" style=\"width: 20px; height: 20px;background-color: rgb(110, 91, 91);\"></td><td title=\"Index: [2, 1]&#10;Color: (200, 200, 200)\" style=\"width: 20px; height: 20px;background-color: rgb(200, 200, 200);\"></td><td title=\"Index: [2, 2]&#10;Color: (222, 213, 40)\" style=\"width: 20px; height: 20px;background-color: rgb(222, 213, 40);\"></td><td title=\"Index: [2, 3]&#10;Color: (200, 200, 200)\" style=\"width: 20px; height: 20px;background-color: rgb(200, 200, 200);\"></td><td title=\"Index: [2, 4]&#10;Color: (110, 91, 91)\" style=\"width: 20px; height: 20px;background-color: rgb(110, 91, 91);\"></td></tr><tr><td title=\"Index: [3, 0]&#10;Color: (200, 200, 200)\" style=\"width: 20px; height: 20px;background-color: rgb(200, 200, 200);\"></td><td title=\"Index: [3, 1]&#10;Color: (200, 200, 200)\" style=\"width: 20px; height: 20px;background-color: rgb(200, 200, 200);\"></td><td title=\"Index: [3, 2]&#10;Color: (110, 91, 91)\" style=\"width: 20px; height: 20px;background-color: rgb(110, 91, 91);\"></td><td title=\"Index: [3, 3]&#10;Color: (200, 200, 200)\" style=\"width: 20px; height: 20px;background-color: rgb(200, 200, 200);\"></td><td title=\"Index: [3, 4]&#10;Color: (200, 200, 200)\" style=\"width: 20px; height: 20px;background-color: rgb(200, 200, 200);\"></td></tr><tr><td title=\"Index: [4, 0]&#10;Color: (110, 91, 91)\" style=\"width: 20px; height: 20px;background-color: rgb(110, 91, 91);\"></td><td title=\"Index: [4, 1]&#10;Color: (200, 200, 200)\" style=\"width: 20px; height: 20px;background-color: rgb(200, 200, 200);\"></td><td title=\"Index: [4, 2]&#10;Color: (200, 200, 200)\" style=\"width: 20px; height: 20px;background-color: rgb(200, 200, 200);\"></td><td title=\"Index: [4, 3]&#10;Color: (200, 200, 200)\" style=\"width: 20px; height: 20px;background-color: rgb(200, 200, 200);\"></td><td title=\"Index: [4, 4]&#10;Color: (255, 0, 0)\" style=\"width: 20px; height: 20px;background-color: rgb(255, 0, 0);\"></td></tr></tbody></table>"
      ],
      "text/plain": [
       "<IPython.core.display.HTML object>"
      ]
     },
     "metadata": {},
     "output_type": "display_data"
    },
    {
     "data": {
      "text/html": [],
      "text/plain": [
       "<IPython.core.display.HTML object>"
      ]
     },
     "metadata": {},
     "output_type": "display_data"
    },
    {
     "data": {
      "text/html": [
       "<style type=\"text/css\">table.blockgrid {border: none;} .blockgrid tr {border: none;} .blockgrid td {padding: 0px;} #blocks43c73507-0a38-48b8-b66f-18817d441d48 td {border: 1px solid white;}</style><table id=\"blocks43c73507-0a38-48b8-b66f-18817d441d48\" class=\"blockgrid\"><tbody><tr><td title=\"Index: [0, 0]&#10;Color: (200, 200, 200)\" style=\"width: 20px; height: 20px;background-color: rgb(200, 200, 200);\"></td><td title=\"Index: [0, 1]&#10;Color: (200, 200, 200)\" style=\"width: 20px; height: 20px;background-color: rgb(200, 200, 200);\"></td><td title=\"Index: [0, 2]&#10;Color: (200, 200, 200)\" style=\"width: 20px; height: 20px;background-color: rgb(200, 200, 200);\"></td><td title=\"Index: [0, 3]&#10;Color: (200, 200, 200)\" style=\"width: 20px; height: 20px;background-color: rgb(200, 200, 200);\"></td><td title=\"Index: [0, 4]&#10;Color: (200, 200, 200)\" style=\"width: 20px; height: 20px;background-color: rgb(200, 200, 200);\"></td></tr><tr><td title=\"Index: [1, 0]&#10;Color: (200, 200, 200)\" style=\"width: 20px; height: 20px;background-color: rgb(200, 200, 200);\"></td><td title=\"Index: [1, 1]&#10;Color: (200, 200, 200)\" style=\"width: 20px; height: 20px;background-color: rgb(200, 200, 200);\"></td><td title=\"Index: [1, 2]&#10;Color: (110, 91, 91)\" style=\"width: 20px; height: 20px;background-color: rgb(110, 91, 91);\"></td><td title=\"Index: [1, 3]&#10;Color: (23, 19, 110)\" style=\"width: 20px; height: 20px;background-color: rgb(23, 19, 110);\"></td><td title=\"Index: [1, 4]&#10;Color: (200, 200, 200)\" style=\"width: 20px; height: 20px;background-color: rgb(200, 200, 200);\"></td></tr><tr><td title=\"Index: [2, 0]&#10;Color: (110, 91, 91)\" style=\"width: 20px; height: 20px;background-color: rgb(110, 91, 91);\"></td><td title=\"Index: [2, 1]&#10;Color: (200, 200, 200)\" style=\"width: 20px; height: 20px;background-color: rgb(200, 200, 200);\"></td><td title=\"Index: [2, 2]&#10;Color: (222, 213, 40)\" style=\"width: 20px; height: 20px;background-color: rgb(222, 213, 40);\"></td><td title=\"Index: [2, 3]&#10;Color: (200, 200, 200)\" style=\"width: 20px; height: 20px;background-color: rgb(200, 200, 200);\"></td><td title=\"Index: [2, 4]&#10;Color: (110, 91, 91)\" style=\"width: 20px; height: 20px;background-color: rgb(110, 91, 91);\"></td></tr><tr><td title=\"Index: [3, 0]&#10;Color: (200, 200, 200)\" style=\"width: 20px; height: 20px;background-color: rgb(200, 200, 200);\"></td><td title=\"Index: [3, 1]&#10;Color: (200, 200, 200)\" style=\"width: 20px; height: 20px;background-color: rgb(200, 200, 200);\"></td><td title=\"Index: [3, 2]&#10;Color: (110, 91, 91)\" style=\"width: 20px; height: 20px;background-color: rgb(110, 91, 91);\"></td><td title=\"Index: [3, 3]&#10;Color: (200, 200, 200)\" style=\"width: 20px; height: 20px;background-color: rgb(200, 200, 200);\"></td><td title=\"Index: [3, 4]&#10;Color: (200, 200, 200)\" style=\"width: 20px; height: 20px;background-color: rgb(200, 200, 200);\"></td></tr><tr><td title=\"Index: [4, 0]&#10;Color: (110, 91, 91)\" style=\"width: 20px; height: 20px;background-color: rgb(110, 91, 91);\"></td><td title=\"Index: [4, 1]&#10;Color: (200, 200, 200)\" style=\"width: 20px; height: 20px;background-color: rgb(200, 200, 200);\"></td><td title=\"Index: [4, 2]&#10;Color: (200, 200, 200)\" style=\"width: 20px; height: 20px;background-color: rgb(200, 200, 200);\"></td><td title=\"Index: [4, 3]&#10;Color: (200, 200, 200)\" style=\"width: 20px; height: 20px;background-color: rgb(200, 200, 200);\"></td><td title=\"Index: [4, 4]&#10;Color: (255, 0, 0)\" style=\"width: 20px; height: 20px;background-color: rgb(255, 0, 0);\"></td></tr></tbody></table>"
      ],
      "text/plain": [
       "<IPython.core.display.HTML object>"
      ]
     },
     "metadata": {},
     "output_type": "display_data"
    }
   ],
   "source": [
    "tp = DarkForest(5,5,  color=\n",
    "               {'GoalWalker': (255,0,0), \n",
    "                'Berry': (23, 19, 110), \n",
    "                'Mushroom': (222, 213, 40),\n",
    "                'Wolf': (110, 91, 91),\n",
    "                'Grandma': (0, 0, 0)\n",
    "               })\n",
    "rrh = GoalWalker(program)\n",
    "\n",
    "#Add volves\n",
    "tp.add_thing(Wolf(), [0,2])\n",
    "tp.add_thing(Wolf(), [0,4])\n",
    "tp.add_thing(Wolf(), [2,1])\n",
    "tp.add_thing(Wolf(), [2,3])\n",
    "tp.add_thing(Wolf(), [4,2])\n",
    "\n",
    "#Add Mushrooms\n",
    "tp.add_thing(Mushroom(), [2,2])\n",
    "tp.add_thing(Mushroom(), [3,4])\n",
    "\n",
    "#Add Berries\n",
    "tp.add_thing(Berry(), [0,1])\n",
    "tp.add_thing(Berry(), [3,1])\n",
    "\n",
    "#Add people\n",
    "tp.add_thing(rrh, [0,0])\n",
    "tp.add_thing(Grandma(), [4,4])\n",
    "\n",
    "\n",
    "print(\"Walker starts at (1,1) facing downwards\")\n",
    "tp.run(150)"
   ]
  },
  {
   "cell_type": "markdown",
   "metadata": {},
   "source": [
    "# 2 Search"
   ]
  },
  {
   "cell_type": "markdown",
   "metadata": {},
   "source": [
    "## 2.1 \n",
    "**Problem statement:**\n",
    "Problem statements are defined by 5 components:\n",
    "\n",
    "-\tInitial state: The agents starts in the top left corner (the entrance to the forest), in position 1,1.\n",
    "-\tActions: the agent can move to any of the tiles that are left, right, up or down from it, providing those are inside the world’s bounds (applicable actions). For example, from position 1,1 the agent can move right to 1,2 or down to 2, 1. \n",
    "-\tTransition model: Each move action results in agent moving to the new position. For example the successor of 1,1 can be 1,2; meaning that the Result( In(1,1), Move(1,2)) -> In(1,2)\n",
    "-\tGoal-test: The goal is to reach the end-state. In my scenario that is low right corner (in 5x5 world it is 5,5). It can be summarised as test for In(5,5).\n",
    "\n",
    "**Goal state:**\n",
    "\n",
    "The goal of the game is to find grandma. The grandma is located in the lower right corner (for the 5x5 world that is position 5,5). The game finishes when the agent found that position.\n",
    "\n",
    "**Path cost:**\n",
    "The path cost is influenced by the presence (or lack of) obstacles (wolves) or powers (berries, mushrooms). The rules are as follows:\n",
    " - Empty tile – cost 1\n",
    " - Power tile (berry, mushroom) – cost 0\n",
    " - Obstacle tile (wolf) – cost 2\n",
    " \n",
    "The search can be a powerful tool to find optimal solution to problems. In my game case, it is more efficient to plan the route in advance, rather that make decisions on the spot. This however requires world to be observable.\n"
   ]
  },
  {
   "cell_type": "markdown",
   "metadata": {},
   "source": [
    "## 2.2 \n",
    "**Select three uninformed search techniques and discuss their appropriateness to your world under appropriate headings for search**"
   ]
  },
  {
   "cell_type": "markdown",
   "metadata": {},
   "source": [
    "I chose the following:\n",
    "1.\tBreath first search (BFS)\n",
    "I have looked into both tree and graph searches. The tree search are OK for the small problems, but become suboptimal due to the repeated states.\n",
    "The graph search produces optimal solution for my game world if I assume the uniform path cost. BFS may not produce the optimal results if the apply variable path costs.\n",
    "I can as well envisage the memory issues with larger worlds due to all nodes generated being in memory.\n",
    "\n",
    "2.\tDepth first search (DFS)\n",
    "I have looked at both tree and graph DFSs. The tree one will end up with infinite space and will not finish due to the repeated nodes, hence is not useful for my game.\n",
    "The graph one could be applied, but it does not generate an optimal solution.\n",
    "If I were to employ the tree DFS, I could argue that the memory usage could be a advantage; but as mentioned above the tree search does not even complete, hence there is no advantage.\n",
    "3.\tUniform cost search (UCS)\n",
    "The UCS search is similar to BFS, but it looks at expanding the lower cost node first. It should produce optimal results for my game where there is a difference in crossing the path with obstacles and power-ups. Given the above, the UCS may produce longer route to the grandma house, but that route will be optimal form the path cost perspective.\n"
   ]
  },
  {
   "cell_type": "code",
   "execution_count": 59,
   "metadata": {},
   "outputs": [],
   "source": [
    "class RrHProblem(Problem):\n",
    "\n",
    "    \n",
    "\n",
    "    def __init__(self, initial, goal, obstacles, bonuses):\n",
    "\n",
    "        self.xStart = initial[0]\n",
    "        self.xEnd  = goal[1]\n",
    "        self.yStart = initial[1]\n",
    "        self.yEnd = goal[1]\n",
    "        self.obstacles = obstacles\n",
    "        self.bonuses = bonuses\n",
    "\n",
    "        super().__init__(initial, goal)\n",
    "\n",
    "    def isInbounds(self, location):\n",
    "        \"\"\"Checks to make sure that the location is inbounds (within walls if we have walls)\"\"\"\n",
    "        x, y = location\n",
    "        return not (x < self.xStart or x > self.xEnd or y < self.yStart or y > self.yEnd)\n",
    "    def isOnObstacle(self, location):\n",
    "         return location in self.obstacles\n",
    "    \n",
    "    def isInBonus(self, location):\n",
    "        return location in self.bonuses\n",
    "\n",
    "    def actions(self, state):\n",
    "        actionList = []\n",
    "        moves = [[1,1], [1,0], [0,1], [2,0], [0,2]]\n",
    "        \n",
    "        hasMore = True\n",
    "        options = [(state[0] + 1, state[1]), (state[0], state[1] + 1), (state[0] - 1, state[1]), (state[0], state[1] - 1)]\n",
    "        for option in options:\n",
    "            if self.isInbounds(option): #and (not self.isOnObstacle(option)):\n",
    "              actionList.append(option)\n",
    "       \n",
    "       \n",
    "        return actionList \n",
    "    \n",
    "    def result(self, state, action):\n",
    "        \n",
    "        return(action)\n",
    "\n",
    "    def path_cost(self, c, state1, action, state2):\n",
    "        '''\n",
    "        Override to include \n",
    "            1. the bonus for mushrooms and berries\n",
    "            2. penalty for wolves\n",
    "        '''\n",
    "        if self.isInBonus(action):\n",
    "            # Zero cost, berry power\n",
    "            return c\n",
    "        if self.isOnObstacle(action):\n",
    "            # Double cost, wolf is scary...\n",
    "            return c + 2\n",
    "        \n",
    "        return c + 1"
   ]
  },
  {
   "cell_type": "code",
   "execution_count": 60,
   "metadata": {},
   "outputs": [],
   "source": [
    "def report(solution):\n",
    "    node, actionsExecuted = solution, []\n",
    "\n",
    "    while node:\n",
    "        actionsExecuted.append((node, node.action))\n",
    "        node = node.parent\n",
    "\n",
    "    for n in actionsExecuted[::-1]:\n",
    "         print('Reached Node {} with action {}'.format(n[0], n[1]))\n",
    "    print(\"Solution cost:   \", solution.path_cost)"
   ]
  },
  {
   "cell_type": "code",
   "execution_count": 61,
   "metadata": {},
   "outputs": [],
   "source": [
    "wolves = [[0,2], [0,4], [2,1], [2,3], [4,2]]\n",
    "bonuses = [[2,2], [3,4], [0,1], [3,1]]\n",
    "rrh = RrHProblem((0,0), (4,4), wolves, bonuses)"
   ]
  },
  {
   "cell_type": "code",
   "execution_count": 62,
   "metadata": {},
   "outputs": [],
   "source": [
    "BFS1Solution =  breadth_first_tree_search(rrh)\n",
    "\n",
    "#This one is commented out as it never finishes\n",
    "#DFS1Solution = depth_first_tree_search(rrh)\n",
    "\n",
    "BFS2Solution = breadth_first_graph_search(rrh)\n",
    "\n",
    "DFS2Solution = depth_first_graph_search(rrh)\n",
    "\n",
    "UCSSolution = uniform_cost_search(rrh)\n",
    "\n",
    "\n"
   ]
  },
  {
   "cell_type": "code",
   "execution_count": 64,
   "metadata": {},
   "outputs": [
    {
     "name": "stdout",
     "output_type": "stream",
     "text": [
      "BFS tree:\n",
      "Reached Node <Node (0, 0)> with action None\n",
      "Reached Node <Node (1, 0)> with action (1, 0)\n",
      "Reached Node <Node (2, 0)> with action (2, 0)\n",
      "Reached Node <Node (3, 0)> with action (3, 0)\n",
      "Reached Node <Node (4, 0)> with action (4, 0)\n",
      "Reached Node <Node (4, 1)> with action (4, 1)\n",
      "Reached Node <Node (4, 2)> with action (4, 2)\n",
      "Reached Node <Node (4, 3)> with action (4, 3)\n",
      "Reached Node <Node (4, 4)> with action (4, 4)\n",
      "Solution cost:    8\n",
      "BFS graph\n",
      "Reached Node <Node (0, 0)> with action None\n",
      "Reached Node <Node (1, 0)> with action (1, 0)\n",
      "Reached Node <Node (2, 0)> with action (2, 0)\n",
      "Reached Node <Node (3, 0)> with action (3, 0)\n",
      "Reached Node <Node (4, 0)> with action (4, 0)\n",
      "Reached Node <Node (4, 1)> with action (4, 1)\n",
      "Reached Node <Node (4, 2)> with action (4, 2)\n",
      "Reached Node <Node (4, 3)> with action (4, 3)\n",
      "Reached Node <Node (4, 4)> with action (4, 4)\n",
      "Solution cost:    8\n",
      "DFS graph\n",
      "Reached Node <Node (0, 0)> with action None\n",
      "Reached Node <Node (0, 1)> with action (0, 1)\n",
      "Reached Node <Node (0, 2)> with action (0, 2)\n",
      "Reached Node <Node (0, 3)> with action (0, 3)\n",
      "Reached Node <Node (0, 4)> with action (0, 4)\n",
      "Reached Node <Node (1, 4)> with action (1, 4)\n",
      "Reached Node <Node (2, 4)> with action (2, 4)\n",
      "Reached Node <Node (2, 3)> with action (2, 3)\n",
      "Reached Node <Node (2, 2)> with action (2, 2)\n",
      "Reached Node <Node (2, 1)> with action (2, 1)\n",
      "Reached Node <Node (2, 0)> with action (2, 0)\n",
      "Reached Node <Node (3, 0)> with action (3, 0)\n",
      "Reached Node <Node (4, 0)> with action (4, 0)\n",
      "Reached Node <Node (4, 1)> with action (4, 1)\n",
      "Reached Node <Node (4, 2)> with action (4, 2)\n",
      "Reached Node <Node (4, 3)> with action (4, 3)\n",
      "Reached Node <Node (4, 4)> with action (4, 4)\n",
      "Solution cost:    16\n",
      "UCS\n",
      "Reached Node <Node (0, 0)> with action None\n",
      "Reached Node <Node (0, 1)> with action (0, 1)\n",
      "Reached Node <Node (0, 2)> with action (0, 2)\n",
      "Reached Node <Node (0, 3)> with action (0, 3)\n",
      "Reached Node <Node (0, 4)> with action (0, 4)\n",
      "Reached Node <Node (1, 4)> with action (1, 4)\n",
      "Reached Node <Node (2, 4)> with action (2, 4)\n",
      "Reached Node <Node (3, 4)> with action (3, 4)\n",
      "Reached Node <Node (4, 4)> with action (4, 4)\n",
      "Solution cost:    8\n"
     ]
    }
   ],
   "source": [
    "print(\"BFS tree:\")\n",
    "report(BFS1Solution)\n",
    "print(\"BFS graph\")\n",
    "report(BFS2Solution)\n",
    "print(\"DFS graph\")\n",
    "report(DFS2Solution)\n",
    "print(\"UCS\")\n",
    "report(UCSSolution)"
   ]
  },
  {
   "cell_type": "markdown",
   "metadata": {},
   "source": [
    "I have looked in the following uninformed search methods:\n",
    "1. breadth_first_tree_search\n",
    "    - optimal solution for very small problem\n",
    "    - path cost: 8\n",
    "    - repeated states due to tree search\n",
    "2. depth_first_tree_search\n",
    "    - does not complete search\n",
    "    - space: infinite\n",
    "    - repeated states due to tree search\n",
    "3. breadth_first_graph_search\n",
    "    - optimal solution (depth 8)\n",
    "    - path cost: 8\n",
    "    - depth_first_graph_search\n",
    "    - not optimal solution (depth 16)\n",
    "4. uniform_cost_search\n",
    "    - optimal solution (depth 9)\n",
    "\n",
    "From the experiments and analysis, I would conclude that the searches that would benefit most in my world would be BFS and UCS.\n"
   ]
  },
  {
   "cell_type": "markdown",
   "metadata": {},
   "source": [
    "# 3"
   ]
  },
  {
   "cell_type": "markdown",
   "metadata": {},
   "source": [
    "For the purpose of this exercise I will modify my world in the following ways:\n",
    "1.\tThe agent can sense “things”\n",
    "2.\tIf there is a berry or mushroom, the agent can smell it from adjoined tiles\n",
    "3.\tIf there is wolf the agent can hear it’s growl from the adjoined tiles\n",
    "\n",
    "Something worth mentioning here is that FC can generate vast amount of irrelevant data to the actual goal. In my world scenario the KB for the map will only contain small amount of useful implications.\n",
    "On the other hand, by applying the inference to the KB, the agent can derive new information that can help in making decisions. For my world example the agent may be able to infer the location of wolves and try to avoid moving into those tiles.\n"
   ]
  },
  {
   "cell_type": "code",
   "execution_count": null,
   "metadata": {},
   "outputs": [],
   "source": []
  }
 ],
 "metadata": {
  "kernelspec": {
   "display_name": "Python 3",
   "language": "python",
   "name": "python3"
  },
  "language_info": {
   "codemirror_mode": {
    "name": "ipython",
    "version": 3
   },
   "file_extension": ".py",
   "mimetype": "text/x-python",
   "name": "python",
   "nbconvert_exporter": "python",
   "pygments_lexer": "ipython3",
   "version": "3.7.4"
  },
  "widgets": {
   "application/vnd.jupyter.widget-state+json": {
    "state": {},
    "version_major": 2,
    "version_minor": 0
   }
  }
 },
 "nbformat": 4,
 "nbformat_minor": 2
}
