{
 "cells": [
  {
   "cell_type": "code",
   "execution_count": 1,
   "metadata": {
    "scrolled": true
   },
   "outputs": [
    {
     "name": "stdout",
     "output_type": "stream",
     "text": [
      "Requirement already satisfied: tensorflow_text in /anaconda/envs/azureml_py36/lib/python3.6/site-packages (2.3.0)\n",
      "Requirement already satisfied: tensorflow<2.4,>=2.3.0 in /anaconda/envs/azureml_py36/lib/python3.6/site-packages (from tensorflow_text) (2.3.1)\n",
      "Requirement already satisfied: wrapt>=1.11.1 in /anaconda/envs/azureml_py36/lib/python3.6/site-packages (from tensorflow<2.4,>=2.3.0->tensorflow_text) (1.11.2)\n",
      "Requirement already satisfied: h5py<2.11.0,>=2.10.0 in /anaconda/envs/azureml_py36/lib/python3.6/site-packages (from tensorflow<2.4,>=2.3.0->tensorflow_text) (2.10.0)\n",
      "Requirement already satisfied: google-pasta>=0.1.8 in /anaconda/envs/azureml_py36/lib/python3.6/site-packages (from tensorflow<2.4,>=2.3.0->tensorflow_text) (0.2.0)\n",
      "Requirement already satisfied: tensorboard<3,>=2.3.0 in /anaconda/envs/azureml_py36/lib/python3.6/site-packages (from tensorflow<2.4,>=2.3.0->tensorflow_text) (2.4.0)\n",
      "Requirement already satisfied: six>=1.12.0 in /anaconda/envs/azureml_py36/lib/python3.6/site-packages (from tensorflow<2.4,>=2.3.0->tensorflow_text) (1.14.0)\n",
      "Requirement already satisfied: keras-preprocessing<1.2,>=1.1.1 in /anaconda/envs/azureml_py36/lib/python3.6/site-packages (from tensorflow<2.4,>=2.3.0->tensorflow_text) (1.1.2)\n",
      "Requirement already satisfied: opt-einsum>=2.3.2 in /anaconda/envs/azureml_py36/lib/python3.6/site-packages (from tensorflow<2.4,>=2.3.0->tensorflow_text) (3.2.0)\n",
      "Requirement already satisfied: numpy<1.19.0,>=1.16.0 in /anaconda/envs/azureml_py36/lib/python3.6/site-packages (from tensorflow<2.4,>=2.3.0->tensorflow_text) (1.16.2)\n",
      "Requirement already satisfied: protobuf>=3.9.2 in /anaconda/envs/azureml_py36/lib/python3.6/site-packages (from tensorflow<2.4,>=2.3.0->tensorflow_text) (3.13.0)\n",
      "Requirement already satisfied: absl-py>=0.7.0 in /anaconda/envs/azureml_py36/lib/python3.6/site-packages (from tensorflow<2.4,>=2.3.0->tensorflow_text) (0.10.0)\n",
      "Requirement already satisfied: termcolor>=1.1.0 in /anaconda/envs/azureml_py36/lib/python3.6/site-packages (from tensorflow<2.4,>=2.3.0->tensorflow_text) (1.1.0)\n",
      "Requirement already satisfied: grpcio>=1.8.6 in /anaconda/envs/azureml_py36/lib/python3.6/site-packages (from tensorflow<2.4,>=2.3.0->tensorflow_text) (1.31.0)\n",
      "Requirement already satisfied: tensorflow-estimator<2.4.0,>=2.3.0 in /anaconda/envs/azureml_py36/lib/python3.6/site-packages (from tensorflow<2.4,>=2.3.0->tensorflow_text) (2.3.0)\n",
      "Requirement already satisfied: astunparse==1.6.3 in /anaconda/envs/azureml_py36/lib/python3.6/site-packages (from tensorflow<2.4,>=2.3.0->tensorflow_text) (1.6.3)\n",
      "Requirement already satisfied: wheel>=0.26 in /anaconda/envs/azureml_py36/lib/python3.6/site-packages (from tensorflow<2.4,>=2.3.0->tensorflow_text) (0.33.6)\n",
      "Requirement already satisfied: gast==0.3.3 in /anaconda/envs/azureml_py36/lib/python3.6/site-packages (from tensorflow<2.4,>=2.3.0->tensorflow_text) (0.3.3)\n",
      "Requirement already satisfied: werkzeug>=0.11.15 in /anaconda/envs/azureml_py36/lib/python3.6/site-packages (from tensorboard<3,>=2.3.0->tensorflow<2.4,>=2.3.0->tensorflow_text) (0.16.0)\n",
      "Requirement already satisfied: requests<3,>=2.21.0 in /anaconda/envs/azureml_py36/lib/python3.6/site-packages (from tensorboard<3,>=2.3.0->tensorflow<2.4,>=2.3.0->tensorflow_text) (2.23.0)\n",
      "Requirement already satisfied: tensorboard-plugin-wit>=1.6.0 in /anaconda/envs/azureml_py36/lib/python3.6/site-packages (from tensorboard<3,>=2.3.0->tensorflow<2.4,>=2.3.0->tensorflow_text) (1.6.0)\n",
      "Requirement already satisfied: google-auth<2,>=1.6.3 in /anaconda/envs/azureml_py36/lib/python3.6/site-packages (from tensorboard<3,>=2.3.0->tensorflow<2.4,>=2.3.0->tensorflow_text) (1.22.1)\n",
      "Requirement already satisfied: google-auth-oauthlib<0.5,>=0.4.1 in /anaconda/envs/azureml_py36/lib/python3.6/site-packages (from tensorboard<3,>=2.3.0->tensorflow<2.4,>=2.3.0->tensorflow_text) (0.4.1)\n",
      "Requirement already satisfied: setuptools>=41.0.0 in /anaconda/envs/azureml_py36/lib/python3.6/site-packages (from tensorboard<3,>=2.3.0->tensorflow<2.4,>=2.3.0->tensorflow_text) (41.4.0)\n",
      "Requirement already satisfied: markdown>=2.6.8 in /anaconda/envs/azureml_py36/lib/python3.6/site-packages (from tensorboard<3,>=2.3.0->tensorflow<2.4,>=2.3.0->tensorflow_text) (3.3.2)\n",
      "Requirement already satisfied: certifi>=2017.4.17 in /anaconda/envs/azureml_py36/lib/python3.6/site-packages (from requests<3,>=2.21.0->tensorboard<3,>=2.3.0->tensorflow<2.4,>=2.3.0->tensorflow_text) (2020.6.20)\n",
      "Requirement already satisfied: urllib3!=1.25.0,!=1.25.1,<1.26,>=1.21.1 in /anaconda/envs/azureml_py36/lib/python3.6/site-packages (from requests<3,>=2.21.0->tensorboard<3,>=2.3.0->tensorflow<2.4,>=2.3.0->tensorflow_text) (1.24.2)\n",
      "Requirement already satisfied: idna<3,>=2.5 in /anaconda/envs/azureml_py36/lib/python3.6/site-packages (from requests<3,>=2.21.0->tensorboard<3,>=2.3.0->tensorflow<2.4,>=2.3.0->tensorflow_text) (2.8)\n",
      "Requirement already satisfied: chardet<4,>=3.0.2 in /anaconda/envs/azureml_py36/lib/python3.6/site-packages (from requests<3,>=2.21.0->tensorboard<3,>=2.3.0->tensorflow<2.4,>=2.3.0->tensorflow_text) (3.0.4)\n",
      "Requirement already satisfied: pyasn1-modules>=0.2.1 in /anaconda/envs/azureml_py36/lib/python3.6/site-packages (from google-auth<2,>=1.6.3->tensorboard<3,>=2.3.0->tensorflow<2.4,>=2.3.0->tensorflow_text) (0.2.8)\n",
      "Requirement already satisfied: cachetools<5.0,>=2.0.0 in /anaconda/envs/azureml_py36/lib/python3.6/site-packages (from google-auth<2,>=1.6.3->tensorboard<3,>=2.3.0->tensorflow<2.4,>=2.3.0->tensorflow_text) (4.1.1)\n",
      "Requirement already satisfied: rsa<5,>=3.1.4; python_version >= \"3.5\" in /anaconda/envs/azureml_py36/lib/python3.6/site-packages (from google-auth<2,>=1.6.3->tensorboard<3,>=2.3.0->tensorflow<2.4,>=2.3.0->tensorflow_text) (4.6)\n",
      "Requirement already satisfied: requests-oauthlib>=0.7.0 in /anaconda/envs/azureml_py36/lib/python3.6/site-packages (from google-auth-oauthlib<0.5,>=0.4.1->tensorboard<3,>=2.3.0->tensorflow<2.4,>=2.3.0->tensorflow_text) (1.3.0)\n",
      "Requirement already satisfied: importlib-metadata; python_version < \"3.8\" in /anaconda/envs/azureml_py36/lib/python3.6/site-packages (from markdown>=2.6.8->tensorboard<3,>=2.3.0->tensorflow<2.4,>=2.3.0->tensorflow_text) (2.0.0)\n",
      "Requirement already satisfied: pyasn1<0.5.0,>=0.4.6 in /anaconda/envs/azureml_py36/lib/python3.6/site-packages (from pyasn1-modules>=0.2.1->google-auth<2,>=1.6.3->tensorboard<3,>=2.3.0->tensorflow<2.4,>=2.3.0->tensorflow_text) (0.4.8)\n",
      "Requirement already satisfied: oauthlib>=3.0.0 in /anaconda/envs/azureml_py36/lib/python3.6/site-packages (from requests-oauthlib>=0.7.0->google-auth-oauthlib<0.5,>=0.4.1->tensorboard<3,>=2.3.0->tensorflow<2.4,>=2.3.0->tensorflow_text) (3.1.0)\n",
      "Requirement already satisfied: zipp>=0.5 in /anaconda/envs/azureml_py36/lib/python3.6/site-packages (from importlib-metadata; python_version < \"3.8\"->markdown>=2.6.8->tensorboard<3,>=2.3.0->tensorflow<2.4,>=2.3.0->tensorflow_text) (0.6.0)\n",
      "Requirement already satisfied: more-itertools in /anaconda/envs/azureml_py36/lib/python3.6/site-packages (from zipp>=0.5->importlib-metadata; python_version < \"3.8\"->markdown>=2.6.8->tensorboard<3,>=2.3.0->tensorflow<2.4,>=2.3.0->tensorflow_text) (7.2.0)\n",
      "Requirement already satisfied: tensorflow_hub in /anaconda/envs/azureml_py36/lib/python3.6/site-packages (0.10.0)\n",
      "Requirement already satisfied: protobuf>=3.8.0 in /anaconda/envs/azureml_py36/lib/python3.6/site-packages (from tensorflow_hub) (3.13.0)\n",
      "Requirement already satisfied: numpy>=1.12.0 in /anaconda/envs/azureml_py36/lib/python3.6/site-packages (from tensorflow_hub) (1.16.2)\n",
      "Requirement already satisfied: six>=1.9 in /anaconda/envs/azureml_py36/lib/python3.6/site-packages (from protobuf>=3.8.0->tensorflow_hub) (1.14.0)\n",
      "Requirement already satisfied: setuptools in /anaconda/envs/azureml_py36/lib/python3.6/site-packages (from protobuf>=3.8.0->tensorflow_hub) (41.4.0)\n"
     ]
    }
   ],
   "source": [
    "!pip install tensorflow_text\n",
    "!pip install tensorflow_hub"
   ]
  },
  {
   "cell_type": "code",
   "execution_count": 2,
   "metadata": {},
   "outputs": [
    {
     "name": "stderr",
     "output_type": "stream",
     "text": [
      "Using TensorFlow backend.\n"
     ]
    }
   ],
   "source": [
    "import os\n",
    "import re\n",
    "import numpy as np\n",
    "import string\n",
    "import camel_tools\n",
    "import sklearn\n",
    "import pandas as pd\n",
    "import matplotlib.pyplot as plt\n",
    "import gensim\n",
    "import spacy\n",
    "import tensorflow as tf\n",
    "import tensorflow_text as text  \n",
    "import tensorflow_hub as hub\n",
    "import h5py\n",
    "\n",
    "from camel_tools.tokenizers.word import simple_word_tokenize\n",
    "\n",
    "from sklearn import metrics\n",
    "from sklearn import model_selection\n",
    "from sklearn.model_selection import train_test_split, GridSearchCV\n",
    "from sklearn.neighbors import KNeighborsClassifier\n",
    "from sklearn.metrics import f1_score\n",
    "from sklearn.preprocessing import LabelEncoder  \n",
    "from sklearn.svm import LinearSVC\n",
    "from sklearn.linear_model import SGDClassifier, RidgeClassifier\n",
    "from sklearn.datasets import load_files\n",
    "from sklearn.pipeline import Pipeline, FeatureUnion\n",
    "from sklearn.naive_bayes import BernoulliNB, ComplementNB, MultinomialNB\n",
    "from sklearn.ensemble import VotingClassifier\n",
    "from sklearn.feature_extraction.text import TfidfVectorizer\n",
    "\n",
    "\n",
    "from keras import preprocessing\n",
    "from keras import backend as K\n",
    "from preprocess.keras_preprocessing.text import Tokenizer\n",
    "\n",
    "from tqdm import tqdm\n",
    "\n",
    "from tensorflow.keras.models import Model\n",
    "from tensorflow.keras.layers import Conv1D, Dense, Bidirectional, MaxPool1D, MaxPool2D, Flatten, Input, Embedding, concatenate,LSTM,Dropout,BatchNormalization\n",
    "from tensorflow.keras.preprocessing.sequence import pad_sequences\n",
    "from tensorflow.keras.callbacks import LearningRateScheduler,TerminateOnNaN,ReduceLROnPlateau,EarlyStopping\n",
    "\n"
   ]
  },
  {
   "cell_type": "markdown",
   "metadata": {},
   "source": [
    "# NLP - Assignment 1\n",
    "\n",
    "## Adam Zebrowski - R00183247"
   ]
  },
  {
   "cell_type": "markdown",
   "metadata": {},
   "source": [
    "**Notes:**\n",
    "Please note the following assumptions:\n",
    " - data for the notebook is in './data' folder\n",
    " - Camel tools are installed and configured\n",
    "\n",
    "Execution Environment: This notebook has been executed in Microsoft Azure ML Compute with Python 3.6 and TF 2.3.1"
   ]
  },
  {
   "cell_type": "code",
   "execution_count": 3,
   "metadata": {},
   "outputs": [
    {
     "name": "stdout",
     "output_type": "stream",
     "text": [
      "2.3.1\n",
      "Name: /physical_device:GPU:0   Type: GPU\n",
      "Name: /physical_device:GPU:1   Type: GPU\n"
     ]
    }
   ],
   "source": [
    "print(tf.__version__)\n",
    "gpus = tf.config.list_physical_devices('GPU')\n",
    "for gpu in gpus:\n",
    "    print('Name:', gpu.name, '  Type:', gpu.device_type)"
   ]
  },
  {
   "cell_type": "code",
   "execution_count": 4,
   "metadata": {},
   "outputs": [],
   "source": [
    "\n",
    "\n",
    "train_file = './data/MADAR-Corpus-26-train.tsv'\n",
    "dev_file = './data/MADAR-Corpus-26-dev.tsv'\n",
    "gold_file = './data/MADAR-Corpus-26-dev.GOLD'\n",
    "pred_file = './data/MADAR-Corpus-26-dev-{}.PRED'\n",
    "#List of predition files for MADAR-DID-Scorer\n",
    "file_list = []"
   ]
  },
  {
   "cell_type": "markdown",
   "metadata": {},
   "source": [
    "Read the corpus file and extract:\n",
    " - sentences\n",
    " - dialects"
   ]
  },
  {
   "cell_type": "code",
   "execution_count": 5,
   "metadata": {},
   "outputs": [],
   "source": [
    "#Read the MADAR file\n",
    "def read_madar(file_name):\n",
    "    sentence, label, rows= [],[], []\n",
    "    with open(file_name, newline = '', encoding='utf8') as tsv: \n",
    "        print(file_name)\n",
    "        madar_list=[x.strip().split('\\t') for x in tsv]\n",
    "    for row in madar_list:\n",
    "        #save the array of sentence, dialect\n",
    "        rows.append([row[0], row[1]]) \n",
    "        # save sentenceence\n",
    "        sentence.append(row[0]) \n",
    "        # related dialect \n",
    "        label.append(row[1]) \n",
    "    return sentence, label, rows"
   ]
  },
  {
   "cell_type": "code",
   "execution_count": 6,
   "metadata": {},
   "outputs": [],
   "source": [
    "def store_set(labels,file):\n",
    "    with open(file, 'w') as write_file:\n",
    "        [write_file.write(label + '\\n') for label in labels]"
   ]
  },
  {
   "cell_type": "code",
   "execution_count": 7,
   "metadata": {},
   "outputs": [],
   "source": [
    "def execute_evaluation(instance_file):\n",
    "    !python './MADAR-DID-Scorer.py' $gold_file $instance_file"
   ]
  },
  {
   "cell_type": "code",
   "execution_count": 8,
   "metadata": {},
   "outputs": [
    {
     "name": "stdout",
     "output_type": "stream",
     "text": [
      "./data/MADAR-Corpus-26-train.tsv\n",
      "./data/MADAR-Corpus-26-dev.tsv\n",
      "{'ALG', 'BAG', 'BEI', 'FES', 'MOS', 'RAB', 'DAM', 'SFX', 'JED', 'MSA', 'BAS', 'KHA', 'DOH', 'JER', 'ASW', 'MUS', 'RIY', 'TUN', 'CAI', 'ALE', 'SAN', 'SAL', 'BEN', 'TRI', 'ALX', 'AMM'}\n"
     ]
    }
   ],
   "source": [
    "#Read train and test\n",
    "sentences, dialects, rows = read_madar(train_file)\n",
    "sentences_test, dialects_test, rows_test = read_madar(dev_file)\n",
    "#Store the test labels\n",
    "store_set(dialects_test, gold_file)\n",
    "#Store all dialects that are present in the set\n",
    "target_names = set(dialects)\n",
    "print(set(dialects))"
   ]
  },
  {
   "cell_type": "markdown",
   "metadata": {},
   "source": [
    "## Step1 (30%) : Data preprocessing\n",
    "\n",
    "Download the Training and Development Data Canvas. And pre-process the dataset, i.e.\n",
    "cleaning, tokenization, etc.\n",
    "You can find an Arabic text tokenizer (Farasa) within the Project_1 folder.\n",
    "You can, also, use Camel Tools (already installed in C127 machines).\n",
    "https://github.com/CAMeL-Lab/camel_tools"
   ]
  },
  {
   "cell_type": "code",
   "execution_count": 9,
   "metadata": {},
   "outputs": [],
   "source": [
    "#Define Emojis\n",
    "RE_EMOJI = re.compile('[\\U00010000-\\U0010ffff]', flags=re.UNICODE)\n",
    "#Define Emoticons\n",
    "emoticons_str = r'''\n",
    "    (?:\n",
    "        [:=;] # Eyes\n",
    "        [oO\\-]? # Nose \n",
    "        [D\\)\\]\\(\\]/\\\\OpP] # Mouth\n",
    "    )'''\n",
    "#Define noise chaaracters\n",
    "regex_str = [\n",
    "    emoticons_str,\n",
    "    r'<[^>]+>',  # HTML tags\n",
    "    r'(?:@[\\w_]+)',  # @-mentions\n",
    "    r'(?:\\#+[\\w_]+[\\w\\'_\\-]*[\\w_]+)',  # hash-tags\n",
    "    r'http[s]?://(?:[a-z]|[0-9]|[$-_@.&amp;+]|[!*\\(\\),]|(?:%[0-9a-f][0-9a-f]))+',  # URLs\n",
    "\n",
    "    r'(?:(?:\\d+,?)+(?:\\.?\\d+)?)',  # numbers\n",
    "    r\"(?:[a-z][a-z'\\-_]+[a-z])\",  # words with - and \n",
    "    r'(?:[\\w_]+)',  # other words\n",
    "    r'(?:\\S)'  # anything else\n",
    "]\n",
    "#Define Arabic diacritics\n",
    "arabic_diacritics = re.compile(''' ّ    | # Tashdid\n",
    "                             َ    | # Fatha\n",
    "                             ً    | # Tanwin Fath\n",
    "                             ُ    | # Damma\n",
    "                             ٌ    | # Tanwin Damm\n",
    "                             ِ    | # Kasra\n",
    "                             ٍ    | # Tanwin Kasr\n",
    "                             ْ    | # Sukun\n",
    "                             ـ     # Tatwil/Kashida\n",
    "                         ''', re.VERBOSE)\n"
   ]
  },
  {
   "cell_type": "code",
   "execution_count": 10,
   "metadata": {},
   "outputs": [],
   "source": [
    "#Removing accented letters, diacritics and variations, \n",
    "# although I am not Arabic speaker...\n",
    "def normalize_arabic(text):\n",
    "    text = remove_diacritics(text)\n",
    "    text = re.sub('[إأآا]', 'ا', text)\n",
    "    text = re.sub('ى', 'ي', text)\n",
    "    text = re.sub('ؤ', 'ء', text)\n",
    "    text = re.sub('ئ', 'ء', text)\n",
    "    text = re.sub('ة', 'ه', text)\n",
    "    text = re.sub('گ', 'ك', text)\n",
    "    return text\n",
    "\n",
    "def remove_diacritics(text):\n",
    "    text = re.sub(arabic_diacritics, '', text)\n",
    "    return text\n",
    "\n",
    "\n",
    "#Remove noise\n",
    "def strip_emoji(text):\n",
    "    return RE_EMOJI.sub(r'', text)\n",
    "\n",
    "def remove_punctuations(text):\n",
    "    punctuations = '!'#$%&\\'()*+,-./:;<=>?@[\\\\]^_`{|}~،؟'\n",
    "    return ''.join(ch for ch in text if ch not in punctuations)\n",
    "\n",
    "def remove_digits(text):\n",
    "    remove_digits = str.maketrans('', '', string.digits)\n",
    "    res = text.translate(remove_digits)\n",
    "    return res"
   ]
  },
  {
   "cell_type": "code",
   "execution_count": 11,
   "metadata": {},
   "outputs": [],
   "source": [
    "#Perform data cleaning based on the above\n",
    "#Tokenisation is performed as well based on Camel Tools\n",
    "def clean(corpus):\n",
    "    new_corpus = []\n",
    "    tokenised_corpus = []\n",
    "    for sentence, dialect in corpus:\n",
    "        clean_text = remove_punctuations(remove_punctuations(sentence))\n",
    "        clean_text = normalize_arabic(clean_text)\n",
    "        clean_text = remove_diacritics(clean_text)\n",
    "        clean_text = remove_digits(clean_text)\n",
    "        clean_text = strip_emoji(clean_text)\n",
    "        tokenised_text = camel_tools.tokenizers.word.simple_word_tokenize(clean_text)\n",
    "        new_corpus.append([clean_text, dialect])\n",
    "        [tokenised_corpus.append([token, dialect]) for token in tokenised_text]\n",
    "    return new_corpus, tokenised_corpus"
   ]
  },
  {
   "cell_type": "code",
   "execution_count": 12,
   "metadata": {},
   "outputs": [],
   "source": [
    "pre_processed_corpus, tokenised_corpus = clean(rows)\n",
    "pre_processed_corpus_test, tokenised_corpus_test = clean(rows_test)"
   ]
  },
  {
   "cell_type": "markdown",
   "metadata": {},
   "source": [
    "## Step2 (70%): System implementation\n",
    "Your task is to implement and compare three different text classification methods as follows.\n"
   ]
  },
  {
   "cell_type": "code",
   "execution_count": 13,
   "metadata": {},
   "outputs": [],
   "source": [
    "#Function to visualise the output from model run\n",
    "def visualise_output(history):\n",
    "    \n",
    "    print('\\n')\n",
    "    print('Min Val Loss: ', min(history.history['val_loss']))\n",
    "    print('Max Val Accuracy: ', max(history.history['val_accuracy']))\n",
    "    print('\\n')\n",
    "    \n",
    "    \n",
    "    plt.figure(figsize=(20,10))\n",
    "    plt.plot(history.history['loss'])\n",
    "    plt.plot(history.history['val_loss'])\n",
    "    plt.plot(history.history['accuracy'])\n",
    "    plt.plot(history.history['val_accuracy'])\n",
    "   \n",
    "    plt.title('Training Loss and Accuracy')\n",
    "    plt.ylabel('Loss/Accuracy')\n",
    "    plt.xlabel('Epoch #')\n",
    "    plt.legend(['train loss', 'val loss', 'train acc', 'val acc'], loc='upper right')\n",
    "    plt.show()"
   ]
  },
  {
   "cell_type": "code",
   "execution_count": 14,
   "metadata": {},
   "outputs": [],
   "source": [
    "#Early stopping attributes\n",
    "reduce_lr1 = ReduceLROnPlateau(monitor='val_accuracy', factor=0.1,patience=5,mode='max',verbose=1)\n",
    "early_stopping1 = EarlyStopping(monitor='val_accuracy', min_delta=0.02, patience=15, verbose=1, mode='max')\n",
    "\n",
    "'''\n",
    "Main model execution function\n",
    "It takes the following parameters:\n",
    "    1. a model\n",
    "    2. an augmentation generator\n",
    "    3. optional model name to name the checkpoint files\n",
    "It will fit the model and checkpoint the improved weights to the file\n",
    "This function will produce 1 weights file per model, if multiple are required the fname varaible needs\n",
    "to be swapped for the commented one\n",
    "'''\n",
    "def execute_model(model, x, y, x_cv, y_cv, modelName = 'model1', reduce_lr = reduce_lr1, early_stopping = early_stopping1):\n",
    "    \n",
    "    fname ='data/' + modelName + '_weights.hdf5'\n",
    "    checkpoint = tf.keras.callbacks.ModelCheckpoint(fname, monitor='val_accuracy', mode='max', save_best_only=True, \n",
    "                                                    verbose=0)\n",
    "    \n",
    "    h = model.fit(x = x,y = y,batch_size=256, epochs=100, validation_data=(x_cv,y_cv),\n",
    "                     shuffle=True, callbacks =[checkpoint, reduce_lr, early_stopping])\n",
    "       \n",
    "    \n",
    "    visualise_output(h)\n",
    "    return min(h.history['val_loss']), max(h.history['val_accuracy'])"
   ]
  },
  {
   "cell_type": "code",
   "execution_count": 15,
   "metadata": {},
   "outputs": [],
   "source": [
    "'''\n",
    "Helper function to load previously saved model weights\n",
    "This function assumes that the models are saved in 'data' folder\n",
    "and each file is named with the following convention:\n",
    "    modelName_weights.hdf5\n",
    "'''\n",
    "def load_model(model, name):\n",
    "    path = 'data/{}_weights.hdf5'.format(name)\n",
    "    model.load_weights(path)\n",
    "    return model"
   ]
  },
  {
   "cell_type": "code",
   "execution_count": 16,
   "metadata": {},
   "outputs": [],
   "source": [
    "df_original = pd.DataFrame(pre_processed_corpus,columns = ['sentence','dialect'])\n",
    "df_test_original = pd.DataFrame(pre_processed_corpus_test,columns = ['sentence','dialect'])\n",
    "\n",
    "#Keeping unmodified DF\n",
    "df = df_original.copy()\n",
    "df_test = df_test_original.copy()"
   ]
  },
  {
   "cell_type": "markdown",
   "metadata": {},
   "source": [
    "### 1- Feature-Based Classification for Dialectal Arabic (20%)\n",
    "Use and compare two different feature-based classification methods (classical Machine\n",
    "Learning techniques) in order to implement your Arabic dialect identification system.\n",
    "\n",
    "Your models should apply various n-gram features as follows:\n",
    "\n",
    "-  Word-gram features with uni-gram, bi-gram and tri-gram;\n",
    "- Character-gram features with/without word boundary consideration, from bi-gram and up to 5-gram."
   ]
  },
  {
   "cell_type": "code",
   "execution_count": 17,
   "metadata": {},
   "outputs": [
    {
     "name": "stdout",
     "output_type": "stream",
     "text": [
      "<class 'pandas.core.frame.DataFrame'>\n",
      "RangeIndex: 41600 entries, 0 to 41599\n",
      "Data columns (total 2 columns):\n",
      "sentence    41600 non-null object\n",
      "dialect     41600 non-null object\n",
      "dtypes: object(2)\n",
      "memory usage: 650.1+ KB\n"
     ]
    }
   ],
   "source": [
    "df.info()\n",
    "le = LabelEncoder()\n",
    "target = le.fit_transform(df['dialect'])\n",
    "target_test = le.fit_transform(df_test['dialect'])"
   ]
  },
  {
   "cell_type": "code",
   "execution_count": 18,
   "metadata": {},
   "outputs": [
    {
     "data": {
      "text/html": [
       "<div>\n",
       "<style scoped>\n",
       "    .dataframe tbody tr th:only-of-type {\n",
       "        vertical-align: middle;\n",
       "    }\n",
       "\n",
       "    .dataframe tbody tr th {\n",
       "        vertical-align: top;\n",
       "    }\n",
       "\n",
       "    .dataframe thead th {\n",
       "        text-align: right;\n",
       "    }\n",
       "</style>\n",
       "<table border=\"1\" class=\"dataframe\">\n",
       "  <thead>\n",
       "    <tr style=\"text-align: right;\">\n",
       "      <th></th>\n",
       "      <th>sentence</th>\n",
       "      <th>dialect</th>\n",
       "    </tr>\n",
       "  </thead>\n",
       "  <tbody>\n",
       "    <tr>\n",
       "      <th>0</th>\n",
       "      <td>هناك ، امام بيانات الساءح تماما .</td>\n",
       "      <td>MSA</td>\n",
       "    </tr>\n",
       "    <tr>\n",
       "      <th>1</th>\n",
       "      <td>لم اسمع بهذا العنوان من قبل بالقرب من هنا .</td>\n",
       "      <td>MSA</td>\n",
       "    </tr>\n",
       "    <tr>\n",
       "      <th>2</th>\n",
       "      <td>استمر في السير في هذا الطريق حتي تجد صيدليه .</td>\n",
       "      <td>MSA</td>\n",
       "    </tr>\n",
       "    <tr>\n",
       "      <th>3</th>\n",
       "      <td>كم تكلفه الافطار ؟</td>\n",
       "      <td>MSA</td>\n",
       "    </tr>\n",
       "    <tr>\n",
       "      <th>4</th>\n",
       "      <td>كيف استطيع مساعدتك ؟</td>\n",
       "      <td>MSA</td>\n",
       "    </tr>\n",
       "  </tbody>\n",
       "</table>\n",
       "</div>"
      ],
      "text/plain": [
       "                                        sentence dialect\n",
       "0              هناك ، امام بيانات الساءح تماما .     MSA\n",
       "1    لم اسمع بهذا العنوان من قبل بالقرب من هنا .     MSA\n",
       "2  استمر في السير في هذا الطريق حتي تجد صيدليه .     MSA\n",
       "3                             كم تكلفه الافطار ؟     MSA\n",
       "4                           كيف استطيع مساعدتك ؟     MSA"
      ]
     },
     "execution_count": 18,
     "metadata": {},
     "output_type": "execute_result"
    }
   ],
   "source": [
    "df.head()"
   ]
  },
  {
   "cell_type": "code",
   "execution_count": 19,
   "metadata": {},
   "outputs": [
    {
     "data": {
      "text/plain": [
       "array(['ALE', 'ALG', 'ALX', 'AMM', 'ASW', 'BAG', 'BAS', 'BEI', 'BEN',\n",
       "       'CAI', 'DAM', 'DOH', 'FES', 'JED', 'JER', 'KHA', 'MOS', 'MSA',\n",
       "       'MUS', 'RAB', 'RIY', 'SAL', 'SAN', 'SFX', 'TRI', 'TUN'],\n",
       "      dtype=object)"
      ]
     },
     "execution_count": 19,
     "metadata": {},
     "output_type": "execute_result"
    }
   ],
   "source": [
    "le.classes_"
   ]
  },
  {
   "cell_type": "code",
   "execution_count": 20,
   "metadata": {},
   "outputs": [
    {
     "name": "stdout",
     "output_type": "stream",
     "text": [
      "                                        sentence  dialect\n",
      "0              هناك ، امام بيانات الساءح تماما .       17\n",
      "1    لم اسمع بهذا العنوان من قبل بالقرب من هنا .       17\n",
      "2  استمر في السير في هذا الطريق حتي تجد صيدليه .       17\n",
      "3                             كم تكلفه الافطار ؟       17\n",
      "4                           كيف استطيع مساعدتك ؟       17\n"
     ]
    }
   ],
   "source": [
    "df['dialect'] = target\n",
    "df_test['dialect'] = target_test\n",
    "print(df.head())"
   ]
  },
  {
   "cell_type": "code",
   "execution_count": 21,
   "metadata": {},
   "outputs": [],
   "source": [
    "#X_train, X_cv = train_test_split(df, test_size=0.20, stratify=df['dialect'],shuffle=True)\n",
    "X_train = df\n",
    "X_cv = df_test"
   ]
  },
  {
   "cell_type": "code",
   "execution_count": 22,
   "metadata": {},
   "outputs": [
    {
     "name": "stdout",
     "output_type": "stream",
     "text": [
      "(41600, 2)\n",
      "(5200, 2)\n"
     ]
    }
   ],
   "source": [
    "print(X_train.shape)\n",
    "print(X_cv.shape)"
   ]
  },
  {
   "cell_type": "code",
   "execution_count": 23,
   "metadata": {},
   "outputs": [
    {
     "name": "stdout",
     "output_type": "stream",
     "text": [
      "[['هناك ، امام بيانات الساءح تماما .' 17]\n",
      " ['لم اسمع بهذا العنوان من قبل بالقرب من هنا .' 17]\n",
      " ['استمر في السير في هذا الطريق حتي تجد صيدليه .' 17]\n",
      " ...\n",
      " ['من وين خاطمين حني توا ؟' 24]\n",
      " ['زوز كبار و عيل تلاته سنين .' 24]\n",
      " ['في حمام في المحطه .' 24]]\n"
     ]
    }
   ],
   "source": [
    "x_t = np.array(X_train)\n",
    "print(x_t)\n"
   ]
  },
  {
   "cell_type": "code",
   "execution_count": 24,
   "metadata": {},
   "outputs": [],
   "source": [
    "def score_prediction(pred, y_tst):\n",
    "    print('Predictions using test data: ')\n",
    "    score = metrics.accuracy_score(y_tst, pred)\n",
    "    print('Prediction accuracy:   %0.3f' % score)\n",
    "    print('classification report:')\n",
    "    print(metrics.classification_report(y_tst, pred,target_names=target_names))\n",
    "    print('confusion matrix:')\n",
    "    print(metrics.confusion_matrix(y_tst, pred))"
   ]
  },
  {
   "cell_type": "code",
   "execution_count": 25,
   "metadata": {},
   "outputs": [],
   "source": [
    "def evaluate(pred, name, description):\n",
    "    #Reconstructing the actual labels and storing for further validation with \n",
    "    #MADAR script\n",
    "    reconstructed_labels = ([le.classes_[c] for c in pred])\n",
    "    instance_file = pred_file.format(name)\n",
    "    store_set(reconstructed_labels, instance_file)\n",
    "    file_list.append([instance_file, description])\n",
    "    #Execute Madar script\n",
    "    print('Evaluation (Task 4):\\n')\n",
    "    execute_evaluation(instance_file)"
   ]
  },
  {
   "cell_type": "code",
   "execution_count": 26,
   "metadata": {},
   "outputs": [],
   "source": [
    "def gridsearch_knn(x_tr,y_tr, x_tst, y_tst):\n",
    "    \n",
    "    n_neighbors = [3, 15, 25, 51,101,151,201,301]\n",
    "    clf = KNeighborsClassifier( )\n",
    "    parameters = {'n_neighbors':[3, 15, 25, 51,101,151,201,301]}\n",
    "    clf = GridSearchCV(clf, parameters, cv=3, scoring='f1_micro',n_jobs=-1,return_train_score=True,verbose=1)\n",
    "    clf.fit(x_tr,y_tr)\n",
    "    print('best hyperpameter is : ',clf.best_params_)\n",
    "    print('best f1 score is : ',clf.best_score_)\n",
    "\n",
    "\n",
    "    train_f1= clf.cv_results_['mean_train_score']\n",
    "    train_f1_std= clf.cv_results_['std_train_score']\n",
    "\n",
    "    cv_f1 = clf.cv_results_['mean_test_score'] \n",
    "    cv_f1_std= clf.cv_results_['std_test_score']\n",
    "\n",
    "    plt.plot(n_neighbors,train_f1, label='Train F1')\n",
    "          # Reference: this code is copied from here: https://stackoverflow.com/a/48803361/4084039\n",
    "    plt.gca().fill_between(n_neighbors,train_f1 - train_f1_std,train_f1 + train_f1_std,alpha=0.2,color='darkblue')\n",
    "\n",
    "    plt.plot(n_neighbors, cv_f1, label='CV F1')\n",
    "          # Reference: this code is copied from here: https://stackoverflow.com/a/48803361/4084039\n",
    "    plt.gca().fill_between(n_neighbors,cv_f1 - cv_f1_std,cv_f1 + cv_f1_std,alpha=0.2,color='darkorange')\n",
    "    plt.legend()\n",
    "    plt.xlabel('n_neighbors: hyperparameter')\n",
    "    plt.ylabel('F1')\n",
    "    plt.title('ERROR PLOTS')\n",
    "    plt.grid(color='grey')\n",
    "    plt.show()\n",
    "    pred = clf.predict(x_tst)\n",
    "    score_prediction(pred, y_tst)\n",
    "    return pred\n",
    "\n"
   ]
  },
  {
   "cell_type": "code",
   "execution_count": 27,
   "metadata": {},
   "outputs": [],
   "source": [
    "def gridsearch_NB(x_tr, y_tr, x_tst, y_tst):\n",
    "    alpha = [0.001,0.01,0.1,1,3, 5, 10, 15, 21, 31, 41]\n",
    "    clf = MultinomialNB(fit_prior = False)\n",
    "    parameters = {'alpha':[0.001,0.01,0.1,1,3, 5, 10, 15, 21, 31, 41]}\n",
    "    clf = GridSearchCV(clf, parameters, cv=3, scoring='f1_micro',n_jobs=-1,return_train_score=True)\n",
    "    clf.fit(x_tr,y_tr)\n",
    "    \n",
    "    print('best hyperpameter is : ',clf.best_params_)\n",
    "    print('best f1 score is : ',clf.best_score_)\n",
    "\n",
    "\n",
    "    train_f1= clf.cv_results_['mean_train_score']\n",
    "    train_f1_std= clf.cv_results_['std_train_score']\n",
    "    cv_f1 = clf.cv_results_['mean_test_score'] \n",
    "    cv_f1_std= clf.cv_results_['std_test_score']\n",
    "\n",
    "    plt.plot(alpha,train_f1, label='Train F1')\n",
    "          # Reference: this code is copied from here: https://stackoverflow.com/a/48803361/4084039\n",
    "    plt.gca().fill_between(alpha,train_f1 - train_f1_std,train_f1 + train_f1_std,alpha=0.2,color='darkblue')\n",
    "\n",
    "    plt.plot(alpha, cv_f1, label='CV F1')\n",
    "          # Reference: this code is copied from here: https://stackoverflow.com/a/48803361/4084039\n",
    "    plt.gca().fill_between(alpha,cv_f1 - cv_f1_std,cv_f1 + cv_f1_std,alpha=0.2,color='darkorange')\n",
    "    plt.legend()\n",
    "    plt.xlabel('alpha: hyperparameter')\n",
    "    plt.ylabel('F1')\n",
    "    plt.title('ERROR PLOTS')\n",
    "    plt.grid(color='grey')\n",
    "    plt.show()\n",
    "    \n",
    "    pred = clf.predict(x_tst)\n",
    "    score_prediction(pred, y_tst)\n",
    "    \n",
    "    return pred"
   ]
  },
  {
   "cell_type": "markdown",
   "metadata": {},
   "source": [
    "Word-gram features with uni-gram, bi-gram and tri-gram"
   ]
  },
  {
   "cell_type": "code",
   "execution_count": 28,
   "metadata": {},
   "outputs": [
    {
     "name": "stdout",
     "output_type": "stream",
     "text": [
      "After vectorizations\n",
      "(41600, 275343) (41600,)\n",
      "(5200, 275343) (5200,)\n"
     ]
    }
   ],
   "source": [
    "\n",
    "vectorizer = TfidfVectorizer(sublinear_tf=True, max_df=0.5,tokenizer=simple_word_tokenize,ngram_range =(1,3))\n",
    "\n",
    "vectorizer.fit(X_train['sentence'])\n",
    "\n",
    "X_train_tfidf = vectorizer.transform(X_train['sentence'])\n",
    "X_cv_tfidf = vectorizer.transform(X_cv['sentence'])\n",
    "\n",
    "print('After vectorizations')\n",
    "print(X_train_tfidf.shape, X_train['dialect'].shape)\n",
    "print(X_cv_tfidf.shape, X_cv['dialect'].shape)\n"
   ]
  },
  {
   "cell_type": "markdown",
   "metadata": {},
   "source": [
    "Character-gram features without word boundary consideration, from bi-gram and up to 5-gram."
   ]
  },
  {
   "cell_type": "code",
   "execution_count": 29,
   "metadata": {},
   "outputs": [
    {
     "name": "stdout",
     "output_type": "stream",
     "text": [
      "After vectorizations\n",
      "(41600, 201424) (41600,)\n",
      "(5200, 201424) (5200,)\n"
     ]
    }
   ],
   "source": [
    "\n",
    "vectorizer2 = TfidfVectorizer(sublinear_tf=True, max_df=0.5,ngram_range =(2,5),analyzer = 'char')\n",
    "\n",
    "vectorizer2.fit(X_train['sentence'])\n",
    "\n",
    "X_train_tfidf_char = vectorizer2.transform(X_train['sentence'])\n",
    "X_cv_tfidf_char = vectorizer2.transform(X_cv['sentence'])\n",
    "\n",
    "\n",
    "\n",
    "print('After vectorizations')\n",
    "print(X_train_tfidf_char.shape, X_train['dialect'].shape)\n",
    "print(X_cv_tfidf_char.shape, X_cv['dialect'].shape)\n",
    "\n",
    "\n",
    "#print(vectorizer2.get_feature_names())"
   ]
  },
  {
   "cell_type": "markdown",
   "metadata": {},
   "source": [
    "Character-gram features with word boundary consideration, from bi-gram and up to 5-gram."
   ]
  },
  {
   "cell_type": "code",
   "execution_count": 30,
   "metadata": {},
   "outputs": [
    {
     "name": "stdout",
     "output_type": "stream",
     "text": [
      "After vectorizations\n",
      "(41600, 88753) (41600,)\n",
      "(5200, 88753) (5200,)\n"
     ]
    }
   ],
   "source": [
    "vectorizer3 = TfidfVectorizer(sublinear_tf=True, max_df=0.5,ngram_range =(2,5),analyzer = 'char_wb')\n",
    "vectorizer3.fit(X_train['sentence'])\n",
    "\n",
    "X_train_tfidf_char_wb = vectorizer3.transform(X_train['sentence'])\n",
    "X_cv_tfidf_char_wb = vectorizer3.transform(X_cv['sentence'])\n",
    "\n",
    "print('After vectorizations')\n",
    "print(X_train_tfidf_char_wb.shape, X_train['dialect'].shape)\n",
    "print(X_cv_tfidf_char_wb.shape, X_cv['dialect'].shape)\n"
   ]
  },
  {
   "cell_type": "markdown",
   "metadata": {},
   "source": [
    "#### 2.1.1 KNN"
   ]
  },
  {
   "cell_type": "markdown",
   "metadata": {},
   "source": [
    "KNN: Word-gram features with uni-gram, bi-gram and tri-gram"
   ]
  },
  {
   "cell_type": "code",
   "execution_count": 31,
   "metadata": {},
   "outputs": [
    {
     "name": "stdout",
     "output_type": "stream",
     "text": [
      "Fitting 3 folds for each of 8 candidates, totalling 24 fits\n"
     ]
    },
    {
     "name": "stderr",
     "output_type": "stream",
     "text": [
      "[Parallel(n_jobs=-1)]: Using backend LokyBackend with 12 concurrent workers.\n"
     ]
    },
    {
     "name": "stdout",
     "output_type": "stream",
     "text": [
      "best hyperpameter is :  {'n_neighbors': 101}\n",
      "best f1 score is :  0.41346153846153844\n"
     ]
    },
    {
     "name": "stderr",
     "output_type": "stream",
     "text": [
      "[Parallel(n_jobs=-1)]: Done  24 out of  24 | elapsed:  1.3min finished\n"
     ]
    },
    {
     "data": {
      "image/png": "[encoded data removed]",
      "text/plain": [
       "<Figure size 432x288 with 1 Axes>"
      ]
     },
     "metadata": {
      "needs_background": "light"
     },
     "output_type": "display_data"
    },
    {
     "name": "stdout",
     "output_type": "stream",
     "text": [
      "Predictions using test data: \n",
      "Prediction accuracy:   0.475\n",
      "classification report:\n",
      "              precision    recall  f1-score   support\n",
      "\n",
      "         ALG       0.53      0.55      0.54       200\n",
      "         BAG       0.49      0.64      0.55       200\n",
      "         BEI       0.38      0.41      0.40       200\n",
      "         FES       0.30      0.43      0.36       200\n",
      "         MOS       0.37      0.56      0.44       200\n",
      "         RAB       0.53      0.53      0.53       200\n",
      "         DAM       0.55      0.47      0.51       200\n",
      "         SFX       0.71      0.48      0.58       200\n",
      "         JED       0.54      0.49      0.52       200\n",
      "         MSA       0.45      0.26      0.32       200\n",
      "         BAS       0.44      0.38      0.40       200\n",
      "         KHA       0.46      0.46      0.46       200\n",
      "         DOH       0.65      0.57      0.61       200\n",
      "         JER       0.33      0.45      0.38       200\n",
      "         ASW       0.30      0.54      0.38       200\n",
      "         MUS       0.46      0.57      0.51       200\n",
      "         RIY       0.75      0.62      0.68       200\n",
      "         TUN       0.60      0.61      0.61       200\n",
      "         CAI       0.42      0.26      0.32       200\n",
      "         ALE       0.71      0.41      0.52       200\n",
      "         SAN       0.41      0.41      0.41       200\n",
      "         SAL       0.29      0.20      0.24       200\n",
      "         BEN       0.62      0.55      0.58       200\n",
      "         TRI       0.51      0.66      0.57       200\n",
      "         ALX       0.63      0.49      0.55       200\n",
      "         AMM       0.42      0.35      0.38       200\n",
      "\n",
      "   micro avg       0.47      0.47      0.47      5200\n",
      "   macro avg       0.49      0.47      0.48      5200\n",
      "weighted avg       0.49      0.47      0.48      5200\n",
      "\n",
      "confusion matrix:\n",
      "[[110   2   3  11   3   3   1   3   1   3  14   2   0   8  12   0   2   1\n",
      "    3   1   6   5   3   1   0   2]\n",
      " [  3 127   2   3   1   1   1   0   5   2   0   2   6   6   4  11   1   1\n",
      "    3   3   5   0   0   6   3   4]\n",
      " [  2   8  82   5  47   0   1   0   3   9   2   2   0   9  11   8   0   1\n",
      "    0   0   4   2   0   1   1   2]\n",
      " [ 13   2   6  86   8   1   2   4   3   1  10   3   1   7  32   3   0   2\n",
      "    1   0   4   7   2   1   0   1]\n",
      " [  1   2  30   4 111   0   1   1   2  11   1   1   0  11   8   2   0   2\n",
      "    0   0   3   1   4   1   1   2]\n",
      " [  0   1   2   6   3 106  38   0   3   0   1   8   0   9   2   1   1   1\n",
      "    3   0   5   3   0   1   2   4]\n",
      " [  5   3   0   4   5  38  95   0   2   0   1   5   0   6   1   1  13   4\n",
      "    3   2   1   3   1   2   0   5]\n",
      " [ 15   0   5  11   2   0   1  97   2   3  14   2   0   3  15   2   1   1\n",
      "    1   2   4   7   6   1   0   5]\n",
      " [  2   4   9   4   5   0   1   0  99   2   2   7   0   8  17   6   1   2\n",
      "    3   2   4   6   2   4   8   2]\n",
      " [  6   4  33   4  43   0   2   2   1  51   2   1   0   8   8  14   0   0\n",
      "    1   0   2   6   3   3   4   2]\n",
      " [ 13   2   4  27   5   8   1  14   0   1  75   3   0   4  16   1   0   1\n",
      "    3   1   5   7   4   1   2   2]\n",
      " [  2   3   3  13   7   4   3   1   5   0  10  92   0   9   9   7   1   1\n",
      "    6   1  12   4   4   0   1   2]\n",
      " [  0  17   1   5   3   2   0   1   1   1   0   8 115   8   1   3   0   4\n",
      "    1  18   0   2   0   1   3   5]\n",
      " [  4   1   7  13  11   2   2   1   6   5   2   8   0  90   7  10   1   0\n",
      "    4   0  12   3   4   4   1   2]\n",
      " [ 15   0   2  13   2   0   1   3   1   0  12   6   0   7 107   0   1   0\n",
      "    2   0   1  11   6   0   9   1]\n",
      " [  1   6   7   6   9   2   1   0   1   4   2   3   0  10   5 115   1   2\n",
      "    6   0   8   1   3   1   4   2]\n",
      " [  1   2   1   5   5  10   8   1   0   0   1   4   0   7   1   2 125   5\n",
      "    3   0   4   3   1   3   1   7]\n",
      " [  1  13   1   2   2   7   3   0   1   1   1   1   2   6   1  10   1 123\n",
      "    8   0   4   0   4   2   1   5]\n",
      " [  1  14   2   6   1   5   6   0   5   1   0  10   1   9  10  15   2  29\n",
      "   51   0  21   3   4   1   0   3]\n",
      " [  0  15   2   3   3   2   0   3   3   0   0   4  48   7   0   3   0   2\n",
      "    2  82   0   3   1   8   4   5]\n",
      " [  0   5   4   8   3   3   3   1   5   2   4   9   1  11  12  10   2  13\n",
      "    6   0  81   3   2   6   3   3]\n",
      " [  8   1   2  31   5   1   0   2   4   7  11   4   0   7  57   0   5   2\n",
      "    1   0   1  40   8   0   2   1]\n",
      " [  0   2   0   8   8   1   3   0   2   4   1  10   0   5   9   6   4   5\n",
      "    3   1   9   2 109   2   1   5]\n",
      " [  0   7   1   1   1   2   0   0   3   1   0   1   0   7   1   5   0   2\n",
      "    4   1   1   7   0 131   3  21]\n",
      " [  2  11   3   4   6   1   0   1  22   4   3   1   1   7   8  10   3   0\n",
      "    1   1   0   5   1   1  98   6]\n",
      " [  2   7   1   1   1   2   0   1   2   1   3   4   1   3   3   4   2   1\n",
      "    3   1   1   4   3  74   4  71]]\n"
     ]
    }
   ],
   "source": [
    "pred = gridsearch_knn(X_train_tfidf, X_train['dialect'], X_cv_tfidf, X_cv['dialect'] )"
   ]
  },
  {
   "cell_type": "code",
   "execution_count": 32,
   "metadata": {},
   "outputs": [
    {
     "name": "stdout",
     "output_type": "stream",
     "text": [
      "Evaluation (Task 4):\n",
      "\n",
      "\n",
      "OVERALL SCORES:\n",
      "MACRO AVERAGE PRECISION SCORE: 49.42 %\n",
      "MACRO AVERAGE RECALL SCORE: 47.48 %\n",
      "MACRO AVERAGE F1 SCORE: 47.53 %\n",
      "OVERALL ACCURACY: 47.48 %\n",
      "\n"
     ]
    }
   ],
   "source": [
    "evaluate(pred, 'KNN-1', 'KNN: Word-gram features with uni-gram, bi-gram and tri-gram')"
   ]
  },
  {
   "cell_type": "markdown",
   "metadata": {},
   "source": [
    "KNN: Character-gram features without word boundary consideration, from bi-gram and up to 5-gram."
   ]
  },
  {
   "cell_type": "code",
   "execution_count": 33,
   "metadata": {},
   "outputs": [
    {
     "name": "stdout",
     "output_type": "stream",
     "text": [
      "Fitting 3 folds for each of 8 candidates, totalling 24 fits\n"
     ]
    },
    {
     "name": "stderr",
     "output_type": "stream",
     "text": [
      "[Parallel(n_jobs=-1)]: Using backend LokyBackend with 12 concurrent workers.\n"
     ]
    },
    {
     "name": "stdout",
     "output_type": "stream",
     "text": [
      "best hyperpameter is :  {'n_neighbors': 151}\n",
      "best f1 score is :  0.41139423076923076\n"
     ]
    },
    {
     "name": "stderr",
     "output_type": "stream",
     "text": [
      "[Parallel(n_jobs=-1)]: Done  24 out of  24 | elapsed:  3.0min finished\n"
     ]
    },
    {
     "data": {
      "image/png": "[encoded data removed]",
      "text/plain": [
       "<Figure size 432x288 with 1 Axes>"
      ]
     },
     "metadata": {
      "needs_background": "light"
     },
     "output_type": "display_data"
    },
    {
     "name": "stdout",
     "output_type": "stream",
     "text": [
      "Predictions using test data: \n",
      "Prediction accuracy:   0.455\n",
      "classification report:\n",
      "              precision    recall  f1-score   support\n",
      "\n",
      "         ALG       0.50      0.47      0.48       200\n",
      "         BAG       0.46      0.67      0.55       200\n",
      "         BEI       0.37      0.43      0.40       200\n",
      "         FES       0.22      0.37      0.28       200\n",
      "         MOS       0.39      0.57      0.46       200\n",
      "         RAB       0.54      0.45      0.49       200\n",
      "         DAM       0.54      0.42      0.47       200\n",
      "         SFX       0.65      0.48      0.55       200\n",
      "         JED       0.42      0.54      0.47       200\n",
      "         MSA       0.31      0.18      0.23       200\n",
      "         BAS       0.43      0.38      0.40       200\n",
      "         KHA       0.41      0.44      0.42       200\n",
      "         DOH       0.55      0.64      0.59       200\n",
      "         JER       0.37      0.35      0.36       200\n",
      "         ASW       0.29      0.46      0.36       200\n",
      "         MUS       0.44      0.56      0.49       200\n",
      "         RIY       0.76      0.61      0.68       200\n",
      "         TUN       0.53      0.65      0.59       200\n",
      "         CAI       0.49      0.24      0.32       200\n",
      "         ALE       0.66      0.41      0.51       200\n",
      "         SAN       0.36      0.38      0.37       200\n",
      "         SAL       0.31      0.22      0.26       200\n",
      "         BEN       0.67      0.48      0.56       200\n",
      "         TRI       0.53      0.69      0.60       200\n",
      "         ALX       0.59      0.42      0.49       200\n",
      "         AMM       0.70      0.30      0.43       200\n",
      "\n",
      "   micro avg       0.46      0.46      0.46      5200\n",
      "   macro avg       0.48      0.46      0.45      5200\n",
      "weighted avg       0.48      0.46      0.45      5200\n",
      "\n",
      "confusion matrix:\n",
      "[[ 93   3   4  21   2   1   1   8   5   3  17   5   1   4  14   2   1   1\n",
      "    1   1   3   6   1   1   1   0]\n",
      " [  2 133   2   3   2   1   0   1   7   3   1   1   7   2   4   3   1   6\n",
      "    1   4   3   2   2   4   3   2]\n",
      " [  2   2  86   8  39   1   0   1   4  16   1   5   0   6   7  13   0   0\n",
      "    0   0   3   1   2   1   1   1]\n",
      " [  7   4   6  74   7   2   3   3   6   5  12   8   3   6  28   8   0   3\n",
      "    0   0   2   9   2   1   1   0]\n",
      " [  2   3  29   6 115   1   0   2   2  11   0   7   1   5   5   5   1   0\n",
      "    0   0   2   1   2   0   0   0]\n",
      " [  3   2   4  11   2  89  32   2   8   2   3   4   2   5   2   2   4   4\n",
      "    5   1   5   2   0   1   5   0]\n",
      " [  5   5   2  12   3  31  84   0   5   2   2   4   2   1   2   1  15   3\n",
      "    3   0   7   6   4   0   1   0]\n",
      " [ 11   1   8   8   9   0   2  96   5   3  17   0   1   4  17   2   1   1\n",
      "    2   1   2   8   0   1   0   0]\n",
      " [  1   9   8   7   3   2   0   1 108   3   1   8   0   8   9   1   1   3\n",
      "    1   3   7   2   2   1  11   0]\n",
      " [  8   7  30   5  53   1   1   1   1  37   2   2   1   5  10  14   0   2\n",
      "    2   1   7   4   1   2   3   0]\n",
      " [ 14   2   7  24   4   4   1  13   6   3  75   6   1   6  15   1   0   2\n",
      "    1   1   4   9   0   0   0   1]\n",
      " [  3   2   2  19   3   3   3   0   6   2   6  88   2   6   7   5   1   3\n",
      "    9   1  14   2   3   3   4   3]\n",
      " [  0  11   3   1   3   2   1   0   4   1   0   2 127   5   1   4   0   6\n",
      "    2  20   2   1   1   1   2   0]\n",
      " [  5   4   4  17   4   1   3   1  13   8   2  14   2  71  11  15   0   2\n",
      "    0   0  12   3   3   2   2   1]\n",
      " [  7   2   3  19   2   0   0   7   6   2  14   6   2   6  92   3   0   0\n",
      "    1   0   3  19   1   1   4   0]\n",
      " [  3  10   5   6  10   1   0   2   6   4   2   4   1  10   8 113   0   5\n",
      "    0   1   3   1   3   1   1   0]\n",
      " [  0   4   2   6   5   8   9   1   4   1   1   3   2   4   4   2 123   3\n",
      "    3   1   6   3   0   2   0   3]\n",
      " [  0  13   4   5   1   2   4   0   1   4   1   3   1   4   1   6   0 130\n",
      "    6   0   8   2   1   1   2   0]\n",
      " [  5  19   4   9   4   5   4   1   5   1   2   6   3   3   1  12   2  37\n",
      "   48   0  19   0   6   2   2   0]\n",
      " [  0  12   1   6   1   0   1   1   2   1   0   4  62   2   5   6   0   4\n",
      "    0  82   0   1   1   2   4   2]\n",
      " [  1   6   6   8   1   4   2   1   6   3   2  11   2  10  12   6   4  18\n",
      "    5   0  76   5   6   2   3   0]\n",
      " [  4   2   3  31   7   2   1   4  11   3   9   8   1   6  45   4   1   2\n",
      "    3   0   7  44   1   0   0   1]\n",
      " [  2   4   2  15   5   1   2   1   4   1   0  12   2   6   5   9   4   3\n",
      "    0   2  12   6  97   3   2   0]\n",
      " [  3  11   2   3   2   1   0   1   2   0   0   2   2   2   2   5   1   1\n",
      "    0   2   3   3   0 139   2  11]\n",
      " [  3  11   3   9   7   1   1   0  28   2   3   1   3   5   9  11   1   2\n",
      "    1   2   3   1   1   6  85   1]\n",
      " [  3   5   5   2   3   1   0   0   5   0   0   2   2   1   1   4   0   2\n",
      "    3   1   1   2   4  86   6  61]]\n"
     ]
    }
   ],
   "source": [
    "pred = gridsearch_knn(X_train_tfidf_char, X_train['dialect'], X_cv_tfidf_char, X_cv['dialect'] )"
   ]
  },
  {
   "cell_type": "code",
   "execution_count": 34,
   "metadata": {},
   "outputs": [
    {
     "name": "stdout",
     "output_type": "stream",
     "text": [
      "Evaluation (Task 4):\n",
      "\n",
      "\n",
      "OVERALL SCORES:\n",
      "MACRO AVERAGE PRECISION SCORE: 47.99 %\n",
      "MACRO AVERAGE RECALL SCORE: 45.50 %\n",
      "MACRO AVERAGE F1 SCORE: 45.39 %\n",
      "OVERALL ACCURACY: 45.50 %\n",
      "\n"
     ]
    }
   ],
   "source": [
    "evaluate(pred, 'KNN-2', 'KNN: Character-gram features without word boundary consideration, from bi-gram and up to 5-gram')"
   ]
  },
  {
   "cell_type": "markdown",
   "metadata": {},
   "source": [
    "KNN: Character-gram features with word boundary consideration, from bi-gram and up to 5-gram."
   ]
  },
  {
   "cell_type": "code",
   "execution_count": 35,
   "metadata": {},
   "outputs": [
    {
     "name": "stdout",
     "output_type": "stream",
     "text": [
      "Fitting 3 folds for each of 8 candidates, totalling 24 fits\n"
     ]
    },
    {
     "name": "stderr",
     "output_type": "stream",
     "text": [
      "[Parallel(n_jobs=-1)]: Using backend LokyBackend with 12 concurrent workers.\n"
     ]
    },
    {
     "name": "stdout",
     "output_type": "stream",
     "text": [
      "best hyperpameter is :  {'n_neighbors': 151}\n",
      "best f1 score is :  0.4128605769230769\n"
     ]
    },
    {
     "name": "stderr",
     "output_type": "stream",
     "text": [
      "[Parallel(n_jobs=-1)]: Done  24 out of  24 | elapsed:  3.0min finished\n"
     ]
    },
    {
     "data": {
      "image/png": "[encoded data removed]",
      "text/plain": [
       "<Figure size 432x288 with 1 Axes>"
      ]
     },
     "metadata": {
      "needs_background": "light"
     },
     "output_type": "display_data"
    },
    {
     "name": "stdout",
     "output_type": "stream",
     "text": [
      "Predictions using test data: \n",
      "Prediction accuracy:   0.463\n",
      "classification report:\n",
      "              precision    recall  f1-score   support\n",
      "\n",
      "         ALG       0.44      0.52      0.47       200\n",
      "         BAG       0.51      0.62      0.56       200\n",
      "         BEI       0.35      0.41      0.38       200\n",
      "         FES       0.25      0.38      0.30       200\n",
      "         MOS       0.33      0.47      0.39       200\n",
      "         RAB       0.56      0.48      0.52       200\n",
      "         DAM       0.48      0.44      0.46       200\n",
      "         SFX       0.56      0.47      0.51       200\n",
      "         JED       0.40      0.53      0.45       200\n",
      "         MSA       0.32      0.18      0.23       200\n",
      "         BAS       0.45      0.39      0.42       200\n",
      "         KHA       0.42      0.42      0.42       200\n",
      "         DOH       0.61      0.55      0.58       200\n",
      "         JER       0.34      0.45      0.39       200\n",
      "         ASW       0.37      0.44      0.40       200\n",
      "         MUS       0.41      0.59      0.48       200\n",
      "         RIY       0.86      0.62      0.72       200\n",
      "         TUN       0.62      0.60      0.61       200\n",
      "         CAI       0.52      0.30      0.38       200\n",
      "         ALE       0.66      0.39      0.49       200\n",
      "         SAN       0.39      0.41      0.40       200\n",
      "         SAL       0.32      0.31      0.32       200\n",
      "         BEN       0.72      0.53      0.61       200\n",
      "         TRI       0.58      0.62      0.60       200\n",
      "         ALX       0.49      0.49      0.49       200\n",
      "         AMM       0.75      0.43      0.55       200\n",
      "\n",
      "   micro avg       0.46      0.46      0.46      5200\n",
      "   macro avg       0.49      0.46      0.47      5200\n",
      "weighted avg       0.49      0.46      0.47      5200\n",
      "\n",
      "confusion matrix:\n",
      "[[104   2   2  17   1   0   2  10   4   3  15   2   0   5   9   3   1   0\n",
      "    3   0   1  12   1   0   3   0]\n",
      " [  4 124   4   3   1   0   2   0  13   1   0   3   5   4   1   6   1   6\n",
      "    3   3   5   0   0   5   5   1]\n",
      " [  3   3  83   6  42   2   1   1   4  15   0   2   0   7   2  13   2   1\n",
      "    0   0   5   3   0   1   4   0]\n",
      " [ 14   5   6  76   9   0   2   4   3   4  15   3   0  11  17   8   0   2\n",
      "    1   0   3  13   0   0   4   0]\n",
      " [  6   3  41   9  93   1   0   1   2   7   0   1   1   7   5  10   1   0\n",
      "    1   0   2   1   2   1   5   0]\n",
      " [  4   2   2  11   1  97  40   2   6   1   0   6   1   3   3   3   2   2\n",
      "    3   1   2   3   1   0   3   1]\n",
      " [  7   2   1  15   1  37  88   1   5   1   2   8   1   1   4   4   7   2\n",
      "    1   0   6   2   0   1   3   0]\n",
      " [ 14   1   7   9   5   0   2  93   1   6  18   0   0   8  10   2   0   0\n",
      "    1   0   2   9   5   2   4   1]\n",
      " [  4   3  10   9   5   0   1   4 106   1   1   6   0  11   2   3   1   2\n",
      "    1   0   7   3   3   2  14   1]\n",
      " [  8   4  30   6  56   0   1   2   4  36   1   4   0   7   7  18   0   0\n",
      "    0   0   6   2   2   1   5   0]\n",
      " [ 19   2   4  21   4   4   1  15   5   2  78   2   1   8  11   1   0   1\n",
      "    1   0   5   8   1   1   4   1]\n",
      " [  5   3   3  16   9   2   3   1  10   1   7  85   0  10   2   5   1   2\n",
      "    8   0  18   6   1   0   1   1]\n",
      " [  1  14   2   5   3   0   0   0   7   1   0  12 109   4   2   7   0   2\n",
      "    1  25   3   1   0   1   0   0]\n",
      " [  6   3   9  11   8   2   2   2  10   4   2   7   1  89   5   8   0   1\n",
      "    1   1  11   6   3   4   4   0]\n",
      " [  9   1   1  21   6   0   1   7   4   1  10   1   1   4  88   4   0   0\n",
      "    3   0   1  26   1   0  10   0]\n",
      " [  3   4   8   5  11   3   3   0   2   5   1   4   2  10   5 119   0   3\n",
      "    1   0   4   2   1   0   4   0]\n",
      " [  3   3   5   5   3   8   9   3   3   2   1   4   1   4   3   4 124   2\n",
      "    2   0   3   2   2   0   1   3]\n",
      " [  2   5   3   5   2   5   4   0   2   4   0   4   3   7   2   9   0 120\n",
      "   11   0   5   2   3   1   1   0]\n",
      " [  3  14   3   7   4   3   8   2   7   0   3   6   2   8   1  15   1  24\n",
      "   60   1  18   3   5   1   1   0]\n",
      " [  2  15   0   5   1   1   0   2   6   2   1  13  47   4   2   8   0   2\n",
      "    1  77   0   0   0   2   8   1]\n",
      " [  1   4   2   8   1   4   3   1   9   2   2  11   1  17   9   6   0  14\n",
      "    6   0  82   9   3   2   3   0]\n",
      " [ 10   4   4  25   4   0   3   7   9   5   7   4   0   6  35   6   0   1\n",
      "    3   0   2  62   2   0   1   0]\n",
      " [  2   1   0   7   2   1   4   2   8   2   3   8   0   9   1   9   1   3\n",
      "    1   4  15   8 105   1   3   0]\n",
      " [  1   9   2   1   1   2   0   2   5   0   0   2   0   5   5   6   1   2\n",
      "    0   2   1   4   0 125   7  17]\n",
      " [  1   5   3   5   8   1   2   1  29   6   4   0   2   7   5  11   0   0\n",
      "    0   2   1   3   3   1  98   2]\n",
      " [  3   5   2   2   1   1   0   2   4   1   2   2   1   2   2   5   1   0\n",
      "    3   1   2   3   1  63   5  86]]\n"
     ]
    }
   ],
   "source": [
    "pred = gridsearch_knn(X_train_tfidf_char_wb, X_train['dialect'], X_cv_tfidf_char_wb, X_cv['dialect'])"
   ]
  },
  {
   "cell_type": "code",
   "execution_count": 36,
   "metadata": {},
   "outputs": [
    {
     "name": "stdout",
     "output_type": "stream",
     "text": [
      "Evaluation (Task 4):\n",
      "\n",
      "\n",
      "OVERALL SCORES:\n",
      "MACRO AVERAGE PRECISION SCORE: 48.90 %\n",
      "MACRO AVERAGE RECALL SCORE: 46.29 %\n",
      "MACRO AVERAGE F1 SCORE: 46.63 %\n",
      "OVERALL ACCURACY: 46.29 %\n",
      "\n"
     ]
    }
   ],
   "source": [
    "evaluate(pred, 'KNN-3', 'KNN: Character-gram features with word boundary consideration, from bi-gram and up to 5-gram')"
   ]
  },
  {
   "cell_type": "markdown",
   "metadata": {},
   "source": [
    "#### 2.1.2 Naive Bayes"
   ]
  },
  {
   "cell_type": "markdown",
   "metadata": {},
   "source": [
    "NB: Word-gram features with uni-gram, bi-gram and tri-gram"
   ]
  },
  {
   "cell_type": "code",
   "execution_count": 37,
   "metadata": {},
   "outputs": [
    {
     "name": "stdout",
     "output_type": "stream",
     "text": [
      "best hyperpameter is :  {'alpha': 0.1}\n",
      "best f1 score is :  0.527860576923077\n"
     ]
    },
    {
     "data": {
      "image/png": "[encoded data removed]",
      "text/plain": [
       "<Figure size 432x288 with 1 Axes>"
      ]
     },
     "metadata": {
      "needs_background": "light"
     },
     "output_type": "display_data"
    },
    {
     "name": "stdout",
     "output_type": "stream",
     "text": [
      "Predictions using test data: \n",
      "Prediction accuracy:   0.584\n",
      "classification report:\n",
      "              precision    recall  f1-score   support\n",
      "\n",
      "         ALG       0.59      0.54      0.56       200\n",
      "         BAG       0.69      0.74      0.72       200\n",
      "         BEI       0.48      0.47      0.47       200\n",
      "         FES       0.43      0.50      0.46       200\n",
      "         MOS       0.47      0.61      0.53       200\n",
      "         RAB       0.68      0.58      0.63       200\n",
      "         DAM       0.62      0.62      0.62       200\n",
      "         SFX       0.74      0.56      0.64       200\n",
      "         JED       0.64      0.64      0.64       200\n",
      "         MSA       0.52      0.38      0.44       200\n",
      "         BAS       0.55      0.49      0.52       200\n",
      "         KHA       0.53      0.55      0.54       200\n",
      "         DOH       0.68      0.66      0.67       200\n",
      "         JER       0.54      0.56      0.55       200\n",
      "         ASW       0.42      0.55      0.48       200\n",
      "         MUS       0.51      0.66      0.57       200\n",
      "         RIY       0.80      0.71      0.75       200\n",
      "         TUN       0.67      0.77      0.71       200\n",
      "         CAI       0.47      0.41      0.44       200\n",
      "         ALE       0.71      0.60      0.65       200\n",
      "         SAN       0.47      0.51      0.48       200\n",
      "         SAL       0.44      0.40      0.42       200\n",
      "         BEN       0.73      0.64      0.68       200\n",
      "         TRI       0.66      0.73      0.69       200\n",
      "         ALX       0.66      0.68      0.67       200\n",
      "         AMM       0.69      0.64      0.66       200\n",
      "\n",
      "   micro avg       0.58      0.58      0.58      5200\n",
      "   macro avg       0.59      0.58      0.58      5200\n",
      "weighted avg       0.59      0.58      0.58      5200\n",
      "\n",
      "confusion matrix:\n",
      "[[107   2   3  12   0   1   4   6   0   2  10   8   0   2  13   2   2   2\n",
      "    3   1   1  11   6   0   0   2]\n",
      " [  2 149   2   0   0   1   0   1   2   2   0   2   7   1   2   5   1   3\n",
      "    4   4   6   0   0   1   5   0]\n",
      " [  2   0  93   2  42   1   1   0   2  20   3   4   0   4   4  10   0   1\n",
      "    0   0   3   2   1   1   3   1]\n",
      " [  5   1   4 100   4   0   6   3   2   0   9   6   0   6  26   5   0   1\n",
      "    2   0   0  14   1   1   2   2]\n",
      " [  1   0  29   3 123   0   0   0   3  17   1   0   0   6   4   3   1   1\n",
      "    1   0   0   1   4   2   0   0]\n",
      " [  0   0   1   2   1 116  36   0   2   0   2   4   1   2   2   3   4   2\n",
      "   10   0   8   1   0   0   1   2]\n",
      " [  2   2   1   5   1  26 124   1   4   0   1   3   0   2   1   2   6   3\n",
      "    7   1   3   1   2   1   0   1]\n",
      " [ 13   0   5  10   1   0   1 113   3   2  15   3   0   0   7   2   1   0\n",
      "    0   1   4  11   2   1   2   3]\n",
      " [  0   4   1   3   3   0   0   0 127   1   1   7   1   2   5   4   1   0\n",
      "    4   0   7   4   1   3  17   4]\n",
      " [  5   1  33   4  37   0   0   2   0  76   2   4   0   6   2  10   0   1\n",
      "    0   2   2   1   1   2   9   0]\n",
      " [  9   0   3  22   3   3   4  12   2   0  98   6   0   4  14   3   1   1\n",
      "    1   0   0  10   2   1   0   1]\n",
      " [  2   0   1   3   5   2   2   1   6   0   3 110   2  12   4   5   2   1\n",
      "    5   5  17   2   2   1   6   1]\n",
      " [  2  12   2   1   1   0   0   0   0   0   1   1 131   3   1   3   0   2\n",
      "    0  31   3   0   1   1   3   1]\n",
      " [  3   2   3   7   6   1   3   0   4   2   3   8   1 111   3  13   2   0\n",
      "    8   0  11   1   1   2   3   2]\n",
      " [  6   0   1  19   2   0   0   6   3   2   7   5   0   0 110   5   0   0\n",
      "    1   0   0  24   3   0   3   3]\n",
      " [  2   3   2   5   7   0   0   0   0   9   1   3   0   8   2 132   0   4\n",
      "   11   0   3   2   1   1   4   0]\n",
      " [  0   0   0   0   1   7   6   2   1   1   3   2   1   2   3   7 143   3\n",
      "    4   0   5   3   1   2   1   2]\n",
      " [  2   5   0   1   1   3   3   0   0   0   0   2   0   4   0   7   1 153\n",
      "    9   0   4   0   3   2   0   0]\n",
      " [  2   8   1   1   3   4   4   1   3   0   2   5   1   6   1  10   2  31\n",
      "   83   0  20   2   5   2   2   1]\n",
      " [  2   7   1   0   3   1   0   0   0   0   0   0  46   1   2   4   0   1\n",
      "    2 120   2   0   1   4   1   2]\n",
      " [  1   1   4   1   3   1   1   0   7   4   5  11   0  12   3   9   2  11\n",
      "   13   0 101   2   4   1   3   0]\n",
      " [  5   1   2  28   2   1   2   4   3   1   5   4   0   3  41   2   4   1\n",
      "    2   0   3  79   3   1   1   2]\n",
      " [  3   2   2   3   6   0   1   0   3   2   4   4   0   6   3   4   2   4\n",
      "    5   0  12   2 128   3   1   0]\n",
      " [  1   6   0   0   1   0   0   0   1   1   0   4   1   2   1   3   1   1\n",
      "    0   2   0   3   0 147   1  24]\n",
      " [  1   3   0   3   6   1   2   0  17   5   1   1   0   1   3   5   2   0\n",
      "    1   2   1   3   1   3 135   3]\n",
      " [  2   7   0   0   0   1   0   1   2   0   1   1   1   1   2   3   1   1\n",
      "    1   1   1   1   1  41   3 127]]\n"
     ]
    }
   ],
   "source": [
    "pred = gridsearch_NB(X_train_tfidf, X_train['dialect'], X_cv_tfidf, X_cv['dialect'])"
   ]
  },
  {
   "cell_type": "code",
   "execution_count": 38,
   "metadata": {},
   "outputs": [
    {
     "name": "stdout",
     "output_type": "stream",
     "text": [
      "Evaluation (Task 4):\n",
      "\n",
      "\n",
      "OVERALL SCORES:\n",
      "MACRO AVERAGE PRECISION SCORE: 59.11 %\n",
      "MACRO AVERAGE RECALL SCORE: 58.38 %\n",
      "MACRO AVERAGE F1 SCORE: 58.43 %\n",
      "OVERALL ACCURACY: 58.38 %\n",
      "\n"
     ]
    }
   ],
   "source": [
    "evaluate(pred, 'NB-1', 'NB: Word-gram features with uni-gram, bi-gram and tri-gram')"
   ]
  },
  {
   "cell_type": "markdown",
   "metadata": {},
   "source": [
    "NB: Character-gram features without word boundary consideration, from bi-gram and up to 5-gram."
   ]
  },
  {
   "cell_type": "code",
   "execution_count": 39,
   "metadata": {},
   "outputs": [
    {
     "name": "stdout",
     "output_type": "stream",
     "text": [
      "best hyperpameter is :  {'alpha': 0.1}\n",
      "best f1 score is :  0.5254086538461539\n"
     ]
    },
    {
     "data": {
      "image/png": "[encoded data removed]",
      "text/plain": [
       "<Figure size 432x288 with 1 Axes>"
      ]
     },
     "metadata": {
      "needs_background": "light"
     },
     "output_type": "display_data"
    },
    {
     "name": "stdout",
     "output_type": "stream",
     "text": [
      "Predictions using test data: \n",
      "Prediction accuracy:   0.595\n",
      "classification report:\n",
      "              precision    recall  f1-score   support\n",
      "\n",
      "         ALG       0.67      0.55      0.60       200\n",
      "         BAG       0.68      0.77      0.72       200\n",
      "         BEI       0.49      0.51      0.50       200\n",
      "         FES       0.41      0.53      0.46       200\n",
      "         MOS       0.49      0.64      0.56       200\n",
      "         RAB       0.69      0.56      0.62       200\n",
      "         DAM       0.62      0.60      0.61       200\n",
      "         SFX       0.66      0.62      0.64       200\n",
      "         JED       0.63      0.62      0.63       200\n",
      "         MSA       0.54      0.34      0.42       200\n",
      "         BAS       0.54      0.51      0.52       200\n",
      "         KHA       0.61      0.56      0.59       200\n",
      "         DOH       0.69      0.69      0.69       200\n",
      "         JER       0.56      0.48      0.52       200\n",
      "         ASW       0.44      0.56      0.49       200\n",
      "         MUS       0.55      0.67      0.60       200\n",
      "         RIY       0.82      0.80      0.81       200\n",
      "         TUN       0.57      0.80      0.67       200\n",
      "         CAI       0.54      0.43      0.48       200\n",
      "         ALE       0.73      0.72      0.73       200\n",
      "         SAN       0.51      0.50      0.50       200\n",
      "         SAL       0.45      0.38      0.41       200\n",
      "         BEN       0.76      0.63      0.69       200\n",
      "         TRI       0.67      0.73      0.70       200\n",
      "         ALX       0.64      0.67      0.65       200\n",
      "         AMM       0.63      0.59      0.61       200\n",
      "\n",
      "   micro avg       0.59      0.59      0.59      5200\n",
      "   macro avg       0.60      0.59      0.59      5200\n",
      "weighted avg       0.60      0.59      0.59      5200\n",
      "\n",
      "confusion matrix:\n",
      "[[110   2   1  11   2   0   3   9   1   0  14   4   0   0  14   2   2   0\n",
      "    4   1   3   9   1   0   3   4]\n",
      " [  1 153   2   1   1   1   0   1   3   1   0   1   7   1   1   0   1   7\n",
      "    2   3   4   1   1   1   4   2]\n",
      " [  0   1 101   3  44   0   1   0   1  19   3   1   0   4   2   8   0   2\n",
      "    0   0   3   1   0   2   3   1]\n",
      " [  5   2   1 106   4   1   3   4   1   2  12   4   3   4  21   4   0   3\n",
      "    1   0   2  11   2   0   2   2]\n",
      " [  0   0  29   4 128   0   0   0   0  13   3   1   0   3   3   6   1   0\n",
      "    0   0   2   1   3   1   2   0]\n",
      " [  2   1   2   2   2 112  37   0   2   1   0   1   2   2   3   4   6   5\n",
      "    3   1   4   0   2   0   1   5]\n",
      " [  2   4   1   6   1  26 121   1   3   0   1   4   0   2   2   3   7   4\n",
      "    4   0   2   1   3   2   0   0]\n",
      " [  8   1   4   6   1   0   1 124   2   5  17   0   1   1  11   1   0   1\n",
      "    1   0   3   6   2   1   2   1]\n",
      " [  0   3   5   1   1   1   0   2 125   0   1   5   2   3   3   3   3   4\n",
      "    1   3   2   4   4   1  21   2]\n",
      " [  2   2  34   5  47   0   0   2   2  69   2   2   1   4   5  10   0   2\n",
      "    2   1   3   0   1   1   3   0]\n",
      " [ 11   1   1  18   2   2   1  16   2   0 101   3   1   3   8   5   1   3\n",
      "    1   0   2  13   0   1   3   1]\n",
      " [  1   1   2   6   3   1   4   3   4   2   4 113   3   8   4   2   2   2\n",
      "    9   1  11   4   4   1   3   2]\n",
      " [  0   9   0   1   1   0   1   0   2   0   0   0 139   3   2   4   0   4\n",
      "    2  26   2   1   0   0   2   1]\n",
      " [  4   2   3  12   4   1   3   4   5   2   5   8   1  96   6  11   1   3\n",
      "   10   1   8   3   2   0   4   1]\n",
      " [  4   2   1  20   1   0   0   7   2   4   4   1   1   4 111   5   0   1\n",
      "    0   1   1  19   1   1   7   2]\n",
      " [  1   3   7   6   7   1   1   1   1   3   1   2   1   4   4 134   1   6\n",
      "    2   1   6   3   0   0   1   3]\n",
      " [  1   2   0   0   0   7   5   2   2   0   0   3   1   0   2   3 160   2\n",
      "    3   0   1   2   0   1   0   3]\n",
      " [  1   5   1   3   0   2   2   1   1   0   2   0   0   2   1   5   1 159\n",
      "    6   0   4   0   1   1   1   1]\n",
      " [  1   7   1   3   2   0   3   2   5   0   5   5   1   3   1  13   3  34\n",
      "   87   1  14   2   3   1   2   1]\n",
      " [  1   5   0   1   0   0   1   0   0   1   0   1  31   0   3   0   0   3\n",
      "    1 144   3   0   1   1   1   2]\n",
      " [  0   3   4   4   1   2   2   2   6   1   2   9   1  10   4   6   2  16\n",
      "   14   0 100   4   4   1   1   1]\n",
      " [  7   1   4  26   4   0   2   5   4   1   6   7   1   4  32   2   2   3\n",
      "    1   0   5  75   2   1   3   2]\n",
      " [  1   1   0   7   0   0   0   1   4   1   3   9   0   6   3   3   1   8\n",
      "    2   1  13   3 126   5   2   0]\n",
      " [  0   4   0   2   0   2   1   0   1   0   0   1   1   1   2   3   0   1\n",
      "    2   3   0   1   1 147   2  25]\n",
      " [  0   4   1   4   5   1   1   0  19   1   1   0   2   2   4   5   1   2\n",
      "    1   3   0   1   0   2 134   6]\n",
      " [  1   5   2   1   0   2   1   0   1   2   0   0   1   0   1   2   0   2\n",
      "    1   5   0   1   2  48   4 118]]\n"
     ]
    },
    {
     "data": {
      "text/plain": [
       "array([24, 17, 17, ..., 24, 14, 14])"
      ]
     },
     "execution_count": 39,
     "metadata": {},
     "output_type": "execute_result"
    }
   ],
   "source": [
    "gridsearch_NB(X_train_tfidf_char, X_train['dialect'], X_cv_tfidf_char, X_cv['dialect'])"
   ]
  },
  {
   "cell_type": "code",
   "execution_count": 40,
   "metadata": {},
   "outputs": [
    {
     "name": "stdout",
     "output_type": "stream",
     "text": [
      "Evaluation (Task 4):\n",
      "\n",
      "\n",
      "OVERALL SCORES:\n",
      "MACRO AVERAGE PRECISION SCORE: 59.11 %\n",
      "MACRO AVERAGE RECALL SCORE: 58.38 %\n",
      "MACRO AVERAGE F1 SCORE: 58.43 %\n",
      "OVERALL ACCURACY: 58.38 %\n",
      "\n"
     ]
    }
   ],
   "source": [
    "evaluate(pred, 'NB-2', 'NB: Character-gram features without word boundary consideration, from bi-gram and up to 5-gram')"
   ]
  },
  {
   "cell_type": "markdown",
   "metadata": {},
   "source": [
    "NB: Character-gram features with word boundary consideration, from bi-gram and up to 5-gram."
   ]
  },
  {
   "cell_type": "code",
   "execution_count": 41,
   "metadata": {},
   "outputs": [
    {
     "name": "stdout",
     "output_type": "stream",
     "text": [
      "best hyperpameter is :  {'alpha': 0.1}\n",
      "best f1 score is :  0.5238461538461539\n"
     ]
    },
    {
     "data": {
      "image/png": "[encoded data removed]",
      "text/plain": [
       "<Figure size 432x288 with 1 Axes>"
      ]
     },
     "metadata": {
      "needs_background": "light"
     },
     "output_type": "display_data"
    },
    {
     "name": "stdout",
     "output_type": "stream",
     "text": [
      "Predictions using test data: \n",
      "Prediction accuracy:   0.597\n",
      "classification report:\n",
      "              precision    recall  f1-score   support\n",
      "\n",
      "         ALG       0.67      0.53      0.59       200\n",
      "         BAG       0.76      0.79      0.77       200\n",
      "         BEI       0.48      0.48      0.48       200\n",
      "         FES       0.43      0.52      0.47       200\n",
      "         MOS       0.45      0.55      0.50       200\n",
      "         RAB       0.69      0.56      0.62       200\n",
      "         DAM       0.65      0.59      0.62       200\n",
      "         SFX       0.70      0.60      0.65       200\n",
      "         JED       0.62      0.67      0.64       200\n",
      "         MSA       0.48      0.35      0.41       200\n",
      "         BAS       0.53      0.53      0.53       200\n",
      "         KHA       0.59      0.56      0.58       200\n",
      "         DOH       0.68      0.71      0.69       200\n",
      "         JER       0.53      0.54      0.53       200\n",
      "         ASW       0.44      0.52      0.47       200\n",
      "         MUS       0.57      0.69      0.63       200\n",
      "         RIY       0.86      0.80      0.83       200\n",
      "         TUN       0.61      0.79      0.68       200\n",
      "         CAI       0.54      0.41      0.47       200\n",
      "         ALE       0.75      0.67      0.70       200\n",
      "         SAN       0.48      0.56      0.52       200\n",
      "         SAL       0.48      0.42      0.45       200\n",
      "         BEN       0.80      0.66      0.72       200\n",
      "         TRI       0.62      0.72      0.67       200\n",
      "         ALX       0.61      0.69      0.65       200\n",
      "         AMM       0.65      0.63      0.64       200\n",
      "\n",
      "   micro avg       0.60      0.60      0.60      5200\n",
      "   macro avg       0.60      0.60      0.60      5200\n",
      "weighted avg       0.60      0.60      0.60      5200\n",
      "\n",
      "confusion matrix:\n",
      "[[105   1   1  10   2   2   0  11   2   1  14   5   1   2  15   2   1   0\n",
      "    3   2   3   9   1   2   3   2]\n",
      " [  1 157   1   0   0   0   0   2   3   1   0   0   6   2   1   1   1   4\n",
      "    4   2   4   0   2   1   3   4]\n",
      " [  0   1  97   1  39   0   0   1   2  21   2   2   0   7   2  11   0   2\n",
      "    0   0   4   0   0   2   5   1]\n",
      " [  5   2   1 103   3   0   4   3   1   4  11   2   1   6  18   4   0   2\n",
      "    2   1   2  15   2   1   6   1]\n",
      " [  0   1  35   1 110   0   0   0   0  19   3   1   0   5   3   6   0   0\n",
      "    1   0   2   2   3   2   4   2]\n",
      " [  0   1   1   4   1 112  40   0   3   2   3   3   3   3   2   3   3   5\n",
      "    1   0   4   1   0   1   1   3]\n",
      " [  1   2   0   6   0  27 118   0   5   0   1   5   0   2   3   4   7   2\n",
      "    3   1   5   5   0   3   0   0]\n",
      " [  9   0   5   9   2   0   1 121   0   5  14   1   1   2  10   3   0   1\n",
      "    2   0   3   4   2   2   1   2]\n",
      " [  0   3   2   0   3   0   0   2 134   2   2   4   1   2   2   2   2   4\n",
      "    1   3   5   4   3   3  14   2]\n",
      " [  1   0  36   3  44   0   0   1   2  70   3   3   0   5   3  11   0   3\n",
      "    1   1   3   0   2   1   6   1]\n",
      " [  9   2   3  17   2   1   0  14   0   1 105   6   0   3  11   1   2   3\n",
      "    3   0   1  10   0   1   4   1]\n",
      " [  2   0   3   5   3   0   0   1   5   3   7 112   2  11   3   4   2   1\n",
      "    8   1  16   5   2   2   2   0]\n",
      " [  0   8   0   0   1   0   0   0   3   0   0   0 142   2   3   2   0   4\n",
      "    1  24   3   1   1   0   4   1]\n",
      " [  3   2   4   9   5   1   1   1   8   3   3   5   2 107   7   6   1   2\n",
      "    6   0  10   4   3   1   3   3]\n",
      " [  5   2   0  21   4   0   0   6   1   4   8   3   0   3 103   3   0   1\n",
      "    1   1   2  21   1   1   8   1]\n",
      " [  1   1   3   4   5   0   0   1   0   4   3   3   2   5   2 139   1   5\n",
      "    3   0   5   1   2   1   7   2]\n",
      " [  0   2   0   0   0   5   9   1   1   0   1   3   2   1   3   2 160   2\n",
      "    2   0   1   1   0   2   0   2]\n",
      " [  1   3   0   2   1   2   1   0   1   0   0   1   0   4   0   4   2 157\n",
      "   10   0   3   1   1   2   3   1]\n",
      " [  2   7   1   3   4   2   3   1   4   0   6   7   1   2   2  11   2  31\n",
      "   83   1  18   1   4   2   2   0]\n",
      " [  0   3   0   0   1   1   1   0   2   1   0   1  40   1   2   2   0   3\n",
      "    1 133   2   1   0   2   2   1]\n",
      " [  1   1   2   4   2   3   0   1   6   1   3   8   2   7   4   6   0  15\n",
      "   13   0 111   2   2   2   3   1]\n",
      " [  8   0   4  28   5   1   2   3   4   1   6   4   1   4  27   4   1   1\n",
      "    2   0   4  84   2   2   2   0]\n",
      " [  1   1   0   5   3   0   0   2   3   1   2   7   1   9   3   3   1   7\n",
      "    2   1  12   2 132   2   0   0]\n",
      " [  0   4   0   1   0   2   0   1   2   0   0   0   0   2   2   2   0   1\n",
      "    0   2   1   0   0 144   3  33]\n",
      " [  0   0   1   3   3   1   0   0  23   1   3   2   1   3   1   4   0   2\n",
      "    0   3   3   1   0   4 138   3]\n",
      " [  1   2   0   0   1   2   1   0   2   0   0   1   1   1   3   3   0   1\n",
      "    1   2   2   0   0  47   3 126]]\n"
     ]
    },
    {
     "data": {
      "text/plain": [
       "array([23, 17, 17, ..., 24, 14, 24])"
      ]
     },
     "execution_count": 41,
     "metadata": {},
     "output_type": "execute_result"
    }
   ],
   "source": [
    "gridsearch_NB(X_train_tfidf_char_wb, X_train['dialect'], X_cv_tfidf_char_wb, X_cv['dialect'])"
   ]
  },
  {
   "cell_type": "code",
   "execution_count": 42,
   "metadata": {},
   "outputs": [
    {
     "name": "stdout",
     "output_type": "stream",
     "text": [
      "Evaluation (Task 4):\n",
      "\n",
      "\n",
      "OVERALL SCORES:\n",
      "MACRO AVERAGE PRECISION SCORE: 59.11 %\n",
      "MACRO AVERAGE RECALL SCORE: 58.38 %\n",
      "MACRO AVERAGE F1 SCORE: 58.43 %\n",
      "OVERALL ACCURACY: 58.38 %\n",
      "\n"
     ]
    }
   ],
   "source": [
    "evaluate(pred, 'NB-3', 'NB: Character-gram features with word boundary consideration, from bi-gram and up to 5-gram')"
   ]
  },
  {
   "cell_type": "markdown",
   "metadata": {},
   "source": [
    "### 2- LSTM Deep Network (20%)\n",
    "Use the Long Short Term Memory (LSTM) architecture with AraVec pre-trained word embeddings models."
   ]
  },
  {
   "cell_type": "markdown",
   "metadata": {},
   "source": [
    "**Note: the code assumes that the Twitter CBOW is downloaded to the folder below. Otherwise please uncomment the code to download, but this will download 1GB+ file**"
   ]
  },
  {
   "cell_type": "code",
   "execution_count": 43,
   "metadata": {},
   "outputs": [
    {
     "data": {
      "text/plain": [
       "\"\\nif aravec not in os.listdir():\\n  !curl --header 'Host: bakrianoo.s3-us-west-2.amazonaws.com' --user-agent 'Mozilla/5.0 (Windows NT 10.0; Win64; x64; rv:82.0) Gecko/20100101 Firefox/82.0' --header 'Accept: text/html,application/xhtml+xml,application/xml;q=0.9,image/webp,*/*;q=0.8' --header 'Accept-Language: en-US,en;q=0.5' --referer 'https://github.com/bakrianoo/aravec' --header 'Upgrade-Insecure-Requests: 1' 'https://bakrianoo.s3-us-west-2.amazonaws.com/aravec/full_grams_cbow_100_twitter.zip' --output 'full_grams_cbow_100_twitter.zip'\\n  patoolib.extract_archive('full_grams_cbow_100_twitter.zip',outdir= '/cbow')\\n\""
      ]
     },
     "execution_count": 43,
     "metadata": {},
     "output_type": "execute_result"
    }
   ],
   "source": [
    "# Download via terminal commands, requires patoolib to extract\n",
    "aravec =  'full_grams_cbow_100_twitter.zip'\n",
    "'''\n",
    "if aravec not in os.listdir():\n",
    "  !curl --header 'Host: bakrianoo.s3-us-west-2.amazonaws.com' --user-agent 'Mozilla/5.0 (Windows NT 10.0; Win64; x64; rv:82.0) Gecko/20100101 Firefox/82.0' --header 'Accept: text/html,application/xhtml+xml,application/xml;q=0.9,image/webp,*/*;q=0.8' --header 'Accept-Language: en-US,en;q=0.5' --referer 'https://github.com/bakrianoo/aravec' --header 'Upgrade-Insecure-Requests: 1' 'https://bakrianoo.s3-us-west-2.amazonaws.com/aravec/full_grams_cbow_100_twitter.zip' --output 'full_grams_cbow_100_twitter.zip'\n",
    "  patoolib.extract_archive('full_grams_cbow_100_twitter.zip',outdir= '/cbow')\n",
    "'''"
   ]
  },
  {
   "cell_type": "code",
   "execution_count": 45,
   "metadata": {},
   "outputs": [
    {
     "name": "stdout",
     "output_type": "stream",
     "text": [
      "We have 1476715 vocabularies\n"
     ]
    }
   ],
   "source": [
    "# load the AraVec model\n",
    "cbow_folder = './cbow/'\n",
    "model = gensim.models.Word2Vec.load(cbow_folder + 'full_grams_cbow_100_twitter.mdl')\n",
    "print('We have',len(model.wv.index2word),'vocabularies')"
   ]
  },
  {
   "cell_type": "code",
   "execution_count": 46,
   "metadata": {},
   "outputs": [
    {
     "data": {
      "text/html": [
       "<div>\n",
       "<style scoped>\n",
       "    .dataframe tbody tr th:only-of-type {\n",
       "        vertical-align: middle;\n",
       "    }\n",
       "\n",
       "    .dataframe tbody tr th {\n",
       "        vertical-align: top;\n",
       "    }\n",
       "\n",
       "    .dataframe thead th {\n",
       "        text-align: right;\n",
       "    }\n",
       "</style>\n",
       "<table border=\"1\" class=\"dataframe\">\n",
       "  <thead>\n",
       "    <tr style=\"text-align: right;\">\n",
       "      <th></th>\n",
       "      <th>sentence</th>\n",
       "      <th>dialect</th>\n",
       "    </tr>\n",
       "  </thead>\n",
       "  <tbody>\n",
       "    <tr>\n",
       "      <th>0</th>\n",
       "      <td>هناك ، امام بيانات الساءح تماما .</td>\n",
       "      <td>17</td>\n",
       "    </tr>\n",
       "    <tr>\n",
       "      <th>1</th>\n",
       "      <td>لم اسمع بهذا العنوان من قبل بالقرب من هنا .</td>\n",
       "      <td>17</td>\n",
       "    </tr>\n",
       "    <tr>\n",
       "      <th>2</th>\n",
       "      <td>استمر في السير في هذا الطريق حتي تجد صيدليه .</td>\n",
       "      <td>17</td>\n",
       "    </tr>\n",
       "    <tr>\n",
       "      <th>3</th>\n",
       "      <td>كم تكلفه الافطار ؟</td>\n",
       "      <td>17</td>\n",
       "    </tr>\n",
       "    <tr>\n",
       "      <th>4</th>\n",
       "      <td>كيف استطيع مساعدتك ؟</td>\n",
       "      <td>17</td>\n",
       "    </tr>\n",
       "  </tbody>\n",
       "</table>\n",
       "</div>"
      ],
      "text/plain": [
       "                                        sentence  dialect\n",
       "0              هناك ، امام بيانات الساءح تماما .       17\n",
       "1    لم اسمع بهذا العنوان من قبل بالقرب من هنا .       17\n",
       "2  استمر في السير في هذا الطريق حتي تجد صيدليه .       17\n",
       "3                             كم تكلفه الافطار ؟       17\n",
       "4                           كيف استطيع مساعدتك ؟       17"
      ]
     },
     "execution_count": 46,
     "metadata": {},
     "output_type": "execute_result"
    }
   ],
   "source": [
    "X_train.head()"
   ]
  },
  {
   "cell_type": "code",
   "execution_count": 48,
   "metadata": {},
   "outputs": [],
   "source": [
    "y_train = tf.keras.utils.to_categorical(X_train['dialect'],  dtype='float32')\n",
    "y_cv = tf.keras.utils.to_categorical(X_cv['dialect'], dtype='float32')"
   ]
  },
  {
   "cell_type": "code",
   "execution_count": 49,
   "metadata": {},
   "outputs": [
    {
     "name": "stdout",
     "output_type": "stream",
     "text": [
      "(41600, 26)\n"
     ]
    }
   ],
   "source": [
    "print(y_train.shape)"
   ]
  },
  {
   "cell_type": "code",
   "execution_count": 50,
   "metadata": {},
   "outputs": [
    {
     "name": "stdout",
     "output_type": "stream",
     "text": [
      "24659\n",
      "(41600, 46)\n",
      "(5200, 46)\n"
     ]
    }
   ],
   "source": [
    "\n",
    "tf.keras.backend.clear_session()\n",
    "#Using Camet Tools tokeniser\n",
    "token = Tokenizer(char_level=False, analyzer=simple_word_tokenize)\n",
    "token.fit_on_texts(X_train['sentence'])\n",
    "vocab_size_essay = len(token.word_index) + 1\n",
    "\n",
    "print(vocab_size_essay)\n",
    "\n",
    "encoded_docs = token.texts_to_sequences(X_train['sentence'])\n",
    "padded_docs = pad_sequences(encoded_docs, padding='post')\n",
    "max_len_essay = padded_docs.shape[1]\n",
    "\n",
    "print(padded_docs.shape)\n",
    "\n",
    "encoded_docs_test = token.texts_to_sequences(X_cv['sentence'])\n",
    "padded_docs_test = pad_sequences(encoded_docs_test, maxlen=max_len_essay, padding='post')\n",
    "\n",
    "print(padded_docs_test.shape)"
   ]
  },
  {
   "cell_type": "code",
   "execution_count": 51,
   "metadata": {},
   "outputs": [
    {
     "data": {
      "text/plain": [
       "array([   57,     3,  3660,  8958, 12388,  2293,     1,     0,     0,\n",
       "           0,     0,     0,     0,     0,     0,     0,     0,     0,\n",
       "           0,     0,     0,     0,     0,     0,     0,     0,     0,\n",
       "           0,     0,     0,     0,     0,     0,     0,     0,     0,\n",
       "           0,     0,     0,     0,     0,     0,     0,     0,     0,\n",
       "           0], dtype=int32)"
      ]
     },
     "execution_count": 51,
     "metadata": {},
     "output_type": "execute_result"
    }
   ],
   "source": [
    "padded_docs[0]"
   ]
  },
  {
   "cell_type": "code",
   "execution_count": 52,
   "metadata": {},
   "outputs": [
    {
     "data": {
      "text/plain": [
       "array([1821,    3,  319,    1,    0,    0,    0,    0,    0,    0,    0,\n",
       "          0,    0,    0,    0,    0,    0,    0,    0,    0,    0,    0,\n",
       "          0,    0,    0,    0,    0,    0,    0,    0,    0,    0,    0,\n",
       "          0,    0,    0,    0,    0,    0,    0,    0,    0,    0,    0,\n",
       "          0,    0], dtype=int32)"
      ]
     },
     "execution_count": 52,
     "metadata": {},
     "output_type": "execute_result"
    }
   ],
   "source": [
    "padded_docs_test[0]"
   ]
  },
  {
   "cell_type": "code",
   "execution_count": 53,
   "metadata": {},
   "outputs": [
    {
     "name": "stderr",
     "output_type": "stream",
     "text": [
      "100%|██████████| 24658/24658 [04:20<00:00, 94.60it/s] "
     ]
    },
    {
     "name": "stdout",
     "output_type": "stream",
     "text": [
      "19753\n"
     ]
    },
    {
     "name": "stderr",
     "output_type": "stream",
     "text": [
      "\n"
     ]
    }
   ],
   "source": [
    "trained_words =  list(model.wv.vocab)\n",
    "j = 0\n",
    "embedding_matrix = np.zeros((vocab_size_essay, 100))\n",
    "for word, i in tqdm(token.word_index.items()):\n",
    "  if word in trained_words:\n",
    "    embedding_vector =  model.wv[word]\n",
    "    j += 1\n",
    "    embedding_matrix[i] = embedding_vector\n",
    "print(j)"
   ]
  },
  {
   "cell_type": "code",
   "execution_count": 54,
   "metadata": {},
   "outputs": [
    {
     "name": "stdout",
     "output_type": "stream",
     "text": [
      "(24659, 100)\n",
      "24659\n"
     ]
    }
   ],
   "source": [
    "print(embedding_matrix.shape)\n",
    "print(vocab_size_essay)"
   ]
  },
  {
   "cell_type": "code",
   "execution_count": 55,
   "metadata": {},
   "outputs": [],
   "source": [
    "%load_ext tensorboard"
   ]
  },
  {
   "cell_type": "code",
   "execution_count": 56,
   "metadata": {},
   "outputs": [
    {
     "name": "stdout",
     "output_type": "stream",
     "text": [
      "Model: \"functional_1\"\n",
      "_________________________________________________________________\n",
      "Layer (type)                 Output Shape              Param #   \n",
      "=================================================================\n",
      "input_1 (InputLayer)         [(None, 46)]              0         \n",
      "_________________________________________________________________\n",
      "embedding (Embedding)        (None, 46, 100)           2465900   \n",
      "_________________________________________________________________\n",
      "bidirectional (Bidirectional (None, 200)               160800    \n",
      "_________________________________________________________________\n",
      "flatten (Flatten)            (None, 200)               0         \n",
      "_________________________________________________________________\n",
      "dropout (Dropout)            (None, 200)               0         \n",
      "_________________________________________________________________\n",
      "dense (Dense)                (None, 26)                5226      \n",
      "=================================================================\n",
      "Total params: 2,631,926\n",
      "Trainable params: 2,631,926\n",
      "Non-trainable params: 0\n",
      "_________________________________________________________________\n",
      "None\n"
     ]
    }
   ],
   "source": [
    "input_layer = Input(shape=(max_len_essay,))\n",
    "emb_essay = Embedding(vocab_size_essay, 100, weights=[embedding_matrix], \n",
    "                      input_length=max_len_essay, trainable=True)(input_layer)\n",
    "\n",
    "lstm_essay = Bidirectional(LSTM(100))(emb_essay)\n",
    "flatten1 = Flatten()(lstm_essay)\n",
    "dense = Dense(units = 1024,activation='relu',kernel_initializer='he_normal')(flatten1)\n",
    "dropout= Dropout(0.1)(dense)\n",
    "\n",
    "for i in range(2):\n",
    "        dense = Dense(units = int(512/(i+1)),activation='relu',kernel_initializer='he_normal')(dropout)\n",
    "        dense  = BatchNormalization()(dense)\n",
    "        dropout= Dropout(0.1)(dense)\n",
    "  \n",
    "dense = Dense(units = 128,activation='relu',kernel_initializer='he_normal')(dropout)\n",
    "bn_layer  = BatchNormalization()(dense)\n",
    "\n",
    "dense = Dense(units = 64,activation='relu',kernel_initializer='he_normal')(bn_layer)\n",
    "outputs = Dense(26,activation='softmax')(dense)\n",
    "\n",
    "model1 = tf.keras.Model(inputs=[input_layer], outputs=outputs)\n",
    "\n",
    "print(model1.summary())"
   ]
  },
  {
   "cell_type": "code",
   "execution_count": 57,
   "metadata": {},
   "outputs": [],
   "source": [
    "def f1_score_micro(y_true,y_pred):\n",
    "      return f1_score(y_true,y_pred,average = 'micro')\n"
   ]
  },
  {
   "cell_type": "code",
   "execution_count": 58,
   "metadata": {},
   "outputs": [],
   "source": [
    "def micro_f1(y_true, y_proba):\n",
    "      y_pred = tf.math.argmax(y_proba,axis=-1)\n",
    "      y_true = tf.math.argmax(y_true,axis=-1)\n",
    "      return tf.py_function(f1_score_micro,(y_true,y_pred),tf.double)"
   ]
  },
  {
   "cell_type": "code",
   "execution_count": 59,
   "metadata": {
    "scrolled": false
   },
   "outputs": [
    {
     "name": "stdout",
     "output_type": "stream",
     "text": [
      "Epoch 1/100\n",
      "163/163 [==============================] - 8s 48ms/step - loss: 3.1976 - accuracy: 0.0756 - val_loss: 2.9802 - val_accuracy: 0.1335\n",
      "Epoch 2/100\n",
      "163/163 [==============================] - 7s 41ms/step - loss: 2.8859 - accuracy: 0.1445 - val_loss: 2.7209 - val_accuracy: 0.1854\n",
      "Epoch 3/100\n",
      "163/163 [==============================] - 7s 42ms/step - loss: 2.6585 - accuracy: 0.1884 - val_loss: 2.5147 - val_accuracy: 0.2346\n",
      "Epoch 4/100\n",
      "163/163 [==============================] - 7s 43ms/step - loss: 2.4868 - accuracy: 0.2225 - val_loss: 2.3703 - val_accuracy: 0.2698\n",
      "Epoch 5/100\n",
      "163/163 [==============================] - 7s 41ms/step - loss: 2.3642 - accuracy: 0.2513 - val_loss: 2.2716 - val_accuracy: 0.2927\n",
      "Epoch 6/100\n",
      "163/163 [==============================] - 7s 41ms/step - loss: 2.2702 - accuracy: 0.2718 - val_loss: 2.1914 - val_accuracy: 0.3135\n",
      "Epoch 7/100\n",
      "163/163 [==============================] - 7s 41ms/step - loss: 2.1895 - accuracy: 0.2929 - val_loss: 2.1262 - val_accuracy: 0.3304\n",
      "Epoch 8/100\n",
      "163/163 [==============================] - 7s 42ms/step - loss: 2.1285 - accuracy: 0.3093 - val_loss: 2.0711 - val_accuracy: 0.3488\n",
      "Epoch 9/100\n",
      "163/163 [==============================] - 7s 43ms/step - loss: 2.0711 - accuracy: 0.3240 - val_loss: 2.0282 - val_accuracy: 0.3563\n",
      "Epoch 10/100\n",
      "163/163 [==============================] - 7s 43ms/step - loss: 2.0246 - accuracy: 0.3358 - val_loss: 1.9886 - val_accuracy: 0.3638\n",
      "Epoch 11/100\n",
      "163/163 [==============================] - 8s 48ms/step - loss: 1.9776 - accuracy: 0.3462 - val_loss: 1.9546 - val_accuracy: 0.3737\n",
      "Epoch 12/100\n",
      "163/163 [==============================] - 7s 46ms/step - loss: 1.9432 - accuracy: 0.3549 - val_loss: 1.9346 - val_accuracy: 0.3769\n",
      "Epoch 13/100\n",
      "163/163 [==============================] - 7s 43ms/step - loss: 1.9058 - accuracy: 0.3665 - val_loss: 1.9133 - val_accuracy: 0.3856\n",
      "Epoch 14/100\n",
      "163/163 [==============================] - 7s 42ms/step - loss: 1.8719 - accuracy: 0.3733 - val_loss: 1.8876 - val_accuracy: 0.3912\n",
      "Epoch 15/100\n",
      "163/163 [==============================] - 7s 42ms/step - loss: 1.8386 - accuracy: 0.3857 - val_loss: 1.8671 - val_accuracy: 0.3973\n",
      "Epoch 16/100\n",
      "163/163 [==============================] - 7s 42ms/step - loss: 1.8122 - accuracy: 0.3884 - val_loss: 1.8548 - val_accuracy: 0.3990\n",
      "Epoch 17/100\n",
      "163/163 [==============================] - 7s 43ms/step - loss: 1.7801 - accuracy: 0.3984 - val_loss: 1.8367 - val_accuracy: 0.4023\n",
      "Epoch 18/100\n",
      "163/163 [==============================] - 7s 41ms/step - loss: 1.7552 - accuracy: 0.4065 - val_loss: 1.8205 - val_accuracy: 0.4063\n",
      "Epoch 19/100\n",
      "163/163 [==============================] - 7s 43ms/step - loss: 1.7309 - accuracy: 0.4156 - val_loss: 1.8184 - val_accuracy: 0.4104\n",
      "Epoch 20/100\n",
      "163/163 [==============================] - 6s 37ms/step - loss: 1.7057 - accuracy: 0.4223 - val_loss: 1.8095 - val_accuracy: 0.4100\n",
      "Epoch 21/100\n",
      "163/163 [==============================] - 7s 42ms/step - loss: 1.6817 - accuracy: 0.4279 - val_loss: 1.7798 - val_accuracy: 0.4173\n",
      "Epoch 22/100\n",
      "163/163 [==============================] - 7s 44ms/step - loss: 1.6606 - accuracy: 0.4320 - val_loss: 1.7813 - val_accuracy: 0.4194\n",
      "Epoch 23/100\n",
      "163/163 [==============================] - 7s 43ms/step - loss: 1.6374 - accuracy: 0.4406 - val_loss: 1.7632 - val_accuracy: 0.4219\n",
      "Epoch 24/100\n",
      "163/163 [==============================] - 7s 42ms/step - loss: 1.6185 - accuracy: 0.4457 - val_loss: 1.7537 - val_accuracy: 0.4310\n",
      "Epoch 25/100\n",
      "163/163 [==============================] - 7s 42ms/step - loss: 1.6005 - accuracy: 0.4512 - val_loss: 1.7435 - val_accuracy: 0.4313\n",
      "Epoch 26/100\n",
      "163/163 [==============================] - 7s 43ms/step - loss: 1.5812 - accuracy: 0.4586 - val_loss: 1.7365 - val_accuracy: 0.4335\n",
      "Epoch 27/100\n",
      "163/163 [==============================] - 6s 37ms/step - loss: 1.5609 - accuracy: 0.4643 - val_loss: 1.7483 - val_accuracy: 0.4315\n",
      "Epoch 28/100\n",
      "163/163 [==============================] - 7s 42ms/step - loss: 1.5444 - accuracy: 0.4687 - val_loss: 1.7347 - val_accuracy: 0.4369\n",
      "Epoch 29/100\n",
      "163/163 [==============================] - 6s 37ms/step - loss: 1.5291 - accuracy: 0.4729 - val_loss: 1.7381 - val_accuracy: 0.4365\n",
      "Epoch 30/100\n",
      "163/163 [==============================] - 7s 42ms/step - loss: 1.5076 - accuracy: 0.4800 - val_loss: 1.7330 - val_accuracy: 0.4385\n",
      "Epoch 31/100\n",
      "163/163 [==============================] - 7s 43ms/step - loss: 1.4896 - accuracy: 0.4875 - val_loss: 1.7044 - val_accuracy: 0.4452\n",
      "Epoch 32/100\n",
      "163/163 [==============================] - 6s 37ms/step - loss: 1.4728 - accuracy: 0.4946 - val_loss: 1.7307 - val_accuracy: 0.4388\n",
      "Epoch 33/100\n",
      "163/163 [==============================] - 6s 37ms/step - loss: 1.4618 - accuracy: 0.4921 - val_loss: 1.7205 - val_accuracy: 0.4448\n",
      "Epoch 34/100\n",
      "163/163 [==============================] - 7s 42ms/step - loss: 1.4427 - accuracy: 0.5029 - val_loss: 1.7204 - val_accuracy: 0.4479\n",
      "Epoch 35/100\n",
      "163/163 [==============================] - 7s 42ms/step - loss: 1.4285 - accuracy: 0.5067 - val_loss: 1.7258 - val_accuracy: 0.4487\n",
      "Epoch 36/100\n",
      "163/163 [==============================] - 6s 37ms/step - loss: 1.4174 - accuracy: 0.5084 - val_loss: 1.7231 - val_accuracy: 0.4452\n",
      "Epoch 37/100\n",
      "163/163 [==============================] - 7s 42ms/step - loss: 1.4019 - accuracy: 0.5139 - val_loss: 1.7282 - val_accuracy: 0.4513\n",
      "Epoch 38/100\n",
      "163/163 [==============================] - 7s 42ms/step - loss: 1.3863 - accuracy: 0.5224 - val_loss: 1.7155 - val_accuracy: 0.4521\n",
      "Epoch 39/100\n",
      "163/163 [==============================] - 6s 37ms/step - loss: 1.3780 - accuracy: 0.5218 - val_loss: 1.7229 - val_accuracy: 0.4500\n",
      "Epoch 40/100\n",
      "163/163 [==============================] - 7s 43ms/step - loss: 1.3584 - accuracy: 0.5281 - val_loss: 1.7202 - val_accuracy: 0.4552\n",
      "Epoch 41/100\n",
      "163/163 [==============================] - 6s 37ms/step - loss: 1.3455 - accuracy: 0.5337 - val_loss: 1.7230 - val_accuracy: 0.4527\n",
      "Epoch 42/100\n",
      "163/163 [==============================] - 6s 38ms/step - loss: 1.3330 - accuracy: 0.5381 - val_loss: 1.6975 - val_accuracy: 0.4538\n",
      "Epoch 43/100\n",
      "163/163 [==============================] - 6s 37ms/step - loss: 1.3255 - accuracy: 0.5393 - val_loss: 1.7192 - val_accuracy: 0.4529\n",
      "Epoch 44/100\n",
      "163/163 [==============================] - 7s 41ms/step - loss: 1.3110 - accuracy: 0.5452 - val_loss: 1.7088 - val_accuracy: 0.4562\n",
      "Epoch 45/100\n",
      "163/163 [==============================] - 7s 42ms/step - loss: 1.3010 - accuracy: 0.5497 - val_loss: 1.7017 - val_accuracy: 0.4608\n",
      "Epoch 46/100\n",
      "163/163 [==============================] - 6s 37ms/step - loss: 1.2856 - accuracy: 0.5538 - val_loss: 1.7206 - val_accuracy: 0.4552\n",
      "Epoch 47/100\n",
      "163/163 [==============================] - 7s 44ms/step - loss: 1.2769 - accuracy: 0.5560 - val_loss: 1.7040 - val_accuracy: 0.4627\n",
      "Epoch 48/100\n",
      "163/163 [==============================] - 6s 37ms/step - loss: 1.2584 - accuracy: 0.5622 - val_loss: 1.7085 - val_accuracy: 0.4596\n",
      "Epoch 49/100\n",
      "163/163 [==============================] - 6s 37ms/step - loss: 1.2552 - accuracy: 0.5610 - val_loss: 1.7446 - val_accuracy: 0.4565\n",
      "Epoch 50/100\n",
      "163/163 [==============================] - 6s 37ms/step - loss: 1.2411 - accuracy: 0.5691 - val_loss: 1.7257 - val_accuracy: 0.4627\n",
      "Epoch 51/100\n",
      "163/163 [==============================] - 6s 37ms/step - loss: 1.2307 - accuracy: 0.5722 - val_loss: 1.7750 - val_accuracy: 0.4573\n",
      "Epoch 52/100\n",
      "163/163 [==============================] - ETA: 0s - loss: 1.2242 - accuracy: 0.5747\n",
      "Epoch 00052: ReduceLROnPlateau reducing learning rate to 9.999999747378752e-06.\n",
      "163/163 [==============================] - 6s 38ms/step - loss: 1.2242 - accuracy: 0.5747 - val_loss: 1.7226 - val_accuracy: 0.4610\n",
      "Epoch 53/100\n",
      "163/163 [==============================] - 6s 37ms/step - loss: 1.2012 - accuracy: 0.5783 - val_loss: 1.7400 - val_accuracy: 0.4623\n",
      "Epoch 54/100\n",
      "163/163 [==============================] - 6s 37ms/step - loss: 1.1929 - accuracy: 0.5843 - val_loss: 1.7358 - val_accuracy: 0.4623\n",
      "Epoch 55/100\n",
      "163/163 [==============================] - 7s 43ms/step - loss: 1.1893 - accuracy: 0.5854 - val_loss: 1.7379 - val_accuracy: 0.4640\n",
      "Epoch 56/100\n"
     ]
    },
    {
     "name": "stdout",
     "output_type": "stream",
     "text": [
      "163/163 [==============================] - 6s 37ms/step - loss: 1.1882 - accuracy: 0.5857 - val_loss: 1.7414 - val_accuracy: 0.4610\n",
      "Epoch 57/100\n",
      "163/163 [==============================] - 6s 38ms/step - loss: 1.1889 - accuracy: 0.5848 - val_loss: 1.7406 - val_accuracy: 0.4615\n",
      "Epoch 58/100\n",
      "163/163 [==============================] - 7s 42ms/step - loss: 1.1857 - accuracy: 0.5871 - val_loss: 1.7339 - val_accuracy: 0.4650\n",
      "Epoch 59/100\n",
      "163/163 [==============================] - 6s 38ms/step - loss: 1.1855 - accuracy: 0.5876 - val_loss: 1.7463 - val_accuracy: 0.4602\n",
      "Epoch 60/100\n",
      "163/163 [==============================] - 6s 37ms/step - loss: 1.1806 - accuracy: 0.5888 - val_loss: 1.7501 - val_accuracy: 0.4598\n",
      "Epoch 00060: early stopping\n",
      "\n",
      "\n",
      "Min Val Loss:  1.697509765625\n",
      "Max Val Accuracy:  0.4650000035762787\n",
      "\n",
      "\n"
     ]
    },
    {
     "data": {
      "image/png": "[encoded data removed]",
      "text/plain": [
       "<Figure size 1440x720 with 1 Axes>"
      ]
     },
     "metadata": {
      "needs_background": "light"
     },
     "output_type": "display_data"
    },
    {
     "data": {
      "text/plain": [
       "(1.697509765625, 0.4650000035762787)"
      ]
     },
     "execution_count": 59,
     "metadata": {},
     "output_type": "execute_result"
    }
   ],
   "source": [
    "'''\n",
    "model1.compile(optimizer=tf.keras.optimizers.Adam(learning_rate=0.0001), \n",
    "               loss='categorical_crossentropy',metrics=['accuracy',micro_f1])\n",
    "              '''\n",
    "opt = tf.keras.optimizers.Adam(learning_rate=0.0001, beta_1=0.9, beta_2=0.999, amsgrad=True)\n",
    "model1.compile(optimizer=opt, \n",
    "               loss='categorical_crossentropy',metrics=['accuracy'])\n",
    "\n",
    "\n",
    "\n",
    "reduce_lr1 = ReduceLROnPlateau(monitor='val_loss', factor=0.1,patience=5,mode='min',verbose=1)\n",
    "EarlyStopping1 = EarlyStopping(monitor='val_loss', min_delta=0.02, patience=15, verbose=1, mode='min')\n",
    "\n",
    "\n",
    "execute_model(model1, padded_docs, y_train, padded_docs_test, y_cv)"
   ]
  },
  {
   "cell_type": "code",
   "execution_count": 60,
   "metadata": {},
   "outputs": [
    {
     "name": "stdout",
     "output_type": "stream",
     "text": [
      "Evaluation (Task 4):\n",
      "\n",
      "\n",
      "OVERALL SCORES:\n",
      "MACRO AVERAGE PRECISION SCORE: 47.25 %\n",
      "MACRO AVERAGE RECALL SCORE: 46.50 %\n",
      "MACRO AVERAGE F1 SCORE: 46.53 %\n",
      "OVERALL ACCURACY: 46.50 %\n",
      "\n"
     ]
    }
   ],
   "source": [
    "model = load_model(model1, 'model1')\n",
    "#Come back from Softmax to classes\n",
    "pred = np.argmax(model.predict(padded_docs_test), axis = 1)\n",
    "evaluate(pred, 'LTSM', 'LTSM')"
   ]
  },
  {
   "cell_type": "markdown",
   "metadata": {},
   "source": [
    "### 3- BERT for Dialectal Arabic (20%)\n",
    "\n",
    "BERT1 or Bidirectional Encoder Representations from Transformers (BERT), has recently\n",
    "been introduced by Google AI Language researchers (Devlin et al., 2018). It replaces the\n",
    "sequential nature of RNN (LSTM & GRU) with a much faster Attention-based approach. The\n",
    "model is also pre-trained on two unsupervised tasks, masked language modeling and next\n",
    "sentence prediction. This allows you to use a pre-trained BERT model by fine-tuning the same\n",
    "on downstream specific tasks such as Dialectal Arabic classification.\n",
    "You can employ the multi-lingual BERT that has been pre-trained on MSA and then fine tune\n",
    "it for dialectal Arabic.\n",
    "I recommend to read the following Blog Multi-label Text Classification using BERT\n",
    "https://medium.com/huggingface/multi-label-text-classification-using-bert-the-mightytransformer-\n",
    "69714fa3fb3d"
   ]
  },
  {
   "cell_type": "code",
   "execution_count": 61,
   "metadata": {},
   "outputs": [],
   "source": [
    "text_inputs = tf.keras.layers.Input(shape=(), dtype=tf.string)\n",
    "preprocessing = hub.KerasLayer(\n",
    "    'https://tfhub.dev/tensorflow/bert_multi_cased_preprocess/1')\n",
    "encoder_inputs = preprocessing(text_inputs)\n",
    "#BERT Multilingual cased\n",
    "bert_layer = hub.KerasLayer('https://tfhub.dev/tensorflow/bert_multi_cased_L-12_H-768_A-12/3', trainable=False)\n",
    "output = bert_layer(encoder_inputs)\n",
    "\n",
    "#Bert model\n",
    "#I am using only pooled output not sequence out. \n",
    "#Please read https://www.kaggle.com/questions-and-answers/86510\n",
    "bert_model = Model(inputs=text_inputs, outputs=output['pooled_output'])"
   ]
  },
  {
   "cell_type": "code",
   "execution_count": 62,
   "metadata": {},
   "outputs": [],
   "source": [
    "X_train_pooled_output = bert_model.predict(X_train['sentence'])\n",
    "X_test_pooled_output =bert_model.predict(X_cv['sentence'])"
   ]
  },
  {
   "cell_type": "code",
   "execution_count": 63,
   "metadata": {},
   "outputs": [
    {
     "name": "stdout",
     "output_type": "stream",
     "text": [
      "Model: \"functional_5\"\n",
      "_________________________________________________________________\n",
      "Layer (type)                 Output Shape              Param #   \n",
      "=================================================================\n",
      "input_3 (InputLayer)         [(None, 768)]             0         \n",
      "_________________________________________________________________\n",
      "dense_1 (Dense)              (None, 1024)              787456    \n",
      "_________________________________________________________________\n",
      "dense_2 (Dense)              (None, 512)               524800    \n",
      "_________________________________________________________________\n",
      "dense_3 (Dense)              (None, 256)               131328    \n",
      "_________________________________________________________________\n",
      "dropout_1 (Dropout)          (None, 256)               0         \n",
      "_________________________________________________________________\n",
      "dense_4 (Dense)              (None, 128)               32896     \n",
      "_________________________________________________________________\n",
      "dropout_2 (Dropout)          (None, 128)               0         \n",
      "_________________________________________________________________\n",
      "dense_5 (Dense)              (None, 64)                8256      \n",
      "_________________________________________________________________\n",
      "batch_normalization (BatchNo (None, 64)                256       \n",
      "_________________________________________________________________\n",
      "dense_6 (Dense)              (None, 26)                1690      \n",
      "=================================================================\n",
      "Total params: 1,486,682\n",
      "Trainable params: 1,486,554\n",
      "Non-trainable params: 128\n",
      "_________________________________________________________________\n"
     ]
    }
   ],
   "source": [
    "input_layer = Input(shape=(X_train_pooled_output.shape[1],))\n",
    "\n",
    "x = Dense(1024,activation = 'relu')(input_layer)\n",
    "x = Dense(512,activation = 'relu')(x)\n",
    "x = Dense(256,activation = 'relu')(x)\n",
    "x = Dropout(.1)(x)\n",
    "x = Dense(128,activation = 'relu')(x)\n",
    "x = Dropout(.1)(x)\n",
    "x = Dense(64,activation = 'relu')(x)\n",
    "x  = BatchNormalization()(x)\n",
    "output_layer = Dense(26,activation = 'softmax')(x)\n",
    "model2 = Model(inputs = input_layer,outputs = output_layer)\n",
    "model2.summary()"
   ]
  },
  {
   "cell_type": "code",
   "execution_count": 64,
   "metadata": {},
   "outputs": [],
   "source": [
    "\n",
    "model2.compile(optimizer=tf.keras.optimizers.RMSprop(learning_rate=0.0001),\n",
    "                    loss='categorical_crossentropy',metrics=['accuracy'])\n",
    "\n",
    "reduce_lr2 = ReduceLROnPlateau(monitor='val_loss', factor=0.1,patience=5,mode='min',verbose=1)\n",
    "early_stopping2 = EarlyStopping(monitor='val_loss', min_delta=0.01, patience=20, verbose=1, mode='min')\n"
   ]
  },
  {
   "cell_type": "code",
   "execution_count": 65,
   "metadata": {},
   "outputs": [
    {
     "name": "stdout",
     "output_type": "stream",
     "text": [
      "Epoch 1/100\n",
      "163/163 [==============================] - 2s 9ms/step - loss: 3.3035 - accuracy: 0.0488 - val_loss: 3.2546 - val_accuracy: 0.0588\n",
      "Epoch 2/100\n",
      "163/163 [==============================] - 1s 7ms/step - loss: 3.2217 - accuracy: 0.0661 - val_loss: 3.2365 - val_accuracy: 0.0738\n",
      "Epoch 3/100\n",
      "163/163 [==============================] - 1s 8ms/step - loss: 3.1743 - accuracy: 0.0817 - val_loss: 3.1893 - val_accuracy: 0.0815\n",
      "Epoch 4/100\n",
      "163/163 [==============================] - 2s 14ms/step - loss: 3.1281 - accuracy: 0.0933 - val_loss: 3.1199 - val_accuracy: 0.0873\n",
      "Epoch 5/100\n",
      "163/163 [==============================] - 1s 6ms/step - loss: 3.0798 - accuracy: 0.1033 - val_loss: 3.2118 - val_accuracy: 0.0815\n",
      "Epoch 6/100\n",
      "163/163 [==============================] - 1s 7ms/step - loss: 3.0317 - accuracy: 0.1135 - val_loss: 3.0463 - val_accuracy: 0.1188\n",
      "Epoch 7/100\n",
      "163/163 [==============================] - 1s 6ms/step - loss: 2.9870 - accuracy: 0.1254 - val_loss: 3.1010 - val_accuracy: 0.1073\n",
      "Epoch 8/100\n",
      "163/163 [==============================] - 1s 8ms/step - loss: 2.9477 - accuracy: 0.1326 - val_loss: 2.9926 - val_accuracy: 0.1327\n",
      "Epoch 9/100\n",
      "163/163 [==============================] - 1s 6ms/step - loss: 2.9093 - accuracy: 0.1416 - val_loss: 2.9908 - val_accuracy: 0.1254\n",
      "Epoch 10/100\n",
      "163/163 [==============================] - 1s 8ms/step - loss: 2.8750 - accuracy: 0.1482 - val_loss: 2.8620 - val_accuracy: 0.1569\n",
      "Epoch 11/100\n",
      "163/163 [==============================] - 1s 6ms/step - loss: 2.8473 - accuracy: 0.1527 - val_loss: 2.9492 - val_accuracy: 0.1381\n",
      "Epoch 12/100\n",
      "163/163 [==============================] - 1s 6ms/step - loss: 2.8140 - accuracy: 0.1613 - val_loss: 2.9112 - val_accuracy: 0.1450\n",
      "Epoch 13/100\n",
      "163/163 [==============================] - 1s 6ms/step - loss: 2.7921 - accuracy: 0.1680 - val_loss: 3.4170 - val_accuracy: 0.1150\n",
      "Epoch 14/100\n",
      "163/163 [==============================] - 1s 8ms/step - loss: 2.7607 - accuracy: 0.1737 - val_loss: 2.7720 - val_accuracy: 0.1681\n",
      "Epoch 15/100\n",
      "163/163 [==============================] - 1s 6ms/step - loss: 2.7392 - accuracy: 0.1794 - val_loss: 3.1421 - val_accuracy: 0.1294\n",
      "Epoch 16/100\n",
      "163/163 [==============================] - 1s 6ms/step - loss: 2.7122 - accuracy: 0.1864 - val_loss: 3.0677 - val_accuracy: 0.1552\n",
      "Epoch 17/100\n",
      "163/163 [==============================] - 1s 6ms/step - loss: 2.6928 - accuracy: 0.1914 - val_loss: 2.9448 - val_accuracy: 0.1487\n",
      "Epoch 18/100\n",
      "163/163 [==============================] - 1s 6ms/step - loss: 2.6733 - accuracy: 0.1945 - val_loss: 2.8462 - val_accuracy: 0.1638\n",
      "Epoch 19/100\n",
      "159/163 [============================>.] - ETA: 0s - loss: 2.6500 - accuracy: 0.1980\n",
      "Epoch 00019: ReduceLROnPlateau reducing learning rate to 9.999999747378752e-06.\n",
      "163/163 [==============================] - 1s 8ms/step - loss: 2.6500 - accuracy: 0.1984 - val_loss: 2.8123 - val_accuracy: 0.1762\n",
      "Epoch 20/100\n",
      "163/163 [==============================] - 1s 8ms/step - loss: 2.5650 - accuracy: 0.2170 - val_loss: 2.6434 - val_accuracy: 0.2177\n",
      "Epoch 21/100\n",
      "163/163 [==============================] - 1s 6ms/step - loss: 2.5403 - accuracy: 0.2263 - val_loss: 2.6279 - val_accuracy: 0.2169\n",
      "Epoch 22/100\n",
      "163/163 [==============================] - 1s 8ms/step - loss: 2.5321 - accuracy: 0.2305 - val_loss: 2.6241 - val_accuracy: 0.2188\n",
      "Epoch 23/100\n",
      "163/163 [==============================] - 1s 8ms/step - loss: 2.5243 - accuracy: 0.2312 - val_loss: 2.6240 - val_accuracy: 0.2221\n",
      "Epoch 24/100\n",
      "163/163 [==============================] - 1s 6ms/step - loss: 2.5211 - accuracy: 0.2312 - val_loss: 2.6206 - val_accuracy: 0.2196\n",
      "Epoch 25/100\n",
      "163/163 [==============================] - 1s 6ms/step - loss: 2.5127 - accuracy: 0.2374 - val_loss: 2.6224 - val_accuracy: 0.2188\n",
      "Epoch 26/100\n",
      "163/163 [==============================] - 1s 6ms/step - loss: 2.5095 - accuracy: 0.2361 - val_loss: 2.6172 - val_accuracy: 0.2213\n",
      "Epoch 27/100\n",
      "163/163 [==============================] - 1s 8ms/step - loss: 2.5043 - accuracy: 0.2349 - val_loss: 2.6161 - val_accuracy: 0.2231\n",
      "Epoch 28/100\n",
      "163/163 [==============================] - 1s 7ms/step - loss: 2.5014 - accuracy: 0.2367 - val_loss: 2.6100 - val_accuracy: 0.2238\n",
      "Epoch 29/100\n",
      "163/163 [==============================] - 1s 6ms/step - loss: 2.4947 - accuracy: 0.2390 - val_loss: 2.6088 - val_accuracy: 0.2237\n",
      "Epoch 30/100\n",
      "163/163 [==============================] - 1s 7ms/step - loss: 2.4905 - accuracy: 0.2416 - val_loss: 2.6144 - val_accuracy: 0.2240\n",
      "Epoch 31/100\n",
      "163/163 [==============================] - 1s 6ms/step - loss: 2.4876 - accuracy: 0.2407 - val_loss: 2.6117 - val_accuracy: 0.2225\n",
      "Epoch 32/100\n",
      "163/163 [==============================] - 1s 6ms/step - loss: 2.4816 - accuracy: 0.2426 - val_loss: 2.6078 - val_accuracy: 0.2237\n",
      "Epoch 33/100\n",
      "163/163 [==============================] - 1s 6ms/step - loss: 2.4763 - accuracy: 0.2440 - val_loss: 2.6038 - val_accuracy: 0.2217\n",
      "Epoch 34/100\n",
      "163/163 [==============================] - 1s 6ms/step - loss: 2.4734 - accuracy: 0.2444 - val_loss: 2.6047 - val_accuracy: 0.2227\n",
      "Epoch 35/100\n",
      "163/163 [==============================] - 1s 6ms/step - loss: 2.4661 - accuracy: 0.2459 - val_loss: 2.6033 - val_accuracy: 0.2237\n",
      "Epoch 36/100\n",
      "163/163 [==============================] - 1s 6ms/step - loss: 2.4643 - accuracy: 0.2487 - val_loss: 2.6007 - val_accuracy: 0.2229\n",
      "Epoch 37/100\n",
      "163/163 [==============================] - 1s 6ms/step - loss: 2.4596 - accuracy: 0.2497 - val_loss: 2.5993 - val_accuracy: 0.2223\n",
      "Epoch 38/100\n",
      "163/163 [==============================] - 1s 6ms/step - loss: 2.4558 - accuracy: 0.2513 - val_loss: 2.6024 - val_accuracy: 0.2238\n",
      "Epoch 39/100\n",
      "163/163 [==============================] - 1s 6ms/step - loss: 2.4518 - accuracy: 0.2494 - val_loss: 2.6002 - val_accuracy: 0.2219\n",
      "Epoch 40/100\n",
      "163/163 [==============================] - 1s 8ms/step - loss: 2.4473 - accuracy: 0.2511 - val_loss: 2.5919 - val_accuracy: 0.2244\n",
      "Epoch 41/100\n",
      "163/163 [==============================] - 1s 8ms/step - loss: 2.4448 - accuracy: 0.2507 - val_loss: 2.5859 - val_accuracy: 0.2294\n",
      "Epoch 42/100\n",
      "163/163 [==============================] - 1s 6ms/step - loss: 2.4378 - accuracy: 0.2528 - val_loss: 2.5941 - val_accuracy: 0.2206\n",
      "Epoch 43/100\n",
      "163/163 [==============================] - 1s 6ms/step - loss: 2.4346 - accuracy: 0.2528 - val_loss: 2.5956 - val_accuracy: 0.2238\n",
      "Epoch 44/100\n",
      "163/163 [==============================] - 1s 6ms/step - loss: 2.4307 - accuracy: 0.2553 - val_loss: 2.5928 - val_accuracy: 0.2219\n",
      "Epoch 45/100\n",
      "163/163 [==============================] - 1s 6ms/step - loss: 2.4283 - accuracy: 0.2545 - val_loss: 2.5854 - val_accuracy: 0.2292\n",
      "Epoch 46/100\n",
      "163/163 [==============================] - 1s 7ms/step - loss: 2.4245 - accuracy: 0.2561 - val_loss: 2.5862 - val_accuracy: 0.2325\n",
      "Epoch 47/100\n",
      "163/163 [==============================] - 1s 6ms/step - loss: 2.4150 - accuracy: 0.2583 - val_loss: 2.5888 - val_accuracy: 0.2213\n",
      "Epoch 48/100\n",
      "163/163 [==============================] - 1s 6ms/step - loss: 2.4136 - accuracy: 0.2595 - val_loss: 2.5798 - val_accuracy: 0.2279\n",
      "Epoch 49/100\n",
      "163/163 [==============================] - 1s 6ms/step - loss: 2.4089 - accuracy: 0.2616 - val_loss: 2.5845 - val_accuracy: 0.2300\n",
      "Epoch 50/100\n",
      "163/163 [==============================] - 1s 6ms/step - loss: 2.4032 - accuracy: 0.2620 - val_loss: 2.5803 - val_accuracy: 0.2304\n",
      "Epoch 51/100\n",
      "163/163 [==============================] - 1s 6ms/step - loss: 2.4008 - accuracy: 0.2635 - val_loss: 2.5755 - val_accuracy: 0.2290\n",
      "Epoch 52/100\n",
      "163/163 [==============================] - 2s 9ms/step - loss: 2.3989 - accuracy: 0.2641 - val_loss: 2.5730 - val_accuracy: 0.2346\n",
      "Epoch 53/100\n",
      "163/163 [==============================] - 1s 6ms/step - loss: 2.3945 - accuracy: 0.2634 - val_loss: 2.5845 - val_accuracy: 0.2231\n",
      "Epoch 54/100\n",
      "163/163 [==============================] - 1s 6ms/step - loss: 2.3876 - accuracy: 0.2658 - val_loss: 2.5793 - val_accuracy: 0.2252\n",
      "Epoch 55/100\n",
      "163/163 [==============================] - 1s 6ms/step - loss: 2.3855 - accuracy: 0.2668 - val_loss: 2.5801 - val_accuracy: 0.2254\n",
      "Epoch 56/100\n",
      "163/163 [==============================] - 1s 6ms/step - loss: 2.3796 - accuracy: 0.2683 - val_loss: 2.5730 - val_accuracy: 0.2262\n"
     ]
    },
    {
     "name": "stdout",
     "output_type": "stream",
     "text": [
      "Epoch 57/100\n",
      "158/163 [============================>.] - ETA: 0s - loss: 2.3759 - accuracy: 0.2665\n",
      "Epoch 00057: ReduceLROnPlateau reducing learning rate to 9.999999747378752e-07.\n",
      "163/163 [==============================] - 1s 6ms/step - loss: 2.3764 - accuracy: 0.2667 - val_loss: 2.5738 - val_accuracy: 0.2271\n",
      "Epoch 58/100\n",
      "163/163 [==============================] - 1s 6ms/step - loss: 2.3623 - accuracy: 0.2723 - val_loss: 2.5661 - val_accuracy: 0.2317\n",
      "Epoch 59/100\n",
      "163/163 [==============================] - 1s 6ms/step - loss: 2.3615 - accuracy: 0.2736 - val_loss: 2.5657 - val_accuracy: 0.2313\n",
      "Epoch 60/100\n",
      "163/163 [==============================] - 1s 6ms/step - loss: 2.3580 - accuracy: 0.2727 - val_loss: 2.5655 - val_accuracy: 0.2321\n",
      "Epoch 61/100\n",
      "163/163 [==============================] - 1s 6ms/step - loss: 2.3608 - accuracy: 0.2733 - val_loss: 2.5652 - val_accuracy: 0.2333\n",
      "Epoch 62/100\n",
      "163/163 [==============================] - 1s 6ms/step - loss: 2.3583 - accuracy: 0.2739 - val_loss: 2.5665 - val_accuracy: 0.2338\n",
      "Epoch 63/100\n",
      "163/163 [==============================] - 1s 6ms/step - loss: 2.3591 - accuracy: 0.2729 - val_loss: 2.5665 - val_accuracy: 0.2327\n",
      "Epoch 64/100\n",
      "163/163 [==============================] - 1s 6ms/step - loss: 2.3577 - accuracy: 0.2721 - val_loss: 2.5653 - val_accuracy: 0.2337\n",
      "Epoch 65/100\n",
      "163/163 [==============================] - 1s 6ms/step - loss: 2.3566 - accuracy: 0.2752 - val_loss: 2.5667 - val_accuracy: 0.2317\n",
      "Epoch 66/100\n",
      "160/163 [============================>.] - ETA: 0s - loss: 2.3614 - accuracy: 0.2732\n",
      "Epoch 00066: ReduceLROnPlateau reducing learning rate to 9.999999974752428e-08.\n",
      "163/163 [==============================] - 1s 6ms/step - loss: 2.3613 - accuracy: 0.2730 - val_loss: 2.5653 - val_accuracy: 0.2331\n",
      "Epoch 67/100\n",
      "163/163 [==============================] - 1s 6ms/step - loss: 2.3562 - accuracy: 0.2751 - val_loss: 2.5653 - val_accuracy: 0.2325\n",
      "Epoch 68/100\n",
      "163/163 [==============================] - 1s 6ms/step - loss: 2.3554 - accuracy: 0.2756 - val_loss: 2.5649 - val_accuracy: 0.2327\n",
      "Epoch 69/100\n",
      "163/163 [==============================] - 1s 6ms/step - loss: 2.3564 - accuracy: 0.2750 - val_loss: 2.5650 - val_accuracy: 0.2321\n",
      "Epoch 70/100\n",
      "163/163 [==============================] - 1s 6ms/step - loss: 2.3556 - accuracy: 0.2747 - val_loss: 2.5651 - val_accuracy: 0.2325\n",
      "Epoch 71/100\n",
      "163/163 [==============================] - 1s 6ms/step - loss: 2.3585 - accuracy: 0.2758 - val_loss: 2.5649 - val_accuracy: 0.2323\n",
      "Epoch 72/100\n",
      "163/163 [==============================] - 1s 6ms/step - loss: 2.3565 - accuracy: 0.2751 - val_loss: 2.5649 - val_accuracy: 0.2313\n",
      "Epoch 73/100\n",
      "156/163 [===========================>..] - ETA: 0s - loss: 2.3567 - accuracy: 0.2724\n",
      "Epoch 00073: ReduceLROnPlateau reducing learning rate to 1.0000000116860975e-08.\n",
      "163/163 [==============================] - 1s 6ms/step - loss: 2.3573 - accuracy: 0.2724 - val_loss: 2.5649 - val_accuracy: 0.2327\n",
      "Epoch 74/100\n",
      "163/163 [==============================] - 1s 6ms/step - loss: 2.3563 - accuracy: 0.2750 - val_loss: 2.5650 - val_accuracy: 0.2329\n",
      "Epoch 75/100\n",
      "163/163 [==============================] - 1s 6ms/step - loss: 2.3567 - accuracy: 0.2734 - val_loss: 2.5648 - val_accuracy: 0.2329\n",
      "Epoch 76/100\n",
      "163/163 [==============================] - 1s 6ms/step - loss: 2.3571 - accuracy: 0.2741 - val_loss: 2.5650 - val_accuracy: 0.2315\n",
      "Epoch 77/100\n",
      "163/163 [==============================] - 1s 6ms/step - loss: 2.3554 - accuracy: 0.2756 - val_loss: 2.5650 - val_accuracy: 0.2327\n",
      "Epoch 78/100\n",
      "163/163 [==============================] - 1s 6ms/step - loss: 2.3557 - accuracy: 0.2752 - val_loss: 2.5650 - val_accuracy: 0.2313\n",
      "Epoch 00078: early stopping\n",
      "\n",
      "\n",
      "Min Val Loss:  2.5648224353790283\n",
      "Max Val Accuracy:  0.23461538553237915\n",
      "\n",
      "\n"
     ]
    },
    {
     "data": {
      "image/png": "[encoded data removed]",
      "text/plain": [
       "<Figure size 1440x720 with 1 Axes>"
      ]
     },
     "metadata": {
      "needs_background": "light"
     },
     "output_type": "display_data"
    },
    {
     "data": {
      "text/plain": [
       "(2.5648224353790283, 0.23461538553237915)"
      ]
     },
     "execution_count": 65,
     "metadata": {},
     "output_type": "execute_result"
    }
   ],
   "source": [
    "\n",
    "execute_model(model2, X_train_pooled_output, y_train, X_test_pooled_output, y_cv,\n",
    "              'model2', reduce_lr2, early_stopping2 )"
   ]
  },
  {
   "cell_type": "code",
   "execution_count": 69,
   "metadata": {},
   "outputs": [
    {
     "name": "stdout",
     "output_type": "stream",
     "text": [
      "Evaluation (Task 4):\n",
      "\n",
      "\n",
      "OVERALL SCORES:\n",
      "MACRO AVERAGE PRECISION SCORE: 22.67 %\n",
      "MACRO AVERAGE RECALL SCORE: 23.46 %\n",
      "MACRO AVERAGE F1 SCORE: 22.02 %\n",
      "OVERALL ACCURACY: 23.46 %\n",
      "\n"
     ]
    }
   ],
   "source": [
    "model2 = load_model(model2, 'model2')\n",
    "#Come back from Softmax to classes\n",
    "pred = np.argmax(model2.predict(X_test_pooled_output), axis = 1)\n",
    "evaluate(pred, 'BERT', 'BERT')"
   ]
  },
  {
   "cell_type": "markdown",
   "metadata": {},
   "source": [
    "### 4 - Evaluation (10%)"
   ]
  },
  {
   "cell_type": "code",
   "execution_count": 67,
   "metadata": {},
   "outputs": [
    {
     "name": "stdout",
     "output_type": "stream",
     "text": [
      "Summary of eveluations: \n",
      "\n",
      "\n",
      "KNN: Word-gram features with uni-gram, bi-gram and tri-gram:\n",
      "\n",
      "OVERALL SCORES:\n",
      "MACRO AVERAGE PRECISION SCORE: 49.42 %\n",
      "MACRO AVERAGE RECALL SCORE: 47.48 %\n",
      "MACRO AVERAGE F1 SCORE: 47.53 %\n",
      "OVERALL ACCURACY: 47.48 %\n",
      "\n",
      "\n",
      "\n",
      "KNN: Character-gram features without word boundary consideration, from bi-gram and up to 5-gram:\n",
      "\n",
      "OVERALL SCORES:\n",
      "MACRO AVERAGE PRECISION SCORE: 47.99 %\n",
      "MACRO AVERAGE RECALL SCORE: 45.50 %\n",
      "MACRO AVERAGE F1 SCORE: 45.39 %\n",
      "OVERALL ACCURACY: 45.50 %\n",
      "\n",
      "\n",
      "\n",
      "KNN: Character-gram features with word boundary consideration, from bi-gram and up to 5-gram:\n",
      "\n",
      "OVERALL SCORES:\n",
      "MACRO AVERAGE PRECISION SCORE: 48.90 %\n",
      "MACRO AVERAGE RECALL SCORE: 46.29 %\n",
      "MACRO AVERAGE F1 SCORE: 46.63 %\n",
      "OVERALL ACCURACY: 46.29 %\n",
      "\n",
      "\n",
      "\n",
      "NB: Word-gram features with uni-gram, bi-gram and tri-gram:\n",
      "\n",
      "OVERALL SCORES:\n",
      "MACRO AVERAGE PRECISION SCORE: 59.11 %\n",
      "MACRO AVERAGE RECALL SCORE: 58.38 %\n",
      "MACRO AVERAGE F1 SCORE: 58.43 %\n",
      "OVERALL ACCURACY: 58.38 %\n",
      "\n",
      "\n",
      "\n",
      "NB: Character-gram features without word boundary consideration, from bi-gram and up to 5-gram:\n",
      "\n",
      "OVERALL SCORES:\n",
      "MACRO AVERAGE PRECISION SCORE: 59.11 %\n",
      "MACRO AVERAGE RECALL SCORE: 58.38 %\n",
      "MACRO AVERAGE F1 SCORE: 58.43 %\n",
      "OVERALL ACCURACY: 58.38 %\n",
      "\n",
      "\n",
      "\n",
      "NB: Character-gram features with word boundary consideration, from bi-gram and up to 5-gram:\n",
      "\n",
      "OVERALL SCORES:\n",
      "MACRO AVERAGE PRECISION SCORE: 59.11 %\n",
      "MACRO AVERAGE RECALL SCORE: 58.38 %\n",
      "MACRO AVERAGE F1 SCORE: 58.43 %\n",
      "OVERALL ACCURACY: 58.38 %\n",
      "\n",
      "\n",
      "\n",
      "LTSM:\n",
      "\n",
      "OVERALL SCORES:\n",
      "MACRO AVERAGE PRECISION SCORE: 47.25 %\n",
      "MACRO AVERAGE RECALL SCORE: 46.50 %\n",
      "MACRO AVERAGE F1 SCORE: 46.53 %\n",
      "OVERALL ACCURACY: 46.50 %\n",
      "\n",
      "\n",
      "\n",
      "BERT:\n",
      "\n",
      "OVERALL SCORES:\n",
      "MACRO AVERAGE PRECISION SCORE: 47.25 %\n",
      "MACRO AVERAGE RECALL SCORE: 46.50 %\n",
      "MACRO AVERAGE F1 SCORE: 46.53 %\n",
      "OVERALL ACCURACY: 46.50 %\n",
      "\n",
      "\n",
      "\n"
     ]
    }
   ],
   "source": [
    "print('Summary of eveluations: \\n\\n')\n",
    "for file, description in file_list:\n",
    "    print(description + ':')\n",
    "    execute_evaluation(file)\n",
    "    print('\\n')\n",
    "    \n",
    "    "
   ]
  },
  {
   "cell_type": "markdown",
   "metadata": {},
   "source": [
    "# End of submission"
   ]
  },
  {
   "cell_type": "code",
   "execution_count": null,
   "metadata": {},
   "outputs": [],
   "source": []
  }
 ],
 "metadata": {
  "kernelspec": {
   "display_name": "Python 3",
   "language": "python",
   "name": "python3"
  },
  "language_info": {
   "codemirror_mode": {
    "name": "ipython",
    "version": 3
   },
   "file_extension": ".py",
   "mimetype": "text/x-python",
   "name": "python",
   "nbconvert_exporter": "python",
   "pygments_lexer": "ipython3",
   "version": "3.6.9"
  },
  "widgets": {
   "application/vnd.jupyter.widget-state+json": {
    "state": {},
    "version_major": 2,
    "version_minor": 0
   }
  }
 },
 "nbformat": 4,
 "nbformat_minor": 4
}
